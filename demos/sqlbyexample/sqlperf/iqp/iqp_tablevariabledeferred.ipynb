{
    "metadata": {
        "kernelspec": {
            "name": "SQL",
            "display_name": "SQL",
            "language": "sql"
        },
        "language_info": {
            "name": "sql",
            "version": ""
        }
    },
    "nbformat_minor": 2,
    "nbformat": 4,
    "cells": [
        {
            "cell_type": "markdown",
            "source": [
                "# Intelligent Query Processing in SQL Server 2019 - Table Variable Deferred Compilation"
            ],
            "metadata": {
                "azdata_cell_guid": "f9390e7f-1761-4a1c-9833-523aba129c1d"
            }
        },
        {
            "cell_type": "markdown",
            "source": [
                "## Step 1 - Create the stored procedure\r\n",
                "This procedure uses a table variable populated from a user table and then joins it with a user table to provide output. T-SQL functions like COUNT and SUM are often seen in analytic queries that benefit from Intelligent Query Processing. Note: In this example the TOP 1 T-SQL syntax is used so that the procedure only produces 1 row. This is only done to make the output easier to read using this workshop and demo since this procedure will be executed multiple times. Normal execution of this procedure may not include TOP.\r\n",
                "\r\n",
                "There is also a query to bring all pages from Sales.Invoices into buffer pool cache to ensure the comparisons on Step 2 and 3 are fair.\r\n",
                ""
            ],
            "metadata": {
                "azdata_cell_guid": "44694443-0c3b-4f02-ab2a-f2838bac9f4e"
            }
        },
        {
            "cell_type": "code",
            "source": [
                "USE WideWorldImporters\r\n",
                "GO\r\n",
                "CREATE or ALTER PROCEDURE [Sales].[CustomerProfits]\r\n",
                "AS\r\n",
                "BEGIN\r\n",
                "-- Declare the table variable\r\n",
                "DECLARE @ilines TABLE\r\n",
                "(\t[InvoiceLineID] [int] NOT NULL primary key,\r\n",
                "\t[InvoiceID] [int] NOT NULL,\r\n",
                "\t[StockItemID] [int] NOT NULL,\r\n",
                "\t[Description] [nvarchar](100) NOT NULL,\r\n",
                "\t[PackageTypeID] [int] NOT NULL,\r\n",
                "\t[Quantity] [int] NOT NULL,\r\n",
                "\t[UnitPrice] [decimal](18, 2) NULL,\r\n",
                "\t[TaxRate] [decimal](18, 3) NOT NULL,\r\n",
                "\t[TaxAmount] [decimal](18, 2) NOT NULL,\r\n",
                "\t[LineProfit] [decimal](18, 2) NOT NULL,\r\n",
                "\t[ExtendedPrice] [decimal](18, 2) NOT NULL,\r\n",
                "\t[LastEditedBy] [int] NOT NULL,\r\n",
                "\t[LastEditedWhen] [datetime2](7) NOT NULL\r\n",
                ")\r\n",
                "\r\n",
                "-- Insert all the rows from InvoiceLines into the table variable\r\n",
                "INSERT INTO @ilines SELECT * FROM Sales.InvoiceLines\r\n",
                "\r\n",
                "-- Find my total profile by customer\r\n",
                "SELECT TOP 1 COUNT(i.CustomerID) as customer_count, SUM(il.LineProfit) as total_profit\r\n",
                "FROM Sales.Invoices i\r\n",
                "INNER JOIN @ilines il\r\n",
                "ON i.InvoiceID = il.InvoiceID\r\n",
                "GROUP By i.CustomerID\r\n",
                "END\r\n",
                "GO\r\n",
                "-- Pull these pages into cache to make the comparison fair based on a warm buffer pool cache\r\n",
                "SELECT COUNT(*) FROM Sales.Invoices"
            ],
            "metadata": {
                "azdata_cell_guid": "211942d0-d1dd-404c-9669-6e6b5c47a607"
            },
            "outputs": [
                {
                    "output_type": "display_data",
                    "data": {
                        "text/html": "Commands completed successfully."
                    },
                    "metadata": {}
                },
                {
                    "output_type": "display_data",
                    "data": {
                        "text/html": "Commands completed successfully."
                    },
                    "metadata": {}
                },
                {
                    "output_type": "display_data",
                    "data": {
                        "text/html": "(1 row affected)"
                    },
                    "metadata": {}
                },
                {
                    "output_type": "display_data",
                    "data": {
                        "text/html": "Total execution time: 00:00:00.013"
                    },
                    "metadata": {}
                },
                {
                    "output_type": "execute_result",
                    "metadata": {},
                    "execution_count": 10,
                    "data": {
                        "application/vnd.dataresource+json": {
                            "schema": {
                                "fields": [
                                    {
                                        "name": "(No column name)"
                                    }
                                ]
                            },
                            "data": [
                                {
                                    "0": "70510"
                                }
                            ]
                        },
                        "text/html": [
                            "<table>",
                            "<tr><th>(No column name)</th></tr>",
                            "<tr><td>70510</td></tr>",
                            "</table>"
                        ]
                    }
                }
            ],
            "execution_count": 10
        },
        {
            "cell_type": "markdown",
            "source": [
                "## Step 2 - Run the stored procedure with database compatibility of 130\r\n",
                "You have been told this procedure executes fairly quickly with a single execution in a few seconds but over several iterations the total duration, over 20 seconds, is not acceptable to the application.\r\n",
                "\r\n",
                "The script will ensure the database is in a compatibility mode that is less than 150 so Intelligent Query Processing will NOT be enabled. The script also turns off rowcount messages to be returned to the client to reduce network traffic for this test. Then the script executes the stored procedure. Notice the syntax of **GO 25**. This is a client tool tip that says to run the batch 25 times (avoids having to construct a loop).\r\n",
                "\r\n",
                "When you click Play to run the script look for these messages on the total elapsted time (your time may vary)\r\n",
                "\r\n",
                "<pre>Beginning execution loop\r\n",
                "Batch execution completed 25 times...\r\n",
                "Total execution time: 00:00:40.3520665</pre>\r\n",
                ""
            ],
            "metadata": {
                "azdata_cell_guid": "d74395b3-3e60-4e0a-8c87-57d514ebdb13"
            }
        },
        {
            "cell_type": "code",
            "source": [
                "USE master\r\n",
                "GO\r\n",
                "ALTER DATABASE wideworldimporters SET compatibility_level = 130\r\n",
                "GO\r\n",
                "USE WideWorldImporters\r\n",
                "GO\r\n",
                "SET NOCOUNT ON\r\n",
                "GO\r\n",
                "EXEC [Sales].[CustomerProfits]\r\n",
                "GO 25\r\n",
                "SET NOCOUNT OFF\r\n",
                "GO"
            ],
            "metadata": {
                "azdata_cell_guid": "ad37ae79-ae19-41b8-8b84-606bb7d144d7"
            },
            "outputs": [
                {
                    "output_type": "display_data",
                    "data": {
                        "text/html": "Commands completed successfully."
                    },
                    "metadata": {}
                },
                {
                    "output_type": "display_data",
                    "data": {
                        "text/html": "Commands completed successfully."
                    },
                    "metadata": {}
                },
                {
                    "output_type": "display_data",
                    "data": {
                        "text/html": "Commands completed successfully."
                    },
                    "metadata": {}
                },
                {
                    "output_type": "display_data",
                    "data": {
                        "text/html": "Commands completed successfully."
                    },
                    "metadata": {}
                },
                {
                    "output_type": "display_data",
                    "data": {
                        "text/html": "Beginning execution loop"
                    },
                    "metadata": {}
                },
                {
                    "output_type": "display_data",
                    "data": {
                        "text/html": "Batch execution completed 25 times..."
                    },
                    "metadata": {}
                },
                {
                    "output_type": "display_data",
                    "data": {
                        "text/html": "Commands completed successfully."
                    },
                    "metadata": {}
                },
                {
                    "output_type": "display_data",
                    "data": {
                        "text/html": "Total execution time: 00:00:11.495"
                    },
                    "metadata": {}
                },
                {
                    "output_type": "execute_result",
                    "metadata": {},
                    "execution_count": 11,
                    "data": {
                        "application/vnd.dataresource+json": {
                            "schema": {
                                "fields": [
                                    {
                                        "name": "customer_count"
                                    },
                                    {
                                        "name": "total_profit"
                                    }
                                ]
                            },
                            "data": [
                                {
                                    "0": "406",
                                    "1": "147225.15"
                                }
                            ]
                        },
                        "text/html": [
                            "<table>",
                            "<tr><th>customer_count</th><th>total_profit</th></tr>",
                            "<tr><td>406</td><td>147225.15</td></tr>",
                            "</table>"
                        ]
                    }
                },
                {
                    "output_type": "execute_result",
                    "metadata": {},
                    "execution_count": 11,
                    "data": {
                        "application/vnd.dataresource+json": {
                            "schema": {
                                "fields": [
                                    {
                                        "name": "customer_count"
                                    },
                                    {
                                        "name": "total_profit"
                                    }
                                ]
                            },
                            "data": [
                                {
                                    "0": "406",
                                    "1": "147225.15"
                                }
                            ]
                        },
                        "text/html": [
                            "<table>",
                            "<tr><th>customer_count</th><th>total_profit</th></tr>",
                            "<tr><td>406</td><td>147225.15</td></tr>",
                            "</table>"
                        ]
                    }
                },
                {
                    "output_type": "execute_result",
                    "metadata": {},
                    "execution_count": 11,
                    "data": {
                        "application/vnd.dataresource+json": {
                            "schema": {
                                "fields": [
                                    {
                                        "name": "customer_count"
                                    },
                                    {
                                        "name": "total_profit"
                                    }
                                ]
                            },
                            "data": [
                                {
                                    "0": "406",
                                    "1": "147225.15"
                                }
                            ]
                        },
                        "text/html": [
                            "<table>",
                            "<tr><th>customer_count</th><th>total_profit</th></tr>",
                            "<tr><td>406</td><td>147225.15</td></tr>",
                            "</table>"
                        ]
                    }
                },
                {
                    "output_type": "execute_result",
                    "metadata": {},
                    "execution_count": 11,
                    "data": {
                        "application/vnd.dataresource+json": {
                            "schema": {
                                "fields": [
                                    {
                                        "name": "customer_count"
                                    },
                                    {
                                        "name": "total_profit"
                                    }
                                ]
                            },
                            "data": [
                                {
                                    "0": "406",
                                    "1": "147225.15"
                                }
                            ]
                        },
                        "text/html": [
                            "<table>",
                            "<tr><th>customer_count</th><th>total_profit</th></tr>",
                            "<tr><td>406</td><td>147225.15</td></tr>",
                            "</table>"
                        ]
                    }
                },
                {
                    "output_type": "execute_result",
                    "metadata": {},
                    "execution_count": 11,
                    "data": {
                        "application/vnd.dataresource+json": {
                            "schema": {
                                "fields": [
                                    {
                                        "name": "customer_count"
                                    },
                                    {
                                        "name": "total_profit"
                                    }
                                ]
                            },
                            "data": [
                                {
                                    "0": "406",
                                    "1": "147225.15"
                                }
                            ]
                        },
                        "text/html": [
                            "<table>",
                            "<tr><th>customer_count</th><th>total_profit</th></tr>",
                            "<tr><td>406</td><td>147225.15</td></tr>",
                            "</table>"
                        ]
                    }
                },
                {
                    "output_type": "execute_result",
                    "metadata": {},
                    "execution_count": 11,
                    "data": {
                        "application/vnd.dataresource+json": {
                            "schema": {
                                "fields": [
                                    {
                                        "name": "customer_count"
                                    },
                                    {
                                        "name": "total_profit"
                                    }
                                ]
                            },
                            "data": [
                                {
                                    "0": "406",
                                    "1": "147225.15"
                                }
                            ]
                        },
                        "text/html": [
                            "<table>",
                            "<tr><th>customer_count</th><th>total_profit</th></tr>",
                            "<tr><td>406</td><td>147225.15</td></tr>",
                            "</table>"
                        ]
                    }
                },
                {
                    "output_type": "execute_result",
                    "metadata": {},
                    "execution_count": 11,
                    "data": {
                        "application/vnd.dataresource+json": {
                            "schema": {
                                "fields": [
                                    {
                                        "name": "customer_count"
                                    },
                                    {
                                        "name": "total_profit"
                                    }
                                ]
                            },
                            "data": [
                                {
                                    "0": "406",
                                    "1": "147225.15"
                                }
                            ]
                        },
                        "text/html": [
                            "<table>",
                            "<tr><th>customer_count</th><th>total_profit</th></tr>",
                            "<tr><td>406</td><td>147225.15</td></tr>",
                            "</table>"
                        ]
                    }
                },
                {
                    "output_type": "execute_result",
                    "metadata": {},
                    "execution_count": 11,
                    "data": {
                        "application/vnd.dataresource+json": {
                            "schema": {
                                "fields": [
                                    {
                                        "name": "customer_count"
                                    },
                                    {
                                        "name": "total_profit"
                                    }
                                ]
                            },
                            "data": [
                                {
                                    "0": "406",
                                    "1": "147225.15"
                                }
                            ]
                        },
                        "text/html": [
                            "<table>",
                            "<tr><th>customer_count</th><th>total_profit</th></tr>",
                            "<tr><td>406</td><td>147225.15</td></tr>",
                            "</table>"
                        ]
                    }
                },
                {
                    "output_type": "execute_result",
                    "metadata": {},
                    "execution_count": 11,
                    "data": {
                        "application/vnd.dataresource+json": {
                            "schema": {
                                "fields": [
                                    {
                                        "name": "customer_count"
                                    },
                                    {
                                        "name": "total_profit"
                                    }
                                ]
                            },
                            "data": [
                                {
                                    "0": "406",
                                    "1": "147225.15"
                                }
                            ]
                        },
                        "text/html": [
                            "<table>",
                            "<tr><th>customer_count</th><th>total_profit</th></tr>",
                            "<tr><td>406</td><td>147225.15</td></tr>",
                            "</table>"
                        ]
                    }
                },
                {
                    "output_type": "execute_result",
                    "metadata": {},
                    "execution_count": 11,
                    "data": {
                        "application/vnd.dataresource+json": {
                            "schema": {
                                "fields": [
                                    {
                                        "name": "customer_count"
                                    },
                                    {
                                        "name": "total_profit"
                                    }
                                ]
                            },
                            "data": [
                                {
                                    "0": "406",
                                    "1": "147225.15"
                                }
                            ]
                        },
                        "text/html": [
                            "<table>",
                            "<tr><th>customer_count</th><th>total_profit</th></tr>",
                            "<tr><td>406</td><td>147225.15</td></tr>",
                            "</table>"
                        ]
                    }
                },
                {
                    "output_type": "execute_result",
                    "metadata": {},
                    "execution_count": 11,
                    "data": {
                        "application/vnd.dataresource+json": {
                            "schema": {
                                "fields": [
                                    {
                                        "name": "customer_count"
                                    },
                                    {
                                        "name": "total_profit"
                                    }
                                ]
                            },
                            "data": [
                                {
                                    "0": "406",
                                    "1": "147225.15"
                                }
                            ]
                        },
                        "text/html": [
                            "<table>",
                            "<tr><th>customer_count</th><th>total_profit</th></tr>",
                            "<tr><td>406</td><td>147225.15</td></tr>",
                            "</table>"
                        ]
                    }
                },
                {
                    "output_type": "execute_result",
                    "metadata": {},
                    "execution_count": 11,
                    "data": {
                        "application/vnd.dataresource+json": {
                            "schema": {
                                "fields": [
                                    {
                                        "name": "customer_count"
                                    },
                                    {
                                        "name": "total_profit"
                                    }
                                ]
                            },
                            "data": [
                                {
                                    "0": "406",
                                    "1": "147225.15"
                                }
                            ]
                        },
                        "text/html": [
                            "<table>",
                            "<tr><th>customer_count</th><th>total_profit</th></tr>",
                            "<tr><td>406</td><td>147225.15</td></tr>",
                            "</table>"
                        ]
                    }
                },
                {
                    "output_type": "execute_result",
                    "metadata": {},
                    "execution_count": 11,
                    "data": {
                        "application/vnd.dataresource+json": {
                            "schema": {
                                "fields": [
                                    {
                                        "name": "customer_count"
                                    },
                                    {
                                        "name": "total_profit"
                                    }
                                ]
                            },
                            "data": [
                                {
                                    "0": "406",
                                    "1": "147225.15"
                                }
                            ]
                        },
                        "text/html": [
                            "<table>",
                            "<tr><th>customer_count</th><th>total_profit</th></tr>",
                            "<tr><td>406</td><td>147225.15</td></tr>",
                            "</table>"
                        ]
                    }
                },
                {
                    "output_type": "execute_result",
                    "metadata": {},
                    "execution_count": 11,
                    "data": {
                        "application/vnd.dataresource+json": {
                            "schema": {
                                "fields": [
                                    {
                                        "name": "customer_count"
                                    },
                                    {
                                        "name": "total_profit"
                                    }
                                ]
                            },
                            "data": [
                                {
                                    "0": "406",
                                    "1": "147225.15"
                                }
                            ]
                        },
                        "text/html": [
                            "<table>",
                            "<tr><th>customer_count</th><th>total_profit</th></tr>",
                            "<tr><td>406</td><td>147225.15</td></tr>",
                            "</table>"
                        ]
                    }
                },
                {
                    "output_type": "execute_result",
                    "metadata": {},
                    "execution_count": 11,
                    "data": {
                        "application/vnd.dataresource+json": {
                            "schema": {
                                "fields": [
                                    {
                                        "name": "customer_count"
                                    },
                                    {
                                        "name": "total_profit"
                                    }
                                ]
                            },
                            "data": [
                                {
                                    "0": "406",
                                    "1": "147225.15"
                                }
                            ]
                        },
                        "text/html": [
                            "<table>",
                            "<tr><th>customer_count</th><th>total_profit</th></tr>",
                            "<tr><td>406</td><td>147225.15</td></tr>",
                            "</table>"
                        ]
                    }
                },
                {
                    "output_type": "execute_result",
                    "metadata": {},
                    "execution_count": 11,
                    "data": {
                        "application/vnd.dataresource+json": {
                            "schema": {
                                "fields": [
                                    {
                                        "name": "customer_count"
                                    },
                                    {
                                        "name": "total_profit"
                                    }
                                ]
                            },
                            "data": [
                                {
                                    "0": "406",
                                    "1": "147225.15"
                                }
                            ]
                        },
                        "text/html": [
                            "<table>",
                            "<tr><th>customer_count</th><th>total_profit</th></tr>",
                            "<tr><td>406</td><td>147225.15</td></tr>",
                            "</table>"
                        ]
                    }
                },
                {
                    "output_type": "execute_result",
                    "metadata": {},
                    "execution_count": 11,
                    "data": {
                        "application/vnd.dataresource+json": {
                            "schema": {
                                "fields": [
                                    {
                                        "name": "customer_count"
                                    },
                                    {
                                        "name": "total_profit"
                                    }
                                ]
                            },
                            "data": [
                                {
                                    "0": "406",
                                    "1": "147225.15"
                                }
                            ]
                        },
                        "text/html": [
                            "<table>",
                            "<tr><th>customer_count</th><th>total_profit</th></tr>",
                            "<tr><td>406</td><td>147225.15</td></tr>",
                            "</table>"
                        ]
                    }
                },
                {
                    "output_type": "execute_result",
                    "metadata": {},
                    "execution_count": 11,
                    "data": {
                        "application/vnd.dataresource+json": {
                            "schema": {
                                "fields": [
                                    {
                                        "name": "customer_count"
                                    },
                                    {
                                        "name": "total_profit"
                                    }
                                ]
                            },
                            "data": [
                                {
                                    "0": "406",
                                    "1": "147225.15"
                                }
                            ]
                        },
                        "text/html": [
                            "<table>",
                            "<tr><th>customer_count</th><th>total_profit</th></tr>",
                            "<tr><td>406</td><td>147225.15</td></tr>",
                            "</table>"
                        ]
                    }
                },
                {
                    "output_type": "execute_result",
                    "metadata": {},
                    "execution_count": 11,
                    "data": {
                        "application/vnd.dataresource+json": {
                            "schema": {
                                "fields": [
                                    {
                                        "name": "customer_count"
                                    },
                                    {
                                        "name": "total_profit"
                                    }
                                ]
                            },
                            "data": [
                                {
                                    "0": "406",
                                    "1": "147225.15"
                                }
                            ]
                        },
                        "text/html": [
                            "<table>",
                            "<tr><th>customer_count</th><th>total_profit</th></tr>",
                            "<tr><td>406</td><td>147225.15</td></tr>",
                            "</table>"
                        ]
                    }
                },
                {
                    "output_type": "execute_result",
                    "metadata": {},
                    "execution_count": 11,
                    "data": {
                        "application/vnd.dataresource+json": {
                            "schema": {
                                "fields": [
                                    {
                                        "name": "customer_count"
                                    },
                                    {
                                        "name": "total_profit"
                                    }
                                ]
                            },
                            "data": [
                                {
                                    "0": "406",
                                    "1": "147225.15"
                                }
                            ]
                        },
                        "text/html": [
                            "<table>",
                            "<tr><th>customer_count</th><th>total_profit</th></tr>",
                            "<tr><td>406</td><td>147225.15</td></tr>",
                            "</table>"
                        ]
                    }
                },
                {
                    "output_type": "execute_result",
                    "metadata": {},
                    "execution_count": 11,
                    "data": {
                        "application/vnd.dataresource+json": {
                            "schema": {
                                "fields": [
                                    {
                                        "name": "customer_count"
                                    },
                                    {
                                        "name": "total_profit"
                                    }
                                ]
                            },
                            "data": [
                                {
                                    "0": "406",
                                    "1": "147225.15"
                                }
                            ]
                        },
                        "text/html": [
                            "<table>",
                            "<tr><th>customer_count</th><th>total_profit</th></tr>",
                            "<tr><td>406</td><td>147225.15</td></tr>",
                            "</table>"
                        ]
                    }
                },
                {
                    "output_type": "execute_result",
                    "metadata": {},
                    "execution_count": 11,
                    "data": {
                        "application/vnd.dataresource+json": {
                            "schema": {
                                "fields": [
                                    {
                                        "name": "customer_count"
                                    },
                                    {
                                        "name": "total_profit"
                                    }
                                ]
                            },
                            "data": [
                                {
                                    "0": "406",
                                    "1": "147225.15"
                                }
                            ]
                        },
                        "text/html": [
                            "<table>",
                            "<tr><th>customer_count</th><th>total_profit</th></tr>",
                            "<tr><td>406</td><td>147225.15</td></tr>",
                            "</table>"
                        ]
                    }
                },
                {
                    "output_type": "execute_result",
                    "metadata": {},
                    "execution_count": 11,
                    "data": {
                        "application/vnd.dataresource+json": {
                            "schema": {
                                "fields": [
                                    {
                                        "name": "customer_count"
                                    },
                                    {
                                        "name": "total_profit"
                                    }
                                ]
                            },
                            "data": [
                                {
                                    "0": "406",
                                    "1": "147225.15"
                                }
                            ]
                        },
                        "text/html": [
                            "<table>",
                            "<tr><th>customer_count</th><th>total_profit</th></tr>",
                            "<tr><td>406</td><td>147225.15</td></tr>",
                            "</table>"
                        ]
                    }
                },
                {
                    "output_type": "execute_result",
                    "metadata": {},
                    "execution_count": 11,
                    "data": {
                        "application/vnd.dataresource+json": {
                            "schema": {
                                "fields": [
                                    {
                                        "name": "customer_count"
                                    },
                                    {
                                        "name": "total_profit"
                                    }
                                ]
                            },
                            "data": [
                                {
                                    "0": "406",
                                    "1": "147225.15"
                                }
                            ]
                        },
                        "text/html": [
                            "<table>",
                            "<tr><th>customer_count</th><th>total_profit</th></tr>",
                            "<tr><td>406</td><td>147225.15</td></tr>",
                            "</table>"
                        ]
                    }
                },
                {
                    "output_type": "execute_result",
                    "metadata": {},
                    "execution_count": 11,
                    "data": {
                        "application/vnd.dataresource+json": {
                            "schema": {
                                "fields": [
                                    {
                                        "name": "customer_count"
                                    },
                                    {
                                        "name": "total_profit"
                                    }
                                ]
                            },
                            "data": [
                                {
                                    "0": "406",
                                    "1": "147225.15"
                                }
                            ]
                        },
                        "text/html": [
                            "<table>",
                            "<tr><th>customer_count</th><th>total_profit</th></tr>",
                            "<tr><td>406</td><td>147225.15</td></tr>",
                            "</table>"
                        ]
                    }
                }
            ],
            "execution_count": 11
        },
        {
            "cell_type": "markdown",
            "source": [
                "## Step 3 - Run the stored procedure with database compatibility of 150\r\n",
                "Now let's run the same exact test but with database compatibility of 150. You will not make any changes to the stored procedure.\r\n",
                "\r\n",
                "Notice this is the same script except database compatibility of 150 is used. This time, the query processor in SQL Server will enable table variable deferred compilation so a better query plan can be chosen\r\n",
                "\r\n",
                " The script should execute far faster than before. Your speeds can vary but should be 15 seconds or less.\r\n",
                "\r\n",
                " When you click Play to run the script look for these messages on the total elapsted time (your time may vary)\r\n",
                "\r\n",
                "<pre>Beginning execution loop\r\n",
                "Batch execution completed 25 times...\r\n",
                "Total execution time: 00:00:10.9975239</pre>\r\n",
                ""
            ],
            "metadata": {
                "azdata_cell_guid": "168f9de8-ef24-48b4-b5a7-5cf3c4c08fdf"
            }
        },
        {
            "cell_type": "code",
            "source": [
                "USE master\r\n",
                "GO\r\n",
                "ALTER DATABASE wideworldimporters SET compatibility_level = 150\r\n",
                "GO\r\n",
                "USE WideWorldImporters\r\n",
                "GO\r\n",
                "SET NOCOUNT ON\r\n",
                "GO\r\n",
                "EXEC [Sales].[CustomerProfits]\r\n",
                "GO 25\r\n",
                "SET NOCOUNT OFF\r\n",
                "GO"
            ],
            "metadata": {
                "azdata_cell_guid": "73254945-96f5-4d17-a43f-b40fd0d227ce"
            },
            "outputs": [
                {
                    "output_type": "display_data",
                    "data": {
                        "text/html": "Commands completed successfully."
                    },
                    "metadata": {}
                },
                {
                    "output_type": "display_data",
                    "data": {
                        "text/html": "Commands completed successfully."
                    },
                    "metadata": {}
                },
                {
                    "output_type": "display_data",
                    "data": {
                        "text/html": "Commands completed successfully."
                    },
                    "metadata": {}
                },
                {
                    "output_type": "display_data",
                    "data": {
                        "text/html": "Commands completed successfully."
                    },
                    "metadata": {}
                },
                {
                    "output_type": "display_data",
                    "data": {
                        "text/html": "Beginning execution loop"
                    },
                    "metadata": {}
                },
                {
                    "output_type": "display_data",
                    "data": {
                        "text/html": "Batch execution completed 25 times..."
                    },
                    "metadata": {}
                },
                {
                    "output_type": "display_data",
                    "data": {
                        "text/html": "Commands completed successfully."
                    },
                    "metadata": {}
                },
                {
                    "output_type": "display_data",
                    "data": {
                        "text/html": "Total execution time: 00:00:05.166"
                    },
                    "metadata": {}
                },
                {
                    "output_type": "execute_result",
                    "metadata": {},
                    "execution_count": 12,
                    "data": {
                        "application/vnd.dataresource+json": {
                            "schema": {
                                "fields": [
                                    {
                                        "name": "customer_count"
                                    },
                                    {
                                        "name": "total_profit"
                                    }
                                ]
                            },
                            "data": [
                                {
                                    "0": "406",
                                    "1": "147225.15"
                                }
                            ]
                        },
                        "text/html": [
                            "<table>",
                            "<tr><th>customer_count</th><th>total_profit</th></tr>",
                            "<tr><td>406</td><td>147225.15</td></tr>",
                            "</table>"
                        ]
                    }
                },
                {
                    "output_type": "execute_result",
                    "metadata": {},
                    "execution_count": 12,
                    "data": {
                        "application/vnd.dataresource+json": {
                            "schema": {
                                "fields": [
                                    {
                                        "name": "customer_count"
                                    },
                                    {
                                        "name": "total_profit"
                                    }
                                ]
                            },
                            "data": [
                                {
                                    "0": "406",
                                    "1": "147225.15"
                                }
                            ]
                        },
                        "text/html": [
                            "<table>",
                            "<tr><th>customer_count</th><th>total_profit</th></tr>",
                            "<tr><td>406</td><td>147225.15</td></tr>",
                            "</table>"
                        ]
                    }
                },
                {
                    "output_type": "execute_result",
                    "metadata": {},
                    "execution_count": 12,
                    "data": {
                        "application/vnd.dataresource+json": {
                            "schema": {
                                "fields": [
                                    {
                                        "name": "customer_count"
                                    },
                                    {
                                        "name": "total_profit"
                                    }
                                ]
                            },
                            "data": [
                                {
                                    "0": "406",
                                    "1": "147225.15"
                                }
                            ]
                        },
                        "text/html": [
                            "<table>",
                            "<tr><th>customer_count</th><th>total_profit</th></tr>",
                            "<tr><td>406</td><td>147225.15</td></tr>",
                            "</table>"
                        ]
                    }
                },
                {
                    "output_type": "execute_result",
                    "metadata": {},
                    "execution_count": 12,
                    "data": {
                        "application/vnd.dataresource+json": {
                            "schema": {
                                "fields": [
                                    {
                                        "name": "customer_count"
                                    },
                                    {
                                        "name": "total_profit"
                                    }
                                ]
                            },
                            "data": [
                                {
                                    "0": "406",
                                    "1": "147225.15"
                                }
                            ]
                        },
                        "text/html": [
                            "<table>",
                            "<tr><th>customer_count</th><th>total_profit</th></tr>",
                            "<tr><td>406</td><td>147225.15</td></tr>",
                            "</table>"
                        ]
                    }
                },
                {
                    "output_type": "execute_result",
                    "metadata": {},
                    "execution_count": 12,
                    "data": {
                        "application/vnd.dataresource+json": {
                            "schema": {
                                "fields": [
                                    {
                                        "name": "customer_count"
                                    },
                                    {
                                        "name": "total_profit"
                                    }
                                ]
                            },
                            "data": [
                                {
                                    "0": "406",
                                    "1": "147225.15"
                                }
                            ]
                        },
                        "text/html": [
                            "<table>",
                            "<tr><th>customer_count</th><th>total_profit</th></tr>",
                            "<tr><td>406</td><td>147225.15</td></tr>",
                            "</table>"
                        ]
                    }
                },
                {
                    "output_type": "execute_result",
                    "metadata": {},
                    "execution_count": 12,
                    "data": {
                        "application/vnd.dataresource+json": {
                            "schema": {
                                "fields": [
                                    {
                                        "name": "customer_count"
                                    },
                                    {
                                        "name": "total_profit"
                                    }
                                ]
                            },
                            "data": [
                                {
                                    "0": "406",
                                    "1": "147225.15"
                                }
                            ]
                        },
                        "text/html": [
                            "<table>",
                            "<tr><th>customer_count</th><th>total_profit</th></tr>",
                            "<tr><td>406</td><td>147225.15</td></tr>",
                            "</table>"
                        ]
                    }
                },
                {
                    "output_type": "execute_result",
                    "metadata": {},
                    "execution_count": 12,
                    "data": {
                        "application/vnd.dataresource+json": {
                            "schema": {
                                "fields": [
                                    {
                                        "name": "customer_count"
                                    },
                                    {
                                        "name": "total_profit"
                                    }
                                ]
                            },
                            "data": [
                                {
                                    "0": "406",
                                    "1": "147225.15"
                                }
                            ]
                        },
                        "text/html": [
                            "<table>",
                            "<tr><th>customer_count</th><th>total_profit</th></tr>",
                            "<tr><td>406</td><td>147225.15</td></tr>",
                            "</table>"
                        ]
                    }
                },
                {
                    "output_type": "execute_result",
                    "metadata": {},
                    "execution_count": 12,
                    "data": {
                        "application/vnd.dataresource+json": {
                            "schema": {
                                "fields": [
                                    {
                                        "name": "customer_count"
                                    },
                                    {
                                        "name": "total_profit"
                                    }
                                ]
                            },
                            "data": [
                                {
                                    "0": "406",
                                    "1": "147225.15"
                                }
                            ]
                        },
                        "text/html": [
                            "<table>",
                            "<tr><th>customer_count</th><th>total_profit</th></tr>",
                            "<tr><td>406</td><td>147225.15</td></tr>",
                            "</table>"
                        ]
                    }
                },
                {
                    "output_type": "execute_result",
                    "metadata": {},
                    "execution_count": 12,
                    "data": {
                        "application/vnd.dataresource+json": {
                            "schema": {
                                "fields": [
                                    {
                                        "name": "customer_count"
                                    },
                                    {
                                        "name": "total_profit"
                                    }
                                ]
                            },
                            "data": [
                                {
                                    "0": "406",
                                    "1": "147225.15"
                                }
                            ]
                        },
                        "text/html": [
                            "<table>",
                            "<tr><th>customer_count</th><th>total_profit</th></tr>",
                            "<tr><td>406</td><td>147225.15</td></tr>",
                            "</table>"
                        ]
                    }
                },
                {
                    "output_type": "execute_result",
                    "metadata": {},
                    "execution_count": 12,
                    "data": {
                        "application/vnd.dataresource+json": {
                            "schema": {
                                "fields": [
                                    {
                                        "name": "customer_count"
                                    },
                                    {
                                        "name": "total_profit"
                                    }
                                ]
                            },
                            "data": [
                                {
                                    "0": "406",
                                    "1": "147225.15"
                                }
                            ]
                        },
                        "text/html": [
                            "<table>",
                            "<tr><th>customer_count</th><th>total_profit</th></tr>",
                            "<tr><td>406</td><td>147225.15</td></tr>",
                            "</table>"
                        ]
                    }
                },
                {
                    "output_type": "execute_result",
                    "metadata": {},
                    "execution_count": 12,
                    "data": {
                        "application/vnd.dataresource+json": {
                            "schema": {
                                "fields": [
                                    {
                                        "name": "customer_count"
                                    },
                                    {
                                        "name": "total_profit"
                                    }
                                ]
                            },
                            "data": [
                                {
                                    "0": "406",
                                    "1": "147225.15"
                                }
                            ]
                        },
                        "text/html": [
                            "<table>",
                            "<tr><th>customer_count</th><th>total_profit</th></tr>",
                            "<tr><td>406</td><td>147225.15</td></tr>",
                            "</table>"
                        ]
                    }
                },
                {
                    "output_type": "execute_result",
                    "metadata": {},
                    "execution_count": 12,
                    "data": {
                        "application/vnd.dataresource+json": {
                            "schema": {
                                "fields": [
                                    {
                                        "name": "customer_count"
                                    },
                                    {
                                        "name": "total_profit"
                                    }
                                ]
                            },
                            "data": [
                                {
                                    "0": "406",
                                    "1": "147225.15"
                                }
                            ]
                        },
                        "text/html": [
                            "<table>",
                            "<tr><th>customer_count</th><th>total_profit</th></tr>",
                            "<tr><td>406</td><td>147225.15</td></tr>",
                            "</table>"
                        ]
                    }
                },
                {
                    "output_type": "execute_result",
                    "metadata": {},
                    "execution_count": 12,
                    "data": {
                        "application/vnd.dataresource+json": {
                            "schema": {
                                "fields": [
                                    {
                                        "name": "customer_count"
                                    },
                                    {
                                        "name": "total_profit"
                                    }
                                ]
                            },
                            "data": [
                                {
                                    "0": "406",
                                    "1": "147225.15"
                                }
                            ]
                        },
                        "text/html": [
                            "<table>",
                            "<tr><th>customer_count</th><th>total_profit</th></tr>",
                            "<tr><td>406</td><td>147225.15</td></tr>",
                            "</table>"
                        ]
                    }
                },
                {
                    "output_type": "execute_result",
                    "metadata": {},
                    "execution_count": 12,
                    "data": {
                        "application/vnd.dataresource+json": {
                            "schema": {
                                "fields": [
                                    {
                                        "name": "customer_count"
                                    },
                                    {
                                        "name": "total_profit"
                                    }
                                ]
                            },
                            "data": [
                                {
                                    "0": "406",
                                    "1": "147225.15"
                                }
                            ]
                        },
                        "text/html": [
                            "<table>",
                            "<tr><th>customer_count</th><th>total_profit</th></tr>",
                            "<tr><td>406</td><td>147225.15</td></tr>",
                            "</table>"
                        ]
                    }
                },
                {
                    "output_type": "execute_result",
                    "metadata": {},
                    "execution_count": 12,
                    "data": {
                        "application/vnd.dataresource+json": {
                            "schema": {
                                "fields": [
                                    {
                                        "name": "customer_count"
                                    },
                                    {
                                        "name": "total_profit"
                                    }
                                ]
                            },
                            "data": [
                                {
                                    "0": "406",
                                    "1": "147225.15"
                                }
                            ]
                        },
                        "text/html": [
                            "<table>",
                            "<tr><th>customer_count</th><th>total_profit</th></tr>",
                            "<tr><td>406</td><td>147225.15</td></tr>",
                            "</table>"
                        ]
                    }
                },
                {
                    "output_type": "execute_result",
                    "metadata": {},
                    "execution_count": 12,
                    "data": {
                        "application/vnd.dataresource+json": {
                            "schema": {
                                "fields": [
                                    {
                                        "name": "customer_count"
                                    },
                                    {
                                        "name": "total_profit"
                                    }
                                ]
                            },
                            "data": [
                                {
                                    "0": "406",
                                    "1": "147225.15"
                                }
                            ]
                        },
                        "text/html": [
                            "<table>",
                            "<tr><th>customer_count</th><th>total_profit</th></tr>",
                            "<tr><td>406</td><td>147225.15</td></tr>",
                            "</table>"
                        ]
                    }
                },
                {
                    "output_type": "execute_result",
                    "metadata": {},
                    "execution_count": 12,
                    "data": {
                        "application/vnd.dataresource+json": {
                            "schema": {
                                "fields": [
                                    {
                                        "name": "customer_count"
                                    },
                                    {
                                        "name": "total_profit"
                                    }
                                ]
                            },
                            "data": [
                                {
                                    "0": "406",
                                    "1": "147225.15"
                                }
                            ]
                        },
                        "text/html": [
                            "<table>",
                            "<tr><th>customer_count</th><th>total_profit</th></tr>",
                            "<tr><td>406</td><td>147225.15</td></tr>",
                            "</table>"
                        ]
                    }
                },
                {
                    "output_type": "execute_result",
                    "metadata": {},
                    "execution_count": 12,
                    "data": {
                        "application/vnd.dataresource+json": {
                            "schema": {
                                "fields": [
                                    {
                                        "name": "customer_count"
                                    },
                                    {
                                        "name": "total_profit"
                                    }
                                ]
                            },
                            "data": [
                                {
                                    "0": "406",
                                    "1": "147225.15"
                                }
                            ]
                        },
                        "text/html": [
                            "<table>",
                            "<tr><th>customer_count</th><th>total_profit</th></tr>",
                            "<tr><td>406</td><td>147225.15</td></tr>",
                            "</table>"
                        ]
                    }
                },
                {
                    "output_type": "execute_result",
                    "metadata": {},
                    "execution_count": 12,
                    "data": {
                        "application/vnd.dataresource+json": {
                            "schema": {
                                "fields": [
                                    {
                                        "name": "customer_count"
                                    },
                                    {
                                        "name": "total_profit"
                                    }
                                ]
                            },
                            "data": [
                                {
                                    "0": "406",
                                    "1": "147225.15"
                                }
                            ]
                        },
                        "text/html": [
                            "<table>",
                            "<tr><th>customer_count</th><th>total_profit</th></tr>",
                            "<tr><td>406</td><td>147225.15</td></tr>",
                            "</table>"
                        ]
                    }
                },
                {
                    "output_type": "execute_result",
                    "metadata": {},
                    "execution_count": 12,
                    "data": {
                        "application/vnd.dataresource+json": {
                            "schema": {
                                "fields": [
                                    {
                                        "name": "customer_count"
                                    },
                                    {
                                        "name": "total_profit"
                                    }
                                ]
                            },
                            "data": [
                                {
                                    "0": "406",
                                    "1": "147225.15"
                                }
                            ]
                        },
                        "text/html": [
                            "<table>",
                            "<tr><th>customer_count</th><th>total_profit</th></tr>",
                            "<tr><td>406</td><td>147225.15</td></tr>",
                            "</table>"
                        ]
                    }
                },
                {
                    "output_type": "execute_result",
                    "metadata": {},
                    "execution_count": 12,
                    "data": {
                        "application/vnd.dataresource+json": {
                            "schema": {
                                "fields": [
                                    {
                                        "name": "customer_count"
                                    },
                                    {
                                        "name": "total_profit"
                                    }
                                ]
                            },
                            "data": [
                                {
                                    "0": "406",
                                    "1": "147225.15"
                                }
                            ]
                        },
                        "text/html": [
                            "<table>",
                            "<tr><th>customer_count</th><th>total_profit</th></tr>",
                            "<tr><td>406</td><td>147225.15</td></tr>",
                            "</table>"
                        ]
                    }
                },
                {
                    "output_type": "execute_result",
                    "metadata": {},
                    "execution_count": 12,
                    "data": {
                        "application/vnd.dataresource+json": {
                            "schema": {
                                "fields": [
                                    {
                                        "name": "customer_count"
                                    },
                                    {
                                        "name": "total_profit"
                                    }
                                ]
                            },
                            "data": [
                                {
                                    "0": "406",
                                    "1": "147225.15"
                                }
                            ]
                        },
                        "text/html": [
                            "<table>",
                            "<tr><th>customer_count</th><th>total_profit</th></tr>",
                            "<tr><td>406</td><td>147225.15</td></tr>",
                            "</table>"
                        ]
                    }
                },
                {
                    "output_type": "execute_result",
                    "metadata": {},
                    "execution_count": 12,
                    "data": {
                        "application/vnd.dataresource+json": {
                            "schema": {
                                "fields": [
                                    {
                                        "name": "customer_count"
                                    },
                                    {
                                        "name": "total_profit"
                                    }
                                ]
                            },
                            "data": [
                                {
                                    "0": "406",
                                    "1": "147225.15"
                                }
                            ]
                        },
                        "text/html": [
                            "<table>",
                            "<tr><th>customer_count</th><th>total_profit</th></tr>",
                            "<tr><td>406</td><td>147225.15</td></tr>",
                            "</table>"
                        ]
                    }
                },
                {
                    "output_type": "execute_result",
                    "metadata": {},
                    "execution_count": 12,
                    "data": {
                        "application/vnd.dataresource+json": {
                            "schema": {
                                "fields": [
                                    {
                                        "name": "customer_count"
                                    },
                                    {
                                        "name": "total_profit"
                                    }
                                ]
                            },
                            "data": [
                                {
                                    "0": "406",
                                    "1": "147225.15"
                                }
                            ]
                        },
                        "text/html": [
                            "<table>",
                            "<tr><th>customer_count</th><th>total_profit</th></tr>",
                            "<tr><td>406</td><td>147225.15</td></tr>",
                            "</table>"
                        ]
                    }
                },
                {
                    "output_type": "execute_result",
                    "metadata": {},
                    "execution_count": 12,
                    "data": {
                        "application/vnd.dataresource+json": {
                            "schema": {
                                "fields": [
                                    {
                                        "name": "customer_count"
                                    },
                                    {
                                        "name": "total_profit"
                                    }
                                ]
                            },
                            "data": [
                                {
                                    "0": "406",
                                    "1": "147225.15"
                                }
                            ]
                        },
                        "text/html": [
                            "<table>",
                            "<tr><th>customer_count</th><th>total_profit</th></tr>",
                            "<tr><td>406</td><td>147225.15</td></tr>",
                            "</table>"
                        ]
                    }
                }
            ],
            "execution_count": 12
        },
        {
            "cell_type": "markdown",
            "source": [
                "## Step 4: Restore dbcompat of WideWorldImporters\r\n",
                "Restore the dbcompat back to 130 for WideWorldImporters in case other examples rely on it"
            ],
            "metadata": {
                "azdata_cell_guid": "6dbad1fc-ba56-4411-adb2-102ab1148b73"
            }
        },
        {
            "cell_type": "code",
            "source": [
                "USE master\r\n",
                "GO\r\n",
                "ALTER DATABASE wideworldimporters SET compatibility_level = 130\r\n",
                "GO"
            ],
            "metadata": {
                "azdata_cell_guid": "b0651210-aa74-438a-82ae-935f18173767"
            },
            "outputs": [
                {
                    "output_type": "display_data",
                    "data": {
                        "text/html": "Commands completed successfully."
                    },
                    "metadata": {}
                },
                {
                    "output_type": "display_data",
                    "data": {
                        "text/html": "Commands completed successfully."
                    },
                    "metadata": {}
                },
                {
                    "output_type": "display_data",
                    "data": {
                        "text/html": "Total execution time: 00:00:00.006"
                    },
                    "metadata": {}
                }
            ],
            "execution_count": 4
        }
    ]
}