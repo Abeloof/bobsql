{
    "metadata": {
        "kernelspec": {
            "name": "SQL",
            "display_name": "SQL",
            "language": "sql"
        },
        "language_info": {
            "name": "sql",
            "version": ""
        }
    },
    "nbformat_minor": 2,
    "nbformat": 4,
    "cells": [
        {
            "cell_type": "markdown",
            "source": [
                "![Microsoft](https://github.com/Microsoft/sqlworkshops/blob/master/graphics/solutions-microsoft-logo-small.png?raw=true)  \n",
                "\n",
                "# Call from On-Prem SQL Server to Pre-Built Azure AI\n",
                "\n",
                "## Text Analysis of Database records using Azure Cognitive Services Calls in Python"
            ],
            "metadata": {
                "azdata_cell_guid": "13746063-58dc-4c8d-a521-3f6b210109ed"
            }
        },
        {
            "cell_type": "markdown",
            "source": [
                "## Install Python Libraries\r\n",
                "\r\n",
                "This example depends on the Cogntitive Services Python library from Microsoft. In this case we are using the \"Big Data Clusters\" feature from SQL Server 2019, which runs on a Kubernetes Cluster. \r\n",
                "\r\n",
                "Using the `kubectl` command, the library is installed using the `pip` python utility:\r\n",
                "\r\n",
                "Connect to the Master instance of SQL Server in the Cluster: \r\n",
                "\r\n",
                "`kubectl exec --stdin --tty master-0 -- /bin/bash`\r\n",
                "\r\n",
                "Locate the proper directory: \r\n",
                "\r\n",
                "`cd /opt/mssql/mlservices/bin/python`\r\n",
                "\r\n",
                "Install the proper library using `pip` within the proper Python distribution for Machine Learning Services:\r\n",
                "\r\n",
                "`sudo ./python -m pip install --upgrade azure-ai-textanalytics`\r\n",
                "\r\n",
                "> Note that the `mlutils` utility can also be used for SQL Server Machine Learning Services package management."
            ],
            "metadata": {
                "azdata_cell_guid": "0be61cc0-8055-42f3-bf73-e823ca4dbe36"
            }
        },
        {
            "cell_type": "code",
            "source": [
                "/* Get data from the table to use in our Sentiment Analysis */\r\n",
                "USE Analysis;\r\n",
                "GO\r\n",
                "\r\n",
                "SELECT pr_review_content\r\n",
                "FROM dbo.product_reviews\r\n",
                "WHERE pr_review_sk = 72621;\r\n",
                "GO"
            ],
            "metadata": {
                "azdata_cell_guid": "103c6f33-a7f2-4025-8cfd-296413d32c72"
            },
            "outputs": [
                {
                    "output_type": "display_data",
                    "data": {
                        "text/html": "Commands completed successfully."
                    },
                    "metadata": {}
                },
                {
                    "output_type": "display_data",
                    "data": {
                        "text/html": "(1 row affected)"
                    },
                    "metadata": {}
                },
                {
                    "output_type": "display_data",
                    "data": {
                        "text/html": "Total execution time: 00:00:00.799"
                    },
                    "metadata": {}
                },
                {
                    "output_type": "execute_result",
                    "execution_count": 1,
                    "data": {
                        "application/vnd.dataresource+json": {
                            "schema": {
                                "fields": [
                                    {
                                        "name": "pr_review_content"
                                    }
                                ]
                            },
                            "data": [
                                {
                                    "0": "Works fine. Easy to install. Some reviews talk about not fitting wall plates. Designed for the best, while greet dinner guests, smelling stronger than the Vollarth. While the handle's grip is nice on the OXO Good Grips Trigger Ice Cream Scoop purchased recently and this is the same as all the difference in the kitchen. If you cook for living, go for the professional series."
                                }
                            ]
                        },
                        "text/html": "<table><tr><th>pr_review_content</th></tr><tr><td>Works fine. Easy to install. Some reviews talk about not fitting wall plates. Designed for the best, while greet dinner guests, smelling stronger than the Vollarth. While the handle's grip is nice on the OXO Good Grips Trigger Ice Cream Scoop purchased recently and this is the same as all the difference in the kitchen. If you cook for living, go for the professional series.</td></tr></table>"
                    },
                    "metadata": {}
                }
            ],
            "execution_count": 1
        },
        {
            "cell_type": "code",
            "source": [
                "EXECUTE sp_execute_external_script @language = N'Python'\r\n",
                "    , @input_data_1 = N'SELECT pr_review_content FROM dbo.product_reviews WHERE pr_review_sk = 72621'\r\n",
                "    , @input_data_1_name = N'inputdata'\r\n",
                "    , @script = N'\r\n",
                "key = \"8675309\"\r\n",
                "endpoint = \"http://BR549\"\r\n",
                "print(\"Keys set\")\r\n",
                "\r\n",
                "from azure.ai.textanalytics import TextAnalyticsClient\r\n",
                "from azure.core.credentials import AzureKeyCredential\r\n",
                "import json\r\n",
                "import pandas as pd\r\n",
                "print(\"Imports successful\")\r\n",
                "\r\n",
                "def authenticate_client():\r\n",
                "    ta_credential = AzureKeyCredential(key)\r\n",
                "    text_analytics_client = TextAnalyticsClient(\r\n",
                "            endpoint=endpoint, credential=ta_credential)\r\n",
                "    return text_analytics_client\r\n",
                "print(\"Client set\")\r\n",
                "\r\n",
                "client = authenticate_client()\r\n",
                "print(\"Client authenticated\")\r\n",
                "\r\n",
                "documents = inputdata[\"pr_review_content\"].tolist()\r\n",
                "\r\n",
                "def sentiment_analysis_example(client):\r\n",
                "    response = client.analyze_sentiment(documents = documents)[0]\r\n",
                "    print(\"Document Sentiment: {}\".format(response.sentiment))\r\n",
                "    print(\"Overall scores: positive={0:.2f}; neutral={1:.2f}; negative={2:.2f} \\n\".format(\r\n",
                "        response.confidence_scores.positive,\r\n",
                "        response.confidence_scores.neutral,\r\n",
                "        response.confidence_scores.negative,\r\n",
                "    ))\r\n",
                "    for idx, sentence in enumerate(response.sentences):\r\n",
                "        print(\"Sentence: {}\".format(sentence.text))\r\n",
                "        print(\"Sentence {} sentiment: {}\".format(idx+1, sentence.sentiment))\r\n",
                "        print(\"Sentence score:\\nPositive={0:.2f}\\nNeutral={1:.2f}\\nNegative={2:.2f}\\n\".format(\r\n",
                "            sentence.confidence_scores.positive,\r\n",
                "            sentence.confidence_scores.neutral,\r\n",
                "            sentence.confidence_scores.negative,\r\n",
                "        ))\r\n",
                "print(\"Function set\")\r\n",
                "\r\n",
                "sentiment_analysis_example(client)\r\n",
                "print(\"Analysis Complete\")\r\n",
                "'"
            ],
            "metadata": {
                "azdata_cell_guid": "f8c3bc3a-6c7f-475c-a66d-3293deff4615"
            },
            "outputs": [
                {
                    "output_type": "display_data",
                    "data": {
                        "text/html": "STDOUT message(s) from external script: \nKeys set\nImports successful\nClient set\nClient authenticated\nFunction set\nDocument Sentiment: mixed\nOverall scores: positive=0.76; neutral=0.12; negative=0.12 \n\nSentence: Works fine.\nSentence 1 sentiment: positive\nSentence score:\nPositive=1.00\nNeutral=0.00\nNegative=0.00\n\nSentence: Easy to install.\nSentence 2 sentiment: positive\nSentence score:\nPositive=1.00\nNeutral=0.00\nNegative=0.00\n\nSentence: Some reviews talk about not fitting wall plates.\nSentence 3 sentiment: negative\nSentence score:\nPositive=0.01\nNeutral=0.27\nNegative=0.72\n\nSentence: Designed for the best, while greet dinner guests, smelling stronger than the Vollarth.\nSentence 4 sentiment: positive\nSentence score:\nPositive=0.96\nNeutral=0.04\nNegative=0.00\n\nSentence: While the handle's grip is nice on the OXO Good Grips Trigger Ice Cream Scoop purchased recently and this is the same as all the difference in the kitchen.\nSentence 5 sentiment: positive\nSentence score:\nPositive=0.99\nNeutral=0.01"
                    },
                    "metadata": {}
                },
                {
                    "output_type": "display_data",
                    "data": {
                        "text/html": "STDOUT message(s) from external script: \nNegative=0.00\n\nSentence: If you cook for living, go for the professional series.\nSentence 6 sentiment: positive\nSentence score:\nPositive=0.57\nNeutral=0.42\nNegative=0.01\n\nAnalysis Complete"
                    },
                    "metadata": {}
                },
                {
                    "output_type": "display_data",
                    "data": {
                        "text/html": "Total execution time: 00:00:03.564"
                    },
                    "metadata": {}
                }
            ],
            "execution_count": 34
        }
    ]
}