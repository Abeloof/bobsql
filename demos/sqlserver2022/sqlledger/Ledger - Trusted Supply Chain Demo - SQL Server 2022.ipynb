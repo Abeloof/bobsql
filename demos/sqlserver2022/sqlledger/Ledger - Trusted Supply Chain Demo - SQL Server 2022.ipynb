{
    "metadata": {
        "kernelspec": {
            "name": "SQL",
            "display_name": "SQL",
            "language": "sql"
        },
        "language_info": {
            "name": "sql",
            "version": ""
        }
    },
    "nbformat_minor": 2,
    "nbformat": 4,
    "cells": [
        {
            "cell_type": "markdown",
            "source": [
                "![](supplychain.png)\r\n",
                "# Ledger - Trusted Supply Chain Demo - SQL Server 2022\r\n",
                "\r\n",
                ""
            ],
            "metadata": {
                "azdata_cell_guid": "37b80cef-1217-4d8b-a71e-56b950e42727"
            },
            "attachments": {}
        },
        {
            "cell_type": "markdown",
            "source": [
                "## Append-Only Ledger Table Shipments"
            ],
            "metadata": {
                "azdata_cell_guid": "d7582e04-61cc-4a9e-bc80-fdca578d4042"
            },
            "attachments": {}
        },
        {
            "cell_type": "code",
            "source": [
                "CREATE TABLE [Shipments]\r\n",
                "(\r\n",
                "    [ShipmentID] INT NOT NULL PRIMARY KEY CLUSTERED IDENTITY(1,1),\r\n",
                "\t[ShipmentNumber] INT NULL,\r\n",
                "\t[Responsibility] NVARCHAR(50),\r\n",
                "\t[Temperature] INT,\r\n",
                "    [OutOfCompliance] BIT,\r\n",
                "\t[CountryName] VARCHAR(50),\r\n",
                "    [LastModified] [Datetime2] NOT NULL DEFAULT (SYSDATETIMEOFFSET())\r\n",
                ")\r\n",
                "WITH \r\n",
                "(\r\n",
                "  LEDGER = ON (APPEND_ONLY = ON)\r\n",
                ");\r\n",
                "GO"
            ],
            "metadata": {
                "azdata_cell_guid": "e6e09374-8b7c-4432-85e7-f6807ba4376c"
            },
            "outputs": [],
            "execution_count": null
        },
        {
            "cell_type": "markdown",
            "source": [
                "![](compliance.png)\r\n",
                "\r\n",
                "## Let's try to modify the data that is out of compliance."
            ],
            "metadata": {
                "azdata_cell_guid": "1b60ac87-7e65-4479-b99d-13065ba889f3"
            },
            "attachments": {}
        },
        {
            "cell_type": "markdown",
            "source": [
                "The shipment responsible knows the DBA of Contoso IC and asks to manipulate the data since his company made a mistake and wants to avoid huge claims.  \n",
                "<span style=\"font-family: Calibri, sans-serif; font-size: 11pt;\">The DBA tries to manipulate the faulty record but noticed that it’s an append-only ledger table and that data cannot be modified.&nbsp;</span>"
            ],
            "metadata": {
                "azdata_cell_guid": "54f5b25f-bb4a-4da0-9cc7-52d12d7994d8"
            },
            "attachments": {}
        },
        {
            "cell_type": "code",
            "source": [
                "SELECT * from Shipments\r\n",
                "WHERE OutOfCompliance=1"
            ],
            "metadata": {
                "azdata_cell_guid": "faba49e8-5231-4f89-b152-abc391ce2a56",
                "tags": []
            },
            "outputs": [
                {
                    "output_type": "display_data",
                    "data": {
                        "text/html": "(1 row affected)"
                    },
                    "metadata": {}
                },
                {
                    "output_type": "display_data",
                    "data": {
                        "text/html": "Total execution time: 00:00:00.095"
                    },
                    "metadata": {}
                },
                {
                    "output_type": "execute_result",
                    "execution_count": 1,
                    "data": {
                        "application/vnd.dataresource+json": {
                            "schema": {
                                "fields": [
                                    {
                                        "name": "ShipmentID"
                                    },
                                    {
                                        "name": "ShipmentNumber"
                                    },
                                    {
                                        "name": "Responsibility"
                                    },
                                    {
                                        "name": "Temperature"
                                    },
                                    {
                                        "name": "OutOfCompliance"
                                    },
                                    {
                                        "name": "CountryName"
                                    },
                                    {
                                        "name": "LastModified"
                                    }
                                ]
                            },
                            "data": [
                                {
                                    "0": "310",
                                    "1": "94",
                                    "2": "Contoso East Shipping",
                                    "3": "10",
                                    "4": "1",
                                    "5": "Belgium",
                                    "6": "2021-07-03 12:37:07.0000000"
                                }
                            ]
                        },
                        "text/html": "<table><tr><th>ShipmentID</th><th>ShipmentNumber</th><th>Responsibility</th><th>Temperature</th><th>OutOfCompliance</th><th>CountryName</th><th>LastModified</th></tr><tr><td>310</td><td>94</td><td>Contoso East Shipping</td><td>10</td><td>1</td><td>Belgium</td><td>2021-07-03 12:37:07.0000000</td></tr></table>"
                    },
                    "metadata": {}
                }
            ],
            "execution_count": 1
        },
        {
            "cell_type": "code",
            "source": [
                "UPDATE Shipments\r\n",
                "SET Temperature=-1, OutOfCompliance=0\r\n",
                "WHERE ShipmentID=312"
            ],
            "metadata": {
                "azdata_cell_guid": "e082ee2f-ec59-4525-9aae-39b91034686f"
            },
            "outputs": [
                {
                    "output_type": "error",
                    "ename": "",
                    "evalue": "Msg 37359, Level 16, State 1, Line 1\r\nUpdates are not allowed for the append only Ledger table 'Shipments'.",
                    "traceback": []
                },
                {
                    "output_type": "display_data",
                    "data": {
                        "text/html": "Total execution time: 00:00:00.063"
                    },
                    "metadata": {}
                }
            ],
            "execution_count": 22
        },
        {
            "cell_type": "markdown",
            "source": [
                "## Updateable Ledger Table ShipMethod"
            ],
            "metadata": {
                "azdata_cell_guid": "1148ffc0-5f5b-4296-b131-ab077e13efa4"
            },
            "attachments": {}
        },
        {
            "cell_type": "code",
            "source": [
                "CREATE TABLE [ShipMethod](\r\n",
                "\t[ShipMethodID] INT,\r\n",
                "\t[Name] NVARCHAR(256) NOT NULL,\r\n",
                "\t[ShipBase] MONEY NOT NULL,\r\n",
                "\t[ShipRate] MONEY NOT NULL,\r\n",
                "\t[rowguid] UNIQUEIDENTIFIER ROWGUIDCOL  NOT NULL\r\n",
                "\t)\r\n",
                "WITH \r\n",
                "(\r\n",
                "  SYSTEM_VERSIONING = ON,\r\n",
                "  LEDGER = ON\r\n",
                "); \r\n",
                "GO"
            ],
            "metadata": {
                "azdata_cell_guid": "f259a88f-714b-41c1-a3e9-3d04ca86f27a"
            },
            "outputs": [
                {
                    "output_type": "display_data",
                    "data": {
                        "text/html": "Commands completed successfully."
                    },
                    "metadata": {}
                },
                {
                    "output_type": "display_data",
                    "data": {
                        "text/html": "Total execution time: 00:00:00.057"
                    },
                    "metadata": {}
                }
            ],
            "execution_count": 4
        },
        {
            "cell_type": "markdown",
            "source": [
                "## View the history of ShipMethod Table"
            ],
            "metadata": {
                "azdata_cell_guid": "5749f417-239e-4035-983d-d30dc483ab77"
            },
            "attachments": {}
        },
        {
            "cell_type": "code",
            "source": [
                "\tSELECT \r\n",
                "\tt.[commit_time] AS [CommitTime] \r\n",
                "\t, t.[principal_name] AS [UserName]\r\n",
                "\t, l.[ShipMethodID]\r\n",
                "\t, l.[Name]\r\n",
                "\t, l.[ShipBase]\r\n",
                "\t, l.[ShipRate]\r\n",
                "\t, l.[rowguid]\r\n",
                "\t, l.[ledger_operation_type_desc] AS Operation\r\n",
                "\tFROM [dbo].[ShipMethod_Ledger] l\r\n",
                "\tJOIN sys.database_ledger_transactions t\r\n",
                "\tON t.transaction_id = l.ledger_transaction_id\r\n",
                "\tWHERE t.[commit_time] > DATEADD(MINUTE, -10, SYSDATETIMEOFFSET())\r\n",
                "\tORDER BY t.commit_time DESC;"
            ],
            "metadata": {
                "azdata_cell_guid": "8f919486-c7fa-4a42-abe3-64b6de76fbd3"
            },
            "outputs": [
                {
                    "output_type": "display_data",
                    "data": {
                        "text/html": "(7 rows affected)"
                    },
                    "metadata": {}
                },
                {
                    "output_type": "display_data",
                    "data": {
                        "text/html": "Total execution time: 00:00:00.074"
                    },
                    "metadata": {}
                },
                {
                    "output_type": "execute_result",
                    "execution_count": 5,
                    "data": {
                        "application/vnd.dataresource+json": {
                            "schema": {
                                "fields": [
                                    {
                                        "name": "CommitTime"
                                    },
                                    {
                                        "name": "UserName"
                                    },
                                    {
                                        "name": "ShipMethodID"
                                    },
                                    {
                                        "name": "Name"
                                    },
                                    {
                                        "name": "ShipBase"
                                    },
                                    {
                                        "name": "ShipRate"
                                    },
                                    {
                                        "name": "rowguid"
                                    },
                                    {
                                        "name": "Operation"
                                    }
                                ]
                            },
                            "data": [
                                {
                                    "0": "2022-04-15 11:45:30.8900000",
                                    "1": "PowerApp",
                                    "2": "3",
                                    "3": "OVERSEAS - DELUXE",
                                    "4": "29.95",
                                    "5": "1.99",
                                    "6": "22f4e461-28cf-4ace-a980-f686cf112ec8",
                                    "7": "INSERT"
                                },
                                {
                                    "0": "2022-04-15 11:45:30.8900000",
                                    "1": "PowerApp",
                                    "2": "3",
                                    "3": "OVERSEAS - DELUXE",
                                    "4": "29.95",
                                    "5": "2.99",
                                    "6": "22f4e461-28cf-4ace-a980-f686cf112ec8",
                                    "7": "DELETE"
                                },
                                {
                                    "0": "2022-04-15 11:40:29.6300000",
                                    "1": "PowerApp",
                                    "2": "1",
                                    "3": "XRQ - TRUCK GROUND",
                                    "4": "3.95",
                                    "5": "0.99",
                                    "6": "6be756d9-d7be-4463-8f2c-ae60c710d606",
                                    "7": "INSERT"
                                },
                                {
                                    "0": "2022-04-15 11:40:29.6300000",
                                    "1": "PowerApp",
                                    "2": "2",
                                    "3": "ZY - EXPRESS",
                                    "4": "9.95",
                                    "5": "1.99",
                                    "6": "3455079b-f773-4dc6-8f1e-2a58649c4ab8",
                                    "7": "INSERT"
                                },
                                {
                                    "0": "2022-04-15 11:40:29.6300000",
                                    "1": "PowerApp",
                                    "2": "4",
                                    "3": "OVERNIGHT J-FAST",
                                    "4": "21.95",
                                    "5": "1.29",
                                    "6": "107e8356-e7a8-463d-b60c-079fff467f3f",
                                    "7": "INSERT"
                                },
                                {
                                    "0": "2022-04-15 11:40:29.6300000",
                                    "1": "PowerApp",
                                    "2": "5",
                                    "3": "CARGO TRANSPORT",
                                    "4": "8.99",
                                    "5": "1.49",
                                    "6": "b166019a-b134-4e76-b957-2b0490c610ed",
                                    "7": "INSERT"
                                },
                                {
                                    "0": "2022-04-15 11:40:29.6300000",
                                    "1": "PowerApp",
                                    "2": "3",
                                    "3": "OVERSEAS - DELUXE",
                                    "4": "29.95",
                                    "5": "2.99",
                                    "6": "22f4e461-28cf-4ace-a980-f686cf112ec8",
                                    "7": "INSERT"
                                }
                            ]
                        },
                        "text/html": "<table><tr><th>CommitTime</th><th>UserName</th><th>ShipMethodID</th><th>Name</th><th>ShipBase</th><th>ShipRate</th><th>rowguid</th><th>Operation</th></tr><tr><td>2022-04-15 11:45:30.8900000</td><td>PowerApp</td><td>3</td><td>OVERSEAS - DELUXE</td><td>29.95</td><td>1.99</td><td>22f4e461-28cf-4ace-a980-f686cf112ec8</td><td>INSERT</td></tr><tr><td>2022-04-15 11:45:30.8900000</td><td>PowerApp</td><td>3</td><td>OVERSEAS - DELUXE</td><td>29.95</td><td>2.99</td><td>22f4e461-28cf-4ace-a980-f686cf112ec8</td><td>DELETE</td></tr><tr><td>2022-04-15 11:40:29.6300000</td><td>PowerApp</td><td>1</td><td>XRQ - TRUCK GROUND</td><td>3.95</td><td>0.99</td><td>6be756d9-d7be-4463-8f2c-ae60c710d606</td><td>INSERT</td></tr><tr><td>2022-04-15 11:40:29.6300000</td><td>PowerApp</td><td>2</td><td>ZY - EXPRESS</td><td>9.95</td><td>1.99</td><td>3455079b-f773-4dc6-8f1e-2a58649c4ab8</td><td>INSERT</td></tr><tr><td>2022-04-15 11:40:29.6300000</td><td>PowerApp</td><td>4</td><td>OVERNIGHT J-FAST</td><td>21.95</td><td>1.29</td><td>107e8356-e7a8-463d-b60c-079fff467f3f</td><td>INSERT</td></tr><tr><td>2022-04-15 11:40:29.6300000</td><td>PowerApp</td><td>5</td><td>CARGO TRANSPORT</td><td>8.99</td><td>1.49</td><td>b166019a-b134-4e76-b957-2b0490c610ed</td><td>INSERT</td></tr><tr><td>2022-04-15 11:40:29.6300000</td><td>PowerApp</td><td>3</td><td>OVERSEAS - DELUXE</td><td>29.95</td><td>2.99</td><td>22f4e461-28cf-4ace-a980-f686cf112ec8</td><td>INSERT</td></tr></table>"
                    },
                    "metadata": {}
                }
            ],
            "execution_count": 5
        },
        {
            "cell_type": "markdown",
            "source": [
                "## Different parties can verify the database to be sure the data can be trusted."
            ],
            "metadata": {
                "azdata_cell_guid": "36de65c8-ee60-4820-8ff5-5c04f2294085"
            },
            "attachments": {}
        },
        {
            "cell_type": "code",
            "source": [
                "EXECUTE [dbo].[sp_verify_Manual_Digest] 'F:\\Digests\\Digests.txt'"
            ],
            "metadata": {
                "azdata_cell_guid": "563e751f-df78-4f23-8618-9e7896316b81"
            },
            "outputs": [
                {
                    "output_type": "display_data",
                    "data": {
                        "text/html": "Ledger verification successfully verified up to block 0."
                    },
                    "metadata": {}
                },
                {
                    "output_type": "display_data",
                    "data": {
                        "text/html": "Total execution time: 00:00:00.127"
                    },
                    "metadata": {}
                },
                {
                    "output_type": "execute_result",
                    "execution_count": 25,
                    "data": {
                        "application/vnd.dataresource+json": {
                            "schema": {
                                "fields": [
                                    {
                                        "name": "last_verified_block_id"
                                    }
                                ]
                            },
                            "data": [
                                {
                                    "0": "0"
                                }
                            ]
                        },
                        "text/html": "<table><tr><th>last_verified_block_id</th></tr><tr><td>0</td></tr></table>"
                    },
                    "metadata": {}
                }
            ],
            "execution_count": 25
        },
        {
            "cell_type": "markdown",
            "source": [
                "## Let's tamper the data"
            ],
            "metadata": {
                "azdata_cell_guid": "d4210ee5-52d9-47fa-b676-a1554f24788b"
            },
            "attachments": {}
        },
        {
            "cell_type": "markdown",
            "source": [
                "DBA thinks he/she’s smart and tampers with the data directly into the page by using a stored procedure."
            ],
            "metadata": {
                "azdata_cell_guid": "703c9df6-e5c0-49e1-b841-522ebd5a088d"
            },
            "attachments": {}
        },
        {
            "cell_type": "code",
            "source": [
                "SELECT TOP 10 sys.fn_PhysLocFormatter(%%physloc%%) PageId, *\r\n",
                "FROM Shipments\r\n",
                "WHERE ShipmentID=312 --Copy the ID from the previous result set"
            ],
            "metadata": {
                "azdata_cell_guid": "8dc3c14a-a420-4d91-b7c4-6fba20736af5"
            },
            "outputs": [
                {
                    "output_type": "display_data",
                    "data": {
                        "text/html": "(1 row affected)"
                    },
                    "metadata": {}
                },
                {
                    "output_type": "display_data",
                    "data": {
                        "text/html": "Total execution time: 00:00:00.057"
                    },
                    "metadata": {}
                },
                {
                    "output_type": "execute_result",
                    "execution_count": 26,
                    "data": {
                        "application/vnd.dataresource+json": {
                            "schema": {
                                "fields": [
                                    {
                                        "name": "PageId"
                                    },
                                    {
                                        "name": "ShipmentID"
                                    },
                                    {
                                        "name": "ShipmentNumber"
                                    },
                                    {
                                        "name": "Responsibility"
                                    },
                                    {
                                        "name": "Temperature"
                                    },
                                    {
                                        "name": "OutOfCompliance"
                                    },
                                    {
                                        "name": "CountryName"
                                    },
                                    {
                                        "name": "LastModified"
                                    }
                                ]
                            },
                            "data": [
                                {
                                    "0": "(1:285:35)",
                                    "1": "312",
                                    "2": "95",
                                    "3": "Contoso East Shipping",
                                    "4": "10",
                                    "5": "1",
                                    "6": "Belgium",
                                    "7": "2021-07-03 12:36:57.0000000"
                                }
                            ]
                        },
                        "text/html": "<table><tr><th>PageId</th><th>ShipmentID</th><th>ShipmentNumber</th><th>Responsibility</th><th>Temperature</th><th>OutOfCompliance</th><th>CountryName</th><th>LastModified</th></tr><tr><td>(1:285:35)</td><td>312</td><td>95</td><td>Contoso East Shipping</td><td>10</td><td>1</td><td>Belgium</td><td>2021-07-03 12:36:57.0000000</td></tr></table>"
                    },
                    "metadata": {}
                }
            ],
            "execution_count": 26
        },
        {
            "cell_type": "code",
            "source": [
                "EXECUTE sp_TamperTemperature"
            ],
            "metadata": {
                "azdata_cell_guid": "4963b815-b14e-42b7-a0ee-59bbb40e98d8"
            },
            "outputs": [],
            "execution_count": null
        },
        {
            "cell_type": "markdown",
            "source": [
                "Show that the high temperature is gone"
            ],
            "metadata": {
                "azdata_cell_guid": "9aa4a76e-28fb-4d39-89a2-335b665606f3"
            },
            "attachments": {}
        },
        {
            "cell_type": "code",
            "source": [
                "SELECT * from Shipments\r\n",
                "WHERE OutOfCompliance=1"
            ],
            "metadata": {
                "azdata_cell_guid": "6f32bd7d-debf-4242-ac66-dc7f00257215"
            },
            "outputs": [
                {
                    "output_type": "display_data",
                    "data": {
                        "text/html": "(0 rows affected)"
                    },
                    "metadata": {}
                },
                {
                    "output_type": "display_data",
                    "data": {
                        "text/html": "Total execution time: 00:00:00.052"
                    },
                    "metadata": {}
                },
                {
                    "output_type": "execute_result",
                    "execution_count": 28,
                    "data": {
                        "application/vnd.dataresource+json": {
                            "schema": {
                                "fields": [
                                    {
                                        "name": "ShipmentID"
                                    },
                                    {
                                        "name": "ShipmentNumber"
                                    },
                                    {
                                        "name": "Responsibility"
                                    },
                                    {
                                        "name": "Temperature"
                                    },
                                    {
                                        "name": "OutOfCompliance"
                                    },
                                    {
                                        "name": "CountryName"
                                    },
                                    {
                                        "name": "LastModified"
                                    }
                                ]
                            },
                            "data": []
                        },
                        "text/html": "<table><tr><th>ShipmentID</th><th>ShipmentNumber</th><th>Responsibility</th><th>Temperature</th><th>OutOfCompliance</th><th>CountryName</th><th>LastModified</th></tr></table>"
                    },
                    "metadata": {}
                }
            ],
            "execution_count": 28
        },
        {
            "cell_type": "markdown",
            "source": [
                "## Verify the database again"
            ],
            "metadata": {
                "azdata_cell_guid": "309aba7a-bc54-4971-8e79-400b3933d906"
            },
            "attachments": {}
        },
        {
            "cell_type": "code",
            "source": [
                "EXECUTE [dbo].[sp_verify_Manual_Digest] 'F:\\Digests\\Digests.txt'"
            ],
            "metadata": {
                "azdata_cell_guid": "3020ef07-2e35-4a9f-abe4-afb3a55e5539"
            },
            "outputs": [
                {
                    "output_type": "error",
                    "ename": "",
                    "evalue": "Msg 37371, Level 16, State 1, Procedure sp_verify_database_ledger, Line 1\r\nThe computed hash from 'Shipments' and the associated history table does not match the hash persisted in sys.database_ledger_transactions for transaction 1413.",
                    "traceback": []
                },
                {
                    "output_type": "error",
                    "ename": "",
                    "evalue": "Msg 37392, Level 16, State 1, Procedure sp_verify_database_ledger, Line 1\r\nLedger verification failed.",
                    "traceback": []
                },
                {
                    "output_type": "display_data",
                    "data": {
                        "text/html": "Total execution time: 00:00:00.136"
                    },
                    "metadata": {}
                }
            ],
            "execution_count": 29
        },
        {
            "cell_type": "markdown",
            "source": [
                "## Review the history of the transaction"
            ],
            "metadata": {
                "azdata_cell_guid": "8a5a03e1-2306-41ec-be89-bc3065d65d30"
            },
            "attachments": {}
        },
        {
            "cell_type": "code",
            "source": [
                "SELECT\r\n",
                "\tt.[commit_time] AS [CommitTime] \r\n",
                "\t, t.[principal_name] AS [UserName]\r\n",
                "\t, l.[ShipmentID]\r\n",
                "\t, l.[ShipmentNumber]\r\n",
                "\t, l.[Responsibility]\r\n",
                "\t, l.[Temperature]\r\n",
                "\t, l.[OutOfCompliance]\r\n",
                "    , l.[CountryName]\r\n",
                "\t, l.[ledger_operation_type_desc] AS Operation\r\n",
                "\tFROM [dbo].[Shipments_Ledger] l\r\n",
                "\tJOIN [sys].[database_ledger_transactions] t\r\n",
                "\tON t.[transaction_id] = l.[ledger_transaction_id]\r\n",
                "\tWHERE t.transaction_id=1413;"
            ],
            "metadata": {
                "azdata_cell_guid": "d3bf1ca4-c66f-4ba8-a863-0811e120de51"
            },
            "outputs": [
                {
                    "output_type": "display_data",
                    "data": {
                        "text/html": "(1 row affected)"
                    },
                    "metadata": {}
                },
                {
                    "output_type": "display_data",
                    "data": {
                        "text/html": "Total execution time: 00:00:00.062"
                    },
                    "metadata": {}
                },
                {
                    "output_type": "execute_result",
                    "execution_count": 31,
                    "data": {
                        "application/vnd.dataresource+json": {
                            "schema": {
                                "fields": [
                                    {
                                        "name": "CommitTime"
                                    },
                                    {
                                        "name": "UserName"
                                    },
                                    {
                                        "name": "ShipmentID"
                                    },
                                    {
                                        "name": "ShipmentNumber"
                                    },
                                    {
                                        "name": "Responsibility"
                                    },
                                    {
                                        "name": "Temperature"
                                    },
                                    {
                                        "name": "OutOfCompliance"
                                    },
                                    {
                                        "name": "CountryName"
                                    },
                                    {
                                        "name": "Operation"
                                    }
                                ]
                            },
                            "data": [
                                {
                                    "0": "2022-04-14 08:58:43.2966667",
                                    "1": "PowerApp",
                                    "2": "312",
                                    "3": "95",
                                    "4": "Contoso East Shipping",
                                    "5": "-1",
                                    "6": "0",
                                    "7": "Belgium",
                                    "8": "INSERT"
                                }
                            ]
                        },
                        "text/html": "<table><tr><th>CommitTime</th><th>UserName</th><th>ShipmentID</th><th>ShipmentNumber</th><th>Responsibility</th><th>Temperature</th><th>OutOfCompliance</th><th>CountryName</th><th>Operation</th></tr><tr><td>2022-04-14 08:58:43.2966667</td><td>PowerApp</td><td>312</td><td>95</td><td>Contoso East Shipping</td><td>-1</td><td>0</td><td>Belgium</td><td>INSERT</td></tr></table>"
                    },
                    "metadata": {}
                }
            ],
            "execution_count": 31
        }
    ]
}