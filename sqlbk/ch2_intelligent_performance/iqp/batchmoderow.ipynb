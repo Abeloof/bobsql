{
    "metadata": {
        "kernelspec": {
            "name": "SQL",
            "display_name": "SQL",
            "language": "sql"
        },
        "language_info": {
            "name": "sql",
            "version": ""
        }
    },
    "nbformat_minor": 2,
    "nbformat": 4,
    "cells": [
        {
            "cell_type": "markdown",
            "source": "# Intelligent Query Processing: Batch Mode on Rowstore Example",
            "metadata": {}
        },
        {
            "cell_type": "markdown",
            "source": "## Step 1: Enable IQP\r\nChange the database compatibility mode to 150 to enable iQP for all queries for the WideWorldImportersDW database",
            "metadata": {}
        },
        {
            "cell_type": "code",
            "source": "-- Step 1: Enable IQP\r\n--\r\nUSE [master]\r\nGO\r\n-- First put the database in compatibility mode of SQL Server 2019 to enable IQP\r\nALTER DATABASE WideWorldImportersDW SET COMPATIBILITY_LEVEL = 150\r\nGO",
            "metadata": {},
            "outputs": [
                {
                    "output_type": "display_data",
                    "data": {
                        "text/html": "Commands completed successfully."
                    },
                    "metadata": {}
                },
                {
                    "output_type": "display_data",
                    "data": {
                        "text/html": "Total execution time: 00:00:00.0035625"
                    },
                    "metadata": {}
                },
                {
                    "output_type": "display_data",
                    "data": {
                        "text/html": "Commands completed successfully."
                    },
                    "metadata": {}
                },
                {
                    "output_type": "display_data",
                    "data": {
                        "text/html": "Total execution time: 00:00:00.0163720"
                    },
                    "metadata": {}
                }
            ],
            "execution_count": 1
        },
        {
            "cell_type": "markdown",
            "source": "## Step 2: Warm the cache\r\nTo make any query comparison fair let load up the pages for the QueryHhistorExtended table into cache so each query can access data from the buffer pool. Note the table has around 30M rows.\r\n",
            "metadata": {}
        },
        {
            "cell_type": "code",
            "source": "-- Step 2: Warm the cache\r\n--\r\nUSE [WideWorldImportersDW]\r\nGO\r\n-- Warm the cache to give each query the same fair chance\r\nSELECT COUNT(*) FROM Fact.OrderHistoryExtended\r\nGO",
            "metadata": {},
            "outputs": [
                {
                    "output_type": "display_data",
                    "data": {
                        "text/html": "Commands completed successfully."
                    },
                    "metadata": {}
                },
                {
                    "output_type": "display_data",
                    "data": {
                        "text/html": "Total execution time: 00:00:00.0020707"
                    },
                    "metadata": {}
                },
                {
                    "output_type": "display_data",
                    "data": {
                        "text/html": "(1 row affected)"
                    },
                    "metadata": {}
                },
                {
                    "output_type": "display_data",
                    "data": {
                        "text/html": "Total execution time: 00:00:00.3560125"
                    },
                    "metadata": {}
                },
                {
                    "output_type": "execute_result",
                    "metadata": {},
                    "execution_count": 1,
                    "data": {
                        "application/vnd.dataresource+json": {
                            "schema": {
                                "fields": [
                                    {
                                        "name": "(No column name)"
                                    }
                                ]
                            },
                            "data": [
                                {
                                    "0": "29620736"
                                }
                            ]
                        },
                        "text/html": "<table><tr><th>(No column name)</th></tr><tr><td>29620736</td></tr></table>"
                    }
                }
            ],
            "execution_count": 1
        },
        {
            "cell_type": "markdown",
            "source": "## Step 3: Disable batch mode for rowstore with ALTER DATABASE\r\nScope the database to now allow batch mode for row store indexes",
            "metadata": {}
        },
        {
            "cell_type": "code",
            "source": "-- Step 3: Disable batch mode for rowstore with ALTER DATABASE\r\n-- Scope the database to not allow batch mode for row store indexes\r\nALTER DATABASE SCOPED CONFIGURATION SET BATCH_MODE_ON_ROWSTORE = OFF\r\nGO",
            "metadata": {},
            "outputs": [
                {
                    "output_type": "display_data",
                    "data": {
                        "text/html": "Commands completed successfully."
                    },
                    "metadata": {}
                },
                {
                    "output_type": "display_data",
                    "data": {
                        "text/html": "Total execution time: 00:00:00.0060654"
                    },
                    "metadata": {}
                }
            ],
            "execution_count": 2
        },
        {
            "cell_type": "markdown",
            "source": "## Step 4: Run a query that on a multi-CPU machine should use a parallel plan and scan\r\nHere is a typical \"analytical\" query use aggegration and GROUP BY against a large set of rows. There is  WHERE clause but it is a \"range\" query meaning a larger number of rows qualify. Notice the SET STATISTICS XML option turned on for the query to get the actual execution plan after it completes. This query should run in about 5 seconds.",
            "metadata": {}
        },
        {
            "cell_type": "code",
            "source": "-- Step 4: Run a query that on a multi-CPU machine should use a parallel plan and scan\r\n-- Run with STATISTICS XML so the plan can be examined after query execution. On my computer\r\n-- this takes about 5 seconds.\r\nSET STATISTICS XML ON\r\nGO\r\nSELECT [Tax Rate], [Lineage Key], [Salesperson Key], SUM(Quantity) AS SUM_QTY, \r\nSUM([Unit Price]) AS SUM_BASE_PRICE, COUNT(*) AS COUNT_ORDER\r\nFROM Fact.OrderHistoryExtended\r\nWHERE [Order Date Key]<=DATEADD(dd, -73, '2015-11-13')\r\nGROUP BY [Tax Rate], [Lineage Key], [Salesperson Key]\r\nORDER BY [Tax Rate], [Lineage Key], [Salesperson Key]\r\nGO\r\nSET STATISTICS XML OFF\r\nGO",
            "metadata": {},
            "outputs": [
                {
                    "output_type": "display_data",
                    "data": {
                        "text/html": "Commands completed successfully."
                    },
                    "metadata": {}
                },
                {
                    "output_type": "display_data",
                    "data": {
                        "text/html": "Total execution time: 00:00:00.0019052"
                    },
                    "metadata": {}
                },
                {
                    "output_type": "display_data",
                    "data": {
                        "text/html": "(100 rows affected)"
                    },
                    "metadata": {}
                },
                {
                    "output_type": "display_data",
                    "data": {
                        "text/html": "(1 row affected)"
                    },
                    "metadata": {}
                },
                {
                    "output_type": "display_data",
                    "data": {
                        "text/html": "Total execution time: 00:00:04.9871230"
                    },
                    "metadata": {}
                },
                {
                    "output_type": "display_data",
                    "data": {
                        "text/html": "Commands completed successfully."
                    },
                    "metadata": {}
                },
                {
                    "output_type": "display_data",
                    "data": {
                        "text/html": "Total execution time: 00:00:00.0010252"
                    },
                    "metadata": {}
                },
                {
                    "output_type": "execute_result",
                    "metadata": {},
                    "execution_count": 3,
                    "data": {
                        "application/vnd.dataresource+json": {
                            "schema": {
                                "fields": [
                                    {
                                        "name": "Tax Rate"
                                    },
                                    {
                                        "name": "Lineage Key"
                                    },
                                    {
                                        "name": "Salesperson Key"
                                    },
                                    {
                                        "name": "SUM_QTY"
                                    },
                                    {
                                        "name": "SUM_BASE_PRICE"
                                    },
                                    {
                                        "name": "COUNT_ORDER"
                                    }
                                ]
                            },
                            "data": [
                                {
                                    "0": "15.000",
                                    "1": "9",
                                    "2": "4",
                                    "3": "433280",
                                    "4": "243367.68",
                                    "5": "9216"
                                },
                                {
                                    "0": "15.000",
                                    "1": "9",
                                    "2": "6",
                                    "3": "836480",
                                    "4": "543988.48",
                                    "5": "18432"
                                },
                                {
                                    "0": "15.000",
                                    "1": "9",
                                    "2": "7",
                                    "3": "724480",
                                    "4": "846118.40",
                                    "5": "24576"
                                },
                                {
                                    "0": "15.000",
                                    "1": "9",
                                    "2": "8",
                                    "3": "862080",
                                    "4": "1028780.80",
                                    "5": "22144"
                                },
                                {
                                    "0": "15.000",
                                    "1": "9",
                                    "2": "9",
                                    "3": "1101056",
                                    "4": "924917.76",
                                    "5": "28928"
                                },
                                {
                                    "0": "15.000",
                                    "1": "9",
                                    "2": "11",
                                    "3": "2279296",
                                    "4": "3886913.28",
                                    "5": "62848"
                                },
                                {
                                    "0": "15.000",
                                    "1": "9",
                                    "2": "12",
                                    "3": "3262592",
                                    "4": "3852878.08",
                                    "5": "85888"
                                },
                                {
                                    "0": "15.000",
                                    "1": "9",
                                    "2": "15",
                                    "3": "5484800",
                                    "4": "6343098.88",
                                    "5": "144256"
                                },
                                {
                                    "0": "15.000",
                                    "1": "9",
                                    "2": "19",
                                    "3": "91831040",
                                    "4": "107590420.48",
                                    "5": "2310528"
                                },
                                {
                                    "0": "15.000",
                                    "1": "9",
                                    "2": "21",
                                    "3": "1240960",
                                    "4": "2060285.44",
                                    "5": "37632"
                                },
                                {
                                    "0": "15.000",
                                    "1": "9",
                                    "2": "23",
                                    "3": "1003520",
                                    "4": "1541052.16",
                                    "5": "29696"
                                },
                                {
                                    "0": "15.000",
                                    "1": "9",
                                    "2": "25",
                                    "3": "2986624",
                                    "4": "2914885.12",
                                    "5": "73344"
                                },
                                {
                                    "0": "15.000",
                                    "1": "9",
                                    "2": "26",
                                    "3": "497536",
                                    "4": "725172.48",
                                    "5": "12416"
                                },
                                {
                                    "0": "15.000",
                                    "1": "9",
                                    "2": "27",
                                    "3": "598016",
                                    "4": "798522.88",
                                    "5": "14592"
                                },
                                {
                                    "0": "15.000",
                                    "1": "9",
                                    "2": "28",
                                    "3": "1233152",
                                    "4": "1474490.88",
                                    "5": "31488"
                                },
                                {
                                    "0": "15.000",
                                    "1": "9",
                                    "2": "29",
                                    "3": "387968",
                                    "4": "304568.32",
                                    "5": "10880"
                                },
                                {
                                    "0": "15.000",
                                    "1": "9",
                                    "2": "30",
                                    "3": "1549312",
                                    "4": "2156144.64",
                                    "5": "47232"
                                },
                                {
                                    "0": "15.000",
                                    "1": "9",
                                    "2": "31",
                                    "3": "2215296",
                                    "4": "2227068.16",
                                    "5": "50560"
                                },
                                {
                                    "0": "15.000",
                                    "1": "9",
                                    "2": "35",
                                    "3": "2724736",
                                    "4": "3383616.00",
                                    "5": "72960"
                                },
                                {
                                    "0": "15.000",
                                    "1": "9",
                                    "2": "36",
                                    "3": "11016320",
                                    "4": "12551537.92",
                                    "5": "276992"
                                },
                                {
                                    "0": "15.000",
                                    "1": "9",
                                    "2": "38",
                                    "3": "1519744",
                                    "4": "1955315.20",
                                    "5": "39552"
                                },
                                {
                                    "0": "15.000",
                                    "1": "9",
                                    "2": "39",
                                    "3": "31888384",
                                    "4": "34617245.44",
                                    "5": "785664"
                                },
                                {
                                    "0": "15.000",
                                    "1": "9",
                                    "2": "40",
                                    "3": "6807424",
                                    "4": "7944593.92",
                                    "5": "176896"
                                },
                                {
                                    "0": "15.000",
                                    "1": "9",
                                    "2": "41",
                                    "3": "2219136",
                                    "4": "3174849.28",
                                    "5": "63232"
                                },
                                {
                                    "0": "15.000",
                                    "1": "9",
                                    "2": "45",
                                    "3": "338176",
                                    "4": "382839.04",
                                    "5": "7808"
                                },
                                {
                                    "0": "15.000",
                                    "1": "9",
                                    "2": "46",
                                    "3": "112128",
                                    "4": "111915.52",
                                    "5": "2176"
                                },
                                {
                                    "0": "15.000",
                                    "1": "9",
                                    "2": "47",
                                    "3": "3255680",
                                    "4": "2629954.56",
                                    "5": "75776"
                                },
                                {
                                    "0": "15.000",
                                    "1": "9",
                                    "2": "48",
                                    "3": "2595968",
                                    "4": "2310150.40",
                                    "5": "60928"
                                },
                                {
                                    "0": "15.000",
                                    "1": "9",
                                    "2": "49",
                                    "3": "14758528",
                                    "4": "17928881.92",
                                    "5": "368768"
                                },
                                {
                                    "0": "15.000",
                                    "1": "9",
                                    "2": "50",
                                    "3": "804352",
                                    "4": "926225.92",
                                    "5": "19968"
                                },
                                {
                                    "0": "15.000",
                                    "1": "9",
                                    "2": "51",
                                    "3": "4007808",
                                    "4": "4360591.36",
                                    "5": "97408"
                                },
                                {
                                    "0": "15.000",
                                    "1": "9",
                                    "2": "52",
                                    "3": "5863424",
                                    "4": "7464648.96",
                                    "5": "156160"
                                },
                                {
                                    "0": "15.000",
                                    "1": "9",
                                    "2": "54",
                                    "3": "2736768",
                                    "4": "3351491.84",
                                    "5": "72320"
                                },
                                {
                                    "0": "15.000",
                                    "1": "9",
                                    "2": "56",
                                    "3": "285824",
                                    "4": "253144.32",
                                    "5": "7552"
                                },
                                {
                                    "0": "15.000",
                                    "1": "9",
                                    "2": "57",
                                    "3": "2298240",
                                    "4": "2447610.88",
                                    "5": "58240"
                                },
                                {
                                    "0": "15.000",
                                    "1": "9",
                                    "2": "58",
                                    "3": "2144768",
                                    "4": "1723477.76",
                                    "5": "50048"
                                },
                                {
                                    "0": "15.000",
                                    "1": "9",
                                    "2": "61",
                                    "3": "3732224",
                                    "4": "4086886.40",
                                    "5": "86016"
                                },
                                {
                                    "0": "15.000",
                                    "1": "9",
                                    "2": "62",
                                    "3": "12672128",
                                    "4": "13904339.20",
                                    "5": "304000"
                                },
                                {
                                    "0": "15.000",
                                    "1": "9",
                                    "2": "63",
                                    "3": "10126208",
                                    "4": "10138237.44",
                                    "5": "243200"
                                },
                                {
                                    "0": "15.000",
                                    "1": "9",
                                    "2": "65",
                                    "3": "6787456",
                                    "4": "7473853.44",
                                    "5": "171136"
                                },
                                {
                                    "0": "15.000",
                                    "1": "9",
                                    "2": "68",
                                    "3": "4638720",
                                    "4": "4848647.68",
                                    "5": "107008"
                                },
                                {
                                    "0": "15.000",
                                    "1": "9",
                                    "2": "70",
                                    "3": "14884864",
                                    "4": "16764665.60",
                                    "5": "379776"
                                },
                                {
                                    "0": "15.000",
                                    "1": "9",
                                    "2": "72",
                                    "3": "2565888",
                                    "4": "2336160.00",
                                    "5": "55936"
                                },
                                {
                                    "0": "15.000",
                                    "1": "9",
                                    "2": "74",
                                    "3": "15317888",
                                    "4": "19187417.60",
                                    "5": "384768"
                                },
                                {
                                    "0": "15.000",
                                    "1": "9",
                                    "2": "76",
                                    "3": "6481280",
                                    "4": "8637446.40",
                                    "5": "169088"
                                },
                                {
                                    "0": "15.000",
                                    "1": "9",
                                    "2": "77",
                                    "3": "7128320",
                                    "4": "7693249.28",
                                    "5": "169984"
                                },
                                {
                                    "0": "15.000",
                                    "1": "9",
                                    "2": "78",
                                    "3": "5061376",
                                    "4": "5629213.44",
                                    "5": "121856"
                                },
                                {
                                    "0": "15.000",
                                    "1": "9",
                                    "2": "80",
                                    "3": "7743104",
                                    "4": "8722903.04",
                                    "5": "203264"
                                },
                                {
                                    "0": "15.000",
                                    "1": "9",
                                    "2": "81",
                                    "3": "28808064",
                                    "4": "32882525.44",
                                    "5": "706048"
                                },
                                {
                                    "0": "15.000",
                                    "1": "9",
                                    "2": "83",
                                    "3": "12662272",
                                    "4": "14586407.68",
                                    "5": "330880"
                                },
                                {
                                    "0": "15.000",
                                    "1": "9",
                                    "2": "84",
                                    "3": "6509184",
                                    "4": "8482062.08",
                                    "5": "169856"
                                },
                                {
                                    "0": "15.000",
                                    "1": "9",
                                    "2": "85",
                                    "3": "4782592",
                                    "4": "4991431.68",
                                    "5": "116864"
                                },
                                {
                                    "0": "15.000",
                                    "1": "9",
                                    "2": "86",
                                    "3": "27021696",
                                    "4": "30225996.80",
                                    "5": "682624"
                                },
                                {
                                    "0": "15.000",
                                    "1": "9",
                                    "2": "89",
                                    "3": "1578752",
                                    "4": "2027873.28",
                                    "5": "36096"
                                },
                                {
                                    "0": "15.000",
                                    "1": "9",
                                    "2": "90",
                                    "3": "33806464",
                                    "4": "39663014.40",
                                    "5": "856704"
                                },
                                {
                                    "0": "15.000",
                                    "1": "9",
                                    "2": "91",
                                    "3": "4442752",
                                    "4": "5842634.24",
                                    "5": "112768"
                                },
                                {
                                    "0": "15.000",
                                    "1": "9",
                                    "2": "93",
                                    "3": "28200192",
                                    "4": "33006179.84",
                                    "5": "713984"
                                },
                                {
                                    "0": "15.000",
                                    "1": "9",
                                    "2": "94",
                                    "3": "12681600",
                                    "4": "13601986.56",
                                    "5": "303232"
                                },
                                {
                                    "0": "15.000",
                                    "1": "9",
                                    "2": "96",
                                    "3": "666624",
                                    "4": "473141.76",
                                    "5": "14464"
                                },
                                {
                                    "0": "15.000",
                                    "1": "9",
                                    "2": "97",
                                    "3": "11993088",
                                    "4": "13300569.60",
                                    "5": "303104"
                                },
                                {
                                    "0": "15.000",
                                    "1": "9",
                                    "2": "101",
                                    "3": "7575168",
                                    "4": "7600646.40",
                                    "5": "196992"
                                },
                                {
                                    "0": "15.000",
                                    "1": "9",
                                    "2": "102",
                                    "3": "27441920",
                                    "4": "33995997.44",
                                    "5": "703872"
                                },
                                {
                                    "0": "15.000",
                                    "1": "9",
                                    "2": "103",
                                    "3": "7057280",
                                    "4": "8503637.76",
                                    "5": "185088"
                                },
                                {
                                    "0": "15.000",
                                    "1": "9",
                                    "2": "105",
                                    "3": "29710848",
                                    "4": "34073157.12",
                                    "5": "735872"
                                },
                                {
                                    "0": "15.000",
                                    "1": "9",
                                    "2": "106",
                                    "3": "8104704",
                                    "4": "9812775.68",
                                    "5": "220416"
                                },
                                {
                                    "0": "15.000",
                                    "1": "9",
                                    "2": "107",
                                    "3": "2590464",
                                    "4": "3028149.76",
                                    "5": "61952"
                                },
                                {
                                    "0": "15.000",
                                    "1": "9",
                                    "2": "108",
                                    "3": "40156160",
                                    "4": "45593496.32",
                                    "5": "1001600"
                                },
                                {
                                    "0": "15.000",
                                    "1": "9",
                                    "2": "115",
                                    "3": "2452096",
                                    "4": "2226137.60",
                                    "5": "60800"
                                },
                                {
                                    "0": "15.000",
                                    "1": "9",
                                    "2": "116",
                                    "3": "23243392",
                                    "4": "24868823.04",
                                    "5": "564736"
                                },
                                {
                                    "0": "15.000",
                                    "1": "9",
                                    "2": "118",
                                    "3": "14240128",
                                    "4": "15111184.64",
                                    "5": "353408"
                                },
                                {
                                    "0": "15.000",
                                    "1": "9",
                                    "2": "119",
                                    "3": "40846720",
                                    "4": "45264224.00",
                                    "5": "1027456"
                                },
                                {
                                    "0": "15.000",
                                    "1": "9",
                                    "2": "122",
                                    "3": "6732544",
                                    "4": "7716145.92",
                                    "5": "164992"
                                },
                                {
                                    "0": "15.000",
                                    "1": "9",
                                    "2": "126",
                                    "3": "7082880",
                                    "4": "8110862.08",
                                    "5": "171008"
                                },
                                {
                                    "0": "15.000",
                                    "1": "9",
                                    "2": "127",
                                    "3": "24211712",
                                    "4": "28525308.16",
                                    "5": "616576"
                                },
                                {
                                    "0": "15.000",
                                    "1": "9",
                                    "2": "129",
                                    "3": "31437312",
                                    "4": "34298964.48",
                                    "5": "767488"
                                },
                                {
                                    "0": "15.000",
                                    "1": "9",
                                    "2": "130",
                                    "3": "390272",
                                    "4": "315754.24",
                                    "5": "10880"
                                },
                                {
                                    "0": "15.000",
                                    "1": "9",
                                    "2": "134",
                                    "3": "19598208",
                                    "4": "22598796.80",
                                    "5": "491520"
                                },
                                {
                                    "0": "15.000",
                                    "1": "9",
                                    "2": "136",
                                    "3": "357248",
                                    "4": "296313.60",
                                    "5": "9856"
                                },
                                {
                                    "0": "15.000",
                                    "1": "9",
                                    "2": "138",
                                    "3": "4697088",
                                    "4": "5400261.12",
                                    "5": "118144"
                                },
                                {
                                    "0": "15.000",
                                    "1": "9",
                                    "2": "140",
                                    "3": "17321984",
                                    "4": "19747557.12",
                                    "5": "433280"
                                },
                                {
                                    "0": "15.000",
                                    "1": "9",
                                    "2": "143",
                                    "3": "22007296",
                                    "4": "26812788.48",
                                    "5": "567040"
                                },
                                {
                                    "0": "15.000",
                                    "1": "9",
                                    "2": "144",
                                    "3": "7777664",
                                    "4": "9402172.16",
                                    "5": "193152"
                                },
                                {
                                    "0": "15.000",
                                    "1": "9",
                                    "2": "145",
                                    "3": "15399680",
                                    "4": "17946855.68",
                                    "5": "388096"
                                },
                                {
                                    "0": "15.000",
                                    "1": "9",
                                    "2": "149",
                                    "3": "2256896",
                                    "4": "2663919.36",
                                    "5": "60416"
                                },
                                {
                                    "0": "15.000",
                                    "1": "9",
                                    "2": "150",
                                    "3": "10869632",
                                    "4": "12971114.24",
                                    "5": "281344"
                                },
                                {
                                    "0": "15.000",
                                    "1": "9",
                                    "2": "151",
                                    "3": "11137920",
                                    "4": "11154696.96",
                                    "5": "269568"
                                },
                                {
                                    "0": "15.000",
                                    "1": "9",
                                    "2": "152",
                                    "3": "11700480",
                                    "4": "13719448.32",
                                    "5": "285056"
                                },
                                {
                                    "0": "15.000",
                                    "1": "9",
                                    "2": "154",
                                    "3": "8281344",
                                    "4": "8556992.00",
                                    "5": "212864"
                                },
                                {
                                    "0": "15.000",
                                    "1": "9",
                                    "2": "155",
                                    "3": "8951424",
                                    "4": "9563397.12",
                                    "5": "219264"
                                },
                                {
                                    "0": "15.000",
                                    "1": "9",
                                    "2": "156",
                                    "3": "6004608",
                                    "4": "5900654.08",
                                    "5": "152192"
                                },
                                {
                                    "0": "15.000",
                                    "1": "9",
                                    "2": "158",
                                    "3": "500480",
                                    "4": "65113.60",
                                    "5": "4352"
                                },
                                {
                                    "0": "15.000",
                                    "1": "9",
                                    "2": "161",
                                    "3": "253952",
                                    "4": "56025.60",
                                    "5": "2816"
                                },
                                {
                                    "0": "15.000",
                                    "1": "9",
                                    "2": "163",
                                    "3": "248320",
                                    "4": "48179.20",
                                    "5": "2688"
                                },
                                {
                                    "0": "15.000",
                                    "1": "9",
                                    "2": "165",
                                    "3": "102016",
                                    "4": "12416.00",
                                    "5": "896"
                                },
                                {
                                    "0": "15.000",
                                    "1": "9",
                                    "2": "167",
                                    "3": "16896",
                                    "4": "4608.00",
                                    "5": "256"
                                },
                                {
                                    "0": "15.000",
                                    "1": "9",
                                    "2": "168",
                                    "3": "141184",
                                    "4": "21619.20",
                                    "5": "1408"
                                },
                                {
                                    "0": "15.000",
                                    "1": "9",
                                    "2": "170",
                                    "3": "75776",
                                    "4": "13760.00",
                                    "5": "768"
                                },
                                {
                                    "0": "15.000",
                                    "1": "9",
                                    "2": "171",
                                    "3": "112512",
                                    "4": "14681.60",
                                    "5": "1024"
                                },
                                {
                                    "0": "15.000",
                                    "1": "9",
                                    "2": "172",
                                    "3": "77824",
                                    "4": "10137.60",
                                    "5": "768"
                                },
                                {
                                    "0": "15.000",
                                    "1": "9",
                                    "2": "174",
                                    "3": "7680",
                                    "4": "2304.00",
                                    "5": "128"
                                }
                            ]
                        },
                        "text/html": "<table><tr><th>Tax Rate</th><th>Lineage Key</th><th>Salesperson Key</th><th>SUM_QTY</th><th>SUM_BASE_PRICE</th><th>COUNT_ORDER</th></tr><tr><td>15.000</td><td>9</td><td>4</td><td>433280</td><td>243367.68</td><td>9216</td></tr><tr><td>15.000</td><td>9</td><td>6</td><td>836480</td><td>543988.48</td><td>18432</td></tr><tr><td>15.000</td><td>9</td><td>7</td><td>724480</td><td>846118.40</td><td>24576</td></tr><tr><td>15.000</td><td>9</td><td>8</td><td>862080</td><td>1028780.80</td><td>22144</td></tr><tr><td>15.000</td><td>9</td><td>9</td><td>1101056</td><td>924917.76</td><td>28928</td></tr><tr><td>15.000</td><td>9</td><td>11</td><td>2279296</td><td>3886913.28</td><td>62848</td></tr><tr><td>15.000</td><td>9</td><td>12</td><td>3262592</td><td>3852878.08</td><td>85888</td></tr><tr><td>15.000</td><td>9</td><td>15</td><td>5484800</td><td>6343098.88</td><td>144256</td></tr><tr><td>15.000</td><td>9</td><td>19</td><td>91831040</td><td>107590420.48</td><td>2310528</td></tr><tr><td>15.000</td><td>9</td><td>21</td><td>1240960</td><td>2060285.44</td><td>37632</td></tr><tr><td>15.000</td><td>9</td><td>23</td><td>1003520</td><td>1541052.16</td><td>29696</td></tr><tr><td>15.000</td><td>9</td><td>25</td><td>2986624</td><td>2914885.12</td><td>73344</td></tr><tr><td>15.000</td><td>9</td><td>26</td><td>497536</td><td>725172.48</td><td>12416</td></tr><tr><td>15.000</td><td>9</td><td>27</td><td>598016</td><td>798522.88</td><td>14592</td></tr><tr><td>15.000</td><td>9</td><td>28</td><td>1233152</td><td>1474490.88</td><td>31488</td></tr><tr><td>15.000</td><td>9</td><td>29</td><td>387968</td><td>304568.32</td><td>10880</td></tr><tr><td>15.000</td><td>9</td><td>30</td><td>1549312</td><td>2156144.64</td><td>47232</td></tr><tr><td>15.000</td><td>9</td><td>31</td><td>2215296</td><td>2227068.16</td><td>50560</td></tr><tr><td>15.000</td><td>9</td><td>35</td><td>2724736</td><td>3383616.00</td><td>72960</td></tr><tr><td>15.000</td><td>9</td><td>36</td><td>11016320</td><td>12551537.92</td><td>276992</td></tr><tr><td>15.000</td><td>9</td><td>38</td><td>1519744</td><td>1955315.20</td><td>39552</td></tr><tr><td>15.000</td><td>9</td><td>39</td><td>31888384</td><td>34617245.44</td><td>785664</td></tr><tr><td>15.000</td><td>9</td><td>40</td><td>6807424</td><td>7944593.92</td><td>176896</td></tr><tr><td>15.000</td><td>9</td><td>41</td><td>2219136</td><td>3174849.28</td><td>63232</td></tr><tr><td>15.000</td><td>9</td><td>45</td><td>338176</td><td>382839.04</td><td>7808</td></tr><tr><td>15.000</td><td>9</td><td>46</td><td>112128</td><td>111915.52</td><td>2176</td></tr><tr><td>15.000</td><td>9</td><td>47</td><td>3255680</td><td>2629954.56</td><td>75776</td></tr><tr><td>15.000</td><td>9</td><td>48</td><td>2595968</td><td>2310150.40</td><td>60928</td></tr><tr><td>15.000</td><td>9</td><td>49</td><td>14758528</td><td>17928881.92</td><td>368768</td></tr><tr><td>15.000</td><td>9</td><td>50</td><td>804352</td><td>926225.92</td><td>19968</td></tr><tr><td>15.000</td><td>9</td><td>51</td><td>4007808</td><td>4360591.36</td><td>97408</td></tr><tr><td>15.000</td><td>9</td><td>52</td><td>5863424</td><td>7464648.96</td><td>156160</td></tr><tr><td>15.000</td><td>9</td><td>54</td><td>2736768</td><td>3351491.84</td><td>72320</td></tr><tr><td>15.000</td><td>9</td><td>56</td><td>285824</td><td>253144.32</td><td>7552</td></tr><tr><td>15.000</td><td>9</td><td>57</td><td>2298240</td><td>2447610.88</td><td>58240</td></tr><tr><td>15.000</td><td>9</td><td>58</td><td>2144768</td><td>1723477.76</td><td>50048</td></tr><tr><td>15.000</td><td>9</td><td>61</td><td>3732224</td><td>4086886.40</td><td>86016</td></tr><tr><td>15.000</td><td>9</td><td>62</td><td>12672128</td><td>13904339.20</td><td>304000</td></tr><tr><td>15.000</td><td>9</td><td>63</td><td>10126208</td><td>10138237.44</td><td>243200</td></tr><tr><td>15.000</td><td>9</td><td>65</td><td>6787456</td><td>7473853.44</td><td>171136</td></tr><tr><td>15.000</td><td>9</td><td>68</td><td>4638720</td><td>4848647.68</td><td>107008</td></tr><tr><td>15.000</td><td>9</td><td>70</td><td>14884864</td><td>16764665.60</td><td>379776</td></tr><tr><td>15.000</td><td>9</td><td>72</td><td>2565888</td><td>2336160.00</td><td>55936</td></tr><tr><td>15.000</td><td>9</td><td>74</td><td>15317888</td><td>19187417.60</td><td>384768</td></tr><tr><td>15.000</td><td>9</td><td>76</td><td>6481280</td><td>8637446.40</td><td>169088</td></tr><tr><td>15.000</td><td>9</td><td>77</td><td>7128320</td><td>7693249.28</td><td>169984</td></tr><tr><td>15.000</td><td>9</td><td>78</td><td>5061376</td><td>5629213.44</td><td>121856</td></tr><tr><td>15.000</td><td>9</td><td>80</td><td>7743104</td><td>8722903.04</td><td>203264</td></tr><tr><td>15.000</td><td>9</td><td>81</td><td>28808064</td><td>32882525.44</td><td>706048</td></tr><tr><td>15.000</td><td>9</td><td>83</td><td>12662272</td><td>14586407.68</td><td>330880</td></tr><tr><td>15.000</td><td>9</td><td>84</td><td>6509184</td><td>8482062.08</td><td>169856</td></tr><tr><td>15.000</td><td>9</td><td>85</td><td>4782592</td><td>4991431.68</td><td>116864</td></tr><tr><td>15.000</td><td>9</td><td>86</td><td>27021696</td><td>30225996.80</td><td>682624</td></tr><tr><td>15.000</td><td>9</td><td>89</td><td>1578752</td><td>2027873.28</td><td>36096</td></tr><tr><td>15.000</td><td>9</td><td>90</td><td>33806464</td><td>39663014.40</td><td>856704</td></tr><tr><td>15.000</td><td>9</td><td>91</td><td>4442752</td><td>5842634.24</td><td>112768</td></tr><tr><td>15.000</td><td>9</td><td>93</td><td>28200192</td><td>33006179.84</td><td>713984</td></tr><tr><td>15.000</td><td>9</td><td>94</td><td>12681600</td><td>13601986.56</td><td>303232</td></tr><tr><td>15.000</td><td>9</td><td>96</td><td>666624</td><td>473141.76</td><td>14464</td></tr><tr><td>15.000</td><td>9</td><td>97</td><td>11993088</td><td>13300569.60</td><td>303104</td></tr><tr><td>15.000</td><td>9</td><td>101</td><td>7575168</td><td>7600646.40</td><td>196992</td></tr><tr><td>15.000</td><td>9</td><td>102</td><td>27441920</td><td>33995997.44</td><td>703872</td></tr><tr><td>15.000</td><td>9</td><td>103</td><td>7057280</td><td>8503637.76</td><td>185088</td></tr><tr><td>15.000</td><td>9</td><td>105</td><td>29710848</td><td>34073157.12</td><td>735872</td></tr><tr><td>15.000</td><td>9</td><td>106</td><td>8104704</td><td>9812775.68</td><td>220416</td></tr><tr><td>15.000</td><td>9</td><td>107</td><td>2590464</td><td>3028149.76</td><td>61952</td></tr><tr><td>15.000</td><td>9</td><td>108</td><td>40156160</td><td>45593496.32</td><td>1001600</td></tr><tr><td>15.000</td><td>9</td><td>115</td><td>2452096</td><td>2226137.60</td><td>60800</td></tr><tr><td>15.000</td><td>9</td><td>116</td><td>23243392</td><td>24868823.04</td><td>564736</td></tr><tr><td>15.000</td><td>9</td><td>118</td><td>14240128</td><td>15111184.64</td><td>353408</td></tr><tr><td>15.000</td><td>9</td><td>119</td><td>40846720</td><td>45264224.00</td><td>1027456</td></tr><tr><td>15.000</td><td>9</td><td>122</td><td>6732544</td><td>7716145.92</td><td>164992</td></tr><tr><td>15.000</td><td>9</td><td>126</td><td>7082880</td><td>8110862.08</td><td>171008</td></tr><tr><td>15.000</td><td>9</td><td>127</td><td>24211712</td><td>28525308.16</td><td>616576</td></tr><tr><td>15.000</td><td>9</td><td>129</td><td>31437312</td><td>34298964.48</td><td>767488</td></tr><tr><td>15.000</td><td>9</td><td>130</td><td>390272</td><td>315754.24</td><td>10880</td></tr><tr><td>15.000</td><td>9</td><td>134</td><td>19598208</td><td>22598796.80</td><td>491520</td></tr><tr><td>15.000</td><td>9</td><td>136</td><td>357248</td><td>296313.60</td><td>9856</td></tr><tr><td>15.000</td><td>9</td><td>138</td><td>4697088</td><td>5400261.12</td><td>118144</td></tr><tr><td>15.000</td><td>9</td><td>140</td><td>17321984</td><td>19747557.12</td><td>433280</td></tr><tr><td>15.000</td><td>9</td><td>143</td><td>22007296</td><td>26812788.48</td><td>567040</td></tr><tr><td>15.000</td><td>9</td><td>144</td><td>7777664</td><td>9402172.16</td><td>193152</td></tr><tr><td>15.000</td><td>9</td><td>145</td><td>15399680</td><td>17946855.68</td><td>388096</td></tr><tr><td>15.000</td><td>9</td><td>149</td><td>2256896</td><td>2663919.36</td><td>60416</td></tr><tr><td>15.000</td><td>9</td><td>150</td><td>10869632</td><td>12971114.24</td><td>281344</td></tr><tr><td>15.000</td><td>9</td><td>151</td><td>11137920</td><td>11154696.96</td><td>269568</td></tr><tr><td>15.000</td><td>9</td><td>152</td><td>11700480</td><td>13719448.32</td><td>285056</td></tr><tr><td>15.000</td><td>9</td><td>154</td><td>8281344</td><td>8556992.00</td><td>212864</td></tr><tr><td>15.000</td><td>9</td><td>155</td><td>8951424</td><td>9563397.12</td><td>219264</td></tr><tr><td>15.000</td><td>9</td><td>156</td><td>6004608</td><td>5900654.08</td><td>152192</td></tr><tr><td>15.000</td><td>9</td><td>158</td><td>500480</td><td>65113.60</td><td>4352</td></tr><tr><td>15.000</td><td>9</td><td>161</td><td>253952</td><td>56025.60</td><td>2816</td></tr><tr><td>15.000</td><td>9</td><td>163</td><td>248320</td><td>48179.20</td><td>2688</td></tr><tr><td>15.000</td><td>9</td><td>165</td><td>102016</td><td>12416.00</td><td>896</td></tr><tr><td>15.000</td><td>9</td><td>167</td><td>16896</td><td>4608.00</td><td>256</td></tr><tr><td>15.000</td><td>9</td><td>168</td><td>141184</td><td>21619.20</td><td>1408</td></tr><tr><td>15.000</td><td>9</td><td>170</td><td>75776</td><td>13760.00</td><td>768</td></tr><tr><td>15.000</td><td>9</td><td>171</td><td>112512</td><td>14681.60</td><td>1024</td></tr><tr><td>15.000</td><td>9</td><td>172</td><td>77824</td><td>10137.60</td><td>768</td></tr><tr><td>15.000</td><td>9</td><td>174</td><td>7680</td><td>2304.00</td><td>128</td></tr></table>"
                    }
                },
                {
                    "output_type": "execute_result",
                    "metadata": {},
                    "execution_count": 3,
                    "data": {
                        "application/vnd.dataresource+json": {
                            "schema": {
                                "fields": [
                                    {
                                        "name": "Microsoft SQL Server 2005 XML Showplan"
                                    }
                                ]
                            },
                            "data": [
                                {
                                    "0": "<ShowPlanXML xmlns=\"http://schemas.microsoft.com/sqlserver/2004/07/showplan\" Version=\"1.524\" Build=\"15.0.1400.75\"><BatchSequence><Batch><Statements><StmtSimple StatementText=\"SELECT [Tax Rate], [Lineage Key], [Salesperson Key], SUM(Quantity) AS SUM_QTY, &#xd;&#xa;SUM([Unit Price]) AS SUM_BASE_PRICE, COUNT(*) AS COUNT_ORDER&#xd;&#xa;FROM Fact.OrderHistoryExtended&#xd;&#xa;WHERE [Order Date Key]&lt;=DATEADD(dd, -73, &apos;2015-11-13&apos;)&#xd;&#xa;GROUP BY [Tax Rate], [Lineage Key], [Salesperson Key]&#xd;&#xa;ORDER BY [Tax Rate], [Lineage Key], [Salesperson Key]\" StatementId=\"1\" StatementCompId=\"1\" StatementType=\"SELECT\" StatementSqlHandle=\"0x09009175BCDBCCD0AD94FA0F2F50B77640990000000000000000000000000000000000000000000000000000\" DatabaseContextSettingsId=\"1\" ParentObjectId=\"0\" StatementParameterizationType=\"0\" RetrievedFromCache=\"true\" StatementSubTreeCost=\"611.723\" StatementEstRows=\"202\" SecurityPolicyApplied=\"false\" StatementOptmLevel=\"FULL\" QueryHash=\"0xCF8A6CEBEF3FF3FA\" QueryPlanHash=\"0x3B1D6DD71B6A16D6\" CardinalityEstimationModelVersion=\"150\"><StatementSetOptions QUOTED_IDENTIFIER=\"true\" ARITHABORT=\"true\" CONCAT_NULL_YIELDS_NULL=\"true\" ANSI_NULLS=\"true\" ANSI_PADDING=\"true\" ANSI_WARNINGS=\"true\" NUMERIC_ROUNDABORT=\"false\"></StatementSetOptions><QueryPlan DegreeOfParallelism=\"8\" MemoryGrant=\"14336\" CachedPlanSize=\"72\" CompileTime=\"4\" CompileCPU=\"4\" CompileMemory=\"432\"><ThreadStat Branches=\"2\" UsedThreads=\"16\"><ThreadReservation NodeId=\"0\" ReservedThreads=\"16\"></ThreadReservation></ThreadStat><MissingIndexes><MissingIndexGroup Impact=\"86.3845\"><MissingIndex Database=\"[wideworldimportersdw]\" Schema=\"[Fact]\" Table=\"[OrderHistoryExtended]\"><ColumnGroup Usage=\"INEQUALITY\"><Column Name=\"[Order Date Key]\" ColumnId=\"5\"></Column></ColumnGroup><ColumnGroup Usage=\"INCLUDE\"><Column Name=\"[Salesperson Key]\" ColumnId=\"7\"></Column><Column Name=\"[Quantity]\" ColumnId=\"13\"></Column><Column Name=\"[Unit Price]\" ColumnId=\"14\"></Column><Column Name=\"[Tax Rate]\" ColumnId=\"15\"></Column><Column Name=\"[Lineage Key]\" ColumnId=\"19\"></Column></ColumnGroup></MissingIndex></MissingIndexGroup></MissingIndexes><MemoryGrantInfo SerialRequiredMemory=\"1536\" SerialDesiredMemory=\"1696\" RequiredMemory=\"14144\" DesiredMemory=\"14336\" RequestedMemory=\"14336\" GrantWaitTime=\"0\" GrantedMemory=\"14336\" MaxUsedMemory=\"2496\" MaxQueryMemory=\"2899880\" LastRequestedMemory=\"14336\" IsMemoryGrantFeedbackAdjusted=\"No: Accurate Grant\"></MemoryGrantInfo><OptimizerHardwareDependentProperties EstimatedAvailableMemoryGrant=\"241427\" EstimatedPagesCached=\"120713\" EstimatedAvailableDegreeOfParallelism=\"4\" MaxCompileMemory=\"11453152\"></OptimizerHardwareDependentProperties><OptimizerStatsUsage><StatisticsInfo LastUpdate=\"2019-04-06T18:53:50.59\" ModificationCount=\"0\" SamplingPercent=\"0.780031\" Statistics=\"[PK_Fact_OrderHistoryExtended]\" Table=\"[OrderHistoryExtended]\" Schema=\"[Fact]\" Database=\"[wideworldimportersdw]\"></StatisticsInfo><StatisticsInfo LastUpdate=\"2019-04-06T18:53:50.99\" ModificationCount=\"0\" SamplingPercent=\"0.780031\" Statistics=\"[_WA_Sys_0000000F_55009F39]\" Table=\"[OrderHistoryExtended]\" Schema=\"[Fact]\" Database=\"[wideworldimportersdw]\"></StatisticsInfo><StatisticsInfo LastUpdate=\"2019-04-06T18:53:50.39\" ModificationCount=\"0\" SamplingPercent=\"0.785301\" Statistics=\"[_WA_Sys_00000005_55009F39]\" Table=\"[OrderHistoryExtended]\" Schema=\"[Fact]\" Database=\"[wideworldimportersdw]\"></StatisticsInfo><StatisticsInfo LastUpdate=\"2019-04-06T18:53:50.81\" ModificationCount=\"0\" SamplingPercent=\"0.780031\" Statistics=\"[_WA_Sys_00000007_55009F39]\" Table=\"[OrderHistoryExtended]\" Schema=\"[Fact]\" Database=\"[wideworldimportersdw]\"></StatisticsInfo><StatisticsInfo LastUpdate=\"2019-04-06T18:53:51.18\" ModificationCount=\"0\" SamplingPercent=\"0.780031\" Statistics=\"[_WA_Sys_00000013_55009F39]\" Table=\"[OrderHistoryExtended]\" Schema=\"[Fact]\" Database=\"[wideworldimportersdw]\"></StatisticsInfo></OptimizerStatsUsage><WaitStats><Wait WaitType=\"CXPACKET\" WaitTimeMs=\"4939\" WaitCount=\"32\"></Wait><Wait WaitType=\"SOS_SCHEDULER_YIELD\" WaitTimeMs=\"79\" WaitCount=\"9551\"></Wait><Wait WaitType=\"LATCH_EX\" WaitTimeMs=\"30\" WaitCount=\"65\"></Wait></WaitStats><QueryTimeStats ElapsedTime=\"4919\" CpuTime=\"39239\"></QueryTimeStats><RelOp NodeId=\"1\" PhysicalOp=\"Compute Scalar\" LogicalOp=\"Compute Scalar\" EstimateRows=\"202\" EstimateIO=\"0\" EstimateCPU=\"2.02e-05\" AvgRowSize=\"49\" EstimatedTotalSubtreeCost=\"611.723\" Parallel=\"0\" EstimateRebinds=\"0\" EstimateRewinds=\"0\" EstimatedExecutionMode=\"Row\"><OutputList><ColumnReference Database=\"[wideworldimportersdw]\" Schema=\"[Fact]\" Table=\"[OrderHistoryExtended]\" Column=\"Salesperson Key\"></ColumnReference><ColumnReference Database=\"[wideworldimportersdw]\" Schema=\"[Fact]\" Table=\"[OrderHistoryExtended]\" Column=\"Tax Rate\"></ColumnReference><ColumnReference Database=\"[wideworldimportersdw]\" Schema=\"[Fact]\" Table=\"[OrderHistoryExtended]\" Column=\"Lineage Key\"></ColumnReference><ColumnReference Column=\"Expr1003\"></ColumnReference><ColumnReference Column=\"Expr1004\"></ColumnReference><ColumnReference Column=\"Expr1005\"></ColumnReference></OutputList><ComputeScalar><DefinedValues><DefinedValue><ColumnReference Column=\"Expr1005\"></ColumnReference><ScalarOperator ScalarString=\"CONVERT_IMPLICIT(int,[globalagg1009],0)\"><Convert DataType=\"int\" Style=\"0\" Implicit=\"1\"><ScalarOperator><Identifier><ColumnReference Column=\"globalagg1009\"></ColumnReference></Identifier></ScalarOperator></Convert></ScalarOperator></DefinedValue></DefinedValues><RelOp NodeId=\"2\" PhysicalOp=\"Parallelism\" LogicalOp=\"Gather Streams\" EstimateRows=\"202\" EstimateIO=\"0\" EstimateCPU=\"0.0298729\" AvgRowSize=\"53\" EstimatedTotalSubtreeCost=\"611.723\" Parallel=\"1\" EstimateRebinds=\"0\" EstimateRewinds=\"0\" EstimatedExecutionMode=\"Row\"><OutputList><ColumnReference Database=\"[wideworldimportersdw]\" Schema=\"[Fact]\" Table=\"[OrderHistoryExtended]\" Column=\"Salesperson Key\"></ColumnReference><ColumnReference Database=\"[wideworldimportersdw]\" Schema=\"[Fact]\" Table=\"[OrderHistoryExtended]\" Column=\"Tax Rate\"></ColumnReference><ColumnReference Database=\"[wideworldimportersdw]\" Schema=\"[Fact]\" Table=\"[OrderHistoryExtended]\" Column=\"Lineage Key\"></ColumnReference><ColumnReference Column=\"Expr1003\"></ColumnReference><ColumnReference Column=\"Expr1004\"></ColumnReference><ColumnReference Column=\"globalagg1009\"></ColumnReference></OutputList><RunTimeInformation><RunTimeCountersPerThread Thread=\"0\" ActualRows=\"100\" Batches=\"0\" ActualExecutionMode=\"Row\" ActualElapsedms=\"4919\" ActualCPUms=\"0\" ActualEndOfScans=\"1\" ActualExecutions=\"1\"></RunTimeCountersPerThread></RunTimeInformation><Parallelism><OrderBy><OrderByColumn Ascending=\"1\"><ColumnReference Database=\"[wideworldimportersdw]\" Schema=\"[Fact]\" Table=\"[OrderHistoryExtended]\" Column=\"Tax Rate\"></ColumnReference></OrderByColumn><OrderByColumn Ascending=\"1\"><ColumnReference Database=\"[wideworldimportersdw]\" Schema=\"[Fact]\" Table=\"[OrderHistoryExtended]\" Column=\"Lineage Key\"></ColumnReference></OrderByColumn><OrderByColumn Ascending=\"1\"><ColumnReference Database=\"[wideworldimportersdw]\" Schema=\"[Fact]\" Table=\"[OrderHistoryExtended]\" Column=\"Salesperson Key\"></ColumnReference></OrderByColumn></OrderBy><RelOp NodeId=\"3\" PhysicalOp=\"Stream Aggregate\" LogicalOp=\"Aggregate\" EstimateRows=\"202\" EstimateIO=\"0\" EstimateCPU=\"0.00014645\" AvgRowSize=\"53\" EstimatedTotalSubtreeCost=\"611.693\" Parallel=\"1\" EstimateRebinds=\"0\" EstimateRewinds=\"0\" EstimatedExecutionMode=\"Row\"><OutputList><ColumnReference Database=\"[wideworldimportersdw]\" Schema=\"[Fact]\" Table=\"[OrderHistoryExtended]\" Column=\"Salesperson Key\"></ColumnReference><ColumnReference Database=\"[wideworldimportersdw]\" Schema=\"[Fact]\" Table=\"[OrderHistoryExtended]\" Column=\"Tax Rate\"></ColumnReference><ColumnReference Database=\"[wideworldimportersdw]\" Schema=\"[Fact]\" Table=\"[OrderHistoryExtended]\" Column=\"Lineage Key\"></ColumnReference><ColumnReference Column=\"Expr1003\"></ColumnReference><ColumnReference Column=\"Expr1004\"></ColumnReference><ColumnReference Column=\"globalagg1009\"></ColumnReference></OutputList><RunTimeInformation><RunTimeCountersPerThread Thread=\"8\" ActualRows=\"13\" Batches=\"0\" ActualExecutionMode=\"Row\" ActualElapsedms=\"4918\" ActualCPUms=\"0\" ActualEndOfScans=\"1\" ActualExecutions=\"1\"></RunTimeCountersPerThread><RunTimeCountersPerThread Thread=\"7\" ActualRows=\"13\" Batches=\"0\" ActualExecutionMode=\"Row\" ActualElapsedms=\"4918\" ActualCPUms=\"0\" ActualEndOfScans=\"1\" ActualExecutions=\"1\"></RunTimeCountersPerThread><RunTimeCountersPerThread Thread=\"6\" ActualRows=\"14\" Batches=\"0\" ActualExecutionMode=\"Row\" ActualElapsedms=\"4918\" ActualCPUms=\"0\" ActualEndOfScans=\"1\" ActualExecutions=\"1\"></RunTimeCountersPerThread><RunTimeCountersPerThread Thread=\"5\" ActualRows=\"9\" Batches=\"0\" ActualExecutionMode=\"Row\" ActualElapsedms=\"4918\" ActualCPUms=\"0\" ActualEndOfScans=\"1\" ActualExecutions=\"1\"></RunTimeCountersPerThread><RunTimeCountersPerThread Thread=\"4\" ActualRows=\"12\" Batches=\"0\" ActualExecutionMode=\"Row\" ActualElapsedms=\"4918\" ActualCPUms=\"0\" ActualEndOfScans=\"1\" ActualExecutions=\"1\"></RunTimeCountersPerThread><RunTimeCountersPerThread Thread=\"3\" ActualRows=\"13\" Batches=\"0\" ActualExecutionMode=\"Row\" ActualElapsedms=\"4918\" ActualCPUms=\"0\" ActualEndOfScans=\"1\" ActualExecutions=\"1\"></RunTimeCountersPerThread><RunTimeCountersPerThread Thread=\"2\" ActualRows=\"17\" Batches=\"0\" ActualExecutionMode=\"Row\" ActualElapsedms=\"4918\" ActualCPUms=\"0\" ActualEndOfScans=\"1\" ActualExecutions=\"1\"></RunTimeCountersPerThread><RunTimeCountersPerThread Thread=\"1\" ActualRows=\"9\" Batches=\"0\" ActualExecutionMode=\"Row\" ActualElapsedms=\"4918\" ActualCPUms=\"0\" ActualEndOfScans=\"1\" ActualExecutions=\"1\"></RunTimeCountersPerThread><RunTimeCountersPerThread Thread=\"0\" ActualRows=\"0\" Batches=\"0\" ActualExecutionMode=\"Row\" ActualElapsedms=\"0\" ActualCPUms=\"0\" ActualEndOfScans=\"0\" ActualExecutions=\"0\"></RunTimeCountersPerThread></RunTimeInformation><StreamAggregate><DefinedValues><DefinedValue><ColumnReference Column=\"Expr1003\"></ColumnReference><ScalarOperator ScalarString=\"SUM([partialagg1006])\"><Aggregate Distinct=\"0\" AggType=\"SUM\"><ScalarOperator><Identifier><ColumnReference Column=\"partialagg1006\"></ColumnReference></Identifier></ScalarOperator></Aggregate></ScalarOperator></DefinedValue><DefinedValue><ColumnReference Column=\"Expr1004\"></ColumnReference><ScalarOperator ScalarString=\"SUM([partialagg1007])\"><Aggregate Distinct=\"0\" AggType=\"SUM\"><ScalarOperator><Identifier><ColumnReference Column=\"partialagg1007\"></ColumnReference></Identifier></ScalarOperator></Aggregate></ScalarOperator></DefinedValue><DefinedValue><ColumnReference Column=\"globalagg1009\"></ColumnReference><ScalarOperator ScalarString=\"SUM([partialagg1008])\"><Aggregate Distinct=\"0\" AggType=\"SUM\"><ScalarOperator><Identifier><ColumnReference Column=\"partialagg1008\"></ColumnReference></Identifier></ScalarOperator></Aggregate></ScalarOperator></DefinedValue></DefinedValues><GroupBy><ColumnReference Database=\"[wideworldimportersdw]\" Schema=\"[Fact]\" Table=\"[OrderHistoryExtended]\" Column=\"Tax Rate\"></ColumnReference><ColumnReference Database=\"[wideworldimportersdw]\" Schema=\"[Fact]\" Table=\"[OrderHistoryExtended]\" Column=\"Lineage Key\"></ColumnReference><ColumnReference Database=\"[wideworldimportersdw]\" Schema=\"[Fact]\" Table=\"[OrderHistoryExtended]\" Column=\"Salesperson Key\"></ColumnReference></GroupBy><RelOp NodeId=\"4\" PhysicalOp=\"Sort\" LogicalOp=\"Sort\" EstimateRows=\"808\" EstimateIO=\"0.00281532\" EstimateCPU=\"0.00306851\" AvgRowSize=\"53\" EstimatedTotalSubtreeCost=\"611.693\" Parallel=\"1\" EstimateRebinds=\"0\" EstimateRewinds=\"0\" EstimatedExecutionMode=\"Row\"><OutputList><ColumnReference Database=\"[wideworldimportersdw]\" Schema=\"[Fact]\" Table=\"[OrderHistoryExtended]\" Column=\"Salesperson Key\"></ColumnReference><ColumnReference Database=\"[wideworldimportersdw]\" Schema=\"[Fact]\" Table=\"[OrderHistoryExtended]\" Column=\"Tax Rate\"></ColumnReference><ColumnReference Database=\"[wideworldimportersdw]\" Schema=\"[Fact]\" Table=\"[OrderHistoryExtended]\" Column=\"Lineage Key\"></ColumnReference><ColumnReference Column=\"partialagg1006\"></ColumnReference><ColumnReference Column=\"partialagg1007\"></ColumnReference><ColumnReference Column=\"partialagg1008\"></ColumnReference></OutputList><MemoryFractions Input=\"1\" Output=\"1\"></MemoryFractions><RunTimeInformation><RunTimeCountersPerThread Thread=\"8\" ActualRows=\"104\" Batches=\"0\" ActualExecutionMode=\"Row\" ActualElapsedms=\"4918\" ActualCPUms=\"0\" ActualScans=\"0\" ActualLogicalReads=\"0\" ActualPhysicalReads=\"0\" ActualReadAheads=\"0\" ActualLobLogicalReads=\"0\" ActualLobPhysicalReads=\"0\" ActualLobReadAheads=\"0\" ActualRebinds=\"1\" ActualRewinds=\"0\" ActualEndOfScans=\"1\" ActualExecutions=\"1\" InputMemoryGrant=\"536\" OutputMemoryGrant=\"152\" UsedMemoryGrant=\"16\"></RunTimeCountersPerThread><RunTimeCountersPerThread Thread=\"7\" ActualRows=\"104\" Batches=\"0\" ActualExecutionMode=\"Row\" ActualElapsedms=\"4918\" ActualCPUms=\"0\" ActualScans=\"0\" ActualLogicalReads=\"0\" ActualPhysicalReads=\"0\" ActualReadAheads=\"0\" ActualLobLogicalReads=\"0\" ActualLobPhysicalReads=\"0\" ActualLobReadAheads=\"0\" ActualRebinds=\"1\" ActualRewinds=\"0\" ActualEndOfScans=\"1\" ActualExecutions=\"1\" InputMemoryGrant=\"536\" OutputMemoryGrant=\"152\" UsedMemoryGrant=\"16\"></RunTimeCountersPerThread><RunTimeCountersPerThread Thread=\"6\" ActualRows=\"112\" Batches=\"0\" ActualExecutionMode=\"Row\" ActualElapsedms=\"4918\" ActualCPUms=\"0\" ActualScans=\"0\" ActualLogicalReads=\"0\" ActualPhysicalReads=\"0\" ActualReadAheads=\"0\" ActualLobLogicalReads=\"0\" ActualLobPhysicalReads=\"0\" ActualLobReadAheads=\"0\" ActualRebinds=\"1\" ActualRewinds=\"0\" ActualEndOfScans=\"1\" ActualExecutions=\"1\" InputMemoryGrant=\"536\" OutputMemoryGrant=\"152\" UsedMemoryGrant=\"16\"></RunTimeCountersPerThread><RunTimeCountersPerThread Thread=\"5\" ActualRows=\"72\" Batches=\"0\" ActualExecutionMode=\"Row\" ActualElapsedms=\"4918\" ActualCPUms=\"0\" ActualScans=\"0\" ActualLogicalReads=\"0\" ActualPhysicalReads=\"0\" ActualReadAheads=\"0\" ActualLobLogicalReads=\"0\" ActualLobPhysicalReads=\"0\" ActualLobReadAheads=\"0\" ActualRebinds=\"1\" ActualRewinds=\"0\" ActualEndOfScans=\"1\" ActualExecutions=\"1\" InputMemoryGrant=\"536\" OutputMemoryGrant=\"152\" UsedMemoryGrant=\"16\"></RunTimeCountersPerThread><RunTimeCountersPerThread Thread=\"4\" ActualRows=\"96\" Batches=\"0\" ActualExecutionMode=\"Row\" ActualElapsedms=\"4918\" ActualCPUms=\"0\" ActualScans=\"0\" ActualLogicalReads=\"0\" ActualPhysicalReads=\"0\" ActualReadAheads=\"0\" ActualLobLogicalReads=\"0\" ActualLobPhysicalReads=\"0\" ActualLobReadAheads=\"0\" ActualRebinds=\"1\" ActualRewinds=\"0\" ActualEndOfScans=\"1\" ActualExecutions=\"1\" InputMemoryGrant=\"536\" OutputMemoryGrant=\"152\" UsedMemoryGrant=\"16\"></RunTimeCountersPerThread><RunTimeCountersPerThread Thread=\"3\" ActualRows=\"104\" Batches=\"0\" ActualExecutionMode=\"Row\" ActualElapsedms=\"4918\" ActualCPUms=\"0\" ActualScans=\"0\" ActualLogicalReads=\"0\" ActualPhysicalReads=\"0\" ActualReadAheads=\"0\" ActualLobLogicalReads=\"0\" ActualLobPhysicalReads=\"0\" ActualLobReadAheads=\"0\" ActualRebinds=\"1\" ActualRewinds=\"0\" ActualEndOfScans=\"1\" ActualExecutions=\"1\" InputMemoryGrant=\"536\" OutputMemoryGrant=\"152\" UsedMemoryGrant=\"16\"></RunTimeCountersPerThread><RunTimeCountersPerThread Thread=\"2\" ActualRows=\"136\" Batches=\"0\" ActualExecutionMode=\"Row\" ActualElapsedms=\"4918\" ActualCPUms=\"0\" ActualScans=\"0\" ActualLogicalReads=\"0\" ActualPhysicalReads=\"0\" ActualReadAheads=\"0\" ActualLobLogicalReads=\"0\" ActualLobPhysicalReads=\"0\" ActualLobReadAheads=\"0\" ActualRebinds=\"1\" ActualRewinds=\"0\" ActualEndOfScans=\"1\" ActualExecutions=\"1\" InputMemoryGrant=\"536\" OutputMemoryGrant=\"152\" UsedMemoryGrant=\"16\"></RunTimeCountersPerThread><RunTimeCountersPerThread Thread=\"1\" ActualRows=\"72\" Batches=\"0\" ActualExecutionMode=\"Row\" ActualElapsedms=\"4918\" ActualCPUms=\"0\" ActualScans=\"0\" ActualLogicalReads=\"0\" ActualPhysicalReads=\"0\" ActualReadAheads=\"0\" ActualLobLogicalReads=\"0\" ActualLobPhysicalReads=\"0\" ActualLobReadAheads=\"0\" ActualRebinds=\"1\" ActualRewinds=\"0\" ActualEndOfScans=\"1\" ActualExecutions=\"1\" InputMemoryGrant=\"536\" OutputMemoryGrant=\"152\" UsedMemoryGrant=\"16\"></RunTimeCountersPerThread><RunTimeCountersPerThread Thread=\"0\" ActualRows=\"0\" Batches=\"0\" ActualExecutionMode=\"Row\" ActualElapsedms=\"0\" ActualCPUms=\"0\" ActualScans=\"0\" ActualLogicalReads=\"0\" ActualPhysicalReads=\"0\" ActualReadAheads=\"0\" ActualLobLogicalReads=\"0\" ActualLobPhysicalReads=\"0\" ActualLobReadAheads=\"0\" ActualRebinds=\"0\" ActualRewinds=\"0\" ActualEndOfScans=\"0\" ActualExecutions=\"0\" InputMemoryGrant=\"0\" OutputMemoryGrant=\"0\" UsedMemoryGrant=\"0\"></RunTimeCountersPerThread></RunTimeInformation><Sort Distinct=\"0\"><OrderBy><OrderByColumn Ascending=\"1\"><ColumnReference Database=\"[wideworldimportersdw]\" Schema=\"[Fact]\" Table=\"[OrderHistoryExtended]\" Column=\"Tax Rate\"></ColumnReference></OrderByColumn><OrderByColumn Ascending=\"1\"><ColumnReference Database=\"[wideworldimportersdw]\" Schema=\"[Fact]\" Table=\"[OrderHistoryExtended]\" Column=\"Lineage Key\"></ColumnReference></OrderByColumn><OrderByColumn Ascending=\"1\"><ColumnReference Database=\"[wideworldimportersdw]\" Schema=\"[Fact]\" Table=\"[OrderHistoryExtended]\" Column=\"Salesperson Key\"></ColumnReference></OrderByColumn></OrderBy><RelOp NodeId=\"5\" PhysicalOp=\"Parallelism\" LogicalOp=\"Repartition Streams\" EstimateRows=\"808\" EstimateIO=\"0\" EstimateCPU=\"0.0302085\" AvgRowSize=\"53\" EstimatedTotalSubtreeCost=\"611.687\" Parallel=\"1\" EstimateRebinds=\"0\" EstimateRewinds=\"0\" EstimatedExecutionMode=\"Row\"><OutputList><ColumnReference Database=\"[wideworldimportersdw]\" Schema=\"[Fact]\" Table=\"[OrderHistoryExtended]\" Column=\"Salesperson Key\"></ColumnReference><ColumnReference Database=\"[wideworldimportersdw]\" Schema=\"[Fact]\" Table=\"[OrderHistoryExtended]\" Column=\"Tax Rate\"></ColumnReference><ColumnReference Database=\"[wideworldimportersdw]\" Schema=\"[Fact]\" Table=\"[OrderHistoryExtended]\" Column=\"Lineage Key\"></ColumnReference><ColumnReference Column=\"partialagg1006\"></ColumnReference><ColumnReference Column=\"partialagg1007\"></ColumnReference><ColumnReference Column=\"partialagg1008\"></ColumnReference></OutputList><RunTimeInformation><RunTimeCountersPerThread Thread=\"8\" ActualRows=\"104\" Batches=\"0\" ActualExecutionMode=\"Row\" ActualElapsedms=\"4917\" ActualCPUms=\"0\" ActualEndOfScans=\"1\" ActualExecutions=\"1\"></RunTimeCountersPerThread><RunTimeCountersPerThread Thread=\"7\" ActualRows=\"104\" Batches=\"0\" ActualExecutionMode=\"Row\" ActualElapsedms=\"4917\" ActualCPUms=\"0\" ActualEndOfScans=\"1\" ActualExecutions=\"1\"></RunTimeCountersPerThread><RunTimeCountersPerThread Thread=\"6\" ActualRows=\"112\" Batches=\"0\" ActualExecutionMode=\"Row\" ActualElapsedms=\"4917\" ActualCPUms=\"0\" ActualEndOfScans=\"1\" ActualExecutions=\"1\"></RunTimeCountersPerThread><RunTimeCountersPerThread Thread=\"5\" ActualRows=\"72\" Batches=\"0\" ActualExecutionMode=\"Row\" ActualElapsedms=\"4917\" ActualCPUms=\"0\" ActualEndOfScans=\"1\" ActualExecutions=\"1\"></RunTimeCountersPerThread><RunTimeCountersPerThread Thread=\"4\" ActualRows=\"96\" Batches=\"0\" ActualExecutionMode=\"Row\" ActualElapsedms=\"4918\" ActualCPUms=\"0\" ActualEndOfScans=\"1\" ActualExecutions=\"1\"></RunTimeCountersPerThread><RunTimeCountersPerThread Thread=\"3\" ActualRows=\"104\" Batches=\"0\" ActualExecutionMode=\"Row\" ActualElapsedms=\"4918\" ActualCPUms=\"0\" ActualEndOfScans=\"1\" ActualExecutions=\"1\"></RunTimeCountersPerThread><RunTimeCountersPerThread Thread=\"2\" ActualRows=\"136\" Batches=\"0\" ActualExecutionMode=\"Row\" ActualElapsedms=\"4918\" ActualCPUms=\"0\" ActualEndOfScans=\"1\" ActualExecutions=\"1\"></RunTimeCountersPerThread><RunTimeCountersPerThread Thread=\"1\" ActualRows=\"72\" Batches=\"0\" ActualExecutionMode=\"Row\" ActualElapsedms=\"4917\" ActualCPUms=\"0\" ActualEndOfScans=\"1\" ActualExecutions=\"1\"></RunTimeCountersPerThread><RunTimeCountersPerThread Thread=\"0\" ActualRows=\"0\" Batches=\"0\" ActualExecutionMode=\"Row\" ActualElapsedms=\"0\" ActualCPUms=\"0\" ActualEndOfScans=\"0\" ActualExecutions=\"0\"></RunTimeCountersPerThread></RunTimeInformation><Parallelism PartitioningType=\"Hash\"><PartitionColumns><ColumnReference Database=\"[wideworldimportersdw]\" Schema=\"[Fact]\" Table=\"[OrderHistoryExtended]\" Column=\"Tax Rate\"></ColumnReference><ColumnReference Database=\"[wideworldimportersdw]\" Schema=\"[Fact]\" Table=\"[OrderHistoryExtended]\" Column=\"Lineage Key\"></ColumnReference><ColumnReference Database=\"[wideworldimportersdw]\" Schema=\"[Fact]\" Table=\"[OrderHistoryExtended]\" Column=\"Salesperson Key\"></ColumnReference></PartitionColumns><RelOp NodeId=\"6\" PhysicalOp=\"Hash Match\" LogicalOp=\"Partial Aggregate\" EstimateRows=\"808\" EstimateIO=\"0\" EstimateCPU=\"40.3654\" AvgRowSize=\"53\" EstimatedTotalSubtreeCost=\"611.657\" Parallel=\"1\" EstimateRebinds=\"0\" EstimateRewinds=\"0\" EstimatedExecutionMode=\"Row\"><OutputList><ColumnReference Database=\"[wideworldimportersdw]\" Schema=\"[Fact]\" Table=\"[OrderHistoryExtended]\" Column=\"Salesperson Key\"></ColumnReference><ColumnReference Database=\"[wideworldimportersdw]\" Schema=\"[Fact]\" Table=\"[OrderHistoryExtended]\" Column=\"Tax Rate\"></ColumnReference><ColumnReference Database=\"[wideworldimportersdw]\" Schema=\"[Fact]\" Table=\"[OrderHistoryExtended]\" Column=\"Lineage Key\"></ColumnReference><ColumnReference Column=\"partialagg1006\"></ColumnReference><ColumnReference Column=\"partialagg1007\"></ColumnReference><ColumnReference Column=\"partialagg1008\"></ColumnReference></OutputList><MemoryFractions Input=\"0\" Output=\"0\"></MemoryFractions><RunTimeInformation><RunTimeCountersPerThread Thread=\"8\" ActualRows=\"100\" Batches=\"0\" ActualExecutionMode=\"Row\" ActualElapsedms=\"4908\" ActualCPUms=\"4894\" ActualScans=\"0\" ActualLogicalReads=\"0\" ActualPhysicalReads=\"0\" ActualReadAheads=\"0\" ActualLobLogicalReads=\"0\" ActualLobPhysicalReads=\"0\" ActualLobReadAheads=\"0\" ActualEndOfScans=\"1\" ActualExecutions=\"1\" InputMemoryGrant=\"1024\" OutputMemoryGrant=\"1024\" UsedMemoryGrant=\"80\"></RunTimeCountersPerThread><RunTimeCountersPerThread Thread=\"7\" ActualRows=\"100\" Batches=\"0\" ActualExecutionMode=\"Row\" ActualElapsedms=\"4913\" ActualCPUms=\"4901\" ActualScans=\"0\" ActualLogicalReads=\"0\" ActualPhysicalReads=\"0\" ActualReadAheads=\"0\" ActualLobLogicalReads=\"0\" ActualLobPhysicalReads=\"0\" ActualLobReadAheads=\"0\" ActualEndOfScans=\"1\" ActualExecutions=\"1\" InputMemoryGrant=\"1024\" OutputMemoryGrant=\"1024\" UsedMemoryGrant=\"80\"></RunTimeCountersPerThread><RunTimeCountersPerThread Thread=\"6\" ActualRows=\"100\" Batches=\"0\" ActualExecutionMode=\"Row\" ActualElapsedms=\"4912\" ActualCPUms=\"4905\" ActualScans=\"0\" ActualLogicalReads=\"0\" ActualPhysicalReads=\"0\" ActualReadAheads=\"0\" ActualLobLogicalReads=\"0\" ActualLobPhysicalReads=\"0\" ActualLobReadAheads=\"0\" ActualEndOfScans=\"1\" ActualExecutions=\"1\" InputMemoryGrant=\"1024\" OutputMemoryGrant=\"1024\" UsedMemoryGrant=\"80\"></RunTimeCountersPerThread><RunTimeCountersPerThread Thread=\"5\" ActualRows=\"100\" Batches=\"0\" ActualExecutionMode=\"Row\" ActualElapsedms=\"4901\" ActualCPUms=\"4898\" ActualScans=\"0\" ActualLogicalReads=\"0\" ActualPhysicalReads=\"0\" ActualReadAheads=\"0\" ActualLobLogicalReads=\"0\" ActualLobPhysicalReads=\"0\" ActualLobReadAheads=\"0\" ActualEndOfScans=\"1\" ActualExecutions=\"1\" InputMemoryGrant=\"1024\" OutputMemoryGrant=\"1024\" UsedMemoryGrant=\"80\"></RunTimeCountersPerThread><RunTimeCountersPerThread Thread=\"4\" ActualRows=\"100\" Batches=\"0\" ActualExecutionMode=\"Row\" ActualElapsedms=\"4913\" ActualCPUms=\"4910\" ActualScans=\"0\" ActualLogicalReads=\"0\" ActualPhysicalReads=\"0\" ActualReadAheads=\"0\" ActualLobLogicalReads=\"0\" ActualLobPhysicalReads=\"0\" ActualLobReadAheads=\"0\" ActualEndOfScans=\"1\" ActualExecutions=\"1\" InputMemoryGrant=\"1024\" OutputMemoryGrant=\"1024\" UsedMemoryGrant=\"80\"></RunTimeCountersPerThread><RunTimeCountersPerThread Thread=\"3\" ActualRows=\"100\" Batches=\"0\" ActualExecutionMode=\"Row\" ActualElapsedms=\"4913\" ActualCPUms=\"4910\" ActualScans=\"0\" ActualLogicalReads=\"0\" ActualPhysicalReads=\"0\" ActualReadAheads=\"0\" ActualLobLogicalReads=\"0\" ActualLobPhysicalReads=\"0\" ActualLobReadAheads=\"0\" ActualEndOfScans=\"1\" ActualExecutions=\"1\" InputMemoryGrant=\"1024\" OutputMemoryGrant=\"1024\" UsedMemoryGrant=\"80\"></RunTimeCountersPerThread><RunTimeCountersPerThread Thread=\"2\" ActualRows=\"100\" Batches=\"0\" ActualExecutionMode=\"Row\" ActualElapsedms=\"4916\" ActualCPUms=\"4909\" ActualScans=\"0\" ActualLogicalReads=\"0\" ActualPhysicalReads=\"0\" ActualReadAheads=\"0\" ActualLobLogicalReads=\"0\" ActualLobPhysicalReads=\"0\" ActualLobReadAheads=\"0\" ActualEndOfScans=\"1\" ActualExecutions=\"1\" InputMemoryGrant=\"1024\" OutputMemoryGrant=\"1024\" UsedMemoryGrant=\"80\"></RunTimeCountersPerThread><RunTimeCountersPerThread Thread=\"1\" ActualRows=\"100\" Batches=\"0\" ActualExecutionMode=\"Row\" ActualElapsedms=\"4901\" ActualCPUms=\"4894\" ActualScans=\"0\" ActualLogicalReads=\"0\" ActualPhysicalReads=\"0\" ActualReadAheads=\"0\" ActualLobLogicalReads=\"0\" ActualLobPhysicalReads=\"0\" ActualLobReadAheads=\"0\" ActualEndOfScans=\"1\" ActualExecutions=\"1\" InputMemoryGrant=\"1024\" OutputMemoryGrant=\"1024\" UsedMemoryGrant=\"80\"></RunTimeCountersPerThread><RunTimeCountersPerThread Thread=\"0\" ActualRows=\"0\" Batches=\"0\" ActualExecutionMode=\"Row\" ActualElapsedms=\"0\" ActualCPUms=\"0\" ActualScans=\"0\" ActualLogicalReads=\"0\" ActualPhysicalReads=\"0\" ActualReadAheads=\"0\" ActualLobLogicalReads=\"0\" ActualLobPhysicalReads=\"0\" ActualLobReadAheads=\"0\" ActualEndOfScans=\"0\" ActualExecutions=\"0\" InputMemoryGrant=\"0\" OutputMemoryGrant=\"0\" UsedMemoryGrant=\"0\"></RunTimeCountersPerThread></RunTimeInformation><Hash><DefinedValues><DefinedValue><ColumnReference Column=\"partialagg1006\"></ColumnReference><ScalarOperator ScalarString=\"SUM([wideworldimportersdw].[Fact].[OrderHistoryExtended].[Quantity])\"><Aggregate Distinct=\"0\" AggType=\"SUM\"><ScalarOperator><Identifier><ColumnReference Database=\"[wideworldimportersdw]\" Schema=\"[Fact]\" Table=\"[OrderHistoryExtended]\" Column=\"Quantity\"></ColumnReference></Identifier></ScalarOperator></Aggregate></ScalarOperator></DefinedValue><DefinedValue><ColumnReference Column=\"partialagg1007\"></ColumnReference><ScalarOperator ScalarString=\"SUM([wideworldimportersdw].[Fact].[OrderHistoryExtended].[Unit Price])\"><Aggregate Distinct=\"0\" AggType=\"SUM\"><ScalarOperator><Identifier><ColumnReference Database=\"[wideworldimportersdw]\" Schema=\"[Fact]\" Table=\"[OrderHistoryExtended]\" Column=\"Unit Price\"></ColumnReference></Identifier></ScalarOperator></Aggregate></ScalarOperator></DefinedValue><DefinedValue><ColumnReference Column=\"partialagg1008\"></ColumnReference><ScalarOperator ScalarString=\"COUNT(*)\"><Aggregate Distinct=\"0\" AggType=\"COUNT*\"></Aggregate></ScalarOperator></DefinedValue></DefinedValues><HashKeysBuild><ColumnReference Database=\"[wideworldimportersdw]\" Schema=\"[Fact]\" Table=\"[OrderHistoryExtended]\" Column=\"Tax Rate\"></ColumnReference><ColumnReference Database=\"[wideworldimportersdw]\" Schema=\"[Fact]\" Table=\"[OrderHistoryExtended]\" Column=\"Lineage Key\"></ColumnReference><ColumnReference Database=\"[wideworldimportersdw]\" Schema=\"[Fact]\" Table=\"[OrderHistoryExtended]\" Column=\"Salesperson Key\"></ColumnReference></HashKeysBuild><BuildResidual><ScalarOperator ScalarString=\"[wideworldimportersdw].[Fact].[OrderHistoryExtended].[Tax Rate] = [wideworldimportersdw].[Fact].[OrderHistoryExtended].[Tax Rate] AND [wideworldimportersdw].[Fact].[OrderHistoryExtended].[Lineage Key] = [wideworldimportersdw].[Fact].[OrderHistoryExtended].[Lineage Key] AND [wideworldimportersdw].[Fact].[OrderHistoryExtended].[Salesperson Key] = [wideworldimportersdw].[Fact].[OrderHistoryExtended].[Salesperson Key]\"><Logical Operation=\"AND\"><ScalarOperator><Logical Operation=\"AND\"><ScalarOperator><Compare CompareOp=\"IS\"><ScalarOperator><Identifier><ColumnReference Database=\"[wideworldimportersdw]\" Schema=\"[Fact]\" Table=\"[OrderHistoryExtended]\" Column=\"Tax Rate\"></ColumnReference></Identifier></ScalarOperator><ScalarOperator><Identifier><ColumnReference Database=\"[wideworldimportersdw]\" Schema=\"[Fact]\" Table=\"[OrderHistoryExtended]\" Column=\"Tax Rate\"></ColumnReference></Identifier></ScalarOperator></Compare></ScalarOperator><ScalarOperator><Compare CompareOp=\"IS\"><ScalarOperator><Identifier><ColumnReference Database=\"[wideworldimportersdw]\" Schema=\"[Fact]\" Table=\"[OrderHistoryExtended]\" Column=\"Lineage Key\"></ColumnReference></Identifier></ScalarOperator><ScalarOperator><Identifier><ColumnReference Database=\"[wideworldimportersdw]\" Schema=\"[Fact]\" Table=\"[OrderHistoryExtended]\" Column=\"Lineage Key\"></ColumnReference></Identifier></ScalarOperator></Compare></ScalarOperator></Logical></ScalarOperator><ScalarOperator><Compare CompareOp=\"IS\"><ScalarOperator><Identifier><ColumnReference Database=\"[wideworldimportersdw]\" Schema=\"[Fact]\" Table=\"[OrderHistoryExtended]\" Column=\"Salesperson Key\"></ColumnReference></Identifier></ScalarOperator><ScalarOperator><Identifier><ColumnReference Database=\"[wideworldimportersdw]\" Schema=\"[Fact]\" Table=\"[OrderHistoryExtended]\" Column=\"Salesperson Key\"></ColumnReference></Identifier></ScalarOperator></Compare></ScalarOperator></Logical></ScalarOperator></BuildResidual><RelOp NodeId=\"7\" PhysicalOp=\"Table Scan\" LogicalOp=\"Table Scan\" EstimateRows=\"2.27035e+07\" EstimatedRowsRead=\"2.96207e+07\" EstimateIO=\"559.591\" EstimateCPU=\"8.14572\" AvgRowSize=\"40\" EstimatedTotalSubtreeCost=\"567.737\" TableCardinality=\"2.96207e+07\" Parallel=\"1\" EstimateRebinds=\"0\" EstimateRewinds=\"0\" EstimatedExecutionMode=\"Row\"><OutputList><ColumnReference Database=\"[wideworldimportersdw]\" Schema=\"[Fact]\" Table=\"[OrderHistoryExtended]\" Column=\"Salesperson Key\"></ColumnReference><ColumnReference Database=\"[wideworldimportersdw]\" Schema=\"[Fact]\" Table=\"[OrderHistoryExtended]\" Column=\"Quantity\"></ColumnReference><ColumnReference Database=\"[wideworldimportersdw]\" Schema=\"[Fact]\" Table=\"[OrderHistoryExtended]\" Column=\"Unit Price\"></ColumnReference><ColumnReference Database=\"[wideworldimportersdw]\" Schema=\"[Fact]\" Table=\"[OrderHistoryExtended]\" Column=\"Tax Rate\"></ColumnReference><ColumnReference Database=\"[wideworldimportersdw]\" Schema=\"[Fact]\" Table=\"[OrderHistoryExtended]\" Column=\"Lineage Key\"></ColumnReference></OutputList><RunTimeInformation><RunTimeCountersPerThread Thread=\"8\" ActualRows=\"2836374\" Batches=\"0\" ActualExecutionMode=\"Row\" ActualElapsedms=\"1956\" ActualCPUms=\"1949\" ActualScans=\"1\" ActualLogicalReads=\"94208\" ActualPhysicalReads=\"0\" ActualReadAheads=\"0\" ActualLobLogicalReads=\"0\" ActualLobPhysicalReads=\"0\" ActualLobReadAheads=\"0\" ActualRowsRead=\"3692482\" ActualEndOfScans=\"1\" ActualExecutions=\"1\"></RunTimeCountersPerThread><RunTimeCountersPerThread Thread=\"7\" ActualRows=\"2857333\" Batches=\"0\" ActualExecutionMode=\"Row\" ActualElapsedms=\"1956\" ActualCPUms=\"1954\" ActualScans=\"1\" ActualLogicalReads=\"95488\" ActualPhysicalReads=\"0\" ActualReadAheads=\"0\" ActualLobLogicalReads=\"0\" ActualLobPhysicalReads=\"0\" ActualLobReadAheads=\"0\" ActualRowsRead=\"3744110\" ActualEndOfScans=\"1\" ActualExecutions=\"1\"></RunTimeCountersPerThread><RunTimeCountersPerThread Thread=\"6\" ActualRows=\"2832871\" Batches=\"0\" ActualExecutionMode=\"Row\" ActualElapsedms=\"1931\" ActualCPUms=\"1925\" ActualScans=\"1\" ActualLogicalReads=\"94453\" ActualPhysicalReads=\"0\" ActualReadAheads=\"0\" ActualLobLogicalReads=\"0\" ActualLobPhysicalReads=\"0\" ActualLobReadAheads=\"0\" ActualRowsRead=\"3698526\" ActualEndOfScans=\"1\" ActualExecutions=\"1\"></RunTimeCountersPerThread><RunTimeCountersPerThread Thread=\"5\" ActualRows=\"2852741\" Batches=\"0\" ActualExecutionMode=\"Row\" ActualElapsedms=\"1929\" ActualCPUms=\"1927\" ActualScans=\"1\" ActualLogicalReads=\"94464\" ActualPhysicalReads=\"0\" ActualReadAheads=\"0\" ActualLobLogicalReads=\"0\" ActualLobPhysicalReads=\"0\" ActualLobReadAheads=\"0\" ActualRowsRead=\"3702983\" ActualEndOfScans=\"1\" ActualExecutions=\"1\"></RunTimeCountersPerThread><RunTimeCountersPerThread Thread=\"4\" ActualRows=\"2802994\" Batches=\"0\" ActualExecutionMode=\"Row\" ActualElapsedms=\"1941\" ActualCPUms=\"1938\" ActualScans=\"1\" ActualLogicalReads=\"93440\" ActualPhysicalReads=\"0\" ActualReadAheads=\"0\" ActualLobLogicalReads=\"0\" ActualLobPhysicalReads=\"0\" ActualLobReadAheads=\"0\" ActualRowsRead=\"3665782\" ActualEndOfScans=\"1\" ActualExecutions=\"1\"></RunTimeCountersPerThread><RunTimeCountersPerThread Thread=\"3\" ActualRows=\"2854202\" Batches=\"0\" ActualExecutionMode=\"Row\" ActualElapsedms=\"1975\" ActualCPUms=\"1973\" ActualScans=\"1\" ActualLogicalReads=\"95232\" ActualPhysicalReads=\"0\" ActualReadAheads=\"0\" ActualLobLogicalReads=\"0\" ActualLobPhysicalReads=\"0\" ActualLobReadAheads=\"0\" ActualRowsRead=\"3732144\" ActualEndOfScans=\"1\" ActualExecutions=\"1\"></RunTimeCountersPerThread><RunTimeCountersPerThread Thread=\"2\" ActualRows=\"2825369\" Batches=\"0\" ActualExecutionMode=\"Row\" ActualElapsedms=\"1934\" ActualCPUms=\"1932\" ActualScans=\"1\" ActualLogicalReads=\"93568\" ActualPhysicalReads=\"0\" ActualReadAheads=\"0\" ActualLobLogicalReads=\"0\" ActualLobPhysicalReads=\"0\" ActualLobReadAheads=\"0\" ActualRowsRead=\"3675515\" ActualEndOfScans=\"1\" ActualExecutions=\"1\"></RunTimeCountersPerThread><RunTimeCountersPerThread Thread=\"1\" ActualRows=\"2827908\" Batches=\"0\" ActualExecutionMode=\"Row\" ActualElapsedms=\"1943\" ActualCPUms=\"1938\" ActualScans=\"1\" ActualLogicalReads=\"94592\" ActualPhysicalReads=\"0\" ActualReadAheads=\"0\" ActualLobLogicalReads=\"0\" ActualLobPhysicalReads=\"0\" ActualLobReadAheads=\"0\" ActualRowsRead=\"3709194\" ActualEndOfScans=\"1\" ActualExecutions=\"1\"></RunTimeCountersPerThread><RunTimeCountersPerThread Thread=\"0\" ActualRows=\"0\" Batches=\"0\" ActualExecutionMode=\"Row\" ActualElapsedms=\"0\" ActualCPUms=\"0\" ActualScans=\"1\" ActualLogicalReads=\"0\" ActualPhysicalReads=\"0\" ActualReadAheads=\"0\" ActualLobLogicalReads=\"0\" ActualLobPhysicalReads=\"0\" ActualLobReadAheads=\"0\" ActualEndOfScans=\"0\" ActualExecutions=\"0\"></RunTimeCountersPerThread></RunTimeInformation><TableScan Ordered=\"0\" ForcedIndex=\"0\" ForceScan=\"0\" NoExpandHint=\"0\" Storage=\"RowStore\"><DefinedValues><DefinedValue><ColumnReference Database=\"[wideworldimportersdw]\" Schema=\"[Fact]\" Table=\"[OrderHistoryExtended]\" Column=\"Salesperson Key\"></ColumnReference></DefinedValue><DefinedValue><ColumnReference Database=\"[wideworldimportersdw]\" Schema=\"[Fact]\" Table=\"[OrderHistoryExtended]\" Column=\"Quantity\"></ColumnReference></DefinedValue><DefinedValue><ColumnReference Database=\"[wideworldimportersdw]\" Schema=\"[Fact]\" Table=\"[OrderHistoryExtended]\" Column=\"Unit Price\"></ColumnReference></DefinedValue><DefinedValue><ColumnReference Database=\"[wideworldimportersdw]\" Schema=\"[Fact]\" Table=\"[OrderHistoryExtended]\" Column=\"Tax Rate\"></ColumnReference></DefinedValue><DefinedValue><ColumnReference Database=\"[wideworldimportersdw]\" Schema=\"[Fact]\" Table=\"[OrderHistoryExtended]\" Column=\"Lineage Key\"></ColumnReference></DefinedValue></DefinedValues><Object Database=\"[wideworldimportersdw]\" Schema=\"[Fact]\" Table=\"[OrderHistoryExtended]\" IndexKind=\"Heap\" Storage=\"RowStore\"></Object><Predicate><ScalarOperator ScalarString=\"[wideworldimportersdw].[Fact].[OrderHistoryExtended].[Order Date Key]&lt;=&apos;2015-09-01 00:00:00.000&apos;\"><Compare CompareOp=\"LE\"><ScalarOperator><Identifier><ColumnReference Database=\"[wideworldimportersdw]\" Schema=\"[Fact]\" Table=\"[OrderHistoryExtended]\" Column=\"Order Date Key\"></ColumnReference></Identifier></ScalarOperator><ScalarOperator><Const ConstValue=\"&apos;2015-09-01 00:00:00.000&apos;\"></Const></ScalarOperator></Compare></ScalarOperator></Predicate></TableScan></RelOp></Hash></RelOp></Parallelism></RelOp></Sort></RelOp></StreamAggregate></RelOp></Parallelism></RelOp></ComputeScalar></RelOp></QueryPlan></StmtSimple></Statements></Batch></BatchSequence></ShowPlanXML>"
                                }
                            ]
                        },
                        "text/html": "<table><tr><th>Microsoft SQL Server 2005 XML Showplan</th></tr><tr><td>&lt;ShowPlanXML xmlns=&quot;http://schemas.microsoft.com/sqlserver/2004/07/showplan&quot; Version=&quot;1.524&quot; Build=&quot;15.0.1400.75&quot;&gt;&lt;BatchSequence&gt;&lt;Batch&gt;&lt;Statements&gt;&lt;StmtSimple StatementText=&quot;SELECT [Tax Rate], [Lineage Key], [Salesperson Key], SUM(Quantity) AS SUM_QTY, &amp;#xd;&amp;#xa;SUM([Unit Price]) AS SUM_BASE_PRICE, COUNT(*) AS COUNT_ORDER&amp;#xd;&amp;#xa;FROM Fact.OrderHistoryExtended&amp;#xd;&amp;#xa;WHERE [Order Date Key]&amp;lt;=DATEADD(dd, -73, &amp;apos;2015-11-13&amp;apos;)&amp;#xd;&amp;#xa;GROUP BY [Tax Rate], [Lineage Key], [Salesperson Key]&amp;#xd;&amp;#xa;ORDER BY [Tax Rate], [Lineage Key], [Salesperson Key]&quot; StatementId=&quot;1&quot; StatementCompId=&quot;1&quot; StatementType=&quot;SELECT&quot; StatementSqlHandle=&quot;0x09009175BCDBCCD0AD94FA0F2F50B77640990000000000000000000000000000000000000000000000000000&quot; DatabaseContextSettingsId=&quot;1&quot; ParentObjectId=&quot;0&quot; StatementParameterizationType=&quot;0&quot; RetrievedFromCache=&quot;true&quot; StatementSubTreeCost=&quot;611.723&quot; StatementEstRows=&quot;202&quot; SecurityPolicyApplied=&quot;false&quot; StatementOptmLevel=&quot;FULL&quot; QueryHash=&quot;0xCF8A6CEBEF3FF3FA&quot; QueryPlanHash=&quot;0x3B1D6DD71B6A16D6&quot; CardinalityEstimationModelVersion=&quot;150&quot;&gt;&lt;StatementSetOptions QUOTED_IDENTIFIER=&quot;true&quot; ARITHABORT=&quot;true&quot; CONCAT_NULL_YIELDS_NULL=&quot;true&quot; ANSI_NULLS=&quot;true&quot; ANSI_PADDING=&quot;true&quot; ANSI_WARNINGS=&quot;true&quot; NUMERIC_ROUNDABORT=&quot;false&quot;&gt;&lt;/StatementSetOptions&gt;&lt;QueryPlan DegreeOfParallelism=&quot;8&quot; MemoryGrant=&quot;14336&quot; CachedPlanSize=&quot;72&quot; CompileTime=&quot;4&quot; CompileCPU=&quot;4&quot; CompileMemory=&quot;432&quot;&gt;&lt;ThreadStat Branches=&quot;2&quot; UsedThreads=&quot;16&quot;&gt;&lt;ThreadReservation NodeId=&quot;0&quot; ReservedThreads=&quot;16&quot;&gt;&lt;/ThreadReservation&gt;&lt;/ThreadStat&gt;&lt;MissingIndexes&gt;&lt;MissingIndexGroup Impact=&quot;86.3845&quot;&gt;&lt;MissingIndex Database=&quot;[wideworldimportersdw]&quot; Schema=&quot;[Fact]&quot; Table=&quot;[OrderHistoryExtended]&quot;&gt;&lt;ColumnGroup Usage=&quot;INEQUALITY&quot;&gt;&lt;Column Name=&quot;[Order Date Key]&quot; ColumnId=&quot;5&quot;&gt;&lt;/Column&gt;&lt;/ColumnGroup&gt;&lt;ColumnGroup Usage=&quot;INCLUDE&quot;&gt;&lt;Column Name=&quot;[Salesperson Key]&quot; ColumnId=&quot;7&quot;&gt;&lt;/Column&gt;&lt;Column Name=&quot;[Quantity]&quot; ColumnId=&quot;13&quot;&gt;&lt;/Column&gt;&lt;Column Name=&quot;[Unit Price]&quot; ColumnId=&quot;14&quot;&gt;&lt;/Column&gt;&lt;Column Name=&quot;[Tax Rate]&quot; ColumnId=&quot;15&quot;&gt;&lt;/Column&gt;&lt;Column Name=&quot;[Lineage Key]&quot; ColumnId=&quot;19&quot;&gt;&lt;/Column&gt;&lt;/ColumnGroup&gt;&lt;/MissingIndex&gt;&lt;/MissingIndexGroup&gt;&lt;/MissingIndexes&gt;&lt;MemoryGrantInfo SerialRequiredMemory=&quot;1536&quot; SerialDesiredMemory=&quot;1696&quot; RequiredMemory=&quot;14144&quot; DesiredMemory=&quot;14336&quot; RequestedMemory=&quot;14336&quot; GrantWaitTime=&quot;0&quot; GrantedMemory=&quot;14336&quot; MaxUsedMemory=&quot;2496&quot; MaxQueryMemory=&quot;2899880&quot; LastRequestedMemory=&quot;14336&quot; IsMemoryGrantFeedbackAdjusted=&quot;No: Accurate Grant&quot;&gt;&lt;/MemoryGrantInfo&gt;&lt;OptimizerHardwareDependentProperties EstimatedAvailableMemoryGrant=&quot;241427&quot; EstimatedPagesCached=&quot;120713&quot; EstimatedAvailableDegreeOfParallelism=&quot;4&quot; MaxCompileMemory=&quot;11453152&quot;&gt;&lt;/OptimizerHardwareDependentProperties&gt;&lt;OptimizerStatsUsage&gt;&lt;StatisticsInfo LastUpdate=&quot;2019-04-06T18:53:50.59&quot; ModificationCount=&quot;0&quot; SamplingPercent=&quot;0.780031&quot; Statistics=&quot;[PK_Fact_OrderHistoryExtended]&quot; Table=&quot;[OrderHistoryExtended]&quot; Schema=&quot;[Fact]&quot; Database=&quot;[wideworldimportersdw]&quot;&gt;&lt;/StatisticsInfo&gt;&lt;StatisticsInfo LastUpdate=&quot;2019-04-06T18:53:50.99&quot; ModificationCount=&quot;0&quot; SamplingPercent=&quot;0.780031&quot; Statistics=&quot;[_WA_Sys_0000000F_55009F39]&quot; Table=&quot;[OrderHistoryExtended]&quot; Schema=&quot;[Fact]&quot; Database=&quot;[wideworldimportersdw]&quot;&gt;&lt;/StatisticsInfo&gt;&lt;StatisticsInfo LastUpdate=&quot;2019-04-06T18:53:50.39&quot; ModificationCount=&quot;0&quot; SamplingPercent=&quot;0.785301&quot; Statistics=&quot;[_WA_Sys_00000005_55009F39]&quot; Table=&quot;[OrderHistoryExtended]&quot; Schema=&quot;[Fact]&quot; Database=&quot;[wideworldimportersdw]&quot;&gt;&lt;/StatisticsInfo&gt;&lt;StatisticsInfo LastUpdate=&quot;2019-04-06T18:53:50.81&quot; ModificationCount=&quot;0&quot; SamplingPercent=&quot;0.780031&quot; Statistics=&quot;[_WA_Sys_00000007_55009F39]&quot; Table=&quot;[OrderHistoryExtended]&quot; Schema=&quot;[Fact]&quot; Database=&quot;[wideworldimportersdw]&quot;&gt;&lt;/StatisticsInfo&gt;&lt;StatisticsInfo LastUpdate=&quot;2019-04-06T18:53:51.18&quot; ModificationCount=&quot;0&quot; SamplingPercent=&quot;0.780031&quot; Statistics=&quot;[_WA_Sys_00000013_55009F39]&quot; Table=&quot;[OrderHistoryExtended]&quot; Schema=&quot;[Fact]&quot; Database=&quot;[wideworldimportersdw]&quot;&gt;&lt;/StatisticsInfo&gt;&lt;/OptimizerStatsUsage&gt;&lt;WaitStats&gt;&lt;Wait WaitType=&quot;CXPACKET&quot; WaitTimeMs=&quot;4939&quot; WaitCount=&quot;32&quot;&gt;&lt;/Wait&gt;&lt;Wait WaitType=&quot;SOS_SCHEDULER_YIELD&quot; WaitTimeMs=&quot;79&quot; WaitCount=&quot;9551&quot;&gt;&lt;/Wait&gt;&lt;Wait WaitType=&quot;LATCH_EX&quot; WaitTimeMs=&quot;30&quot; WaitCount=&quot;65&quot;&gt;&lt;/Wait&gt;&lt;/WaitStats&gt;&lt;QueryTimeStats ElapsedTime=&quot;4919&quot; CpuTime=&quot;39239&quot;&gt;&lt;/QueryTimeStats&gt;&lt;RelOp NodeId=&quot;1&quot; PhysicalOp=&quot;Compute Scalar&quot; LogicalOp=&quot;Compute Scalar&quot; EstimateRows=&quot;202&quot; EstimateIO=&quot;0&quot; EstimateCPU=&quot;2.02e-05&quot; AvgRowSize=&quot;49&quot; EstimatedTotalSubtreeCost=&quot;611.723&quot; Parallel=&quot;0&quot; EstimateRebinds=&quot;0&quot; EstimateRewinds=&quot;0&quot; EstimatedExecutionMode=&quot;Row&quot;&gt;&lt;OutputList&gt;&lt;ColumnReference Database=&quot;[wideworldimportersdw]&quot; Schema=&quot;[Fact]&quot; Table=&quot;[OrderHistoryExtended]&quot; Column=&quot;Salesperson Key&quot;&gt;&lt;/ColumnReference&gt;&lt;ColumnReference Database=&quot;[wideworldimportersdw]&quot; Schema=&quot;[Fact]&quot; Table=&quot;[OrderHistoryExtended]&quot; Column=&quot;Tax Rate&quot;&gt;&lt;/ColumnReference&gt;&lt;ColumnReference Database=&quot;[wideworldimportersdw]&quot; Schema=&quot;[Fact]&quot; Table=&quot;[OrderHistoryExtended]&quot; Column=&quot;Lineage Key&quot;&gt;&lt;/ColumnReference&gt;&lt;ColumnReference Column=&quot;Expr1003&quot;&gt;&lt;/ColumnReference&gt;&lt;ColumnReference Column=&quot;Expr1004&quot;&gt;&lt;/ColumnReference&gt;&lt;ColumnReference Column=&quot;Expr1005&quot;&gt;&lt;/ColumnReference&gt;&lt;/OutputList&gt;&lt;ComputeScalar&gt;&lt;DefinedValues&gt;&lt;DefinedValue&gt;&lt;ColumnReference Column=&quot;Expr1005&quot;&gt;&lt;/ColumnReference&gt;&lt;ScalarOperator ScalarString=&quot;CONVERT_IMPLICIT(int,[globalagg1009],0)&quot;&gt;&lt;Convert DataType=&quot;int&quot; Style=&quot;0&quot; Implicit=&quot;1&quot;&gt;&lt;ScalarOperator&gt;&lt;Identifier&gt;&lt;ColumnReference Column=&quot;globalagg1009&quot;&gt;&lt;/ColumnReference&gt;&lt;/Identifier&gt;&lt;/ScalarOperator&gt;&lt;/Convert&gt;&lt;/ScalarOperator&gt;&lt;/DefinedValue&gt;&lt;/DefinedValues&gt;&lt;RelOp NodeId=&quot;2&quot; PhysicalOp=&quot;Parallelism&quot; LogicalOp=&quot;Gather Streams&quot; EstimateRows=&quot;202&quot; EstimateIO=&quot;0&quot; EstimateCPU=&quot;0.0298729&quot; AvgRowSize=&quot;53&quot; EstimatedTotalSubtreeCost=&quot;611.723&quot; Parallel=&quot;1&quot; EstimateRebinds=&quot;0&quot; EstimateRewinds=&quot;0&quot; EstimatedExecutionMode=&quot;Row&quot;&gt;&lt;OutputList&gt;&lt;ColumnReference Database=&quot;[wideworldimportersdw]&quot; Schema=&quot;[Fact]&quot; Table=&quot;[OrderHistoryExtended]&quot; Column=&quot;Salesperson Key&quot;&gt;&lt;/ColumnReference&gt;&lt;ColumnReference Database=&quot;[wideworldimportersdw]&quot; Schema=&quot;[Fact]&quot; Table=&quot;[OrderHistoryExtended]&quot; Column=&quot;Tax Rate&quot;&gt;&lt;/ColumnReference&gt;&lt;ColumnReference Database=&quot;[wideworldimportersdw]&quot; Schema=&quot;[Fact]&quot; Table=&quot;[OrderHistoryExtended]&quot; Column=&quot;Lineage Key&quot;&gt;&lt;/ColumnReference&gt;&lt;ColumnReference Column=&quot;Expr1003&quot;&gt;&lt;/ColumnReference&gt;&lt;ColumnReference Column=&quot;Expr1004&quot;&gt;&lt;/ColumnReference&gt;&lt;ColumnReference Column=&quot;globalagg1009&quot;&gt;&lt;/ColumnReference&gt;&lt;/OutputList&gt;&lt;RunTimeInformation&gt;&lt;RunTimeCountersPerThread Thread=&quot;0&quot; ActualRows=&quot;100&quot; Batches=&quot;0&quot; ActualExecutionMode=&quot;Row&quot; ActualElapsedms=&quot;4919&quot; ActualCPUms=&quot;0&quot; ActualEndOfScans=&quot;1&quot; ActualExecutions=&quot;1&quot;&gt;&lt;/RunTimeCountersPerThread&gt;&lt;/RunTimeInformation&gt;&lt;Parallelism&gt;&lt;OrderBy&gt;&lt;OrderByColumn Ascending=&quot;1&quot;&gt;&lt;ColumnReference Database=&quot;[wideworldimportersdw]&quot; Schema=&quot;[Fact]&quot; Table=&quot;[OrderHistoryExtended]&quot; Column=&quot;Tax Rate&quot;&gt;&lt;/ColumnReference&gt;&lt;/OrderByColumn&gt;&lt;OrderByColumn Ascending=&quot;1&quot;&gt;&lt;ColumnReference Database=&quot;[wideworldimportersdw]&quot; Schema=&quot;[Fact]&quot; Table=&quot;[OrderHistoryExtended]&quot; Column=&quot;Lineage Key&quot;&gt;&lt;/ColumnReference&gt;&lt;/OrderByColumn&gt;&lt;OrderByColumn Ascending=&quot;1&quot;&gt;&lt;ColumnReference Database=&quot;[wideworldimportersdw]&quot; Schema=&quot;[Fact]&quot; Table=&quot;[OrderHistoryExtended]&quot; Column=&quot;Salesperson Key&quot;&gt;&lt;/ColumnReference&gt;&lt;/OrderByColumn&gt;&lt;/OrderBy&gt;&lt;RelOp NodeId=&quot;3&quot; PhysicalOp=&quot;Stream Aggregate&quot; LogicalOp=&quot;Aggregate&quot; EstimateRows=&quot;202&quot; EstimateIO=&quot;0&quot; EstimateCPU=&quot;0.00014645&quot; AvgRowSize=&quot;53&quot; EstimatedTotalSubtreeCost=&quot;611.693&quot; Parallel=&quot;1&quot; EstimateRebinds=&quot;0&quot; EstimateRewinds=&quot;0&quot; EstimatedExecutionMode=&quot;Row&quot;&gt;&lt;OutputList&gt;&lt;ColumnReference Database=&quot;[wideworldimportersdw]&quot; Schema=&quot;[Fact]&quot; Table=&quot;[OrderHistoryExtended]&quot; Column=&quot;Salesperson Key&quot;&gt;&lt;/ColumnReference&gt;&lt;ColumnReference Database=&quot;[wideworldimportersdw]&quot; Schema=&quot;[Fact]&quot; Table=&quot;[OrderHistoryExtended]&quot; Column=&quot;Tax Rate&quot;&gt;&lt;/ColumnReference&gt;&lt;ColumnReference Database=&quot;[wideworldimportersdw]&quot; Schema=&quot;[Fact]&quot; Table=&quot;[OrderHistoryExtended]&quot; Column=&quot;Lineage Key&quot;&gt;&lt;/ColumnReference&gt;&lt;ColumnReference Column=&quot;Expr1003&quot;&gt;&lt;/ColumnReference&gt;&lt;ColumnReference Column=&quot;Expr1004&quot;&gt;&lt;/ColumnReference&gt;&lt;ColumnReference Column=&quot;globalagg1009&quot;&gt;&lt;/ColumnReference&gt;&lt;/OutputList&gt;&lt;RunTimeInformation&gt;&lt;RunTimeCountersPerThread Thread=&quot;8&quot; ActualRows=&quot;13&quot; Batches=&quot;0&quot; ActualExecutionMode=&quot;Row&quot; ActualElapsedms=&quot;4918&quot; ActualCPUms=&quot;0&quot; ActualEndOfScans=&quot;1&quot; ActualExecutions=&quot;1&quot;&gt;&lt;/RunTimeCountersPerThread&gt;&lt;RunTimeCountersPerThread Thread=&quot;7&quot; ActualRows=&quot;13&quot; Batches=&quot;0&quot; ActualExecutionMode=&quot;Row&quot; ActualElapsedms=&quot;4918&quot; ActualCPUms=&quot;0&quot; ActualEndOfScans=&quot;1&quot; ActualExecutions=&quot;1&quot;&gt;&lt;/RunTimeCountersPerThread&gt;&lt;RunTimeCountersPerThread Thread=&quot;6&quot; ActualRows=&quot;14&quot; Batches=&quot;0&quot; ActualExecutionMode=&quot;Row&quot; ActualElapsedms=&quot;4918&quot; ActualCPUms=&quot;0&quot; ActualEndOfScans=&quot;1&quot; ActualExecutions=&quot;1&quot;&gt;&lt;/RunTimeCountersPerThread&gt;&lt;RunTimeCountersPerThread Thread=&quot;5&quot; ActualRows=&quot;9&quot; Batches=&quot;0&quot; ActualExecutionMode=&quot;Row&quot; ActualElapsedms=&quot;4918&quot; ActualCPUms=&quot;0&quot; ActualEndOfScans=&quot;1&quot; ActualExecutions=&quot;1&quot;&gt;&lt;/RunTimeCountersPerThread&gt;&lt;RunTimeCountersPerThread Thread=&quot;4&quot; ActualRows=&quot;12&quot; Batches=&quot;0&quot; ActualExecutionMode=&quot;Row&quot; ActualElapsedms=&quot;4918&quot; ActualCPUms=&quot;0&quot; ActualEndOfScans=&quot;1&quot; ActualExecutions=&quot;1&quot;&gt;&lt;/RunTimeCountersPerThread&gt;&lt;RunTimeCountersPerThread Thread=&quot;3&quot; ActualRows=&quot;13&quot; Batches=&quot;0&quot; ActualExecutionMode=&quot;Row&quot; ActualElapsedms=&quot;4918&quot; ActualCPUms=&quot;0&quot; ActualEndOfScans=&quot;1&quot; ActualExecutions=&quot;1&quot;&gt;&lt;/RunTimeCountersPerThread&gt;&lt;RunTimeCountersPerThread Thread=&quot;2&quot; ActualRows=&quot;17&quot; Batches=&quot;0&quot; ActualExecutionMode=&quot;Row&quot; ActualElapsedms=&quot;4918&quot; ActualCPUms=&quot;0&quot; ActualEndOfScans=&quot;1&quot; ActualExecutions=&quot;1&quot;&gt;&lt;/RunTimeCountersPerThread&gt;&lt;RunTimeCountersPerThread Thread=&quot;1&quot; ActualRows=&quot;9&quot; Batches=&quot;0&quot; ActualExecutionMode=&quot;Row&quot; ActualElapsedms=&quot;4918&quot; ActualCPUms=&quot;0&quot; ActualEndOfScans=&quot;1&quot; ActualExecutions=&quot;1&quot;&gt;&lt;/RunTimeCountersPerThread&gt;&lt;RunTimeCountersPerThread Thread=&quot;0&quot; ActualRows=&quot;0&quot; Batches=&quot;0&quot; ActualExecutionMode=&quot;Row&quot; ActualElapsedms=&quot;0&quot; ActualCPUms=&quot;0&quot; ActualEndOfScans=&quot;0&quot; ActualExecutions=&quot;0&quot;&gt;&lt;/RunTimeCountersPerThread&gt;&lt;/RunTimeInformation&gt;&lt;StreamAggregate&gt;&lt;DefinedValues&gt;&lt;DefinedValue&gt;&lt;ColumnReference Column=&quot;Expr1003&quot;&gt;&lt;/ColumnReference&gt;&lt;ScalarOperator ScalarString=&quot;SUM([partialagg1006])&quot;&gt;&lt;Aggregate Distinct=&quot;0&quot; AggType=&quot;SUM&quot;&gt;&lt;ScalarOperator&gt;&lt;Identifier&gt;&lt;ColumnReference Column=&quot;partialagg1006&quot;&gt;&lt;/ColumnReference&gt;&lt;/Identifier&gt;&lt;/ScalarOperator&gt;&lt;/Aggregate&gt;&lt;/ScalarOperator&gt;&lt;/DefinedValue&gt;&lt;DefinedValue&gt;&lt;ColumnReference Column=&quot;Expr1004&quot;&gt;&lt;/ColumnReference&gt;&lt;ScalarOperator ScalarString=&quot;SUM([partialagg1007])&quot;&gt;&lt;Aggregate Distinct=&quot;0&quot; AggType=&quot;SUM&quot;&gt;&lt;ScalarOperator&gt;&lt;Identifier&gt;&lt;ColumnReference Column=&quot;partialagg1007&quot;&gt;&lt;/ColumnReference&gt;&lt;/Identifier&gt;&lt;/ScalarOperator&gt;&lt;/Aggregate&gt;&lt;/ScalarOperator&gt;&lt;/DefinedValue&gt;&lt;DefinedValue&gt;&lt;ColumnReference Column=&quot;globalagg1009&quot;&gt;&lt;/ColumnReference&gt;&lt;ScalarOperator ScalarString=&quot;SUM([partialagg1008])&quot;&gt;&lt;Aggregate Distinct=&quot;0&quot; AggType=&quot;SUM&quot;&gt;&lt;ScalarOperator&gt;&lt;Identifier&gt;&lt;ColumnReference Column=&quot;partialagg1008&quot;&gt;&lt;/ColumnReference&gt;&lt;/Identifier&gt;&lt;/ScalarOperator&gt;&lt;/Aggregate&gt;&lt;/ScalarOperator&gt;&lt;/DefinedValue&gt;&lt;/DefinedValues&gt;&lt;GroupBy&gt;&lt;ColumnReference Database=&quot;[wideworldimportersdw]&quot; Schema=&quot;[Fact]&quot; Table=&quot;[OrderHistoryExtended]&quot; Column=&quot;Tax Rate&quot;&gt;&lt;/ColumnReference&gt;&lt;ColumnReference Database=&quot;[wideworldimportersdw]&quot; Schema=&quot;[Fact]&quot; Table=&quot;[OrderHistoryExtended]&quot; Column=&quot;Lineage Key&quot;&gt;&lt;/ColumnReference&gt;&lt;ColumnReference Database=&quot;[wideworldimportersdw]&quot; Schema=&quot;[Fact]&quot; Table=&quot;[OrderHistoryExtended]&quot; Column=&quot;Salesperson Key&quot;&gt;&lt;/ColumnReference&gt;&lt;/GroupBy&gt;&lt;RelOp NodeId=&quot;4&quot; PhysicalOp=&quot;Sort&quot; LogicalOp=&quot;Sort&quot; EstimateRows=&quot;808&quot; EstimateIO=&quot;0.00281532&quot; EstimateCPU=&quot;0.00306851&quot; AvgRowSize=&quot;53&quot; EstimatedTotalSubtreeCost=&quot;611.693&quot; Parallel=&quot;1&quot; EstimateRebinds=&quot;0&quot; EstimateRewinds=&quot;0&quot; EstimatedExecutionMode=&quot;Row&quot;&gt;&lt;OutputList&gt;&lt;ColumnReference Database=&quot;[wideworldimportersdw]&quot; Schema=&quot;[Fact]&quot; Table=&quot;[OrderHistoryExtended]&quot; Column=&quot;Salesperson Key&quot;&gt;&lt;/ColumnReference&gt;&lt;ColumnReference Database=&quot;[wideworldimportersdw]&quot; Schema=&quot;[Fact]&quot; Table=&quot;[OrderHistoryExtended]&quot; Column=&quot;Tax Rate&quot;&gt;&lt;/ColumnReference&gt;&lt;ColumnReference Database=&quot;[wideworldimportersdw]&quot; Schema=&quot;[Fact]&quot; Table=&quot;[OrderHistoryExtended]&quot; Column=&quot;Lineage Key&quot;&gt;&lt;/ColumnReference&gt;&lt;ColumnReference Column=&quot;partialagg1006&quot;&gt;&lt;/ColumnReference&gt;&lt;ColumnReference Column=&quot;partialagg1007&quot;&gt;&lt;/ColumnReference&gt;&lt;ColumnReference Column=&quot;partialagg1008&quot;&gt;&lt;/ColumnReference&gt;&lt;/OutputList&gt;&lt;MemoryFractions Input=&quot;1&quot; Output=&quot;1&quot;&gt;&lt;/MemoryFractions&gt;&lt;RunTimeInformation&gt;&lt;RunTimeCountersPerThread Thread=&quot;8&quot; ActualRows=&quot;104&quot; Batches=&quot;0&quot; ActualExecutionMode=&quot;Row&quot; ActualElapsedms=&quot;4918&quot; ActualCPUms=&quot;0&quot; ActualScans=&quot;0&quot; ActualLogicalReads=&quot;0&quot; ActualPhysicalReads=&quot;0&quot; ActualReadAheads=&quot;0&quot; ActualLobLogicalReads=&quot;0&quot; ActualLobPhysicalReads=&quot;0&quot; ActualLobReadAheads=&quot;0&quot; ActualRebinds=&quot;1&quot; ActualRewinds=&quot;0&quot; ActualEndOfScans=&quot;1&quot; ActualExecutions=&quot;1&quot; InputMemoryGrant=&quot;536&quot; OutputMemoryGrant=&quot;152&quot; UsedMemoryGrant=&quot;16&quot;&gt;&lt;/RunTimeCountersPerThread&gt;&lt;RunTimeCountersPerThread Thread=&quot;7&quot; ActualRows=&quot;104&quot; Batches=&quot;0&quot; ActualExecutionMode=&quot;Row&quot; ActualElapsedms=&quot;4918&quot; ActualCPUms=&quot;0&quot; ActualScans=&quot;0&quot; ActualLogicalReads=&quot;0&quot; ActualPhysicalReads=&quot;0&quot; ActualReadAheads=&quot;0&quot; ActualLobLogicalReads=&quot;0&quot; ActualLobPhysicalReads=&quot;0&quot; ActualLobReadAheads=&quot;0&quot; ActualRebinds=&quot;1&quot; ActualRewinds=&quot;0&quot; ActualEndOfScans=&quot;1&quot; ActualExecutions=&quot;1&quot; InputMemoryGrant=&quot;536&quot; OutputMemoryGrant=&quot;152&quot; UsedMemoryGrant=&quot;16&quot;&gt;&lt;/RunTimeCountersPerThread&gt;&lt;RunTimeCountersPerThread Thread=&quot;6&quot; ActualRows=&quot;112&quot; Batches=&quot;0&quot; ActualExecutionMode=&quot;Row&quot; ActualElapsedms=&quot;4918&quot; ActualCPUms=&quot;0&quot; ActualScans=&quot;0&quot; ActualLogicalReads=&quot;0&quot; ActualPhysicalReads=&quot;0&quot; ActualReadAheads=&quot;0&quot; ActualLobLogicalReads=&quot;0&quot; ActualLobPhysicalReads=&quot;0&quot; ActualLobReadAheads=&quot;0&quot; ActualRebinds=&quot;1&quot; ActualRewinds=&quot;0&quot; ActualEndOfScans=&quot;1&quot; ActualExecutions=&quot;1&quot; InputMemoryGrant=&quot;536&quot; OutputMemoryGrant=&quot;152&quot; UsedMemoryGrant=&quot;16&quot;&gt;&lt;/RunTimeCountersPerThread&gt;&lt;RunTimeCountersPerThread Thread=&quot;5&quot; ActualRows=&quot;72&quot; Batches=&quot;0&quot; ActualExecutionMode=&quot;Row&quot; ActualElapsedms=&quot;4918&quot; ActualCPUms=&quot;0&quot; ActualScans=&quot;0&quot; ActualLogicalReads=&quot;0&quot; ActualPhysicalReads=&quot;0&quot; ActualReadAheads=&quot;0&quot; ActualLobLogicalReads=&quot;0&quot; ActualLobPhysicalReads=&quot;0&quot; ActualLobReadAheads=&quot;0&quot; ActualRebinds=&quot;1&quot; ActualRewinds=&quot;0&quot; ActualEndOfScans=&quot;1&quot; ActualExecutions=&quot;1&quot; InputMemoryGrant=&quot;536&quot; OutputMemoryGrant=&quot;152&quot; UsedMemoryGrant=&quot;16&quot;&gt;&lt;/RunTimeCountersPerThread&gt;&lt;RunTimeCountersPerThread Thread=&quot;4&quot; ActualRows=&quot;96&quot; Batches=&quot;0&quot; ActualExecutionMode=&quot;Row&quot; ActualElapsedms=&quot;4918&quot; ActualCPUms=&quot;0&quot; ActualScans=&quot;0&quot; ActualLogicalReads=&quot;0&quot; ActualPhysicalReads=&quot;0&quot; ActualReadAheads=&quot;0&quot; ActualLobLogicalReads=&quot;0&quot; ActualLobPhysicalReads=&quot;0&quot; ActualLobReadAheads=&quot;0&quot; ActualRebinds=&quot;1&quot; ActualRewinds=&quot;0&quot; ActualEndOfScans=&quot;1&quot; ActualExecutions=&quot;1&quot; InputMemoryGrant=&quot;536&quot; OutputMemoryGrant=&quot;152&quot; UsedMemoryGrant=&quot;16&quot;&gt;&lt;/RunTimeCountersPerThread&gt;&lt;RunTimeCountersPerThread Thread=&quot;3&quot; ActualRows=&quot;104&quot; Batches=&quot;0&quot; ActualExecutionMode=&quot;Row&quot; ActualElapsedms=&quot;4918&quot; ActualCPUms=&quot;0&quot; ActualScans=&quot;0&quot; ActualLogicalReads=&quot;0&quot; ActualPhysicalReads=&quot;0&quot; ActualReadAheads=&quot;0&quot; ActualLobLogicalReads=&quot;0&quot; ActualLobPhysicalReads=&quot;0&quot; ActualLobReadAheads=&quot;0&quot; ActualRebinds=&quot;1&quot; ActualRewinds=&quot;0&quot; ActualEndOfScans=&quot;1&quot; ActualExecutions=&quot;1&quot; InputMemoryGrant=&quot;536&quot; OutputMemoryGrant=&quot;152&quot; UsedMemoryGrant=&quot;16&quot;&gt;&lt;/RunTimeCountersPerThread&gt;&lt;RunTimeCountersPerThread Thread=&quot;2&quot; ActualRows=&quot;136&quot; Batches=&quot;0&quot; ActualExecutionMode=&quot;Row&quot; ActualElapsedms=&quot;4918&quot; ActualCPUms=&quot;0&quot; ActualScans=&quot;0&quot; ActualLogicalReads=&quot;0&quot; ActualPhysicalReads=&quot;0&quot; ActualReadAheads=&quot;0&quot; ActualLobLogicalReads=&quot;0&quot; ActualLobPhysicalReads=&quot;0&quot; ActualLobReadAheads=&quot;0&quot; ActualRebinds=&quot;1&quot; ActualRewinds=&quot;0&quot; ActualEndOfScans=&quot;1&quot; ActualExecutions=&quot;1&quot; InputMemoryGrant=&quot;536&quot; OutputMemoryGrant=&quot;152&quot; UsedMemoryGrant=&quot;16&quot;&gt;&lt;/RunTimeCountersPerThread&gt;&lt;RunTimeCountersPerThread Thread=&quot;1&quot; ActualRows=&quot;72&quot; Batches=&quot;0&quot; ActualExecutionMode=&quot;Row&quot; ActualElapsedms=&quot;4918&quot; ActualCPUms=&quot;0&quot; ActualScans=&quot;0&quot; ActualLogicalReads=&quot;0&quot; ActualPhysicalReads=&quot;0&quot; ActualReadAheads=&quot;0&quot; ActualLobLogicalReads=&quot;0&quot; ActualLobPhysicalReads=&quot;0&quot; ActualLobReadAheads=&quot;0&quot; ActualRebinds=&quot;1&quot; ActualRewinds=&quot;0&quot; ActualEndOfScans=&quot;1&quot; ActualExecutions=&quot;1&quot; InputMemoryGrant=&quot;536&quot; OutputMemoryGrant=&quot;152&quot; UsedMemoryGrant=&quot;16&quot;&gt;&lt;/RunTimeCountersPerThread&gt;&lt;RunTimeCountersPerThread Thread=&quot;0&quot; ActualRows=&quot;0&quot; Batches=&quot;0&quot; ActualExecutionMode=&quot;Row&quot; ActualElapsedms=&quot;0&quot; ActualCPUms=&quot;0&quot; ActualScans=&quot;0&quot; ActualLogicalReads=&quot;0&quot; ActualPhysicalReads=&quot;0&quot; ActualReadAheads=&quot;0&quot; ActualLobLogicalReads=&quot;0&quot; ActualLobPhysicalReads=&quot;0&quot; ActualLobReadAheads=&quot;0&quot; ActualRebinds=&quot;0&quot; ActualRewinds=&quot;0&quot; ActualEndOfScans=&quot;0&quot; ActualExecutions=&quot;0&quot; InputMemoryGrant=&quot;0&quot; OutputMemoryGrant=&quot;0&quot; UsedMemoryGrant=&quot;0&quot;&gt;&lt;/RunTimeCountersPerThread&gt;&lt;/RunTimeInformation&gt;&lt;Sort Distinct=&quot;0&quot;&gt;&lt;OrderBy&gt;&lt;OrderByColumn Ascending=&quot;1&quot;&gt;&lt;ColumnReference Database=&quot;[wideworldimportersdw]&quot; Schema=&quot;[Fact]&quot; Table=&quot;[OrderHistoryExtended]&quot; Column=&quot;Tax Rate&quot;&gt;&lt;/ColumnReference&gt;&lt;/OrderByColumn&gt;&lt;OrderByColumn Ascending=&quot;1&quot;&gt;&lt;ColumnReference Database=&quot;[wideworldimportersdw]&quot; Schema=&quot;[Fact]&quot; Table=&quot;[OrderHistoryExtended]&quot; Column=&quot;Lineage Key&quot;&gt;&lt;/ColumnReference&gt;&lt;/OrderByColumn&gt;&lt;OrderByColumn Ascending=&quot;1&quot;&gt;&lt;ColumnReference Database=&quot;[wideworldimportersdw]&quot; Schema=&quot;[Fact]&quot; Table=&quot;[OrderHistoryExtended]&quot; Column=&quot;Salesperson Key&quot;&gt;&lt;/ColumnReference&gt;&lt;/OrderByColumn&gt;&lt;/OrderBy&gt;&lt;RelOp NodeId=&quot;5&quot; PhysicalOp=&quot;Parallelism&quot; LogicalOp=&quot;Repartition Streams&quot; EstimateRows=&quot;808&quot; EstimateIO=&quot;0&quot; EstimateCPU=&quot;0.0302085&quot; AvgRowSize=&quot;53&quot; EstimatedTotalSubtreeCost=&quot;611.687&quot; Parallel=&quot;1&quot; EstimateRebinds=&quot;0&quot; EstimateRewinds=&quot;0&quot; EstimatedExecutionMode=&quot;Row&quot;&gt;&lt;OutputList&gt;&lt;ColumnReference Database=&quot;[wideworldimportersdw]&quot; Schema=&quot;[Fact]&quot; Table=&quot;[OrderHistoryExtended]&quot; Column=&quot;Salesperson Key&quot;&gt;&lt;/ColumnReference&gt;&lt;ColumnReference Database=&quot;[wideworldimportersdw]&quot; Schema=&quot;[Fact]&quot; Table=&quot;[OrderHistoryExtended]&quot; Column=&quot;Tax Rate&quot;&gt;&lt;/ColumnReference&gt;&lt;ColumnReference Database=&quot;[wideworldimportersdw]&quot; Schema=&quot;[Fact]&quot; Table=&quot;[OrderHistoryExtended]&quot; Column=&quot;Lineage Key&quot;&gt;&lt;/ColumnReference&gt;&lt;ColumnReference Column=&quot;partialagg1006&quot;&gt;&lt;/ColumnReference&gt;&lt;ColumnReference Column=&quot;partialagg1007&quot;&gt;&lt;/ColumnReference&gt;&lt;ColumnReference Column=&quot;partialagg1008&quot;&gt;&lt;/ColumnReference&gt;&lt;/OutputList&gt;&lt;RunTimeInformation&gt;&lt;RunTimeCountersPerThread Thread=&quot;8&quot; ActualRows=&quot;104&quot; Batches=&quot;0&quot; ActualExecutionMode=&quot;Row&quot; ActualElapsedms=&quot;4917&quot; ActualCPUms=&quot;0&quot; ActualEndOfScans=&quot;1&quot; ActualExecutions=&quot;1&quot;&gt;&lt;/RunTimeCountersPerThread&gt;&lt;RunTimeCountersPerThread Thread=&quot;7&quot; ActualRows=&quot;104&quot; Batches=&quot;0&quot; ActualExecutionMode=&quot;Row&quot; ActualElapsedms=&quot;4917&quot; ActualCPUms=&quot;0&quot; ActualEndOfScans=&quot;1&quot; ActualExecutions=&quot;1&quot;&gt;&lt;/RunTimeCountersPerThread&gt;&lt;RunTimeCountersPerThread Thread=&quot;6&quot; ActualRows=&quot;112&quot; Batches=&quot;0&quot; ActualExecutionMode=&quot;Row&quot; ActualElapsedms=&quot;4917&quot; ActualCPUms=&quot;0&quot; ActualEndOfScans=&quot;1&quot; ActualExecutions=&quot;1&quot;&gt;&lt;/RunTimeCountersPerThread&gt;&lt;RunTimeCountersPerThread Thread=&quot;5&quot; ActualRows=&quot;72&quot; Batches=&quot;0&quot; ActualExecutionMode=&quot;Row&quot; ActualElapsedms=&quot;4917&quot; ActualCPUms=&quot;0&quot; ActualEndOfScans=&quot;1&quot; ActualExecutions=&quot;1&quot;&gt;&lt;/RunTimeCountersPerThread&gt;&lt;RunTimeCountersPerThread Thread=&quot;4&quot; ActualRows=&quot;96&quot; Batches=&quot;0&quot; ActualExecutionMode=&quot;Row&quot; ActualElapsedms=&quot;4918&quot; ActualCPUms=&quot;0&quot; ActualEndOfScans=&quot;1&quot; ActualExecutions=&quot;1&quot;&gt;&lt;/RunTimeCountersPerThread&gt;&lt;RunTimeCountersPerThread Thread=&quot;3&quot; ActualRows=&quot;104&quot; Batches=&quot;0&quot; ActualExecutionMode=&quot;Row&quot; ActualElapsedms=&quot;4918&quot; ActualCPUms=&quot;0&quot; ActualEndOfScans=&quot;1&quot; ActualExecutions=&quot;1&quot;&gt;&lt;/RunTimeCountersPerThread&gt;&lt;RunTimeCountersPerThread Thread=&quot;2&quot; ActualRows=&quot;136&quot; Batches=&quot;0&quot; ActualExecutionMode=&quot;Row&quot; ActualElapsedms=&quot;4918&quot; ActualCPUms=&quot;0&quot; ActualEndOfScans=&quot;1&quot; ActualExecutions=&quot;1&quot;&gt;&lt;/RunTimeCountersPerThread&gt;&lt;RunTimeCountersPerThread Thread=&quot;1&quot; ActualRows=&quot;72&quot; Batches=&quot;0&quot; ActualExecutionMode=&quot;Row&quot; ActualElapsedms=&quot;4917&quot; ActualCPUms=&quot;0&quot; ActualEndOfScans=&quot;1&quot; ActualExecutions=&quot;1&quot;&gt;&lt;/RunTimeCountersPerThread&gt;&lt;RunTimeCountersPerThread Thread=&quot;0&quot; ActualRows=&quot;0&quot; Batches=&quot;0&quot; ActualExecutionMode=&quot;Row&quot; ActualElapsedms=&quot;0&quot; ActualCPUms=&quot;0&quot; ActualEndOfScans=&quot;0&quot; ActualExecutions=&quot;0&quot;&gt;&lt;/RunTimeCountersPerThread&gt;&lt;/RunTimeInformation&gt;&lt;Parallelism PartitioningType=&quot;Hash&quot;&gt;&lt;PartitionColumns&gt;&lt;ColumnReference Database=&quot;[wideworldimportersdw]&quot; Schema=&quot;[Fact]&quot; Table=&quot;[OrderHistoryExtended]&quot; Column=&quot;Tax Rate&quot;&gt;&lt;/ColumnReference&gt;&lt;ColumnReference Database=&quot;[wideworldimportersdw]&quot; Schema=&quot;[Fact]&quot; Table=&quot;[OrderHistoryExtended]&quot; Column=&quot;Lineage Key&quot;&gt;&lt;/ColumnReference&gt;&lt;ColumnReference Database=&quot;[wideworldimportersdw]&quot; Schema=&quot;[Fact]&quot; Table=&quot;[OrderHistoryExtended]&quot; Column=&quot;Salesperson Key&quot;&gt;&lt;/ColumnReference&gt;&lt;/PartitionColumns&gt;&lt;RelOp NodeId=&quot;6&quot; PhysicalOp=&quot;Hash Match&quot; LogicalOp=&quot;Partial Aggregate&quot; EstimateRows=&quot;808&quot; EstimateIO=&quot;0&quot; EstimateCPU=&quot;40.3654&quot; AvgRowSize=&quot;53&quot; EstimatedTotalSubtreeCost=&quot;611.657&quot; Parallel=&quot;1&quot; EstimateRebinds=&quot;0&quot; EstimateRewinds=&quot;0&quot; EstimatedExecutionMode=&quot;Row&quot;&gt;&lt;OutputList&gt;&lt;ColumnReference Database=&quot;[wideworldimportersdw]&quot; Schema=&quot;[Fact]&quot; Table=&quot;[OrderHistoryExtended]&quot; Column=&quot;Salesperson Key&quot;&gt;&lt;/ColumnReference&gt;&lt;ColumnReference Database=&quot;[wideworldimportersdw]&quot; Schema=&quot;[Fact]&quot; Table=&quot;[OrderHistoryExtended]&quot; Column=&quot;Tax Rate&quot;&gt;&lt;/ColumnReference&gt;&lt;ColumnReference Database=&quot;[wideworldimportersdw]&quot; Schema=&quot;[Fact]&quot; Table=&quot;[OrderHistoryExtended]&quot; Column=&quot;Lineage Key&quot;&gt;&lt;/ColumnReference&gt;&lt;ColumnReference Column=&quot;partialagg1006&quot;&gt;&lt;/ColumnReference&gt;&lt;ColumnReference Column=&quot;partialagg1007&quot;&gt;&lt;/ColumnReference&gt;&lt;ColumnReference Column=&quot;partialagg1008&quot;&gt;&lt;/ColumnReference&gt;&lt;/OutputList&gt;&lt;MemoryFractions Input=&quot;0&quot; Output=&quot;0&quot;&gt;&lt;/MemoryFractions&gt;&lt;RunTimeInformation&gt;&lt;RunTimeCountersPerThread Thread=&quot;8&quot; ActualRows=&quot;100&quot; Batches=&quot;0&quot; ActualExecutionMode=&quot;Row&quot; ActualElapsedms=&quot;4908&quot; ActualCPUms=&quot;4894&quot; ActualScans=&quot;0&quot; ActualLogicalReads=&quot;0&quot; ActualPhysicalReads=&quot;0&quot; ActualReadAheads=&quot;0&quot; ActualLobLogicalReads=&quot;0&quot; ActualLobPhysicalReads=&quot;0&quot; ActualLobReadAheads=&quot;0&quot; ActualEndOfScans=&quot;1&quot; ActualExecutions=&quot;1&quot; InputMemoryGrant=&quot;1024&quot; OutputMemoryGrant=&quot;1024&quot; UsedMemoryGrant=&quot;80&quot;&gt;&lt;/RunTimeCountersPerThread&gt;&lt;RunTimeCountersPerThread Thread=&quot;7&quot; ActualRows=&quot;100&quot; Batches=&quot;0&quot; ActualExecutionMode=&quot;Row&quot; ActualElapsedms=&quot;4913&quot; ActualCPUms=&quot;4901&quot; ActualScans=&quot;0&quot; ActualLogicalReads=&quot;0&quot; ActualPhysicalReads=&quot;0&quot; ActualReadAheads=&quot;0&quot; ActualLobLogicalReads=&quot;0&quot; ActualLobPhysicalReads=&quot;0&quot; ActualLobReadAheads=&quot;0&quot; ActualEndOfScans=&quot;1&quot; ActualExecutions=&quot;1&quot; InputMemoryGrant=&quot;1024&quot; OutputMemoryGrant=&quot;1024&quot; UsedMemoryGrant=&quot;80&quot;&gt;&lt;/RunTimeCountersPerThread&gt;&lt;RunTimeCountersPerThread Thread=&quot;6&quot; ActualRows=&quot;100&quot; Batches=&quot;0&quot; ActualExecutionMode=&quot;Row&quot; ActualElapsedms=&quot;4912&quot; ActualCPUms=&quot;4905&quot; ActualScans=&quot;0&quot; ActualLogicalReads=&quot;0&quot; ActualPhysicalReads=&quot;0&quot; ActualReadAheads=&quot;0&quot; ActualLobLogicalReads=&quot;0&quot; ActualLobPhysicalReads=&quot;0&quot; ActualLobReadAheads=&quot;0&quot; ActualEndOfScans=&quot;1&quot; ActualExecutions=&quot;1&quot; InputMemoryGrant=&quot;1024&quot; OutputMemoryGrant=&quot;1024&quot; UsedMemoryGrant=&quot;80&quot;&gt;&lt;/RunTimeCountersPerThread&gt;&lt;RunTimeCountersPerThread Thread=&quot;5&quot; ActualRows=&quot;100&quot; Batches=&quot;0&quot; ActualExecutionMode=&quot;Row&quot; ActualElapsedms=&quot;4901&quot; ActualCPUms=&quot;4898&quot; ActualScans=&quot;0&quot; ActualLogicalReads=&quot;0&quot; ActualPhysicalReads=&quot;0&quot; ActualReadAheads=&quot;0&quot; ActualLobLogicalReads=&quot;0&quot; ActualLobPhysicalReads=&quot;0&quot; ActualLobReadAheads=&quot;0&quot; ActualEndOfScans=&quot;1&quot; ActualExecutions=&quot;1&quot; InputMemoryGrant=&quot;1024&quot; OutputMemoryGrant=&quot;1024&quot; UsedMemoryGrant=&quot;80&quot;&gt;&lt;/RunTimeCountersPerThread&gt;&lt;RunTimeCountersPerThread Thread=&quot;4&quot; ActualRows=&quot;100&quot; Batches=&quot;0&quot; ActualExecutionMode=&quot;Row&quot; ActualElapsedms=&quot;4913&quot; ActualCPUms=&quot;4910&quot; ActualScans=&quot;0&quot; ActualLogicalReads=&quot;0&quot; ActualPhysicalReads=&quot;0&quot; ActualReadAheads=&quot;0&quot; ActualLobLogicalReads=&quot;0&quot; ActualLobPhysicalReads=&quot;0&quot; ActualLobReadAheads=&quot;0&quot; ActualEndOfScans=&quot;1&quot; ActualExecutions=&quot;1&quot; InputMemoryGrant=&quot;1024&quot; OutputMemoryGrant=&quot;1024&quot; UsedMemoryGrant=&quot;80&quot;&gt;&lt;/RunTimeCountersPerThread&gt;&lt;RunTimeCountersPerThread Thread=&quot;3&quot; ActualRows=&quot;100&quot; Batches=&quot;0&quot; ActualExecutionMode=&quot;Row&quot; ActualElapsedms=&quot;4913&quot; ActualCPUms=&quot;4910&quot; ActualScans=&quot;0&quot; ActualLogicalReads=&quot;0&quot; ActualPhysicalReads=&quot;0&quot; ActualReadAheads=&quot;0&quot; ActualLobLogicalReads=&quot;0&quot; ActualLobPhysicalReads=&quot;0&quot; ActualLobReadAheads=&quot;0&quot; ActualEndOfScans=&quot;1&quot; ActualExecutions=&quot;1&quot; InputMemoryGrant=&quot;1024&quot; OutputMemoryGrant=&quot;1024&quot; UsedMemoryGrant=&quot;80&quot;&gt;&lt;/RunTimeCountersPerThread&gt;&lt;RunTimeCountersPerThread Thread=&quot;2&quot; ActualRows=&quot;100&quot; Batches=&quot;0&quot; ActualExecutionMode=&quot;Row&quot; ActualElapsedms=&quot;4916&quot; ActualCPUms=&quot;4909&quot; ActualScans=&quot;0&quot; ActualLogicalReads=&quot;0&quot; ActualPhysicalReads=&quot;0&quot; ActualReadAheads=&quot;0&quot; ActualLobLogicalReads=&quot;0&quot; ActualLobPhysicalReads=&quot;0&quot; ActualLobReadAheads=&quot;0&quot; ActualEndOfScans=&quot;1&quot; ActualExecutions=&quot;1&quot; InputMemoryGrant=&quot;1024&quot; OutputMemoryGrant=&quot;1024&quot; UsedMemoryGrant=&quot;80&quot;&gt;&lt;/RunTimeCountersPerThread&gt;&lt;RunTimeCountersPerThread Thread=&quot;1&quot; ActualRows=&quot;100&quot; Batches=&quot;0&quot; ActualExecutionMode=&quot;Row&quot; ActualElapsedms=&quot;4901&quot; ActualCPUms=&quot;4894&quot; ActualScans=&quot;0&quot; ActualLogicalReads=&quot;0&quot; ActualPhysicalReads=&quot;0&quot; ActualReadAheads=&quot;0&quot; ActualLobLogicalReads=&quot;0&quot; ActualLobPhysicalReads=&quot;0&quot; ActualLobReadAheads=&quot;0&quot; ActualEndOfScans=&quot;1&quot; ActualExecutions=&quot;1&quot; InputMemoryGrant=&quot;1024&quot; OutputMemoryGrant=&quot;1024&quot; UsedMemoryGrant=&quot;80&quot;&gt;&lt;/RunTimeCountersPerThread&gt;&lt;RunTimeCountersPerThread Thread=&quot;0&quot; ActualRows=&quot;0&quot; Batches=&quot;0&quot; ActualExecutionMode=&quot;Row&quot; ActualElapsedms=&quot;0&quot; ActualCPUms=&quot;0&quot; ActualScans=&quot;0&quot; ActualLogicalReads=&quot;0&quot; ActualPhysicalReads=&quot;0&quot; ActualReadAheads=&quot;0&quot; ActualLobLogicalReads=&quot;0&quot; ActualLobPhysicalReads=&quot;0&quot; ActualLobReadAheads=&quot;0&quot; ActualEndOfScans=&quot;0&quot; ActualExecutions=&quot;0&quot; InputMemoryGrant=&quot;0&quot; OutputMemoryGrant=&quot;0&quot; UsedMemoryGrant=&quot;0&quot;&gt;&lt;/RunTimeCountersPerThread&gt;&lt;/RunTimeInformation&gt;&lt;Hash&gt;&lt;DefinedValues&gt;&lt;DefinedValue&gt;&lt;ColumnReference Column=&quot;partialagg1006&quot;&gt;&lt;/ColumnReference&gt;&lt;ScalarOperator ScalarString=&quot;SUM([wideworldimportersdw].[Fact].[OrderHistoryExtended].[Quantity])&quot;&gt;&lt;Aggregate Distinct=&quot;0&quot; AggType=&quot;SUM&quot;&gt;&lt;ScalarOperator&gt;&lt;Identifier&gt;&lt;ColumnReference Database=&quot;[wideworldimportersdw]&quot; Schema=&quot;[Fact]&quot; Table=&quot;[OrderHistoryExtended]&quot; Column=&quot;Quantity&quot;&gt;&lt;/ColumnReference&gt;&lt;/Identifier&gt;&lt;/ScalarOperator&gt;&lt;/Aggregate&gt;&lt;/ScalarOperator&gt;&lt;/DefinedValue&gt;&lt;DefinedValue&gt;&lt;ColumnReference Column=&quot;partialagg1007&quot;&gt;&lt;/ColumnReference&gt;&lt;ScalarOperator ScalarString=&quot;SUM([wideworldimportersdw].[Fact].[OrderHistoryExtended].[Unit Price])&quot;&gt;&lt;Aggregate Distinct=&quot;0&quot; AggType=&quot;SUM&quot;&gt;&lt;ScalarOperator&gt;&lt;Identifier&gt;&lt;ColumnReference Database=&quot;[wideworldimportersdw]&quot; Schema=&quot;[Fact]&quot; Table=&quot;[OrderHistoryExtended]&quot; Column=&quot;Unit Price&quot;&gt;&lt;/ColumnReference&gt;&lt;/Identifier&gt;&lt;/ScalarOperator&gt;&lt;/Aggregate&gt;&lt;/ScalarOperator&gt;&lt;/DefinedValue&gt;&lt;DefinedValue&gt;&lt;ColumnReference Column=&quot;partialagg1008&quot;&gt;&lt;/ColumnReference&gt;&lt;ScalarOperator ScalarString=&quot;COUNT(*)&quot;&gt;&lt;Aggregate Distinct=&quot;0&quot; AggType=&quot;COUNT*&quot;&gt;&lt;/Aggregate&gt;&lt;/ScalarOperator&gt;&lt;/DefinedValue&gt;&lt;/DefinedValues&gt;&lt;HashKeysBuild&gt;&lt;ColumnReference Database=&quot;[wideworldimportersdw]&quot; Schema=&quot;[Fact]&quot; Table=&quot;[OrderHistoryExtended]&quot; Column=&quot;Tax Rate&quot;&gt;&lt;/ColumnReference&gt;&lt;ColumnReference Database=&quot;[wideworldimportersdw]&quot; Schema=&quot;[Fact]&quot; Table=&quot;[OrderHistoryExtended]&quot; Column=&quot;Lineage Key&quot;&gt;&lt;/ColumnReference&gt;&lt;ColumnReference Database=&quot;[wideworldimportersdw]&quot; Schema=&quot;[Fact]&quot; Table=&quot;[OrderHistoryExtended]&quot; Column=&quot;Salesperson Key&quot;&gt;&lt;/ColumnReference&gt;&lt;/HashKeysBuild&gt;&lt;BuildResidual&gt;&lt;ScalarOperator ScalarString=&quot;[wideworldimportersdw].[Fact].[OrderHistoryExtended].[Tax Rate] = [wideworldimportersdw].[Fact].[OrderHistoryExtended].[Tax Rate] AND [wideworldimportersdw].[Fact].[OrderHistoryExtended].[Lineage Key] = [wideworldimportersdw].[Fact].[OrderHistoryExtended].[Lineage Key] AND [wideworldimportersdw].[Fact].[OrderHistoryExtended].[Salesperson Key] = [wideworldimportersdw].[Fact].[OrderHistoryExtended].[Salesperson Key]&quot;&gt;&lt;Logical Operation=&quot;AND&quot;&gt;&lt;ScalarOperator&gt;&lt;Logical Operation=&quot;AND&quot;&gt;&lt;ScalarOperator&gt;&lt;Compare CompareOp=&quot;IS&quot;&gt;&lt;ScalarOperator&gt;&lt;Identifier&gt;&lt;ColumnReference Database=&quot;[wideworldimportersdw]&quot; Schema=&quot;[Fact]&quot; Table=&quot;[OrderHistoryExtended]&quot; Column=&quot;Tax Rate&quot;&gt;&lt;/ColumnReference&gt;&lt;/Identifier&gt;&lt;/ScalarOperator&gt;&lt;ScalarOperator&gt;&lt;Identifier&gt;&lt;ColumnReference Database=&quot;[wideworldimportersdw]&quot; Schema=&quot;[Fact]&quot; Table=&quot;[OrderHistoryExtended]&quot; Column=&quot;Tax Rate&quot;&gt;&lt;/ColumnReference&gt;&lt;/Identifier&gt;&lt;/ScalarOperator&gt;&lt;/Compare&gt;&lt;/ScalarOperator&gt;&lt;ScalarOperator&gt;&lt;Compare CompareOp=&quot;IS&quot;&gt;&lt;ScalarOperator&gt;&lt;Identifier&gt;&lt;ColumnReference Database=&quot;[wideworldimportersdw]&quot; Schema=&quot;[Fact]&quot; Table=&quot;[OrderHistoryExtended]&quot; Column=&quot;Lineage Key&quot;&gt;&lt;/ColumnReference&gt;&lt;/Identifier&gt;&lt;/ScalarOperator&gt;&lt;ScalarOperator&gt;&lt;Identifier&gt;&lt;ColumnReference Database=&quot;[wideworldimportersdw]&quot; Schema=&quot;[Fact]&quot; Table=&quot;[OrderHistoryExtended]&quot; Column=&quot;Lineage Key&quot;&gt;&lt;/ColumnReference&gt;&lt;/Identifier&gt;&lt;/ScalarOperator&gt;&lt;/Compare&gt;&lt;/ScalarOperator&gt;&lt;/Logical&gt;&lt;/ScalarOperator&gt;&lt;ScalarOperator&gt;&lt;Compare CompareOp=&quot;IS&quot;&gt;&lt;ScalarOperator&gt;&lt;Identifier&gt;&lt;ColumnReference Database=&quot;[wideworldimportersdw]&quot; Schema=&quot;[Fact]&quot; Table=&quot;[OrderHistoryExtended]&quot; Column=&quot;Salesperson Key&quot;&gt;&lt;/ColumnReference&gt;&lt;/Identifier&gt;&lt;/ScalarOperator&gt;&lt;ScalarOperator&gt;&lt;Identifier&gt;&lt;ColumnReference Database=&quot;[wideworldimportersdw]&quot; Schema=&quot;[Fact]&quot; Table=&quot;[OrderHistoryExtended]&quot; Column=&quot;Salesperson Key&quot;&gt;&lt;/ColumnReference&gt;&lt;/Identifier&gt;&lt;/ScalarOperator&gt;&lt;/Compare&gt;&lt;/ScalarOperator&gt;&lt;/Logical&gt;&lt;/ScalarOperator&gt;&lt;/BuildResidual&gt;&lt;RelOp NodeId=&quot;7&quot; PhysicalOp=&quot;Table Scan&quot; LogicalOp=&quot;Table Scan&quot; EstimateRows=&quot;2.27035e+07&quot; EstimatedRowsRead=&quot;2.96207e+07&quot; EstimateIO=&quot;559.591&quot; EstimateCPU=&quot;8.14572&quot; AvgRowSize=&quot;40&quot; EstimatedTotalSubtreeCost=&quot;567.737&quot; TableCardinality=&quot;2.96207e+07&quot; Parallel=&quot;1&quot; EstimateRebinds=&quot;0&quot; EstimateRewinds=&quot;0&quot; EstimatedExecutionMode=&quot;Row&quot;&gt;&lt;OutputList&gt;&lt;ColumnReference Database=&quot;[wideworldimportersdw]&quot; Schema=&quot;[Fact]&quot; Table=&quot;[OrderHistoryExtended]&quot; Column=&quot;Salesperson Key&quot;&gt;&lt;/ColumnReference&gt;&lt;ColumnReference Database=&quot;[wideworldimportersdw]&quot; Schema=&quot;[Fact]&quot; Table=&quot;[OrderHistoryExtended]&quot; Column=&quot;Quantity&quot;&gt;&lt;/ColumnReference&gt;&lt;ColumnReference Database=&quot;[wideworldimportersdw]&quot; Schema=&quot;[Fact]&quot; Table=&quot;[OrderHistoryExtended]&quot; Column=&quot;Unit Price&quot;&gt;&lt;/ColumnReference&gt;&lt;ColumnReference Database=&quot;[wideworldimportersdw]&quot; Schema=&quot;[Fact]&quot; Table=&quot;[OrderHistoryExtended]&quot; Column=&quot;Tax Rate&quot;&gt;&lt;/ColumnReference&gt;&lt;ColumnReference Database=&quot;[wideworldimportersdw]&quot; Schema=&quot;[Fact]&quot; Table=&quot;[OrderHistoryExtended]&quot; Column=&quot;Lineage Key&quot;&gt;&lt;/ColumnReference&gt;&lt;/OutputList&gt;&lt;RunTimeInformation&gt;&lt;RunTimeCountersPerThread Thread=&quot;8&quot; ActualRows=&quot;2836374&quot; Batches=&quot;0&quot; ActualExecutionMode=&quot;Row&quot; ActualElapsedms=&quot;1956&quot; ActualCPUms=&quot;1949&quot; ActualScans=&quot;1&quot; ActualLogicalReads=&quot;94208&quot; ActualPhysicalReads=&quot;0&quot; ActualReadAheads=&quot;0&quot; ActualLobLogicalReads=&quot;0&quot; ActualLobPhysicalReads=&quot;0&quot; ActualLobReadAheads=&quot;0&quot; ActualRowsRead=&quot;3692482&quot; ActualEndOfScans=&quot;1&quot; ActualExecutions=&quot;1&quot;&gt;&lt;/RunTimeCountersPerThread&gt;&lt;RunTimeCountersPerThread Thread=&quot;7&quot; ActualRows=&quot;2857333&quot; Batches=&quot;0&quot; ActualExecutionMode=&quot;Row&quot; ActualElapsedms=&quot;1956&quot; ActualCPUms=&quot;1954&quot; ActualScans=&quot;1&quot; ActualLogicalReads=&quot;95488&quot; ActualPhysicalReads=&quot;0&quot; ActualReadAheads=&quot;0&quot; ActualLobLogicalReads=&quot;0&quot; ActualLobPhysicalReads=&quot;0&quot; ActualLobReadAheads=&quot;0&quot; ActualRowsRead=&quot;3744110&quot; ActualEndOfScans=&quot;1&quot; ActualExecutions=&quot;1&quot;&gt;&lt;/RunTimeCountersPerThread&gt;&lt;RunTimeCountersPerThread Thread=&quot;6&quot; ActualRows=&quot;2832871&quot; Batches=&quot;0&quot; ActualExecutionMode=&quot;Row&quot; ActualElapsedms=&quot;1931&quot; ActualCPUms=&quot;1925&quot; ActualScans=&quot;1&quot; ActualLogicalReads=&quot;94453&quot; ActualPhysicalReads=&quot;0&quot; ActualReadAheads=&quot;0&quot; ActualLobLogicalReads=&quot;0&quot; ActualLobPhysicalReads=&quot;0&quot; ActualLobReadAheads=&quot;0&quot; ActualRowsRead=&quot;3698526&quot; ActualEndOfScans=&quot;1&quot; ActualExecutions=&quot;1&quot;&gt;&lt;/RunTimeCountersPerThread&gt;&lt;RunTimeCountersPerThread Thread=&quot;5&quot; ActualRows=&quot;2852741&quot; Batches=&quot;0&quot; ActualExecutionMode=&quot;Row&quot; ActualElapsedms=&quot;1929&quot; ActualCPUms=&quot;1927&quot; ActualScans=&quot;1&quot; ActualLogicalReads=&quot;94464&quot; ActualPhysicalReads=&quot;0&quot; ActualReadAheads=&quot;0&quot; ActualLobLogicalReads=&quot;0&quot; ActualLobPhysicalReads=&quot;0&quot; ActualLobReadAheads=&quot;0&quot; ActualRowsRead=&quot;3702983&quot; ActualEndOfScans=&quot;1&quot; ActualExecutions=&quot;1&quot;&gt;&lt;/RunTimeCountersPerThread&gt;&lt;RunTimeCountersPerThread Thread=&quot;4&quot; ActualRows=&quot;2802994&quot; Batches=&quot;0&quot; ActualExecutionMode=&quot;Row&quot; ActualElapsedms=&quot;1941&quot; ActualCPUms=&quot;1938&quot; ActualScans=&quot;1&quot; ActualLogicalReads=&quot;93440&quot; ActualPhysicalReads=&quot;0&quot; ActualReadAheads=&quot;0&quot; ActualLobLogicalReads=&quot;0&quot; ActualLobPhysicalReads=&quot;0&quot; ActualLobReadAheads=&quot;0&quot; ActualRowsRead=&quot;3665782&quot; ActualEndOfScans=&quot;1&quot; ActualExecutions=&quot;1&quot;&gt;&lt;/RunTimeCountersPerThread&gt;&lt;RunTimeCountersPerThread Thread=&quot;3&quot; ActualRows=&quot;2854202&quot; Batches=&quot;0&quot; ActualExecutionMode=&quot;Row&quot; ActualElapsedms=&quot;1975&quot; ActualCPUms=&quot;1973&quot; ActualScans=&quot;1&quot; ActualLogicalReads=&quot;95232&quot; ActualPhysicalReads=&quot;0&quot; ActualReadAheads=&quot;0&quot; ActualLobLogicalReads=&quot;0&quot; ActualLobPhysicalReads=&quot;0&quot; ActualLobReadAheads=&quot;0&quot; ActualRowsRead=&quot;3732144&quot; ActualEndOfScans=&quot;1&quot; ActualExecutions=&quot;1&quot;&gt;&lt;/RunTimeCountersPerThread&gt;&lt;RunTimeCountersPerThread Thread=&quot;2&quot; ActualRows=&quot;2825369&quot; Batches=&quot;0&quot; ActualExecutionMode=&quot;Row&quot; ActualElapsedms=&quot;1934&quot; ActualCPUms=&quot;1932&quot; ActualScans=&quot;1&quot; ActualLogicalReads=&quot;93568&quot; ActualPhysicalReads=&quot;0&quot; ActualReadAheads=&quot;0&quot; ActualLobLogicalReads=&quot;0&quot; ActualLobPhysicalReads=&quot;0&quot; ActualLobReadAheads=&quot;0&quot; ActualRowsRead=&quot;3675515&quot; ActualEndOfScans=&quot;1&quot; ActualExecutions=&quot;1&quot;&gt;&lt;/RunTimeCountersPerThread&gt;&lt;RunTimeCountersPerThread Thread=&quot;1&quot; ActualRows=&quot;2827908&quot; Batches=&quot;0&quot; ActualExecutionMode=&quot;Row&quot; ActualElapsedms=&quot;1943&quot; ActualCPUms=&quot;1938&quot; ActualScans=&quot;1&quot; ActualLogicalReads=&quot;94592&quot; ActualPhysicalReads=&quot;0&quot; ActualReadAheads=&quot;0&quot; ActualLobLogicalReads=&quot;0&quot; ActualLobPhysicalReads=&quot;0&quot; ActualLobReadAheads=&quot;0&quot; ActualRowsRead=&quot;3709194&quot; ActualEndOfScans=&quot;1&quot; ActualExecutions=&quot;1&quot;&gt;&lt;/RunTimeCountersPerThread&gt;&lt;RunTimeCountersPerThread Thread=&quot;0&quot; ActualRows=&quot;0&quot; Batches=&quot;0&quot; ActualExecutionMode=&quot;Row&quot; ActualElapsedms=&quot;0&quot; ActualCPUms=&quot;0&quot; ActualScans=&quot;1&quot; ActualLogicalReads=&quot;0&quot; ActualPhysicalReads=&quot;0&quot; ActualReadAheads=&quot;0&quot; ActualLobLogicalReads=&quot;0&quot; ActualLobPhysicalReads=&quot;0&quot; ActualLobReadAheads=&quot;0&quot; ActualEndOfScans=&quot;0&quot; ActualExecutions=&quot;0&quot;&gt;&lt;/RunTimeCountersPerThread&gt;&lt;/RunTimeInformation&gt;&lt;TableScan Ordered=&quot;0&quot; ForcedIndex=&quot;0&quot; ForceScan=&quot;0&quot; NoExpandHint=&quot;0&quot; Storage=&quot;RowStore&quot;&gt;&lt;DefinedValues&gt;&lt;DefinedValue&gt;&lt;ColumnReference Database=&quot;[wideworldimportersdw]&quot; Schema=&quot;[Fact]&quot; Table=&quot;[OrderHistoryExtended]&quot; Column=&quot;Salesperson Key&quot;&gt;&lt;/ColumnReference&gt;&lt;/DefinedValue&gt;&lt;DefinedValue&gt;&lt;ColumnReference Database=&quot;[wideworldimportersdw]&quot; Schema=&quot;[Fact]&quot; Table=&quot;[OrderHistoryExtended]&quot; Column=&quot;Quantity&quot;&gt;&lt;/ColumnReference&gt;&lt;/DefinedValue&gt;&lt;DefinedValue&gt;&lt;ColumnReference Database=&quot;[wideworldimportersdw]&quot; Schema=&quot;[Fact]&quot; Table=&quot;[OrderHistoryExtended]&quot; Column=&quot;Unit Price&quot;&gt;&lt;/ColumnReference&gt;&lt;/DefinedValue&gt;&lt;DefinedValue&gt;&lt;ColumnReference Database=&quot;[wideworldimportersdw]&quot; Schema=&quot;[Fact]&quot; Table=&quot;[OrderHistoryExtended]&quot; Column=&quot;Tax Rate&quot;&gt;&lt;/ColumnReference&gt;&lt;/DefinedValue&gt;&lt;DefinedValue&gt;&lt;ColumnReference Database=&quot;[wideworldimportersdw]&quot; Schema=&quot;[Fact]&quot; Table=&quot;[OrderHistoryExtended]&quot; Column=&quot;Lineage Key&quot;&gt;&lt;/ColumnReference&gt;&lt;/DefinedValue&gt;&lt;/DefinedValues&gt;&lt;Object Database=&quot;[wideworldimportersdw]&quot; Schema=&quot;[Fact]&quot; Table=&quot;[OrderHistoryExtended]&quot; IndexKind=&quot;Heap&quot; Storage=&quot;RowStore&quot;&gt;&lt;/Object&gt;&lt;Predicate&gt;&lt;ScalarOperator ScalarString=&quot;[wideworldimportersdw].[Fact].[OrderHistoryExtended].[Order Date Key]&amp;lt;=&amp;apos;2015-09-01 00:00:00.000&amp;apos;&quot;&gt;&lt;Compare CompareOp=&quot;LE&quot;&gt;&lt;ScalarOperator&gt;&lt;Identifier&gt;&lt;ColumnReference Database=&quot;[wideworldimportersdw]&quot; Schema=&quot;[Fact]&quot; Table=&quot;[OrderHistoryExtended]&quot; Column=&quot;Order Date Key&quot;&gt;&lt;/ColumnReference&gt;&lt;/Identifier&gt;&lt;/ScalarOperator&gt;&lt;ScalarOperator&gt;&lt;Const ConstValue=&quot;&amp;apos;2015-09-01 00:00:00.000&amp;apos;&quot;&gt;&lt;/Const&gt;&lt;/ScalarOperator&gt;&lt;/Compare&gt;&lt;/ScalarOperator&gt;&lt;/Predicate&gt;&lt;/TableScan&gt;&lt;/RelOp&gt;&lt;/Hash&gt;&lt;/RelOp&gt;&lt;/Parallelism&gt;&lt;/RelOp&gt;&lt;/Sort&gt;&lt;/RelOp&gt;&lt;/StreamAggregate&gt;&lt;/RelOp&gt;&lt;/Parallelism&gt;&lt;/RelOp&gt;&lt;/ComputeScalar&gt;&lt;/RelOp&gt;&lt;/QueryPlan&gt;&lt;/StmtSimple&gt;&lt;/Statements&gt;&lt;/Batch&gt;&lt;/BatchSequence&gt;&lt;/ShowPlanXML&gt;</td></tr></table>"
                    }
                }
            ],
            "execution_count": 3
        },
        {
            "cell_type": "markdown",
            "source": "## Step 5: Now allow batch mode for rowstore to see the difference\r\nScope the database to now allow batch mode for row store indexes",
            "metadata": {}
        },
        {
            "cell_type": "code",
            "source": "-- Step 5: Now allow batch mode for rowstore to see the difference\r\n-- Scope the database to now allow batch mode for row store indexes\r\nALTER DATABASE SCOPED CONFIGURATION SET BATCH_MODE_ON_ROWSTORE = ON;\r\nGO",
            "metadata": {},
            "outputs": [
                {
                    "output_type": "display_data",
                    "data": {
                        "text/html": "Commands completed successfully."
                    },
                    "metadata": {}
                },
                {
                    "output_type": "display_data",
                    "data": {
                        "text/html": "Total execution time: 00:00:00.0072059"
                    },
                    "metadata": {}
                }
            ],
            "execution_count": 4
        },
        {
            "cell_type": "markdown",
            "source": "## Step 6: Run the same query with batch mode for store enabled\r\nNow let's run it again and see it finish in 1 second or less",
            "metadata": {}
        },
        {
            "cell_type": "code",
            "source": "-- Step 6: Run the same query with batch mode for store enabled\r\n-- Now let's run it again and see it finish in 1 second or less\r\nSET STATISTICS XML ON\r\nGO\r\nSELECT [Tax Rate], [Lineage Key], [Salesperson Key], SUM(Quantity) AS SUM_QTY, \r\nSUM([Unit Price]) AS SUM_BASE_PRICE, COUNT(*) AS COUNT_ORDER\r\nFROM Fact.OrderHistoryExtended\r\nWHERE [Order Date Key]<=DATEADD(dd, -73, '2015-11-13')\r\nGROUP BY [Tax Rate], [Lineage Key], [Salesperson Key]\r\nORDER BY [Tax Rate], [Lineage Key], [Salesperson Key]\r\nGO\r\nSET STATISTICS XML OFF\r\nGO",
            "metadata": {},
            "outputs": [
                {
                    "output_type": "display_data",
                    "data": {
                        "text/html": "Commands completed successfully."
                    },
                    "metadata": {}
                },
                {
                    "output_type": "display_data",
                    "data": {
                        "text/html": "Total execution time: 00:00:00.0011114"
                    },
                    "metadata": {}
                },
                {
                    "output_type": "display_data",
                    "data": {
                        "text/html": "(100 rows affected)"
                    },
                    "metadata": {}
                },
                {
                    "output_type": "display_data",
                    "data": {
                        "text/html": "(1 row affected)"
                    },
                    "metadata": {}
                },
                {
                    "output_type": "display_data",
                    "data": {
                        "text/html": "Total execution time: 00:00:01.9803112"
                    },
                    "metadata": {}
                },
                {
                    "output_type": "display_data",
                    "data": {
                        "text/html": "Commands completed successfully."
                    },
                    "metadata": {}
                },
                {
                    "output_type": "display_data",
                    "data": {
                        "text/html": "Total execution time: 00:00:00.0010645"
                    },
                    "metadata": {}
                },
                {
                    "output_type": "execute_result",
                    "metadata": {},
                    "execution_count": 6,
                    "data": {
                        "application/vnd.dataresource+json": {
                            "schema": {
                                "fields": [
                                    {
                                        "name": "Tax Rate"
                                    },
                                    {
                                        "name": "Lineage Key"
                                    },
                                    {
                                        "name": "Salesperson Key"
                                    },
                                    {
                                        "name": "SUM_QTY"
                                    },
                                    {
                                        "name": "SUM_BASE_PRICE"
                                    },
                                    {
                                        "name": "COUNT_ORDER"
                                    }
                                ]
                            },
                            "data": [
                                {
                                    "0": "15.000",
                                    "1": "9",
                                    "2": "4",
                                    "3": "433280",
                                    "4": "243367.68",
                                    "5": "9216"
                                },
                                {
                                    "0": "15.000",
                                    "1": "9",
                                    "2": "6",
                                    "3": "836480",
                                    "4": "543988.48",
                                    "5": "18432"
                                },
                                {
                                    "0": "15.000",
                                    "1": "9",
                                    "2": "7",
                                    "3": "724480",
                                    "4": "846118.40",
                                    "5": "24576"
                                },
                                {
                                    "0": "15.000",
                                    "1": "9",
                                    "2": "8",
                                    "3": "862080",
                                    "4": "1028780.80",
                                    "5": "22144"
                                },
                                {
                                    "0": "15.000",
                                    "1": "9",
                                    "2": "9",
                                    "3": "1101056",
                                    "4": "924917.76",
                                    "5": "28928"
                                },
                                {
                                    "0": "15.000",
                                    "1": "9",
                                    "2": "11",
                                    "3": "2279296",
                                    "4": "3886913.28",
                                    "5": "62848"
                                },
                                {
                                    "0": "15.000",
                                    "1": "9",
                                    "2": "12",
                                    "3": "3262592",
                                    "4": "3852878.08",
                                    "5": "85888"
                                },
                                {
                                    "0": "15.000",
                                    "1": "9",
                                    "2": "15",
                                    "3": "5484800",
                                    "4": "6343098.88",
                                    "5": "144256"
                                },
                                {
                                    "0": "15.000",
                                    "1": "9",
                                    "2": "19",
                                    "3": "91831040",
                                    "4": "107590420.48",
                                    "5": "2310528"
                                },
                                {
                                    "0": "15.000",
                                    "1": "9",
                                    "2": "21",
                                    "3": "1240960",
                                    "4": "2060285.44",
                                    "5": "37632"
                                },
                                {
                                    "0": "15.000",
                                    "1": "9",
                                    "2": "23",
                                    "3": "1003520",
                                    "4": "1541052.16",
                                    "5": "29696"
                                },
                                {
                                    "0": "15.000",
                                    "1": "9",
                                    "2": "25",
                                    "3": "2986624",
                                    "4": "2914885.12",
                                    "5": "73344"
                                },
                                {
                                    "0": "15.000",
                                    "1": "9",
                                    "2": "26",
                                    "3": "497536",
                                    "4": "725172.48",
                                    "5": "12416"
                                },
                                {
                                    "0": "15.000",
                                    "1": "9",
                                    "2": "27",
                                    "3": "598016",
                                    "4": "798522.88",
                                    "5": "14592"
                                },
                                {
                                    "0": "15.000",
                                    "1": "9",
                                    "2": "28",
                                    "3": "1233152",
                                    "4": "1474490.88",
                                    "5": "31488"
                                },
                                {
                                    "0": "15.000",
                                    "1": "9",
                                    "2": "29",
                                    "3": "387968",
                                    "4": "304568.32",
                                    "5": "10880"
                                },
                                {
                                    "0": "15.000",
                                    "1": "9",
                                    "2": "30",
                                    "3": "1549312",
                                    "4": "2156144.64",
                                    "5": "47232"
                                },
                                {
                                    "0": "15.000",
                                    "1": "9",
                                    "2": "31",
                                    "3": "2215296",
                                    "4": "2227068.16",
                                    "5": "50560"
                                },
                                {
                                    "0": "15.000",
                                    "1": "9",
                                    "2": "35",
                                    "3": "2724736",
                                    "4": "3383616.00",
                                    "5": "72960"
                                },
                                {
                                    "0": "15.000",
                                    "1": "9",
                                    "2": "36",
                                    "3": "11016320",
                                    "4": "12551537.92",
                                    "5": "276992"
                                },
                                {
                                    "0": "15.000",
                                    "1": "9",
                                    "2": "38",
                                    "3": "1519744",
                                    "4": "1955315.20",
                                    "5": "39552"
                                },
                                {
                                    "0": "15.000",
                                    "1": "9",
                                    "2": "39",
                                    "3": "31888384",
                                    "4": "34617245.44",
                                    "5": "785664"
                                },
                                {
                                    "0": "15.000",
                                    "1": "9",
                                    "2": "40",
                                    "3": "6807424",
                                    "4": "7944593.92",
                                    "5": "176896"
                                },
                                {
                                    "0": "15.000",
                                    "1": "9",
                                    "2": "41",
                                    "3": "2219136",
                                    "4": "3174849.28",
                                    "5": "63232"
                                },
                                {
                                    "0": "15.000",
                                    "1": "9",
                                    "2": "45",
                                    "3": "338176",
                                    "4": "382839.04",
                                    "5": "7808"
                                },
                                {
                                    "0": "15.000",
                                    "1": "9",
                                    "2": "46",
                                    "3": "112128",
                                    "4": "111915.52",
                                    "5": "2176"
                                },
                                {
                                    "0": "15.000",
                                    "1": "9",
                                    "2": "47",
                                    "3": "3255680",
                                    "4": "2629954.56",
                                    "5": "75776"
                                },
                                {
                                    "0": "15.000",
                                    "1": "9",
                                    "2": "48",
                                    "3": "2595968",
                                    "4": "2310150.40",
                                    "5": "60928"
                                },
                                {
                                    "0": "15.000",
                                    "1": "9",
                                    "2": "49",
                                    "3": "14758528",
                                    "4": "17928881.92",
                                    "5": "368768"
                                },
                                {
                                    "0": "15.000",
                                    "1": "9",
                                    "2": "50",
                                    "3": "804352",
                                    "4": "926225.92",
                                    "5": "19968"
                                },
                                {
                                    "0": "15.000",
                                    "1": "9",
                                    "2": "51",
                                    "3": "4007808",
                                    "4": "4360591.36",
                                    "5": "97408"
                                },
                                {
                                    "0": "15.000",
                                    "1": "9",
                                    "2": "52",
                                    "3": "5863424",
                                    "4": "7464648.96",
                                    "5": "156160"
                                },
                                {
                                    "0": "15.000",
                                    "1": "9",
                                    "2": "54",
                                    "3": "2736768",
                                    "4": "3351491.84",
                                    "5": "72320"
                                },
                                {
                                    "0": "15.000",
                                    "1": "9",
                                    "2": "56",
                                    "3": "285824",
                                    "4": "253144.32",
                                    "5": "7552"
                                },
                                {
                                    "0": "15.000",
                                    "1": "9",
                                    "2": "57",
                                    "3": "2298240",
                                    "4": "2447610.88",
                                    "5": "58240"
                                },
                                {
                                    "0": "15.000",
                                    "1": "9",
                                    "2": "58",
                                    "3": "2144768",
                                    "4": "1723477.76",
                                    "5": "50048"
                                },
                                {
                                    "0": "15.000",
                                    "1": "9",
                                    "2": "61",
                                    "3": "3732224",
                                    "4": "4086886.40",
                                    "5": "86016"
                                },
                                {
                                    "0": "15.000",
                                    "1": "9",
                                    "2": "62",
                                    "3": "12672128",
                                    "4": "13904339.20",
                                    "5": "304000"
                                },
                                {
                                    "0": "15.000",
                                    "1": "9",
                                    "2": "63",
                                    "3": "10126208",
                                    "4": "10138237.44",
                                    "5": "243200"
                                },
                                {
                                    "0": "15.000",
                                    "1": "9",
                                    "2": "65",
                                    "3": "6787456",
                                    "4": "7473853.44",
                                    "5": "171136"
                                },
                                {
                                    "0": "15.000",
                                    "1": "9",
                                    "2": "68",
                                    "3": "4638720",
                                    "4": "4848647.68",
                                    "5": "107008"
                                },
                                {
                                    "0": "15.000",
                                    "1": "9",
                                    "2": "70",
                                    "3": "14884864",
                                    "4": "16764665.60",
                                    "5": "379776"
                                },
                                {
                                    "0": "15.000",
                                    "1": "9",
                                    "2": "72",
                                    "3": "2565888",
                                    "4": "2336160.00",
                                    "5": "55936"
                                },
                                {
                                    "0": "15.000",
                                    "1": "9",
                                    "2": "74",
                                    "3": "15317888",
                                    "4": "19187417.60",
                                    "5": "384768"
                                },
                                {
                                    "0": "15.000",
                                    "1": "9",
                                    "2": "76",
                                    "3": "6481280",
                                    "4": "8637446.40",
                                    "5": "169088"
                                },
                                {
                                    "0": "15.000",
                                    "1": "9",
                                    "2": "77",
                                    "3": "7128320",
                                    "4": "7693249.28",
                                    "5": "169984"
                                },
                                {
                                    "0": "15.000",
                                    "1": "9",
                                    "2": "78",
                                    "3": "5061376",
                                    "4": "5629213.44",
                                    "5": "121856"
                                },
                                {
                                    "0": "15.000",
                                    "1": "9",
                                    "2": "80",
                                    "3": "7743104",
                                    "4": "8722903.04",
                                    "5": "203264"
                                },
                                {
                                    "0": "15.000",
                                    "1": "9",
                                    "2": "81",
                                    "3": "28808064",
                                    "4": "32882525.44",
                                    "5": "706048"
                                },
                                {
                                    "0": "15.000",
                                    "1": "9",
                                    "2": "83",
                                    "3": "12662272",
                                    "4": "14586407.68",
                                    "5": "330880"
                                },
                                {
                                    "0": "15.000",
                                    "1": "9",
                                    "2": "84",
                                    "3": "6509184",
                                    "4": "8482062.08",
                                    "5": "169856"
                                },
                                {
                                    "0": "15.000",
                                    "1": "9",
                                    "2": "85",
                                    "3": "4782592",
                                    "4": "4991431.68",
                                    "5": "116864"
                                },
                                {
                                    "0": "15.000",
                                    "1": "9",
                                    "2": "86",
                                    "3": "27021696",
                                    "4": "30225996.80",
                                    "5": "682624"
                                },
                                {
                                    "0": "15.000",
                                    "1": "9",
                                    "2": "89",
                                    "3": "1578752",
                                    "4": "2027873.28",
                                    "5": "36096"
                                },
                                {
                                    "0": "15.000",
                                    "1": "9",
                                    "2": "90",
                                    "3": "33806464",
                                    "4": "39663014.40",
                                    "5": "856704"
                                },
                                {
                                    "0": "15.000",
                                    "1": "9",
                                    "2": "91",
                                    "3": "4442752",
                                    "4": "5842634.24",
                                    "5": "112768"
                                },
                                {
                                    "0": "15.000",
                                    "1": "9",
                                    "2": "93",
                                    "3": "28200192",
                                    "4": "33006179.84",
                                    "5": "713984"
                                },
                                {
                                    "0": "15.000",
                                    "1": "9",
                                    "2": "94",
                                    "3": "12681600",
                                    "4": "13601986.56",
                                    "5": "303232"
                                },
                                {
                                    "0": "15.000",
                                    "1": "9",
                                    "2": "96",
                                    "3": "666624",
                                    "4": "473141.76",
                                    "5": "14464"
                                },
                                {
                                    "0": "15.000",
                                    "1": "9",
                                    "2": "97",
                                    "3": "11993088",
                                    "4": "13300569.60",
                                    "5": "303104"
                                },
                                {
                                    "0": "15.000",
                                    "1": "9",
                                    "2": "101",
                                    "3": "7575168",
                                    "4": "7600646.40",
                                    "5": "196992"
                                },
                                {
                                    "0": "15.000",
                                    "1": "9",
                                    "2": "102",
                                    "3": "27441920",
                                    "4": "33995997.44",
                                    "5": "703872"
                                },
                                {
                                    "0": "15.000",
                                    "1": "9",
                                    "2": "103",
                                    "3": "7057280",
                                    "4": "8503637.76",
                                    "5": "185088"
                                },
                                {
                                    "0": "15.000",
                                    "1": "9",
                                    "2": "105",
                                    "3": "29710848",
                                    "4": "34073157.12",
                                    "5": "735872"
                                },
                                {
                                    "0": "15.000",
                                    "1": "9",
                                    "2": "106",
                                    "3": "8104704",
                                    "4": "9812775.68",
                                    "5": "220416"
                                },
                                {
                                    "0": "15.000",
                                    "1": "9",
                                    "2": "107",
                                    "3": "2590464",
                                    "4": "3028149.76",
                                    "5": "61952"
                                },
                                {
                                    "0": "15.000",
                                    "1": "9",
                                    "2": "108",
                                    "3": "40156160",
                                    "4": "45593496.32",
                                    "5": "1001600"
                                },
                                {
                                    "0": "15.000",
                                    "1": "9",
                                    "2": "115",
                                    "3": "2452096",
                                    "4": "2226137.60",
                                    "5": "60800"
                                },
                                {
                                    "0": "15.000",
                                    "1": "9",
                                    "2": "116",
                                    "3": "23243392",
                                    "4": "24868823.04",
                                    "5": "564736"
                                },
                                {
                                    "0": "15.000",
                                    "1": "9",
                                    "2": "118",
                                    "3": "14240128",
                                    "4": "15111184.64",
                                    "5": "353408"
                                },
                                {
                                    "0": "15.000",
                                    "1": "9",
                                    "2": "119",
                                    "3": "40846720",
                                    "4": "45264224.00",
                                    "5": "1027456"
                                },
                                {
                                    "0": "15.000",
                                    "1": "9",
                                    "2": "122",
                                    "3": "6732544",
                                    "4": "7716145.92",
                                    "5": "164992"
                                },
                                {
                                    "0": "15.000",
                                    "1": "9",
                                    "2": "126",
                                    "3": "7082880",
                                    "4": "8110862.08",
                                    "5": "171008"
                                },
                                {
                                    "0": "15.000",
                                    "1": "9",
                                    "2": "127",
                                    "3": "24211712",
                                    "4": "28525308.16",
                                    "5": "616576"
                                },
                                {
                                    "0": "15.000",
                                    "1": "9",
                                    "2": "129",
                                    "3": "31437312",
                                    "4": "34298964.48",
                                    "5": "767488"
                                },
                                {
                                    "0": "15.000",
                                    "1": "9",
                                    "2": "130",
                                    "3": "390272",
                                    "4": "315754.24",
                                    "5": "10880"
                                },
                                {
                                    "0": "15.000",
                                    "1": "9",
                                    "2": "134",
                                    "3": "19598208",
                                    "4": "22598796.80",
                                    "5": "491520"
                                },
                                {
                                    "0": "15.000",
                                    "1": "9",
                                    "2": "136",
                                    "3": "357248",
                                    "4": "296313.60",
                                    "5": "9856"
                                },
                                {
                                    "0": "15.000",
                                    "1": "9",
                                    "2": "138",
                                    "3": "4697088",
                                    "4": "5400261.12",
                                    "5": "118144"
                                },
                                {
                                    "0": "15.000",
                                    "1": "9",
                                    "2": "140",
                                    "3": "17321984",
                                    "4": "19747557.12",
                                    "5": "433280"
                                },
                                {
                                    "0": "15.000",
                                    "1": "9",
                                    "2": "143",
                                    "3": "22007296",
                                    "4": "26812788.48",
                                    "5": "567040"
                                },
                                {
                                    "0": "15.000",
                                    "1": "9",
                                    "2": "144",
                                    "3": "7777664",
                                    "4": "9402172.16",
                                    "5": "193152"
                                },
                                {
                                    "0": "15.000",
                                    "1": "9",
                                    "2": "145",
                                    "3": "15399680",
                                    "4": "17946855.68",
                                    "5": "388096"
                                },
                                {
                                    "0": "15.000",
                                    "1": "9",
                                    "2": "149",
                                    "3": "2256896",
                                    "4": "2663919.36",
                                    "5": "60416"
                                },
                                {
                                    "0": "15.000",
                                    "1": "9",
                                    "2": "150",
                                    "3": "10869632",
                                    "4": "12971114.24",
                                    "5": "281344"
                                },
                                {
                                    "0": "15.000",
                                    "1": "9",
                                    "2": "151",
                                    "3": "11137920",
                                    "4": "11154696.96",
                                    "5": "269568"
                                },
                                {
                                    "0": "15.000",
                                    "1": "9",
                                    "2": "152",
                                    "3": "11700480",
                                    "4": "13719448.32",
                                    "5": "285056"
                                },
                                {
                                    "0": "15.000",
                                    "1": "9",
                                    "2": "154",
                                    "3": "8281344",
                                    "4": "8556992.00",
                                    "5": "212864"
                                },
                                {
                                    "0": "15.000",
                                    "1": "9",
                                    "2": "155",
                                    "3": "8951424",
                                    "4": "9563397.12",
                                    "5": "219264"
                                },
                                {
                                    "0": "15.000",
                                    "1": "9",
                                    "2": "156",
                                    "3": "6004608",
                                    "4": "5900654.08",
                                    "5": "152192"
                                },
                                {
                                    "0": "15.000",
                                    "1": "9",
                                    "2": "158",
                                    "3": "500480",
                                    "4": "65113.60",
                                    "5": "4352"
                                },
                                {
                                    "0": "15.000",
                                    "1": "9",
                                    "2": "161",
                                    "3": "253952",
                                    "4": "56025.60",
                                    "5": "2816"
                                },
                                {
                                    "0": "15.000",
                                    "1": "9",
                                    "2": "163",
                                    "3": "248320",
                                    "4": "48179.20",
                                    "5": "2688"
                                },
                                {
                                    "0": "15.000",
                                    "1": "9",
                                    "2": "165",
                                    "3": "102016",
                                    "4": "12416.00",
                                    "5": "896"
                                },
                                {
                                    "0": "15.000",
                                    "1": "9",
                                    "2": "167",
                                    "3": "16896",
                                    "4": "4608.00",
                                    "5": "256"
                                },
                                {
                                    "0": "15.000",
                                    "1": "9",
                                    "2": "168",
                                    "3": "141184",
                                    "4": "21619.20",
                                    "5": "1408"
                                },
                                {
                                    "0": "15.000",
                                    "1": "9",
                                    "2": "170",
                                    "3": "75776",
                                    "4": "13760.00",
                                    "5": "768"
                                },
                                {
                                    "0": "15.000",
                                    "1": "9",
                                    "2": "171",
                                    "3": "112512",
                                    "4": "14681.60",
                                    "5": "1024"
                                },
                                {
                                    "0": "15.000",
                                    "1": "9",
                                    "2": "172",
                                    "3": "77824",
                                    "4": "10137.60",
                                    "5": "768"
                                },
                                {
                                    "0": "15.000",
                                    "1": "9",
                                    "2": "174",
                                    "3": "7680",
                                    "4": "2304.00",
                                    "5": "128"
                                }
                            ]
                        },
                        "text/html": "<table><tr><th>Tax Rate</th><th>Lineage Key</th><th>Salesperson Key</th><th>SUM_QTY</th><th>SUM_BASE_PRICE</th><th>COUNT_ORDER</th></tr><tr><td>15.000</td><td>9</td><td>4</td><td>433280</td><td>243367.68</td><td>9216</td></tr><tr><td>15.000</td><td>9</td><td>6</td><td>836480</td><td>543988.48</td><td>18432</td></tr><tr><td>15.000</td><td>9</td><td>7</td><td>724480</td><td>846118.40</td><td>24576</td></tr><tr><td>15.000</td><td>9</td><td>8</td><td>862080</td><td>1028780.80</td><td>22144</td></tr><tr><td>15.000</td><td>9</td><td>9</td><td>1101056</td><td>924917.76</td><td>28928</td></tr><tr><td>15.000</td><td>9</td><td>11</td><td>2279296</td><td>3886913.28</td><td>62848</td></tr><tr><td>15.000</td><td>9</td><td>12</td><td>3262592</td><td>3852878.08</td><td>85888</td></tr><tr><td>15.000</td><td>9</td><td>15</td><td>5484800</td><td>6343098.88</td><td>144256</td></tr><tr><td>15.000</td><td>9</td><td>19</td><td>91831040</td><td>107590420.48</td><td>2310528</td></tr><tr><td>15.000</td><td>9</td><td>21</td><td>1240960</td><td>2060285.44</td><td>37632</td></tr><tr><td>15.000</td><td>9</td><td>23</td><td>1003520</td><td>1541052.16</td><td>29696</td></tr><tr><td>15.000</td><td>9</td><td>25</td><td>2986624</td><td>2914885.12</td><td>73344</td></tr><tr><td>15.000</td><td>9</td><td>26</td><td>497536</td><td>725172.48</td><td>12416</td></tr><tr><td>15.000</td><td>9</td><td>27</td><td>598016</td><td>798522.88</td><td>14592</td></tr><tr><td>15.000</td><td>9</td><td>28</td><td>1233152</td><td>1474490.88</td><td>31488</td></tr><tr><td>15.000</td><td>9</td><td>29</td><td>387968</td><td>304568.32</td><td>10880</td></tr><tr><td>15.000</td><td>9</td><td>30</td><td>1549312</td><td>2156144.64</td><td>47232</td></tr><tr><td>15.000</td><td>9</td><td>31</td><td>2215296</td><td>2227068.16</td><td>50560</td></tr><tr><td>15.000</td><td>9</td><td>35</td><td>2724736</td><td>3383616.00</td><td>72960</td></tr><tr><td>15.000</td><td>9</td><td>36</td><td>11016320</td><td>12551537.92</td><td>276992</td></tr><tr><td>15.000</td><td>9</td><td>38</td><td>1519744</td><td>1955315.20</td><td>39552</td></tr><tr><td>15.000</td><td>9</td><td>39</td><td>31888384</td><td>34617245.44</td><td>785664</td></tr><tr><td>15.000</td><td>9</td><td>40</td><td>6807424</td><td>7944593.92</td><td>176896</td></tr><tr><td>15.000</td><td>9</td><td>41</td><td>2219136</td><td>3174849.28</td><td>63232</td></tr><tr><td>15.000</td><td>9</td><td>45</td><td>338176</td><td>382839.04</td><td>7808</td></tr><tr><td>15.000</td><td>9</td><td>46</td><td>112128</td><td>111915.52</td><td>2176</td></tr><tr><td>15.000</td><td>9</td><td>47</td><td>3255680</td><td>2629954.56</td><td>75776</td></tr><tr><td>15.000</td><td>9</td><td>48</td><td>2595968</td><td>2310150.40</td><td>60928</td></tr><tr><td>15.000</td><td>9</td><td>49</td><td>14758528</td><td>17928881.92</td><td>368768</td></tr><tr><td>15.000</td><td>9</td><td>50</td><td>804352</td><td>926225.92</td><td>19968</td></tr><tr><td>15.000</td><td>9</td><td>51</td><td>4007808</td><td>4360591.36</td><td>97408</td></tr><tr><td>15.000</td><td>9</td><td>52</td><td>5863424</td><td>7464648.96</td><td>156160</td></tr><tr><td>15.000</td><td>9</td><td>54</td><td>2736768</td><td>3351491.84</td><td>72320</td></tr><tr><td>15.000</td><td>9</td><td>56</td><td>285824</td><td>253144.32</td><td>7552</td></tr><tr><td>15.000</td><td>9</td><td>57</td><td>2298240</td><td>2447610.88</td><td>58240</td></tr><tr><td>15.000</td><td>9</td><td>58</td><td>2144768</td><td>1723477.76</td><td>50048</td></tr><tr><td>15.000</td><td>9</td><td>61</td><td>3732224</td><td>4086886.40</td><td>86016</td></tr><tr><td>15.000</td><td>9</td><td>62</td><td>12672128</td><td>13904339.20</td><td>304000</td></tr><tr><td>15.000</td><td>9</td><td>63</td><td>10126208</td><td>10138237.44</td><td>243200</td></tr><tr><td>15.000</td><td>9</td><td>65</td><td>6787456</td><td>7473853.44</td><td>171136</td></tr><tr><td>15.000</td><td>9</td><td>68</td><td>4638720</td><td>4848647.68</td><td>107008</td></tr><tr><td>15.000</td><td>9</td><td>70</td><td>14884864</td><td>16764665.60</td><td>379776</td></tr><tr><td>15.000</td><td>9</td><td>72</td><td>2565888</td><td>2336160.00</td><td>55936</td></tr><tr><td>15.000</td><td>9</td><td>74</td><td>15317888</td><td>19187417.60</td><td>384768</td></tr><tr><td>15.000</td><td>9</td><td>76</td><td>6481280</td><td>8637446.40</td><td>169088</td></tr><tr><td>15.000</td><td>9</td><td>77</td><td>7128320</td><td>7693249.28</td><td>169984</td></tr><tr><td>15.000</td><td>9</td><td>78</td><td>5061376</td><td>5629213.44</td><td>121856</td></tr><tr><td>15.000</td><td>9</td><td>80</td><td>7743104</td><td>8722903.04</td><td>203264</td></tr><tr><td>15.000</td><td>9</td><td>81</td><td>28808064</td><td>32882525.44</td><td>706048</td></tr><tr><td>15.000</td><td>9</td><td>83</td><td>12662272</td><td>14586407.68</td><td>330880</td></tr><tr><td>15.000</td><td>9</td><td>84</td><td>6509184</td><td>8482062.08</td><td>169856</td></tr><tr><td>15.000</td><td>9</td><td>85</td><td>4782592</td><td>4991431.68</td><td>116864</td></tr><tr><td>15.000</td><td>9</td><td>86</td><td>27021696</td><td>30225996.80</td><td>682624</td></tr><tr><td>15.000</td><td>9</td><td>89</td><td>1578752</td><td>2027873.28</td><td>36096</td></tr><tr><td>15.000</td><td>9</td><td>90</td><td>33806464</td><td>39663014.40</td><td>856704</td></tr><tr><td>15.000</td><td>9</td><td>91</td><td>4442752</td><td>5842634.24</td><td>112768</td></tr><tr><td>15.000</td><td>9</td><td>93</td><td>28200192</td><td>33006179.84</td><td>713984</td></tr><tr><td>15.000</td><td>9</td><td>94</td><td>12681600</td><td>13601986.56</td><td>303232</td></tr><tr><td>15.000</td><td>9</td><td>96</td><td>666624</td><td>473141.76</td><td>14464</td></tr><tr><td>15.000</td><td>9</td><td>97</td><td>11993088</td><td>13300569.60</td><td>303104</td></tr><tr><td>15.000</td><td>9</td><td>101</td><td>7575168</td><td>7600646.40</td><td>196992</td></tr><tr><td>15.000</td><td>9</td><td>102</td><td>27441920</td><td>33995997.44</td><td>703872</td></tr><tr><td>15.000</td><td>9</td><td>103</td><td>7057280</td><td>8503637.76</td><td>185088</td></tr><tr><td>15.000</td><td>9</td><td>105</td><td>29710848</td><td>34073157.12</td><td>735872</td></tr><tr><td>15.000</td><td>9</td><td>106</td><td>8104704</td><td>9812775.68</td><td>220416</td></tr><tr><td>15.000</td><td>9</td><td>107</td><td>2590464</td><td>3028149.76</td><td>61952</td></tr><tr><td>15.000</td><td>9</td><td>108</td><td>40156160</td><td>45593496.32</td><td>1001600</td></tr><tr><td>15.000</td><td>9</td><td>115</td><td>2452096</td><td>2226137.60</td><td>60800</td></tr><tr><td>15.000</td><td>9</td><td>116</td><td>23243392</td><td>24868823.04</td><td>564736</td></tr><tr><td>15.000</td><td>9</td><td>118</td><td>14240128</td><td>15111184.64</td><td>353408</td></tr><tr><td>15.000</td><td>9</td><td>119</td><td>40846720</td><td>45264224.00</td><td>1027456</td></tr><tr><td>15.000</td><td>9</td><td>122</td><td>6732544</td><td>7716145.92</td><td>164992</td></tr><tr><td>15.000</td><td>9</td><td>126</td><td>7082880</td><td>8110862.08</td><td>171008</td></tr><tr><td>15.000</td><td>9</td><td>127</td><td>24211712</td><td>28525308.16</td><td>616576</td></tr><tr><td>15.000</td><td>9</td><td>129</td><td>31437312</td><td>34298964.48</td><td>767488</td></tr><tr><td>15.000</td><td>9</td><td>130</td><td>390272</td><td>315754.24</td><td>10880</td></tr><tr><td>15.000</td><td>9</td><td>134</td><td>19598208</td><td>22598796.80</td><td>491520</td></tr><tr><td>15.000</td><td>9</td><td>136</td><td>357248</td><td>296313.60</td><td>9856</td></tr><tr><td>15.000</td><td>9</td><td>138</td><td>4697088</td><td>5400261.12</td><td>118144</td></tr><tr><td>15.000</td><td>9</td><td>140</td><td>17321984</td><td>19747557.12</td><td>433280</td></tr><tr><td>15.000</td><td>9</td><td>143</td><td>22007296</td><td>26812788.48</td><td>567040</td></tr><tr><td>15.000</td><td>9</td><td>144</td><td>7777664</td><td>9402172.16</td><td>193152</td></tr><tr><td>15.000</td><td>9</td><td>145</td><td>15399680</td><td>17946855.68</td><td>388096</td></tr><tr><td>15.000</td><td>9</td><td>149</td><td>2256896</td><td>2663919.36</td><td>60416</td></tr><tr><td>15.000</td><td>9</td><td>150</td><td>10869632</td><td>12971114.24</td><td>281344</td></tr><tr><td>15.000</td><td>9</td><td>151</td><td>11137920</td><td>11154696.96</td><td>269568</td></tr><tr><td>15.000</td><td>9</td><td>152</td><td>11700480</td><td>13719448.32</td><td>285056</td></tr><tr><td>15.000</td><td>9</td><td>154</td><td>8281344</td><td>8556992.00</td><td>212864</td></tr><tr><td>15.000</td><td>9</td><td>155</td><td>8951424</td><td>9563397.12</td><td>219264</td></tr><tr><td>15.000</td><td>9</td><td>156</td><td>6004608</td><td>5900654.08</td><td>152192</td></tr><tr><td>15.000</td><td>9</td><td>158</td><td>500480</td><td>65113.60</td><td>4352</td></tr><tr><td>15.000</td><td>9</td><td>161</td><td>253952</td><td>56025.60</td><td>2816</td></tr><tr><td>15.000</td><td>9</td><td>163</td><td>248320</td><td>48179.20</td><td>2688</td></tr><tr><td>15.000</td><td>9</td><td>165</td><td>102016</td><td>12416.00</td><td>896</td></tr><tr><td>15.000</td><td>9</td><td>167</td><td>16896</td><td>4608.00</td><td>256</td></tr><tr><td>15.000</td><td>9</td><td>168</td><td>141184</td><td>21619.20</td><td>1408</td></tr><tr><td>15.000</td><td>9</td><td>170</td><td>75776</td><td>13760.00</td><td>768</td></tr><tr><td>15.000</td><td>9</td><td>171</td><td>112512</td><td>14681.60</td><td>1024</td></tr><tr><td>15.000</td><td>9</td><td>172</td><td>77824</td><td>10137.60</td><td>768</td></tr><tr><td>15.000</td><td>9</td><td>174</td><td>7680</td><td>2304.00</td><td>128</td></tr></table>"
                    }
                },
                {
                    "output_type": "execute_result",
                    "metadata": {},
                    "execution_count": 6,
                    "data": {
                        "application/vnd.dataresource+json": {
                            "schema": {
                                "fields": [
                                    {
                                        "name": "Microsoft SQL Server 2005 XML Showplan"
                                    }
                                ]
                            },
                            "data": [
                                {
                                    "0": "<ShowPlanXML xmlns=\"http://schemas.microsoft.com/sqlserver/2004/07/showplan\" Version=\"1.524\" Build=\"15.0.1400.75\"><BatchSequence><Batch><Statements><StmtSimple StatementText=\"SELECT [Tax Rate], [Lineage Key], [Salesperson Key], SUM(Quantity) AS SUM_QTY, &#xd;&#xa;SUM([Unit Price]) AS SUM_BASE_PRICE, COUNT(*) AS COUNT_ORDER&#xd;&#xa;FROM Fact.OrderHistoryExtended&#xd;&#xa;WHERE [Order Date Key]&lt;=DATEADD(dd, -73, &apos;2015-11-13&apos;)&#xd;&#xa;GROUP BY [Tax Rate], [Lineage Key], [Salesperson Key]&#xd;&#xa;ORDER BY [Tax Rate], [Lineage Key], [Salesperson Key]\" StatementId=\"1\" StatementCompId=\"1\" StatementType=\"SELECT\" StatementSqlHandle=\"0x09009175BCDBCCD0AD94FA0F2F50B77640990000000000000000000000000000000000000000000000000000\" DatabaseContextSettingsId=\"1\" ParentObjectId=\"0\" StatementParameterizationType=\"0\" RetrievedFromCache=\"true\" StatementSubTreeCost=\"575.358\" StatementEstRows=\"202\" SecurityPolicyApplied=\"false\" StatementOptmLevel=\"FULL\" QueryHash=\"0xCF8A6CEBEF3FF3FA\" QueryPlanHash=\"0xE0595E5514767812\" CardinalityEstimationModelVersion=\"150\" BatchModeOnRowStoreUsed=\"true\"><StatementSetOptions QUOTED_IDENTIFIER=\"true\" ARITHABORT=\"true\" CONCAT_NULL_YIELDS_NULL=\"true\" ANSI_NULLS=\"true\" ANSI_PADDING=\"true\" ANSI_WARNINGS=\"true\" NUMERIC_ROUNDABORT=\"false\"></StatementSetOptions><QueryPlan DegreeOfParallelism=\"8\" MemoryGrant=\"26952\" CachedPlanSize=\"64\" CompileTime=\"5\" CompileCPU=\"5\" CompileMemory=\"584\"><ThreadStat Branches=\"1\" UsedThreads=\"8\"><ThreadReservation NodeId=\"0\" ReservedThreads=\"9\"></ThreadReservation></ThreadStat><MissingIndexes><MissingIndexGroup Impact=\"91.8443\"><MissingIndex Database=\"[wideworldimportersdw]\" Schema=\"[Fact]\" Table=\"[OrderHistoryExtended]\"><ColumnGroup Usage=\"INEQUALITY\"><Column Name=\"[Order Date Key]\" ColumnId=\"5\"></Column></ColumnGroup><ColumnGroup Usage=\"INCLUDE\"><Column Name=\"[Salesperson Key]\" ColumnId=\"7\"></Column><Column Name=\"[Quantity]\" ColumnId=\"13\"></Column><Column Name=\"[Unit Price]\" ColumnId=\"14\"></Column><Column Name=\"[Tax Rate]\" ColumnId=\"15\"></Column><Column Name=\"[Lineage Key]\" ColumnId=\"19\"></Column></ColumnGroup></MissingIndex></MissingIndexGroup></MissingIndexes><MemoryGrantInfo SerialRequiredMemory=\"3224\" SerialDesiredMemory=\"4248\" RequiredMemory=\"25928\" DesiredMemory=\"26952\" RequestedMemory=\"26952\" GrantWaitTime=\"0\" GrantedMemory=\"26952\" MaxUsedMemory=\"5408\" MaxQueryMemory=\"2826264\" LastRequestedMemory=\"26952\" IsMemoryGrantFeedbackAdjusted=\"Yes: Stable\"></MemoryGrantInfo><OptimizerHardwareDependentProperties EstimatedAvailableMemoryGrant=\"240890\" EstimatedPagesCached=\"120445\" EstimatedAvailableDegreeOfParallelism=\"4\" MaxCompileMemory=\"11497232\"></OptimizerHardwareDependentProperties><OptimizerStatsUsage><StatisticsInfo LastUpdate=\"2019-04-06T18:53:50.59\" ModificationCount=\"0\" SamplingPercent=\"0.780031\" Statistics=\"[PK_Fact_OrderHistoryExtended]\" Table=\"[OrderHistoryExtended]\" Schema=\"[Fact]\" Database=\"[wideworldimportersdw]\"></StatisticsInfo><StatisticsInfo LastUpdate=\"2019-04-06T18:53:50.99\" ModificationCount=\"0\" SamplingPercent=\"0.780031\" Statistics=\"[_WA_Sys_0000000F_55009F39]\" Table=\"[OrderHistoryExtended]\" Schema=\"[Fact]\" Database=\"[wideworldimportersdw]\"></StatisticsInfo><StatisticsInfo LastUpdate=\"2019-04-06T18:53:50.39\" ModificationCount=\"0\" SamplingPercent=\"0.785301\" Statistics=\"[_WA_Sys_00000005_55009F39]\" Table=\"[OrderHistoryExtended]\" Schema=\"[Fact]\" Database=\"[wideworldimportersdw]\"></StatisticsInfo><StatisticsInfo LastUpdate=\"2019-04-06T18:53:50.81\" ModificationCount=\"0\" SamplingPercent=\"0.780031\" Statistics=\"[_WA_Sys_00000007_55009F39]\" Table=\"[OrderHistoryExtended]\" Schema=\"[Fact]\" Database=\"[wideworldimportersdw]\"></StatisticsInfo><StatisticsInfo LastUpdate=\"2019-04-06T18:53:51.18\" ModificationCount=\"0\" SamplingPercent=\"0.780031\" Statistics=\"[_WA_Sys_00000013_55009F39]\" Table=\"[OrderHistoryExtended]\" Schema=\"[Fact]\" Database=\"[wideworldimportersdw]\"></StatisticsInfo></OptimizerStatsUsage><WaitStats><Wait WaitType=\"CXPACKET\" WaitTimeMs=\"1932\" WaitCount=\"9\"></Wait><Wait WaitType=\"LATCH_EX\" WaitTimeMs=\"54\" WaitCount=\"249\"></Wait><Wait WaitType=\"BPSORT\" WaitTimeMs=\"35\" WaitCount=\"210\"></Wait><Wait WaitType=\"SOS_SCHEDULER_YIELD\" WaitTimeMs=\"22\" WaitCount=\"3595\"></Wait><Wait WaitType=\"HTBUILD\" WaitTimeMs=\"18\" WaitCount=\"14\"></Wait><Wait WaitType=\"HTDELETE\" WaitTimeMs=\"2\" WaitCount=\"14\"></Wait></WaitStats><QueryTimeStats ElapsedTime=\"1933\" CpuTime=\"15343\"></QueryTimeStats><RelOp NodeId=\"0\" PhysicalOp=\"Parallelism\" LogicalOp=\"Gather Streams\" EstimateRows=\"202\" EstimateIO=\"0\" EstimateCPU=\"0.029859\" AvgRowSize=\"49\" EstimatedTotalSubtreeCost=\"575.358\" Parallel=\"1\" EstimateRebinds=\"0\" EstimateRewinds=\"0\" EstimatedExecutionMode=\"Row\"><OutputList><ColumnReference Database=\"[wideworldimportersdw]\" Schema=\"[Fact]\" Table=\"[OrderHistoryExtended]\" Column=\"Salesperson Key\"></ColumnReference><ColumnReference Database=\"[wideworldimportersdw]\" Schema=\"[Fact]\" Table=\"[OrderHistoryExtended]\" Column=\"Tax Rate\"></ColumnReference><ColumnReference Database=\"[wideworldimportersdw]\" Schema=\"[Fact]\" Table=\"[OrderHistoryExtended]\" Column=\"Lineage Key\"></ColumnReference><ColumnReference Column=\"Expr1003\"></ColumnReference><ColumnReference Column=\"Expr1004\"></ColumnReference><ColumnReference Column=\"Expr1005\"></ColumnReference></OutputList><RunTimeInformation><RunTimeCountersPerThread Thread=\"0\" ActualRows=\"100\" Batches=\"0\" ActualExecutionMode=\"Row\" ActualElapsedms=\"1932\" ActualCPUms=\"0\" ActualEndOfScans=\"1\" ActualExecutions=\"1\"></RunTimeCountersPerThread></RunTimeInformation><Parallelism><OrderBy><OrderByColumn Ascending=\"1\"><ColumnReference Database=\"[wideworldimportersdw]\" Schema=\"[Fact]\" Table=\"[OrderHistoryExtended]\" Column=\"Tax Rate\"></ColumnReference></OrderByColumn><OrderByColumn Ascending=\"1\"><ColumnReference Database=\"[wideworldimportersdw]\" Schema=\"[Fact]\" Table=\"[OrderHistoryExtended]\" Column=\"Lineage Key\"></ColumnReference></OrderByColumn><OrderByColumn Ascending=\"1\"><ColumnReference Database=\"[wideworldimportersdw]\" Schema=\"[Fact]\" Table=\"[OrderHistoryExtended]\" Column=\"Salesperson Key\"></ColumnReference></OrderByColumn></OrderBy><RelOp NodeId=\"1\" PhysicalOp=\"Sort\" LogicalOp=\"Sort\" EstimateRows=\"202\" EstimateIO=\"0.000938438\" EstimateCPU=\"8.53436e-05\" AvgRowSize=\"49\" EstimatedTotalSubtreeCost=\"575.328\" Parallel=\"1\" EstimateRebinds=\"0\" EstimateRewinds=\"0\" EstimatedExecutionMode=\"Batch\"><OutputList><ColumnReference Database=\"[wideworldimportersdw]\" Schema=\"[Fact]\" Table=\"[OrderHistoryExtended]\" Column=\"Salesperson Key\"></ColumnReference><ColumnReference Database=\"[wideworldimportersdw]\" Schema=\"[Fact]\" Table=\"[OrderHistoryExtended]\" Column=\"Tax Rate\"></ColumnReference><ColumnReference Database=\"[wideworldimportersdw]\" Schema=\"[Fact]\" Table=\"[OrderHistoryExtended]\" Column=\"Lineage Key\"></ColumnReference><ColumnReference Column=\"Expr1003\"></ColumnReference><ColumnReference Column=\"Expr1004\"></ColumnReference><ColumnReference Column=\"Expr1005\"></ColumnReference></OutputList><MemoryFractions Input=\"1\" Output=\"1\"></MemoryFractions><RunTimeInformation><RunTimeCountersPerThread Thread=\"8\" ActualRows=\"0\" Batches=\"0\" ActualExecutionMode=\"Batch\" ActualElapsedms=\"5\" ActualCPUms=\"0\" ActualScans=\"0\" ActualLogicalReads=\"0\" ActualPhysicalReads=\"0\" ActualReadAheads=\"0\" ActualLobLogicalReads=\"0\" ActualLobPhysicalReads=\"0\" ActualLobReadAheads=\"0\" ActualEndOfScans=\"0\" ActualExecutions=\"1\"></RunTimeCountersPerThread><RunTimeCountersPerThread Thread=\"7\" ActualRows=\"0\" Batches=\"0\" ActualExecutionMode=\"Batch\" ActualElapsedms=\"5\" ActualCPUms=\"0\" ActualScans=\"0\" ActualLogicalReads=\"0\" ActualPhysicalReads=\"0\" ActualReadAheads=\"0\" ActualLobLogicalReads=\"0\" ActualLobPhysicalReads=\"0\" ActualLobReadAheads=\"0\" ActualEndOfScans=\"0\" ActualExecutions=\"1\"></RunTimeCountersPerThread><RunTimeCountersPerThread Thread=\"6\" ActualRows=\"0\" Batches=\"0\" ActualExecutionMode=\"Batch\" ActualElapsedms=\"5\" ActualCPUms=\"0\" ActualScans=\"0\" ActualLogicalReads=\"0\" ActualPhysicalReads=\"0\" ActualReadAheads=\"0\" ActualLobLogicalReads=\"0\" ActualLobPhysicalReads=\"0\" ActualLobReadAheads=\"0\" ActualEndOfScans=\"0\" ActualExecutions=\"1\"></RunTimeCountersPerThread><RunTimeCountersPerThread Thread=\"5\" ActualRows=\"0\" Batches=\"0\" ActualExecutionMode=\"Batch\" ActualElapsedms=\"4\" ActualCPUms=\"0\" ActualScans=\"0\" ActualLogicalReads=\"0\" ActualPhysicalReads=\"0\" ActualReadAheads=\"0\" ActualLobLogicalReads=\"0\" ActualLobPhysicalReads=\"0\" ActualLobReadAheads=\"0\" ActualEndOfScans=\"0\" ActualExecutions=\"1\"></RunTimeCountersPerThread><RunTimeCountersPerThread Thread=\"4\" ActualRows=\"0\" Batches=\"0\" ActualExecutionMode=\"Batch\" ActualElapsedms=\"5\" ActualCPUms=\"2\" ActualScans=\"0\" ActualLogicalReads=\"0\" ActualPhysicalReads=\"0\" ActualReadAheads=\"0\" ActualLobLogicalReads=\"0\" ActualLobPhysicalReads=\"0\" ActualLobReadAheads=\"0\" ActualEndOfScans=\"0\" ActualExecutions=\"1\"></RunTimeCountersPerThread><RunTimeCountersPerThread Thread=\"3\" ActualRows=\"0\" Batches=\"0\" ActualExecutionMode=\"Batch\" ActualElapsedms=\"5\" ActualCPUms=\"1\" ActualScans=\"0\" ActualLogicalReads=\"0\" ActualPhysicalReads=\"0\" ActualReadAheads=\"0\" ActualLobLogicalReads=\"0\" ActualLobPhysicalReads=\"0\" ActualLobReadAheads=\"0\" ActualEndOfScans=\"0\" ActualExecutions=\"1\"></RunTimeCountersPerThread><RunTimeCountersPerThread Thread=\"2\" ActualRows=\"0\" Batches=\"0\" ActualExecutionMode=\"Batch\" ActualElapsedms=\"5\" ActualCPUms=\"0\" ActualScans=\"0\" ActualLogicalReads=\"0\" ActualPhysicalReads=\"0\" ActualReadAheads=\"0\" ActualLobLogicalReads=\"0\" ActualLobPhysicalReads=\"0\" ActualLobReadAheads=\"0\" ActualEndOfScans=\"0\" ActualExecutions=\"1\"></RunTimeCountersPerThread><RunTimeCountersPerThread Thread=\"1\" ActualRows=\"100\" Batches=\"1\" ActualExecutionMode=\"Batch\" ActualElapsedms=\"5\" ActualCPUms=\"0\" ActualScans=\"0\" ActualLogicalReads=\"0\" ActualPhysicalReads=\"0\" ActualReadAheads=\"0\" ActualLobLogicalReads=\"0\" ActualLobPhysicalReads=\"0\" ActualLobReadAheads=\"0\" ActualEndOfScans=\"0\" ActualExecutions=\"1\"></RunTimeCountersPerThread><RunTimeCountersPerThread Thread=\"0\" ActualRows=\"0\" Batches=\"0\" ActualExecutionMode=\"Row\" ActualElapsedms=\"0\" ActualCPUms=\"0\" ActualEndOfScans=\"0\" ActualExecutions=\"0\"></RunTimeCountersPerThread></RunTimeInformation><Sort Distinct=\"0\"><OrderBy><OrderByColumn Ascending=\"1\"><ColumnReference Database=\"[wideworldimportersdw]\" Schema=\"[Fact]\" Table=\"[OrderHistoryExtended]\" Column=\"Tax Rate\"></ColumnReference></OrderByColumn><OrderByColumn Ascending=\"1\"><ColumnReference Database=\"[wideworldimportersdw]\" Schema=\"[Fact]\" Table=\"[OrderHistoryExtended]\" Column=\"Lineage Key\"></ColumnReference></OrderByColumn><OrderByColumn Ascending=\"1\"><ColumnReference Database=\"[wideworldimportersdw]\" Schema=\"[Fact]\" Table=\"[OrderHistoryExtended]\" Column=\"Salesperson Key\"></ColumnReference></OrderByColumn></OrderBy><RelOp NodeId=\"2\" PhysicalOp=\"Compute Scalar\" LogicalOp=\"Compute Scalar\" EstimateRows=\"202\" EstimateIO=\"0\" EstimateCPU=\"0\" AvgRowSize=\"49\" EstimatedTotalSubtreeCost=\"575.327\" Parallel=\"1\" EstimateRebinds=\"0\" EstimateRewinds=\"0\" EstimatedExecutionMode=\"Batch\"><OutputList><ColumnReference Database=\"[wideworldimportersdw]\" Schema=\"[Fact]\" Table=\"[OrderHistoryExtended]\" Column=\"Salesperson Key\"></ColumnReference><ColumnReference Database=\"[wideworldimportersdw]\" Schema=\"[Fact]\" Table=\"[OrderHistoryExtended]\" Column=\"Tax Rate\"></ColumnReference><ColumnReference Database=\"[wideworldimportersdw]\" Schema=\"[Fact]\" Table=\"[OrderHistoryExtended]\" Column=\"Lineage Key\"></ColumnReference><ColumnReference Column=\"Expr1003\"></ColumnReference><ColumnReference Column=\"Expr1004\"></ColumnReference><ColumnReference Column=\"Expr1005\"></ColumnReference></OutputList><RunTimeInformation><RunTimeCountersPerThread Thread=\"8\" ActualRows=\"0\" Batches=\"0\" ActualExecutionMode=\"Batch\" ActualElapsedms=\"0\" ActualCPUms=\"0\" ActualScans=\"0\" ActualLogicalReads=\"0\" ActualPhysicalReads=\"0\" ActualReadAheads=\"0\" ActualLobLogicalReads=\"0\" ActualLobPhysicalReads=\"0\" ActualLobReadAheads=\"0\" ActualEndOfScans=\"0\" ActualExecutions=\"1\"></RunTimeCountersPerThread><RunTimeCountersPerThread Thread=\"7\" ActualRows=\"0\" Batches=\"0\" ActualExecutionMode=\"Batch\" ActualElapsedms=\"0\" ActualCPUms=\"0\" ActualScans=\"0\" ActualLogicalReads=\"0\" ActualPhysicalReads=\"0\" ActualReadAheads=\"0\" ActualLobLogicalReads=\"0\" ActualLobPhysicalReads=\"0\" ActualLobReadAheads=\"0\" ActualEndOfScans=\"0\" ActualExecutions=\"1\"></RunTimeCountersPerThread><RunTimeCountersPerThread Thread=\"6\" ActualRows=\"24\" Batches=\"1\" ActualExecutionMode=\"Batch\" ActualElapsedms=\"0\" ActualCPUms=\"0\" ActualScans=\"0\" ActualLogicalReads=\"0\" ActualPhysicalReads=\"0\" ActualReadAheads=\"0\" ActualLobLogicalReads=\"0\" ActualLobPhysicalReads=\"0\" ActualLobReadAheads=\"0\" ActualEndOfScans=\"0\" ActualExecutions=\"1\"></RunTimeCountersPerThread><RunTimeCountersPerThread Thread=\"5\" ActualRows=\"76\" Batches=\"1\" ActualExecutionMode=\"Batch\" ActualElapsedms=\"0\" ActualCPUms=\"0\" ActualScans=\"0\" ActualLogicalReads=\"0\" ActualPhysicalReads=\"0\" ActualReadAheads=\"0\" ActualLobLogicalReads=\"0\" ActualLobPhysicalReads=\"0\" ActualLobReadAheads=\"0\" ActualEndOfScans=\"0\" ActualExecutions=\"1\"></RunTimeCountersPerThread><RunTimeCountersPerThread Thread=\"4\" ActualRows=\"0\" Batches=\"0\" ActualExecutionMode=\"Batch\" ActualElapsedms=\"0\" ActualCPUms=\"0\" ActualScans=\"0\" ActualLogicalReads=\"0\" ActualPhysicalReads=\"0\" ActualReadAheads=\"0\" ActualLobLogicalReads=\"0\" ActualLobPhysicalReads=\"0\" ActualLobReadAheads=\"0\" ActualEndOfScans=\"0\" ActualExecutions=\"1\"></RunTimeCountersPerThread><RunTimeCountersPerThread Thread=\"3\" ActualRows=\"0\" Batches=\"0\" ActualExecutionMode=\"Batch\" ActualElapsedms=\"0\" ActualCPUms=\"0\" ActualScans=\"0\" ActualLogicalReads=\"0\" ActualPhysicalReads=\"0\" ActualReadAheads=\"0\" ActualLobLogicalReads=\"0\" ActualLobPhysicalReads=\"0\" ActualLobReadAheads=\"0\" ActualEndOfScans=\"0\" ActualExecutions=\"1\"></RunTimeCountersPerThread><RunTimeCountersPerThread Thread=\"2\" ActualRows=\"0\" Batches=\"0\" ActualExecutionMode=\"Batch\" ActualElapsedms=\"0\" ActualCPUms=\"0\" ActualScans=\"0\" ActualLogicalReads=\"0\" ActualPhysicalReads=\"0\" ActualReadAheads=\"0\" ActualLobLogicalReads=\"0\" ActualLobPhysicalReads=\"0\" ActualLobReadAheads=\"0\" ActualEndOfScans=\"0\" ActualExecutions=\"1\"></RunTimeCountersPerThread><RunTimeCountersPerThread Thread=\"1\" ActualRows=\"0\" Batches=\"0\" ActualExecutionMode=\"Batch\" ActualElapsedms=\"0\" ActualCPUms=\"0\" ActualScans=\"0\" ActualLogicalReads=\"0\" ActualPhysicalReads=\"0\" ActualReadAheads=\"0\" ActualLobLogicalReads=\"0\" ActualLobPhysicalReads=\"0\" ActualLobReadAheads=\"0\" ActualEndOfScans=\"0\" ActualExecutions=\"1\"></RunTimeCountersPerThread><RunTimeCountersPerThread Thread=\"0\" ActualRows=\"0\" Batches=\"0\" ActualExecutionMode=\"Row\" ActualElapsedms=\"0\" ActualCPUms=\"0\" ActualEndOfScans=\"0\" ActualExecutions=\"0\"></RunTimeCountersPerThread></RunTimeInformation><ComputeScalar><DefinedValues><DefinedValue><ColumnReference Column=\"Expr1005\"></ColumnReference><ScalarOperator ScalarString=\"CONVERT_IMPLICIT(int,[Expr1011],0)\"><Convert DataType=\"int\" Style=\"0\" Implicit=\"1\"><ScalarOperator><Identifier><ColumnReference Column=\"Expr1011\"></ColumnReference></Identifier></ScalarOperator></Convert></ScalarOperator></DefinedValue></DefinedValues><RelOp NodeId=\"3\" PhysicalOp=\"Hash Match\" LogicalOp=\"Aggregate\" EstimateRows=\"202\" EstimateIO=\"0\" EstimateCPU=\"4.0359\" AvgRowSize=\"49\" EstimatedTotalSubtreeCost=\"575.327\" Parallel=\"1\" EstimateRebinds=\"0\" EstimateRewinds=\"0\" EstimatedExecutionMode=\"Batch\"><OutputList><ColumnReference Database=\"[wideworldimportersdw]\" Schema=\"[Fact]\" Table=\"[OrderHistoryExtended]\" Column=\"Salesperson Key\"></ColumnReference><ColumnReference Database=\"[wideworldimportersdw]\" Schema=\"[Fact]\" Table=\"[OrderHistoryExtended]\" Column=\"Tax Rate\"></ColumnReference><ColumnReference Database=\"[wideworldimportersdw]\" Schema=\"[Fact]\" Table=\"[OrderHistoryExtended]\" Column=\"Lineage Key\"></ColumnReference><ColumnReference Column=\"Expr1003\"></ColumnReference><ColumnReference Column=\"Expr1004\"></ColumnReference><ColumnReference Column=\"Expr1011\"></ColumnReference></OutputList><MemoryFractions Input=\"0\" Output=\"0\"></MemoryFractions><RunTimeInformation><RunTimeCountersPerThread Thread=\"8\" ActualRows=\"0\" Batches=\"0\" ActualExecutionMode=\"Batch\" ActualElapsedms=\"150\" ActualCPUms=\"147\" ActualScans=\"0\" ActualLogicalReads=\"0\" ActualPhysicalReads=\"0\" ActualReadAheads=\"0\" ActualLobLogicalReads=\"0\" ActualLobPhysicalReads=\"0\" ActualLobReadAheads=\"0\" ActualEndOfScans=\"0\" ActualExecutions=\"1\"></RunTimeCountersPerThread><RunTimeCountersPerThread Thread=\"7\" ActualRows=\"0\" Batches=\"0\" ActualExecutionMode=\"Batch\" ActualElapsedms=\"151\" ActualCPUms=\"147\" ActualScans=\"0\" ActualLogicalReads=\"0\" ActualPhysicalReads=\"0\" ActualReadAheads=\"0\" ActualLobLogicalReads=\"0\" ActualLobPhysicalReads=\"0\" ActualLobReadAheads=\"0\" ActualEndOfScans=\"0\" ActualExecutions=\"1\"></RunTimeCountersPerThread><RunTimeCountersPerThread Thread=\"6\" ActualRows=\"24\" Batches=\"1\" ActualExecutionMode=\"Batch\" ActualElapsedms=\"155\" ActualCPUms=\"150\" ActualScans=\"0\" ActualLogicalReads=\"0\" ActualPhysicalReads=\"0\" ActualReadAheads=\"0\" ActualLobLogicalReads=\"0\" ActualLobPhysicalReads=\"0\" ActualLobReadAheads=\"0\" ActualEndOfScans=\"0\" ActualExecutions=\"1\"></RunTimeCountersPerThread><RunTimeCountersPerThread Thread=\"5\" ActualRows=\"76\" Batches=\"1\" ActualExecutionMode=\"Batch\" ActualElapsedms=\"144\" ActualCPUms=\"140\" ActualScans=\"0\" ActualLogicalReads=\"0\" ActualPhysicalReads=\"0\" ActualReadAheads=\"0\" ActualLobLogicalReads=\"0\" ActualLobPhysicalReads=\"0\" ActualLobReadAheads=\"0\" ActualEndOfScans=\"0\" ActualExecutions=\"1\"></RunTimeCountersPerThread><RunTimeCountersPerThread Thread=\"4\" ActualRows=\"0\" Batches=\"0\" ActualExecutionMode=\"Batch\" ActualElapsedms=\"144\" ActualCPUms=\"142\" ActualScans=\"0\" ActualLogicalReads=\"0\" ActualPhysicalReads=\"0\" ActualReadAheads=\"0\" ActualLobLogicalReads=\"0\" ActualLobPhysicalReads=\"0\" ActualLobReadAheads=\"0\" ActualEndOfScans=\"0\" ActualExecutions=\"1\"></RunTimeCountersPerThread><RunTimeCountersPerThread Thread=\"3\" ActualRows=\"0\" Batches=\"0\" ActualExecutionMode=\"Batch\" ActualElapsedms=\"156\" ActualCPUms=\"153\" ActualScans=\"0\" ActualLogicalReads=\"0\" ActualPhysicalReads=\"0\" ActualReadAheads=\"0\" ActualLobLogicalReads=\"0\" ActualLobPhysicalReads=\"0\" ActualLobReadAheads=\"0\" ActualEndOfScans=\"0\" ActualExecutions=\"1\"></RunTimeCountersPerThread><RunTimeCountersPerThread Thread=\"2\" ActualRows=\"0\" Batches=\"0\" ActualExecutionMode=\"Batch\" ActualElapsedms=\"145\" ActualCPUms=\"139\" ActualScans=\"0\" ActualLogicalReads=\"0\" ActualPhysicalReads=\"0\" ActualReadAheads=\"0\" ActualLobLogicalReads=\"0\" ActualLobPhysicalReads=\"0\" ActualLobReadAheads=\"0\" ActualEndOfScans=\"0\" ActualExecutions=\"1\"></RunTimeCountersPerThread><RunTimeCountersPerThread Thread=\"1\" ActualRows=\"0\" Batches=\"0\" ActualExecutionMode=\"Batch\" ActualElapsedms=\"155\" ActualCPUms=\"148\" ActualScans=\"0\" ActualLogicalReads=\"0\" ActualPhysicalReads=\"0\" ActualReadAheads=\"0\" ActualLobLogicalReads=\"0\" ActualLobPhysicalReads=\"0\" ActualLobReadAheads=\"0\" ActualEndOfScans=\"0\" ActualExecutions=\"1\"></RunTimeCountersPerThread><RunTimeCountersPerThread Thread=\"0\" ActualRows=\"0\" Batches=\"0\" ActualExecutionMode=\"Row\" ActualElapsedms=\"0\" ActualCPUms=\"0\" ActualEndOfScans=\"0\" ActualExecutions=\"0\"></RunTimeCountersPerThread></RunTimeInformation><Hash><DefinedValues><DefinedValue><ColumnReference Column=\"Expr1003\"></ColumnReference><ScalarOperator ScalarString=\"SUM([wideworldimportersdw].[Fact].[OrderHistoryExtended].[Quantity])\"><Aggregate Distinct=\"0\" AggType=\"SUM\"><ScalarOperator><Identifier><ColumnReference Database=\"[wideworldimportersdw]\" Schema=\"[Fact]\" Table=\"[OrderHistoryExtended]\" Column=\"Quantity\"></ColumnReference></Identifier></ScalarOperator></Aggregate></ScalarOperator></DefinedValue><DefinedValue><ColumnReference Column=\"Expr1004\"></ColumnReference><ScalarOperator ScalarString=\"SUM([wideworldimportersdw].[Fact].[OrderHistoryExtended].[Unit Price])\"><Aggregate Distinct=\"0\" AggType=\"SUM\"><ScalarOperator><Identifier><ColumnReference Database=\"[wideworldimportersdw]\" Schema=\"[Fact]\" Table=\"[OrderHistoryExtended]\" Column=\"Unit Price\"></ColumnReference></Identifier></ScalarOperator></Aggregate></ScalarOperator></DefinedValue><DefinedValue><ColumnReference Column=\"Expr1011\"></ColumnReference><ScalarOperator ScalarString=\"COUNT(*)\"><Aggregate Distinct=\"0\" AggType=\"COUNT*\"></Aggregate></ScalarOperator></DefinedValue></DefinedValues><HashKeysBuild><ColumnReference Database=\"[wideworldimportersdw]\" Schema=\"[Fact]\" Table=\"[OrderHistoryExtended]\" Column=\"Tax Rate\"></ColumnReference><ColumnReference Database=\"[wideworldimportersdw]\" Schema=\"[Fact]\" Table=\"[OrderHistoryExtended]\" Column=\"Lineage Key\"></ColumnReference><ColumnReference Database=\"[wideworldimportersdw]\" Schema=\"[Fact]\" Table=\"[OrderHistoryExtended]\" Column=\"Salesperson Key\"></ColumnReference></HashKeysBuild><BuildResidual><ScalarOperator ScalarString=\"[wideworldimportersdw].[Fact].[OrderHistoryExtended].[Tax Rate] = [wideworldimportersdw].[Fact].[OrderHistoryExtended].[Tax Rate] AND [wideworldimportersdw].[Fact].[OrderHistoryExtended].[Lineage Key] = [wideworldimportersdw].[Fact].[OrderHistoryExtended].[Lineage Key] AND [wideworldimportersdw].[Fact].[OrderHistoryExtended].[Salesperson Key] = [wideworldimportersdw].[Fact].[OrderHistoryExtended].[Salesperson Key]\"><Logical Operation=\"AND\"><ScalarOperator><Logical Operation=\"AND\"><ScalarOperator><Compare CompareOp=\"IS\"><ScalarOperator><Identifier><ColumnReference Database=\"[wideworldimportersdw]\" Schema=\"[Fact]\" Table=\"[OrderHistoryExtended]\" Column=\"Tax Rate\"></ColumnReference></Identifier></ScalarOperator><ScalarOperator><Identifier><ColumnReference Database=\"[wideworldimportersdw]\" Schema=\"[Fact]\" Table=\"[OrderHistoryExtended]\" Column=\"Tax Rate\"></ColumnReference></Identifier></ScalarOperator></Compare></ScalarOperator><ScalarOperator><Compare CompareOp=\"IS\"><ScalarOperator><Identifier><ColumnReference Database=\"[wideworldimportersdw]\" Schema=\"[Fact]\" Table=\"[OrderHistoryExtended]\" Column=\"Lineage Key\"></ColumnReference></Identifier></ScalarOperator><ScalarOperator><Identifier><ColumnReference Database=\"[wideworldimportersdw]\" Schema=\"[Fact]\" Table=\"[OrderHistoryExtended]\" Column=\"Lineage Key\"></ColumnReference></Identifier></ScalarOperator></Compare></ScalarOperator></Logical></ScalarOperator><ScalarOperator><Compare CompareOp=\"IS\"><ScalarOperator><Identifier><ColumnReference Database=\"[wideworldimportersdw]\" Schema=\"[Fact]\" Table=\"[OrderHistoryExtended]\" Column=\"Salesperson Key\"></ColumnReference></Identifier></ScalarOperator><ScalarOperator><Identifier><ColumnReference Database=\"[wideworldimportersdw]\" Schema=\"[Fact]\" Table=\"[OrderHistoryExtended]\" Column=\"Salesperson Key\"></ColumnReference></Identifier></ScalarOperator></Compare></ScalarOperator></Logical></ScalarOperator></BuildResidual><RelOp NodeId=\"4\" PhysicalOp=\"Table Scan\" LogicalOp=\"Table Scan\" EstimateRows=\"2.27035e+07\" EstimatedRowsRead=\"2.96207e+07\" EstimateIO=\"559.591\" EstimateCPU=\"8.14574\" AvgRowSize=\"40\" EstimatedTotalSubtreeCost=\"567.737\" TableCardinality=\"2.96207e+07\" Parallel=\"1\" EstimateRebinds=\"0\" EstimateRewinds=\"0\" EstimatedExecutionMode=\"Batch\"><OutputList><ColumnReference Database=\"[wideworldimportersdw]\" Schema=\"[Fact]\" Table=\"[OrderHistoryExtended]\" Column=\"Salesperson Key\"></ColumnReference><ColumnReference Database=\"[wideworldimportersdw]\" Schema=\"[Fact]\" Table=\"[OrderHistoryExtended]\" Column=\"Quantity\"></ColumnReference><ColumnReference Database=\"[wideworldimportersdw]\" Schema=\"[Fact]\" Table=\"[OrderHistoryExtended]\" Column=\"Unit Price\"></ColumnReference><ColumnReference Database=\"[wideworldimportersdw]\" Schema=\"[Fact]\" Table=\"[OrderHistoryExtended]\" Column=\"Tax Rate\"></ColumnReference><ColumnReference Database=\"[wideworldimportersdw]\" Schema=\"[Fact]\" Table=\"[OrderHistoryExtended]\" Column=\"Lineage Key\"></ColumnReference></OutputList><RunTimeInformation><RunTimeCountersPerThread Thread=\"8\" ActualRows=\"2777098\" Batches=\"3086\" ActualExecutionMode=\"Batch\" ActualElapsedms=\"1773\" ActualCPUms=\"1763\" ActualScans=\"1\" ActualLogicalReads=\"92544\" ActualPhysicalReads=\"0\" ActualReadAheads=\"0\" ActualLobLogicalReads=\"0\" ActualLobPhysicalReads=\"0\" ActualLobReadAheads=\"0\" ActualRowsRead=\"3629305\" ActualEndOfScans=\"0\" ActualExecutions=\"1\"></RunTimeCountersPerThread><RunTimeCountersPerThread Thread=\"7\" ActualRows=\"2777601\" Batches=\"3087\" ActualExecutionMode=\"Batch\" ActualElapsedms=\"1771\" ActualCPUms=\"1765\" ActualScans=\"1\" ActualLogicalReads=\"92160\" ActualPhysicalReads=\"0\" ActualReadAheads=\"0\" ActualLobLogicalReads=\"0\" ActualLobPhysicalReads=\"0\" ActualLobReadAheads=\"0\" ActualRowsRead=\"3615833\" ActualEndOfScans=\"0\" ActualExecutions=\"1\"></RunTimeCountersPerThread><RunTimeCountersPerThread Thread=\"6\" ActualRows=\"2985742\" Batches=\"3318\" ActualExecutionMode=\"Batch\" ActualElapsedms=\"1768\" ActualCPUms=\"1759\" ActualScans=\"1\" ActualLogicalReads=\"99829\" ActualPhysicalReads=\"0\" ActualReadAheads=\"0\" ActualLobLogicalReads=\"0\" ActualLobPhysicalReads=\"0\" ActualLobReadAheads=\"0\" ActualRowsRead=\"3912039\" ActualEndOfScans=\"0\" ActualExecutions=\"1\"></RunTimeCountersPerThread><RunTimeCountersPerThread Thread=\"5\" ActualRows=\"2780075\" Batches=\"3089\" ActualExecutionMode=\"Batch\" ActualElapsedms=\"1779\" ActualCPUms=\"1774\" ActualScans=\"1\" ActualLogicalReads=\"92544\" ActualPhysicalReads=\"0\" ActualReadAheads=\"0\" ActualLobLogicalReads=\"0\" ActualLobPhysicalReads=\"0\" ActualLobReadAheads=\"0\" ActualRowsRead=\"3630191\" ActualEndOfScans=\"0\" ActualExecutions=\"1\"></RunTimeCountersPerThread><RunTimeCountersPerThread Thread=\"4\" ActualRows=\"2768494\" Batches=\"3077\" ActualExecutionMode=\"Batch\" ActualElapsedms=\"1778\" ActualCPUms=\"1770\" ActualScans=\"1\" ActualLogicalReads=\"92288\" ActualPhysicalReads=\"0\" ActualReadAheads=\"0\" ActualLobLogicalReads=\"0\" ActualLobPhysicalReads=\"0\" ActualLobReadAheads=\"0\" ActualRowsRead=\"3619197\" ActualEndOfScans=\"0\" ActualExecutions=\"1\"></RunTimeCountersPerThread><RunTimeCountersPerThread Thread=\"3\" ActualRows=\"2828132\" Batches=\"3143\" ActualExecutionMode=\"Batch\" ActualElapsedms=\"1767\" ActualCPUms=\"1760\" ActualScans=\"1\" ActualLogicalReads=\"93568\" ActualPhysicalReads=\"0\" ActualReadAheads=\"0\" ActualLobLogicalReads=\"0\" ActualLobPhysicalReads=\"0\" ActualLobReadAheads=\"0\" ActualRowsRead=\"3670566\" ActualEndOfScans=\"0\" ActualExecutions=\"1\"></RunTimeCountersPerThread><RunTimeCountersPerThread Thread=\"2\" ActualRows=\"2871852\" Batches=\"3191\" ActualExecutionMode=\"Batch\" ActualElapsedms=\"1777\" ActualCPUms=\"1770\" ActualScans=\"1\" ActualLogicalReads=\"95360\" ActualPhysicalReads=\"0\" ActualReadAheads=\"0\" ActualLobLogicalReads=\"0\" ActualLobPhysicalReads=\"0\" ActualLobReadAheads=\"0\" ActualRowsRead=\"3734684\" ActualEndOfScans=\"0\" ActualExecutions=\"1\"></RunTimeCountersPerThread><RunTimeCountersPerThread Thread=\"1\" ActualRows=\"2900798\" Batches=\"3224\" ActualExecutionMode=\"Batch\" ActualElapsedms=\"1768\" ActualCPUms=\"1760\" ActualScans=\"1\" ActualLogicalReads=\"97152\" ActualPhysicalReads=\"0\" ActualReadAheads=\"0\" ActualLobLogicalReads=\"0\" ActualLobPhysicalReads=\"0\" ActualLobReadAheads=\"0\" ActualRowsRead=\"3808921\" ActualEndOfScans=\"0\" ActualExecutions=\"1\"></RunTimeCountersPerThread><RunTimeCountersPerThread Thread=\"0\" ActualRows=\"0\" Batches=\"0\" ActualExecutionMode=\"Row\" ActualElapsedms=\"0\" ActualCPUms=\"0\" ActualEndOfScans=\"0\" ActualExecutions=\"0\"></RunTimeCountersPerThread></RunTimeInformation><IndexScan Ordered=\"0\" ForcedIndex=\"0\" ForceSeek=\"0\" ForceScan=\"0\" NoExpandHint=\"0\" Storage=\"RowStore\"><DefinedValues><DefinedValue><ColumnReference Database=\"[wideworldimportersdw]\" Schema=\"[Fact]\" Table=\"[OrderHistoryExtended]\" Column=\"Salesperson Key\"></ColumnReference></DefinedValue><DefinedValue><ColumnReference Database=\"[wideworldimportersdw]\" Schema=\"[Fact]\" Table=\"[OrderHistoryExtended]\" Column=\"Quantity\"></ColumnReference></DefinedValue><DefinedValue><ColumnReference Database=\"[wideworldimportersdw]\" Schema=\"[Fact]\" Table=\"[OrderHistoryExtended]\" Column=\"Unit Price\"></ColumnReference></DefinedValue><DefinedValue><ColumnReference Database=\"[wideworldimportersdw]\" Schema=\"[Fact]\" Table=\"[OrderHistoryExtended]\" Column=\"Tax Rate\"></ColumnReference></DefinedValue><DefinedValue><ColumnReference Database=\"[wideworldimportersdw]\" Schema=\"[Fact]\" Table=\"[OrderHistoryExtended]\" Column=\"Lineage Key\"></ColumnReference></DefinedValue></DefinedValues><Object Database=\"[wideworldimportersdw]\" Schema=\"[Fact]\" Table=\"[OrderHistoryExtended]\" IndexKind=\"Heap\" Storage=\"RowStore\"></Object><Predicate><ScalarOperator ScalarString=\"[wideworldimportersdw].[Fact].[OrderHistoryExtended].[Order Date Key]&lt;=&apos;2015-09-01 00:00:00.000&apos;\"><Compare CompareOp=\"LE\"><ScalarOperator><Identifier><ColumnReference Database=\"[wideworldimportersdw]\" Schema=\"[Fact]\" Table=\"[OrderHistoryExtended]\" Column=\"Order Date Key\"></ColumnReference></Identifier></ScalarOperator><ScalarOperator><Const ConstValue=\"&apos;2015-09-01 00:00:00.000&apos;\"></Const></ScalarOperator></Compare></ScalarOperator></Predicate></IndexScan></RelOp></Hash></RelOp></ComputeScalar></RelOp></Sort></RelOp></Parallelism></RelOp></QueryPlan></StmtSimple></Statements></Batch></BatchSequence></ShowPlanXML>"
                                }
                            ]
                        },
                        "text/html": "<table><tr><th>Microsoft SQL Server 2005 XML Showplan</th></tr><tr><td>&lt;ShowPlanXML xmlns=&quot;http://schemas.microsoft.com/sqlserver/2004/07/showplan&quot; Version=&quot;1.524&quot; Build=&quot;15.0.1400.75&quot;&gt;&lt;BatchSequence&gt;&lt;Batch&gt;&lt;Statements&gt;&lt;StmtSimple StatementText=&quot;SELECT [Tax Rate], [Lineage Key], [Salesperson Key], SUM(Quantity) AS SUM_QTY, &amp;#xd;&amp;#xa;SUM([Unit Price]) AS SUM_BASE_PRICE, COUNT(*) AS COUNT_ORDER&amp;#xd;&amp;#xa;FROM Fact.OrderHistoryExtended&amp;#xd;&amp;#xa;WHERE [Order Date Key]&amp;lt;=DATEADD(dd, -73, &amp;apos;2015-11-13&amp;apos;)&amp;#xd;&amp;#xa;GROUP BY [Tax Rate], [Lineage Key], [Salesperson Key]&amp;#xd;&amp;#xa;ORDER BY [Tax Rate], [Lineage Key], [Salesperson Key]&quot; StatementId=&quot;1&quot; StatementCompId=&quot;1&quot; StatementType=&quot;SELECT&quot; StatementSqlHandle=&quot;0x09009175BCDBCCD0AD94FA0F2F50B77640990000000000000000000000000000000000000000000000000000&quot; DatabaseContextSettingsId=&quot;1&quot; ParentObjectId=&quot;0&quot; StatementParameterizationType=&quot;0&quot; RetrievedFromCache=&quot;true&quot; StatementSubTreeCost=&quot;575.358&quot; StatementEstRows=&quot;202&quot; SecurityPolicyApplied=&quot;false&quot; StatementOptmLevel=&quot;FULL&quot; QueryHash=&quot;0xCF8A6CEBEF3FF3FA&quot; QueryPlanHash=&quot;0xE0595E5514767812&quot; CardinalityEstimationModelVersion=&quot;150&quot; BatchModeOnRowStoreUsed=&quot;true&quot;&gt;&lt;StatementSetOptions QUOTED_IDENTIFIER=&quot;true&quot; ARITHABORT=&quot;true&quot; CONCAT_NULL_YIELDS_NULL=&quot;true&quot; ANSI_NULLS=&quot;true&quot; ANSI_PADDING=&quot;true&quot; ANSI_WARNINGS=&quot;true&quot; NUMERIC_ROUNDABORT=&quot;false&quot;&gt;&lt;/StatementSetOptions&gt;&lt;QueryPlan DegreeOfParallelism=&quot;8&quot; MemoryGrant=&quot;26952&quot; CachedPlanSize=&quot;64&quot; CompileTime=&quot;5&quot; CompileCPU=&quot;5&quot; CompileMemory=&quot;584&quot;&gt;&lt;ThreadStat Branches=&quot;1&quot; UsedThreads=&quot;8&quot;&gt;&lt;ThreadReservation NodeId=&quot;0&quot; ReservedThreads=&quot;9&quot;&gt;&lt;/ThreadReservation&gt;&lt;/ThreadStat&gt;&lt;MissingIndexes&gt;&lt;MissingIndexGroup Impact=&quot;91.8443&quot;&gt;&lt;MissingIndex Database=&quot;[wideworldimportersdw]&quot; Schema=&quot;[Fact]&quot; Table=&quot;[OrderHistoryExtended]&quot;&gt;&lt;ColumnGroup Usage=&quot;INEQUALITY&quot;&gt;&lt;Column Name=&quot;[Order Date Key]&quot; ColumnId=&quot;5&quot;&gt;&lt;/Column&gt;&lt;/ColumnGroup&gt;&lt;ColumnGroup Usage=&quot;INCLUDE&quot;&gt;&lt;Column Name=&quot;[Salesperson Key]&quot; ColumnId=&quot;7&quot;&gt;&lt;/Column&gt;&lt;Column Name=&quot;[Quantity]&quot; ColumnId=&quot;13&quot;&gt;&lt;/Column&gt;&lt;Column Name=&quot;[Unit Price]&quot; ColumnId=&quot;14&quot;&gt;&lt;/Column&gt;&lt;Column Name=&quot;[Tax Rate]&quot; ColumnId=&quot;15&quot;&gt;&lt;/Column&gt;&lt;Column Name=&quot;[Lineage Key]&quot; ColumnId=&quot;19&quot;&gt;&lt;/Column&gt;&lt;/ColumnGroup&gt;&lt;/MissingIndex&gt;&lt;/MissingIndexGroup&gt;&lt;/MissingIndexes&gt;&lt;MemoryGrantInfo SerialRequiredMemory=&quot;3224&quot; SerialDesiredMemory=&quot;4248&quot; RequiredMemory=&quot;25928&quot; DesiredMemory=&quot;26952&quot; RequestedMemory=&quot;26952&quot; GrantWaitTime=&quot;0&quot; GrantedMemory=&quot;26952&quot; MaxUsedMemory=&quot;5408&quot; MaxQueryMemory=&quot;2826264&quot; LastRequestedMemory=&quot;26952&quot; IsMemoryGrantFeedbackAdjusted=&quot;Yes: Stable&quot;&gt;&lt;/MemoryGrantInfo&gt;&lt;OptimizerHardwareDependentProperties EstimatedAvailableMemoryGrant=&quot;240890&quot; EstimatedPagesCached=&quot;120445&quot; EstimatedAvailableDegreeOfParallelism=&quot;4&quot; MaxCompileMemory=&quot;11497232&quot;&gt;&lt;/OptimizerHardwareDependentProperties&gt;&lt;OptimizerStatsUsage&gt;&lt;StatisticsInfo LastUpdate=&quot;2019-04-06T18:53:50.59&quot; ModificationCount=&quot;0&quot; SamplingPercent=&quot;0.780031&quot; Statistics=&quot;[PK_Fact_OrderHistoryExtended]&quot; Table=&quot;[OrderHistoryExtended]&quot; Schema=&quot;[Fact]&quot; Database=&quot;[wideworldimportersdw]&quot;&gt;&lt;/StatisticsInfo&gt;&lt;StatisticsInfo LastUpdate=&quot;2019-04-06T18:53:50.99&quot; ModificationCount=&quot;0&quot; SamplingPercent=&quot;0.780031&quot; Statistics=&quot;[_WA_Sys_0000000F_55009F39]&quot; Table=&quot;[OrderHistoryExtended]&quot; Schema=&quot;[Fact]&quot; Database=&quot;[wideworldimportersdw]&quot;&gt;&lt;/StatisticsInfo&gt;&lt;StatisticsInfo LastUpdate=&quot;2019-04-06T18:53:50.39&quot; ModificationCount=&quot;0&quot; SamplingPercent=&quot;0.785301&quot; Statistics=&quot;[_WA_Sys_00000005_55009F39]&quot; Table=&quot;[OrderHistoryExtended]&quot; Schema=&quot;[Fact]&quot; Database=&quot;[wideworldimportersdw]&quot;&gt;&lt;/StatisticsInfo&gt;&lt;StatisticsInfo LastUpdate=&quot;2019-04-06T18:53:50.81&quot; ModificationCount=&quot;0&quot; SamplingPercent=&quot;0.780031&quot; Statistics=&quot;[_WA_Sys_00000007_55009F39]&quot; Table=&quot;[OrderHistoryExtended]&quot; Schema=&quot;[Fact]&quot; Database=&quot;[wideworldimportersdw]&quot;&gt;&lt;/StatisticsInfo&gt;&lt;StatisticsInfo LastUpdate=&quot;2019-04-06T18:53:51.18&quot; ModificationCount=&quot;0&quot; SamplingPercent=&quot;0.780031&quot; Statistics=&quot;[_WA_Sys_00000013_55009F39]&quot; Table=&quot;[OrderHistoryExtended]&quot; Schema=&quot;[Fact]&quot; Database=&quot;[wideworldimportersdw]&quot;&gt;&lt;/StatisticsInfo&gt;&lt;/OptimizerStatsUsage&gt;&lt;WaitStats&gt;&lt;Wait WaitType=&quot;CXPACKET&quot; WaitTimeMs=&quot;1932&quot; WaitCount=&quot;9&quot;&gt;&lt;/Wait&gt;&lt;Wait WaitType=&quot;LATCH_EX&quot; WaitTimeMs=&quot;54&quot; WaitCount=&quot;249&quot;&gt;&lt;/Wait&gt;&lt;Wait WaitType=&quot;BPSORT&quot; WaitTimeMs=&quot;35&quot; WaitCount=&quot;210&quot;&gt;&lt;/Wait&gt;&lt;Wait WaitType=&quot;SOS_SCHEDULER_YIELD&quot; WaitTimeMs=&quot;22&quot; WaitCount=&quot;3595&quot;&gt;&lt;/Wait&gt;&lt;Wait WaitType=&quot;HTBUILD&quot; WaitTimeMs=&quot;18&quot; WaitCount=&quot;14&quot;&gt;&lt;/Wait&gt;&lt;Wait WaitType=&quot;HTDELETE&quot; WaitTimeMs=&quot;2&quot; WaitCount=&quot;14&quot;&gt;&lt;/Wait&gt;&lt;/WaitStats&gt;&lt;QueryTimeStats ElapsedTime=&quot;1933&quot; CpuTime=&quot;15343&quot;&gt;&lt;/QueryTimeStats&gt;&lt;RelOp NodeId=&quot;0&quot; PhysicalOp=&quot;Parallelism&quot; LogicalOp=&quot;Gather Streams&quot; EstimateRows=&quot;202&quot; EstimateIO=&quot;0&quot; EstimateCPU=&quot;0.029859&quot; AvgRowSize=&quot;49&quot; EstimatedTotalSubtreeCost=&quot;575.358&quot; Parallel=&quot;1&quot; EstimateRebinds=&quot;0&quot; EstimateRewinds=&quot;0&quot; EstimatedExecutionMode=&quot;Row&quot;&gt;&lt;OutputList&gt;&lt;ColumnReference Database=&quot;[wideworldimportersdw]&quot; Schema=&quot;[Fact]&quot; Table=&quot;[OrderHistoryExtended]&quot; Column=&quot;Salesperson Key&quot;&gt;&lt;/ColumnReference&gt;&lt;ColumnReference Database=&quot;[wideworldimportersdw]&quot; Schema=&quot;[Fact]&quot; Table=&quot;[OrderHistoryExtended]&quot; Column=&quot;Tax Rate&quot;&gt;&lt;/ColumnReference&gt;&lt;ColumnReference Database=&quot;[wideworldimportersdw]&quot; Schema=&quot;[Fact]&quot; Table=&quot;[OrderHistoryExtended]&quot; Column=&quot;Lineage Key&quot;&gt;&lt;/ColumnReference&gt;&lt;ColumnReference Column=&quot;Expr1003&quot;&gt;&lt;/ColumnReference&gt;&lt;ColumnReference Column=&quot;Expr1004&quot;&gt;&lt;/ColumnReference&gt;&lt;ColumnReference Column=&quot;Expr1005&quot;&gt;&lt;/ColumnReference&gt;&lt;/OutputList&gt;&lt;RunTimeInformation&gt;&lt;RunTimeCountersPerThread Thread=&quot;0&quot; ActualRows=&quot;100&quot; Batches=&quot;0&quot; ActualExecutionMode=&quot;Row&quot; ActualElapsedms=&quot;1932&quot; ActualCPUms=&quot;0&quot; ActualEndOfScans=&quot;1&quot; ActualExecutions=&quot;1&quot;&gt;&lt;/RunTimeCountersPerThread&gt;&lt;/RunTimeInformation&gt;&lt;Parallelism&gt;&lt;OrderBy&gt;&lt;OrderByColumn Ascending=&quot;1&quot;&gt;&lt;ColumnReference Database=&quot;[wideworldimportersdw]&quot; Schema=&quot;[Fact]&quot; Table=&quot;[OrderHistoryExtended]&quot; Column=&quot;Tax Rate&quot;&gt;&lt;/ColumnReference&gt;&lt;/OrderByColumn&gt;&lt;OrderByColumn Ascending=&quot;1&quot;&gt;&lt;ColumnReference Database=&quot;[wideworldimportersdw]&quot; Schema=&quot;[Fact]&quot; Table=&quot;[OrderHistoryExtended]&quot; Column=&quot;Lineage Key&quot;&gt;&lt;/ColumnReference&gt;&lt;/OrderByColumn&gt;&lt;OrderByColumn Ascending=&quot;1&quot;&gt;&lt;ColumnReference Database=&quot;[wideworldimportersdw]&quot; Schema=&quot;[Fact]&quot; Table=&quot;[OrderHistoryExtended]&quot; Column=&quot;Salesperson Key&quot;&gt;&lt;/ColumnReference&gt;&lt;/OrderByColumn&gt;&lt;/OrderBy&gt;&lt;RelOp NodeId=&quot;1&quot; PhysicalOp=&quot;Sort&quot; LogicalOp=&quot;Sort&quot; EstimateRows=&quot;202&quot; EstimateIO=&quot;0.000938438&quot; EstimateCPU=&quot;8.53436e-05&quot; AvgRowSize=&quot;49&quot; EstimatedTotalSubtreeCost=&quot;575.328&quot; Parallel=&quot;1&quot; EstimateRebinds=&quot;0&quot; EstimateRewinds=&quot;0&quot; EstimatedExecutionMode=&quot;Batch&quot;&gt;&lt;OutputList&gt;&lt;ColumnReference Database=&quot;[wideworldimportersdw]&quot; Schema=&quot;[Fact]&quot; Table=&quot;[OrderHistoryExtended]&quot; Column=&quot;Salesperson Key&quot;&gt;&lt;/ColumnReference&gt;&lt;ColumnReference Database=&quot;[wideworldimportersdw]&quot; Schema=&quot;[Fact]&quot; Table=&quot;[OrderHistoryExtended]&quot; Column=&quot;Tax Rate&quot;&gt;&lt;/ColumnReference&gt;&lt;ColumnReference Database=&quot;[wideworldimportersdw]&quot; Schema=&quot;[Fact]&quot; Table=&quot;[OrderHistoryExtended]&quot; Column=&quot;Lineage Key&quot;&gt;&lt;/ColumnReference&gt;&lt;ColumnReference Column=&quot;Expr1003&quot;&gt;&lt;/ColumnReference&gt;&lt;ColumnReference Column=&quot;Expr1004&quot;&gt;&lt;/ColumnReference&gt;&lt;ColumnReference Column=&quot;Expr1005&quot;&gt;&lt;/ColumnReference&gt;&lt;/OutputList&gt;&lt;MemoryFractions Input=&quot;1&quot; Output=&quot;1&quot;&gt;&lt;/MemoryFractions&gt;&lt;RunTimeInformation&gt;&lt;RunTimeCountersPerThread Thread=&quot;8&quot; ActualRows=&quot;0&quot; Batches=&quot;0&quot; ActualExecutionMode=&quot;Batch&quot; ActualElapsedms=&quot;5&quot; ActualCPUms=&quot;0&quot; ActualScans=&quot;0&quot; ActualLogicalReads=&quot;0&quot; ActualPhysicalReads=&quot;0&quot; ActualReadAheads=&quot;0&quot; ActualLobLogicalReads=&quot;0&quot; ActualLobPhysicalReads=&quot;0&quot; ActualLobReadAheads=&quot;0&quot; ActualEndOfScans=&quot;0&quot; ActualExecutions=&quot;1&quot;&gt;&lt;/RunTimeCountersPerThread&gt;&lt;RunTimeCountersPerThread Thread=&quot;7&quot; ActualRows=&quot;0&quot; Batches=&quot;0&quot; ActualExecutionMode=&quot;Batch&quot; ActualElapsedms=&quot;5&quot; ActualCPUms=&quot;0&quot; ActualScans=&quot;0&quot; ActualLogicalReads=&quot;0&quot; ActualPhysicalReads=&quot;0&quot; ActualReadAheads=&quot;0&quot; ActualLobLogicalReads=&quot;0&quot; ActualLobPhysicalReads=&quot;0&quot; ActualLobReadAheads=&quot;0&quot; ActualEndOfScans=&quot;0&quot; ActualExecutions=&quot;1&quot;&gt;&lt;/RunTimeCountersPerThread&gt;&lt;RunTimeCountersPerThread Thread=&quot;6&quot; ActualRows=&quot;0&quot; Batches=&quot;0&quot; ActualExecutionMode=&quot;Batch&quot; ActualElapsedms=&quot;5&quot; ActualCPUms=&quot;0&quot; ActualScans=&quot;0&quot; ActualLogicalReads=&quot;0&quot; ActualPhysicalReads=&quot;0&quot; ActualReadAheads=&quot;0&quot; ActualLobLogicalReads=&quot;0&quot; ActualLobPhysicalReads=&quot;0&quot; ActualLobReadAheads=&quot;0&quot; ActualEndOfScans=&quot;0&quot; ActualExecutions=&quot;1&quot;&gt;&lt;/RunTimeCountersPerThread&gt;&lt;RunTimeCountersPerThread Thread=&quot;5&quot; ActualRows=&quot;0&quot; Batches=&quot;0&quot; ActualExecutionMode=&quot;Batch&quot; ActualElapsedms=&quot;4&quot; ActualCPUms=&quot;0&quot; ActualScans=&quot;0&quot; ActualLogicalReads=&quot;0&quot; ActualPhysicalReads=&quot;0&quot; ActualReadAheads=&quot;0&quot; ActualLobLogicalReads=&quot;0&quot; ActualLobPhysicalReads=&quot;0&quot; ActualLobReadAheads=&quot;0&quot; ActualEndOfScans=&quot;0&quot; ActualExecutions=&quot;1&quot;&gt;&lt;/RunTimeCountersPerThread&gt;&lt;RunTimeCountersPerThread Thread=&quot;4&quot; ActualRows=&quot;0&quot; Batches=&quot;0&quot; ActualExecutionMode=&quot;Batch&quot; ActualElapsedms=&quot;5&quot; ActualCPUms=&quot;2&quot; ActualScans=&quot;0&quot; ActualLogicalReads=&quot;0&quot; ActualPhysicalReads=&quot;0&quot; ActualReadAheads=&quot;0&quot; ActualLobLogicalReads=&quot;0&quot; ActualLobPhysicalReads=&quot;0&quot; ActualLobReadAheads=&quot;0&quot; ActualEndOfScans=&quot;0&quot; ActualExecutions=&quot;1&quot;&gt;&lt;/RunTimeCountersPerThread&gt;&lt;RunTimeCountersPerThread Thread=&quot;3&quot; ActualRows=&quot;0&quot; Batches=&quot;0&quot; ActualExecutionMode=&quot;Batch&quot; ActualElapsedms=&quot;5&quot; ActualCPUms=&quot;1&quot; ActualScans=&quot;0&quot; ActualLogicalReads=&quot;0&quot; ActualPhysicalReads=&quot;0&quot; ActualReadAheads=&quot;0&quot; ActualLobLogicalReads=&quot;0&quot; ActualLobPhysicalReads=&quot;0&quot; ActualLobReadAheads=&quot;0&quot; ActualEndOfScans=&quot;0&quot; ActualExecutions=&quot;1&quot;&gt;&lt;/RunTimeCountersPerThread&gt;&lt;RunTimeCountersPerThread Thread=&quot;2&quot; ActualRows=&quot;0&quot; Batches=&quot;0&quot; ActualExecutionMode=&quot;Batch&quot; ActualElapsedms=&quot;5&quot; ActualCPUms=&quot;0&quot; ActualScans=&quot;0&quot; ActualLogicalReads=&quot;0&quot; ActualPhysicalReads=&quot;0&quot; ActualReadAheads=&quot;0&quot; ActualLobLogicalReads=&quot;0&quot; ActualLobPhysicalReads=&quot;0&quot; ActualLobReadAheads=&quot;0&quot; ActualEndOfScans=&quot;0&quot; ActualExecutions=&quot;1&quot;&gt;&lt;/RunTimeCountersPerThread&gt;&lt;RunTimeCountersPerThread Thread=&quot;1&quot; ActualRows=&quot;100&quot; Batches=&quot;1&quot; ActualExecutionMode=&quot;Batch&quot; ActualElapsedms=&quot;5&quot; ActualCPUms=&quot;0&quot; ActualScans=&quot;0&quot; ActualLogicalReads=&quot;0&quot; ActualPhysicalReads=&quot;0&quot; ActualReadAheads=&quot;0&quot; ActualLobLogicalReads=&quot;0&quot; ActualLobPhysicalReads=&quot;0&quot; ActualLobReadAheads=&quot;0&quot; ActualEndOfScans=&quot;0&quot; ActualExecutions=&quot;1&quot;&gt;&lt;/RunTimeCountersPerThread&gt;&lt;RunTimeCountersPerThread Thread=&quot;0&quot; ActualRows=&quot;0&quot; Batches=&quot;0&quot; ActualExecutionMode=&quot;Row&quot; ActualElapsedms=&quot;0&quot; ActualCPUms=&quot;0&quot; ActualEndOfScans=&quot;0&quot; ActualExecutions=&quot;0&quot;&gt;&lt;/RunTimeCountersPerThread&gt;&lt;/RunTimeInformation&gt;&lt;Sort Distinct=&quot;0&quot;&gt;&lt;OrderBy&gt;&lt;OrderByColumn Ascending=&quot;1&quot;&gt;&lt;ColumnReference Database=&quot;[wideworldimportersdw]&quot; Schema=&quot;[Fact]&quot; Table=&quot;[OrderHistoryExtended]&quot; Column=&quot;Tax Rate&quot;&gt;&lt;/ColumnReference&gt;&lt;/OrderByColumn&gt;&lt;OrderByColumn Ascending=&quot;1&quot;&gt;&lt;ColumnReference Database=&quot;[wideworldimportersdw]&quot; Schema=&quot;[Fact]&quot; Table=&quot;[OrderHistoryExtended]&quot; Column=&quot;Lineage Key&quot;&gt;&lt;/ColumnReference&gt;&lt;/OrderByColumn&gt;&lt;OrderByColumn Ascending=&quot;1&quot;&gt;&lt;ColumnReference Database=&quot;[wideworldimportersdw]&quot; Schema=&quot;[Fact]&quot; Table=&quot;[OrderHistoryExtended]&quot; Column=&quot;Salesperson Key&quot;&gt;&lt;/ColumnReference&gt;&lt;/OrderByColumn&gt;&lt;/OrderBy&gt;&lt;RelOp NodeId=&quot;2&quot; PhysicalOp=&quot;Compute Scalar&quot; LogicalOp=&quot;Compute Scalar&quot; EstimateRows=&quot;202&quot; EstimateIO=&quot;0&quot; EstimateCPU=&quot;0&quot; AvgRowSize=&quot;49&quot; EstimatedTotalSubtreeCost=&quot;575.327&quot; Parallel=&quot;1&quot; EstimateRebinds=&quot;0&quot; EstimateRewinds=&quot;0&quot; EstimatedExecutionMode=&quot;Batch&quot;&gt;&lt;OutputList&gt;&lt;ColumnReference Database=&quot;[wideworldimportersdw]&quot; Schema=&quot;[Fact]&quot; Table=&quot;[OrderHistoryExtended]&quot; Column=&quot;Salesperson Key&quot;&gt;&lt;/ColumnReference&gt;&lt;ColumnReference Database=&quot;[wideworldimportersdw]&quot; Schema=&quot;[Fact]&quot; Table=&quot;[OrderHistoryExtended]&quot; Column=&quot;Tax Rate&quot;&gt;&lt;/ColumnReference&gt;&lt;ColumnReference Database=&quot;[wideworldimportersdw]&quot; Schema=&quot;[Fact]&quot; Table=&quot;[OrderHistoryExtended]&quot; Column=&quot;Lineage Key&quot;&gt;&lt;/ColumnReference&gt;&lt;ColumnReference Column=&quot;Expr1003&quot;&gt;&lt;/ColumnReference&gt;&lt;ColumnReference Column=&quot;Expr1004&quot;&gt;&lt;/ColumnReference&gt;&lt;ColumnReference Column=&quot;Expr1005&quot;&gt;&lt;/ColumnReference&gt;&lt;/OutputList&gt;&lt;RunTimeInformation&gt;&lt;RunTimeCountersPerThread Thread=&quot;8&quot; ActualRows=&quot;0&quot; Batches=&quot;0&quot; ActualExecutionMode=&quot;Batch&quot; ActualElapsedms=&quot;0&quot; ActualCPUms=&quot;0&quot; ActualScans=&quot;0&quot; ActualLogicalReads=&quot;0&quot; ActualPhysicalReads=&quot;0&quot; ActualReadAheads=&quot;0&quot; ActualLobLogicalReads=&quot;0&quot; ActualLobPhysicalReads=&quot;0&quot; ActualLobReadAheads=&quot;0&quot; ActualEndOfScans=&quot;0&quot; ActualExecutions=&quot;1&quot;&gt;&lt;/RunTimeCountersPerThread&gt;&lt;RunTimeCountersPerThread Thread=&quot;7&quot; ActualRows=&quot;0&quot; Batches=&quot;0&quot; ActualExecutionMode=&quot;Batch&quot; ActualElapsedms=&quot;0&quot; ActualCPUms=&quot;0&quot; ActualScans=&quot;0&quot; ActualLogicalReads=&quot;0&quot; ActualPhysicalReads=&quot;0&quot; ActualReadAheads=&quot;0&quot; ActualLobLogicalReads=&quot;0&quot; ActualLobPhysicalReads=&quot;0&quot; ActualLobReadAheads=&quot;0&quot; ActualEndOfScans=&quot;0&quot; ActualExecutions=&quot;1&quot;&gt;&lt;/RunTimeCountersPerThread&gt;&lt;RunTimeCountersPerThread Thread=&quot;6&quot; ActualRows=&quot;24&quot; Batches=&quot;1&quot; ActualExecutionMode=&quot;Batch&quot; ActualElapsedms=&quot;0&quot; ActualCPUms=&quot;0&quot; ActualScans=&quot;0&quot; ActualLogicalReads=&quot;0&quot; ActualPhysicalReads=&quot;0&quot; ActualReadAheads=&quot;0&quot; ActualLobLogicalReads=&quot;0&quot; ActualLobPhysicalReads=&quot;0&quot; ActualLobReadAheads=&quot;0&quot; ActualEndOfScans=&quot;0&quot; ActualExecutions=&quot;1&quot;&gt;&lt;/RunTimeCountersPerThread&gt;&lt;RunTimeCountersPerThread Thread=&quot;5&quot; ActualRows=&quot;76&quot; Batches=&quot;1&quot; ActualExecutionMode=&quot;Batch&quot; ActualElapsedms=&quot;0&quot; ActualCPUms=&quot;0&quot; ActualScans=&quot;0&quot; ActualLogicalReads=&quot;0&quot; ActualPhysicalReads=&quot;0&quot; ActualReadAheads=&quot;0&quot; ActualLobLogicalReads=&quot;0&quot; ActualLobPhysicalReads=&quot;0&quot; ActualLobReadAheads=&quot;0&quot; ActualEndOfScans=&quot;0&quot; ActualExecutions=&quot;1&quot;&gt;&lt;/RunTimeCountersPerThread&gt;&lt;RunTimeCountersPerThread Thread=&quot;4&quot; ActualRows=&quot;0&quot; Batches=&quot;0&quot; ActualExecutionMode=&quot;Batch&quot; ActualElapsedms=&quot;0&quot; ActualCPUms=&quot;0&quot; ActualScans=&quot;0&quot; ActualLogicalReads=&quot;0&quot; ActualPhysicalReads=&quot;0&quot; ActualReadAheads=&quot;0&quot; ActualLobLogicalReads=&quot;0&quot; ActualLobPhysicalReads=&quot;0&quot; ActualLobReadAheads=&quot;0&quot; ActualEndOfScans=&quot;0&quot; ActualExecutions=&quot;1&quot;&gt;&lt;/RunTimeCountersPerThread&gt;&lt;RunTimeCountersPerThread Thread=&quot;3&quot; ActualRows=&quot;0&quot; Batches=&quot;0&quot; ActualExecutionMode=&quot;Batch&quot; ActualElapsedms=&quot;0&quot; ActualCPUms=&quot;0&quot; ActualScans=&quot;0&quot; ActualLogicalReads=&quot;0&quot; ActualPhysicalReads=&quot;0&quot; ActualReadAheads=&quot;0&quot; ActualLobLogicalReads=&quot;0&quot; ActualLobPhysicalReads=&quot;0&quot; ActualLobReadAheads=&quot;0&quot; ActualEndOfScans=&quot;0&quot; ActualExecutions=&quot;1&quot;&gt;&lt;/RunTimeCountersPerThread&gt;&lt;RunTimeCountersPerThread Thread=&quot;2&quot; ActualRows=&quot;0&quot; Batches=&quot;0&quot; ActualExecutionMode=&quot;Batch&quot; ActualElapsedms=&quot;0&quot; ActualCPUms=&quot;0&quot; ActualScans=&quot;0&quot; ActualLogicalReads=&quot;0&quot; ActualPhysicalReads=&quot;0&quot; ActualReadAheads=&quot;0&quot; ActualLobLogicalReads=&quot;0&quot; ActualLobPhysicalReads=&quot;0&quot; ActualLobReadAheads=&quot;0&quot; ActualEndOfScans=&quot;0&quot; ActualExecutions=&quot;1&quot;&gt;&lt;/RunTimeCountersPerThread&gt;&lt;RunTimeCountersPerThread Thread=&quot;1&quot; ActualRows=&quot;0&quot; Batches=&quot;0&quot; ActualExecutionMode=&quot;Batch&quot; ActualElapsedms=&quot;0&quot; ActualCPUms=&quot;0&quot; ActualScans=&quot;0&quot; ActualLogicalReads=&quot;0&quot; ActualPhysicalReads=&quot;0&quot; ActualReadAheads=&quot;0&quot; ActualLobLogicalReads=&quot;0&quot; ActualLobPhysicalReads=&quot;0&quot; ActualLobReadAheads=&quot;0&quot; ActualEndOfScans=&quot;0&quot; ActualExecutions=&quot;1&quot;&gt;&lt;/RunTimeCountersPerThread&gt;&lt;RunTimeCountersPerThread Thread=&quot;0&quot; ActualRows=&quot;0&quot; Batches=&quot;0&quot; ActualExecutionMode=&quot;Row&quot; ActualElapsedms=&quot;0&quot; ActualCPUms=&quot;0&quot; ActualEndOfScans=&quot;0&quot; ActualExecutions=&quot;0&quot;&gt;&lt;/RunTimeCountersPerThread&gt;&lt;/RunTimeInformation&gt;&lt;ComputeScalar&gt;&lt;DefinedValues&gt;&lt;DefinedValue&gt;&lt;ColumnReference Column=&quot;Expr1005&quot;&gt;&lt;/ColumnReference&gt;&lt;ScalarOperator ScalarString=&quot;CONVERT_IMPLICIT(int,[Expr1011],0)&quot;&gt;&lt;Convert DataType=&quot;int&quot; Style=&quot;0&quot; Implicit=&quot;1&quot;&gt;&lt;ScalarOperator&gt;&lt;Identifier&gt;&lt;ColumnReference Column=&quot;Expr1011&quot;&gt;&lt;/ColumnReference&gt;&lt;/Identifier&gt;&lt;/ScalarOperator&gt;&lt;/Convert&gt;&lt;/ScalarOperator&gt;&lt;/DefinedValue&gt;&lt;/DefinedValues&gt;&lt;RelOp NodeId=&quot;3&quot; PhysicalOp=&quot;Hash Match&quot; LogicalOp=&quot;Aggregate&quot; EstimateRows=&quot;202&quot; EstimateIO=&quot;0&quot; EstimateCPU=&quot;4.0359&quot; AvgRowSize=&quot;49&quot; EstimatedTotalSubtreeCost=&quot;575.327&quot; Parallel=&quot;1&quot; EstimateRebinds=&quot;0&quot; EstimateRewinds=&quot;0&quot; EstimatedExecutionMode=&quot;Batch&quot;&gt;&lt;OutputList&gt;&lt;ColumnReference Database=&quot;[wideworldimportersdw]&quot; Schema=&quot;[Fact]&quot; Table=&quot;[OrderHistoryExtended]&quot; Column=&quot;Salesperson Key&quot;&gt;&lt;/ColumnReference&gt;&lt;ColumnReference Database=&quot;[wideworldimportersdw]&quot; Schema=&quot;[Fact]&quot; Table=&quot;[OrderHistoryExtended]&quot; Column=&quot;Tax Rate&quot;&gt;&lt;/ColumnReference&gt;&lt;ColumnReference Database=&quot;[wideworldimportersdw]&quot; Schema=&quot;[Fact]&quot; Table=&quot;[OrderHistoryExtended]&quot; Column=&quot;Lineage Key&quot;&gt;&lt;/ColumnReference&gt;&lt;ColumnReference Column=&quot;Expr1003&quot;&gt;&lt;/ColumnReference&gt;&lt;ColumnReference Column=&quot;Expr1004&quot;&gt;&lt;/ColumnReference&gt;&lt;ColumnReference Column=&quot;Expr1011&quot;&gt;&lt;/ColumnReference&gt;&lt;/OutputList&gt;&lt;MemoryFractions Input=&quot;0&quot; Output=&quot;0&quot;&gt;&lt;/MemoryFractions&gt;&lt;RunTimeInformation&gt;&lt;RunTimeCountersPerThread Thread=&quot;8&quot; ActualRows=&quot;0&quot; Batches=&quot;0&quot; ActualExecutionMode=&quot;Batch&quot; ActualElapsedms=&quot;150&quot; ActualCPUms=&quot;147&quot; ActualScans=&quot;0&quot; ActualLogicalReads=&quot;0&quot; ActualPhysicalReads=&quot;0&quot; ActualReadAheads=&quot;0&quot; ActualLobLogicalReads=&quot;0&quot; ActualLobPhysicalReads=&quot;0&quot; ActualLobReadAheads=&quot;0&quot; ActualEndOfScans=&quot;0&quot; ActualExecutions=&quot;1&quot;&gt;&lt;/RunTimeCountersPerThread&gt;&lt;RunTimeCountersPerThread Thread=&quot;7&quot; ActualRows=&quot;0&quot; Batches=&quot;0&quot; ActualExecutionMode=&quot;Batch&quot; ActualElapsedms=&quot;151&quot; ActualCPUms=&quot;147&quot; ActualScans=&quot;0&quot; ActualLogicalReads=&quot;0&quot; ActualPhysicalReads=&quot;0&quot; ActualReadAheads=&quot;0&quot; ActualLobLogicalReads=&quot;0&quot; ActualLobPhysicalReads=&quot;0&quot; ActualLobReadAheads=&quot;0&quot; ActualEndOfScans=&quot;0&quot; ActualExecutions=&quot;1&quot;&gt;&lt;/RunTimeCountersPerThread&gt;&lt;RunTimeCountersPerThread Thread=&quot;6&quot; ActualRows=&quot;24&quot; Batches=&quot;1&quot; ActualExecutionMode=&quot;Batch&quot; ActualElapsedms=&quot;155&quot; ActualCPUms=&quot;150&quot; ActualScans=&quot;0&quot; ActualLogicalReads=&quot;0&quot; ActualPhysicalReads=&quot;0&quot; ActualReadAheads=&quot;0&quot; ActualLobLogicalReads=&quot;0&quot; ActualLobPhysicalReads=&quot;0&quot; ActualLobReadAheads=&quot;0&quot; ActualEndOfScans=&quot;0&quot; ActualExecutions=&quot;1&quot;&gt;&lt;/RunTimeCountersPerThread&gt;&lt;RunTimeCountersPerThread Thread=&quot;5&quot; ActualRows=&quot;76&quot; Batches=&quot;1&quot; ActualExecutionMode=&quot;Batch&quot; ActualElapsedms=&quot;144&quot; ActualCPUms=&quot;140&quot; ActualScans=&quot;0&quot; ActualLogicalReads=&quot;0&quot; ActualPhysicalReads=&quot;0&quot; ActualReadAheads=&quot;0&quot; ActualLobLogicalReads=&quot;0&quot; ActualLobPhysicalReads=&quot;0&quot; ActualLobReadAheads=&quot;0&quot; ActualEndOfScans=&quot;0&quot; ActualExecutions=&quot;1&quot;&gt;&lt;/RunTimeCountersPerThread&gt;&lt;RunTimeCountersPerThread Thread=&quot;4&quot; ActualRows=&quot;0&quot; Batches=&quot;0&quot; ActualExecutionMode=&quot;Batch&quot; ActualElapsedms=&quot;144&quot; ActualCPUms=&quot;142&quot; ActualScans=&quot;0&quot; ActualLogicalReads=&quot;0&quot; ActualPhysicalReads=&quot;0&quot; ActualReadAheads=&quot;0&quot; ActualLobLogicalReads=&quot;0&quot; ActualLobPhysicalReads=&quot;0&quot; ActualLobReadAheads=&quot;0&quot; ActualEndOfScans=&quot;0&quot; ActualExecutions=&quot;1&quot;&gt;&lt;/RunTimeCountersPerThread&gt;&lt;RunTimeCountersPerThread Thread=&quot;3&quot; ActualRows=&quot;0&quot; Batches=&quot;0&quot; ActualExecutionMode=&quot;Batch&quot; ActualElapsedms=&quot;156&quot; ActualCPUms=&quot;153&quot; ActualScans=&quot;0&quot; ActualLogicalReads=&quot;0&quot; ActualPhysicalReads=&quot;0&quot; ActualReadAheads=&quot;0&quot; ActualLobLogicalReads=&quot;0&quot; ActualLobPhysicalReads=&quot;0&quot; ActualLobReadAheads=&quot;0&quot; ActualEndOfScans=&quot;0&quot; ActualExecutions=&quot;1&quot;&gt;&lt;/RunTimeCountersPerThread&gt;&lt;RunTimeCountersPerThread Thread=&quot;2&quot; ActualRows=&quot;0&quot; Batches=&quot;0&quot; ActualExecutionMode=&quot;Batch&quot; ActualElapsedms=&quot;145&quot; ActualCPUms=&quot;139&quot; ActualScans=&quot;0&quot; ActualLogicalReads=&quot;0&quot; ActualPhysicalReads=&quot;0&quot; ActualReadAheads=&quot;0&quot; ActualLobLogicalReads=&quot;0&quot; ActualLobPhysicalReads=&quot;0&quot; ActualLobReadAheads=&quot;0&quot; ActualEndOfScans=&quot;0&quot; ActualExecutions=&quot;1&quot;&gt;&lt;/RunTimeCountersPerThread&gt;&lt;RunTimeCountersPerThread Thread=&quot;1&quot; ActualRows=&quot;0&quot; Batches=&quot;0&quot; ActualExecutionMode=&quot;Batch&quot; ActualElapsedms=&quot;155&quot; ActualCPUms=&quot;148&quot; ActualScans=&quot;0&quot; ActualLogicalReads=&quot;0&quot; ActualPhysicalReads=&quot;0&quot; ActualReadAheads=&quot;0&quot; ActualLobLogicalReads=&quot;0&quot; ActualLobPhysicalReads=&quot;0&quot; ActualLobReadAheads=&quot;0&quot; ActualEndOfScans=&quot;0&quot; ActualExecutions=&quot;1&quot;&gt;&lt;/RunTimeCountersPerThread&gt;&lt;RunTimeCountersPerThread Thread=&quot;0&quot; ActualRows=&quot;0&quot; Batches=&quot;0&quot; ActualExecutionMode=&quot;Row&quot; ActualElapsedms=&quot;0&quot; ActualCPUms=&quot;0&quot; ActualEndOfScans=&quot;0&quot; ActualExecutions=&quot;0&quot;&gt;&lt;/RunTimeCountersPerThread&gt;&lt;/RunTimeInformation&gt;&lt;Hash&gt;&lt;DefinedValues&gt;&lt;DefinedValue&gt;&lt;ColumnReference Column=&quot;Expr1003&quot;&gt;&lt;/ColumnReference&gt;&lt;ScalarOperator ScalarString=&quot;SUM([wideworldimportersdw].[Fact].[OrderHistoryExtended].[Quantity])&quot;&gt;&lt;Aggregate Distinct=&quot;0&quot; AggType=&quot;SUM&quot;&gt;&lt;ScalarOperator&gt;&lt;Identifier&gt;&lt;ColumnReference Database=&quot;[wideworldimportersdw]&quot; Schema=&quot;[Fact]&quot; Table=&quot;[OrderHistoryExtended]&quot; Column=&quot;Quantity&quot;&gt;&lt;/ColumnReference&gt;&lt;/Identifier&gt;&lt;/ScalarOperator&gt;&lt;/Aggregate&gt;&lt;/ScalarOperator&gt;&lt;/DefinedValue&gt;&lt;DefinedValue&gt;&lt;ColumnReference Column=&quot;Expr1004&quot;&gt;&lt;/ColumnReference&gt;&lt;ScalarOperator ScalarString=&quot;SUM([wideworldimportersdw].[Fact].[OrderHistoryExtended].[Unit Price])&quot;&gt;&lt;Aggregate Distinct=&quot;0&quot; AggType=&quot;SUM&quot;&gt;&lt;ScalarOperator&gt;&lt;Identifier&gt;&lt;ColumnReference Database=&quot;[wideworldimportersdw]&quot; Schema=&quot;[Fact]&quot; Table=&quot;[OrderHistoryExtended]&quot; Column=&quot;Unit Price&quot;&gt;&lt;/ColumnReference&gt;&lt;/Identifier&gt;&lt;/ScalarOperator&gt;&lt;/Aggregate&gt;&lt;/ScalarOperator&gt;&lt;/DefinedValue&gt;&lt;DefinedValue&gt;&lt;ColumnReference Column=&quot;Expr1011&quot;&gt;&lt;/ColumnReference&gt;&lt;ScalarOperator ScalarString=&quot;COUNT(*)&quot;&gt;&lt;Aggregate Distinct=&quot;0&quot; AggType=&quot;COUNT*&quot;&gt;&lt;/Aggregate&gt;&lt;/ScalarOperator&gt;&lt;/DefinedValue&gt;&lt;/DefinedValues&gt;&lt;HashKeysBuild&gt;&lt;ColumnReference Database=&quot;[wideworldimportersdw]&quot; Schema=&quot;[Fact]&quot; Table=&quot;[OrderHistoryExtended]&quot; Column=&quot;Tax Rate&quot;&gt;&lt;/ColumnReference&gt;&lt;ColumnReference Database=&quot;[wideworldimportersdw]&quot; Schema=&quot;[Fact]&quot; Table=&quot;[OrderHistoryExtended]&quot; Column=&quot;Lineage Key&quot;&gt;&lt;/ColumnReference&gt;&lt;ColumnReference Database=&quot;[wideworldimportersdw]&quot; Schema=&quot;[Fact]&quot; Table=&quot;[OrderHistoryExtended]&quot; Column=&quot;Salesperson Key&quot;&gt;&lt;/ColumnReference&gt;&lt;/HashKeysBuild&gt;&lt;BuildResidual&gt;&lt;ScalarOperator ScalarString=&quot;[wideworldimportersdw].[Fact].[OrderHistoryExtended].[Tax Rate] = [wideworldimportersdw].[Fact].[OrderHistoryExtended].[Tax Rate] AND [wideworldimportersdw].[Fact].[OrderHistoryExtended].[Lineage Key] = [wideworldimportersdw].[Fact].[OrderHistoryExtended].[Lineage Key] AND [wideworldimportersdw].[Fact].[OrderHistoryExtended].[Salesperson Key] = [wideworldimportersdw].[Fact].[OrderHistoryExtended].[Salesperson Key]&quot;&gt;&lt;Logical Operation=&quot;AND&quot;&gt;&lt;ScalarOperator&gt;&lt;Logical Operation=&quot;AND&quot;&gt;&lt;ScalarOperator&gt;&lt;Compare CompareOp=&quot;IS&quot;&gt;&lt;ScalarOperator&gt;&lt;Identifier&gt;&lt;ColumnReference Database=&quot;[wideworldimportersdw]&quot; Schema=&quot;[Fact]&quot; Table=&quot;[OrderHistoryExtended]&quot; Column=&quot;Tax Rate&quot;&gt;&lt;/ColumnReference&gt;&lt;/Identifier&gt;&lt;/ScalarOperator&gt;&lt;ScalarOperator&gt;&lt;Identifier&gt;&lt;ColumnReference Database=&quot;[wideworldimportersdw]&quot; Schema=&quot;[Fact]&quot; Table=&quot;[OrderHistoryExtended]&quot; Column=&quot;Tax Rate&quot;&gt;&lt;/ColumnReference&gt;&lt;/Identifier&gt;&lt;/ScalarOperator&gt;&lt;/Compare&gt;&lt;/ScalarOperator&gt;&lt;ScalarOperator&gt;&lt;Compare CompareOp=&quot;IS&quot;&gt;&lt;ScalarOperator&gt;&lt;Identifier&gt;&lt;ColumnReference Database=&quot;[wideworldimportersdw]&quot; Schema=&quot;[Fact]&quot; Table=&quot;[OrderHistoryExtended]&quot; Column=&quot;Lineage Key&quot;&gt;&lt;/ColumnReference&gt;&lt;/Identifier&gt;&lt;/ScalarOperator&gt;&lt;ScalarOperator&gt;&lt;Identifier&gt;&lt;ColumnReference Database=&quot;[wideworldimportersdw]&quot; Schema=&quot;[Fact]&quot; Table=&quot;[OrderHistoryExtended]&quot; Column=&quot;Lineage Key&quot;&gt;&lt;/ColumnReference&gt;&lt;/Identifier&gt;&lt;/ScalarOperator&gt;&lt;/Compare&gt;&lt;/ScalarOperator&gt;&lt;/Logical&gt;&lt;/ScalarOperator&gt;&lt;ScalarOperator&gt;&lt;Compare CompareOp=&quot;IS&quot;&gt;&lt;ScalarOperator&gt;&lt;Identifier&gt;&lt;ColumnReference Database=&quot;[wideworldimportersdw]&quot; Schema=&quot;[Fact]&quot; Table=&quot;[OrderHistoryExtended]&quot; Column=&quot;Salesperson Key&quot;&gt;&lt;/ColumnReference&gt;&lt;/Identifier&gt;&lt;/ScalarOperator&gt;&lt;ScalarOperator&gt;&lt;Identifier&gt;&lt;ColumnReference Database=&quot;[wideworldimportersdw]&quot; Schema=&quot;[Fact]&quot; Table=&quot;[OrderHistoryExtended]&quot; Column=&quot;Salesperson Key&quot;&gt;&lt;/ColumnReference&gt;&lt;/Identifier&gt;&lt;/ScalarOperator&gt;&lt;/Compare&gt;&lt;/ScalarOperator&gt;&lt;/Logical&gt;&lt;/ScalarOperator&gt;&lt;/BuildResidual&gt;&lt;RelOp NodeId=&quot;4&quot; PhysicalOp=&quot;Table Scan&quot; LogicalOp=&quot;Table Scan&quot; EstimateRows=&quot;2.27035e+07&quot; EstimatedRowsRead=&quot;2.96207e+07&quot; EstimateIO=&quot;559.591&quot; EstimateCPU=&quot;8.14574&quot; AvgRowSize=&quot;40&quot; EstimatedTotalSubtreeCost=&quot;567.737&quot; TableCardinality=&quot;2.96207e+07&quot; Parallel=&quot;1&quot; EstimateRebinds=&quot;0&quot; EstimateRewinds=&quot;0&quot; EstimatedExecutionMode=&quot;Batch&quot;&gt;&lt;OutputList&gt;&lt;ColumnReference Database=&quot;[wideworldimportersdw]&quot; Schema=&quot;[Fact]&quot; Table=&quot;[OrderHistoryExtended]&quot; Column=&quot;Salesperson Key&quot;&gt;&lt;/ColumnReference&gt;&lt;ColumnReference Database=&quot;[wideworldimportersdw]&quot; Schema=&quot;[Fact]&quot; Table=&quot;[OrderHistoryExtended]&quot; Column=&quot;Quantity&quot;&gt;&lt;/ColumnReference&gt;&lt;ColumnReference Database=&quot;[wideworldimportersdw]&quot; Schema=&quot;[Fact]&quot; Table=&quot;[OrderHistoryExtended]&quot; Column=&quot;Unit Price&quot;&gt;&lt;/ColumnReference&gt;&lt;ColumnReference Database=&quot;[wideworldimportersdw]&quot; Schema=&quot;[Fact]&quot; Table=&quot;[OrderHistoryExtended]&quot; Column=&quot;Tax Rate&quot;&gt;&lt;/ColumnReference&gt;&lt;ColumnReference Database=&quot;[wideworldimportersdw]&quot; Schema=&quot;[Fact]&quot; Table=&quot;[OrderHistoryExtended]&quot; Column=&quot;Lineage Key&quot;&gt;&lt;/ColumnReference&gt;&lt;/OutputList&gt;&lt;RunTimeInformation&gt;&lt;RunTimeCountersPerThread Thread=&quot;8&quot; ActualRows=&quot;2777098&quot; Batches=&quot;3086&quot; ActualExecutionMode=&quot;Batch&quot; ActualElapsedms=&quot;1773&quot; ActualCPUms=&quot;1763&quot; ActualScans=&quot;1&quot; ActualLogicalReads=&quot;92544&quot; ActualPhysicalReads=&quot;0&quot; ActualReadAheads=&quot;0&quot; ActualLobLogicalReads=&quot;0&quot; ActualLobPhysicalReads=&quot;0&quot; ActualLobReadAheads=&quot;0&quot; ActualRowsRead=&quot;3629305&quot; ActualEndOfScans=&quot;0&quot; ActualExecutions=&quot;1&quot;&gt;&lt;/RunTimeCountersPerThread&gt;&lt;RunTimeCountersPerThread Thread=&quot;7&quot; ActualRows=&quot;2777601&quot; Batches=&quot;3087&quot; ActualExecutionMode=&quot;Batch&quot; ActualElapsedms=&quot;1771&quot; ActualCPUms=&quot;1765&quot; ActualScans=&quot;1&quot; ActualLogicalReads=&quot;92160&quot; ActualPhysicalReads=&quot;0&quot; ActualReadAheads=&quot;0&quot; ActualLobLogicalReads=&quot;0&quot; ActualLobPhysicalReads=&quot;0&quot; ActualLobReadAheads=&quot;0&quot; ActualRowsRead=&quot;3615833&quot; ActualEndOfScans=&quot;0&quot; ActualExecutions=&quot;1&quot;&gt;&lt;/RunTimeCountersPerThread&gt;&lt;RunTimeCountersPerThread Thread=&quot;6&quot; ActualRows=&quot;2985742&quot; Batches=&quot;3318&quot; ActualExecutionMode=&quot;Batch&quot; ActualElapsedms=&quot;1768&quot; ActualCPUms=&quot;1759&quot; ActualScans=&quot;1&quot; ActualLogicalReads=&quot;99829&quot; ActualPhysicalReads=&quot;0&quot; ActualReadAheads=&quot;0&quot; ActualLobLogicalReads=&quot;0&quot; ActualLobPhysicalReads=&quot;0&quot; ActualLobReadAheads=&quot;0&quot; ActualRowsRead=&quot;3912039&quot; ActualEndOfScans=&quot;0&quot; ActualExecutions=&quot;1&quot;&gt;&lt;/RunTimeCountersPerThread&gt;&lt;RunTimeCountersPerThread Thread=&quot;5&quot; ActualRows=&quot;2780075&quot; Batches=&quot;3089&quot; ActualExecutionMode=&quot;Batch&quot; ActualElapsedms=&quot;1779&quot; ActualCPUms=&quot;1774&quot; ActualScans=&quot;1&quot; ActualLogicalReads=&quot;92544&quot; ActualPhysicalReads=&quot;0&quot; ActualReadAheads=&quot;0&quot; ActualLobLogicalReads=&quot;0&quot; ActualLobPhysicalReads=&quot;0&quot; ActualLobReadAheads=&quot;0&quot; ActualRowsRead=&quot;3630191&quot; ActualEndOfScans=&quot;0&quot; ActualExecutions=&quot;1&quot;&gt;&lt;/RunTimeCountersPerThread&gt;&lt;RunTimeCountersPerThread Thread=&quot;4&quot; ActualRows=&quot;2768494&quot; Batches=&quot;3077&quot; ActualExecutionMode=&quot;Batch&quot; ActualElapsedms=&quot;1778&quot; ActualCPUms=&quot;1770&quot; ActualScans=&quot;1&quot; ActualLogicalReads=&quot;92288&quot; ActualPhysicalReads=&quot;0&quot; ActualReadAheads=&quot;0&quot; ActualLobLogicalReads=&quot;0&quot; ActualLobPhysicalReads=&quot;0&quot; ActualLobReadAheads=&quot;0&quot; ActualRowsRead=&quot;3619197&quot; ActualEndOfScans=&quot;0&quot; ActualExecutions=&quot;1&quot;&gt;&lt;/RunTimeCountersPerThread&gt;&lt;RunTimeCountersPerThread Thread=&quot;3&quot; ActualRows=&quot;2828132&quot; Batches=&quot;3143&quot; ActualExecutionMode=&quot;Batch&quot; ActualElapsedms=&quot;1767&quot; ActualCPUms=&quot;1760&quot; ActualScans=&quot;1&quot; ActualLogicalReads=&quot;93568&quot; ActualPhysicalReads=&quot;0&quot; ActualReadAheads=&quot;0&quot; ActualLobLogicalReads=&quot;0&quot; ActualLobPhysicalReads=&quot;0&quot; ActualLobReadAheads=&quot;0&quot; ActualRowsRead=&quot;3670566&quot; ActualEndOfScans=&quot;0&quot; ActualExecutions=&quot;1&quot;&gt;&lt;/RunTimeCountersPerThread&gt;&lt;RunTimeCountersPerThread Thread=&quot;2&quot; ActualRows=&quot;2871852&quot; Batches=&quot;3191&quot; ActualExecutionMode=&quot;Batch&quot; ActualElapsedms=&quot;1777&quot; ActualCPUms=&quot;1770&quot; ActualScans=&quot;1&quot; ActualLogicalReads=&quot;95360&quot; ActualPhysicalReads=&quot;0&quot; ActualReadAheads=&quot;0&quot; ActualLobLogicalReads=&quot;0&quot; ActualLobPhysicalReads=&quot;0&quot; ActualLobReadAheads=&quot;0&quot; ActualRowsRead=&quot;3734684&quot; ActualEndOfScans=&quot;0&quot; ActualExecutions=&quot;1&quot;&gt;&lt;/RunTimeCountersPerThread&gt;&lt;RunTimeCountersPerThread Thread=&quot;1&quot; ActualRows=&quot;2900798&quot; Batches=&quot;3224&quot; ActualExecutionMode=&quot;Batch&quot; ActualElapsedms=&quot;1768&quot; ActualCPUms=&quot;1760&quot; ActualScans=&quot;1&quot; ActualLogicalReads=&quot;97152&quot; ActualPhysicalReads=&quot;0&quot; ActualReadAheads=&quot;0&quot; ActualLobLogicalReads=&quot;0&quot; ActualLobPhysicalReads=&quot;0&quot; ActualLobReadAheads=&quot;0&quot; ActualRowsRead=&quot;3808921&quot; ActualEndOfScans=&quot;0&quot; ActualExecutions=&quot;1&quot;&gt;&lt;/RunTimeCountersPerThread&gt;&lt;RunTimeCountersPerThread Thread=&quot;0&quot; ActualRows=&quot;0&quot; Batches=&quot;0&quot; ActualExecutionMode=&quot;Row&quot; ActualElapsedms=&quot;0&quot; ActualCPUms=&quot;0&quot; ActualEndOfScans=&quot;0&quot; ActualExecutions=&quot;0&quot;&gt;&lt;/RunTimeCountersPerThread&gt;&lt;/RunTimeInformation&gt;&lt;IndexScan Ordered=&quot;0&quot; ForcedIndex=&quot;0&quot; ForceSeek=&quot;0&quot; ForceScan=&quot;0&quot; NoExpandHint=&quot;0&quot; Storage=&quot;RowStore&quot;&gt;&lt;DefinedValues&gt;&lt;DefinedValue&gt;&lt;ColumnReference Database=&quot;[wideworldimportersdw]&quot; Schema=&quot;[Fact]&quot; Table=&quot;[OrderHistoryExtended]&quot; Column=&quot;Salesperson Key&quot;&gt;&lt;/ColumnReference&gt;&lt;/DefinedValue&gt;&lt;DefinedValue&gt;&lt;ColumnReference Database=&quot;[wideworldimportersdw]&quot; Schema=&quot;[Fact]&quot; Table=&quot;[OrderHistoryExtended]&quot; Column=&quot;Quantity&quot;&gt;&lt;/ColumnReference&gt;&lt;/DefinedValue&gt;&lt;DefinedValue&gt;&lt;ColumnReference Database=&quot;[wideworldimportersdw]&quot; Schema=&quot;[Fact]&quot; Table=&quot;[OrderHistoryExtended]&quot; Column=&quot;Unit Price&quot;&gt;&lt;/ColumnReference&gt;&lt;/DefinedValue&gt;&lt;DefinedValue&gt;&lt;ColumnReference Database=&quot;[wideworldimportersdw]&quot; Schema=&quot;[Fact]&quot; Table=&quot;[OrderHistoryExtended]&quot; Column=&quot;Tax Rate&quot;&gt;&lt;/ColumnReference&gt;&lt;/DefinedValue&gt;&lt;DefinedValue&gt;&lt;ColumnReference Database=&quot;[wideworldimportersdw]&quot; Schema=&quot;[Fact]&quot; Table=&quot;[OrderHistoryExtended]&quot; Column=&quot;Lineage Key&quot;&gt;&lt;/ColumnReference&gt;&lt;/DefinedValue&gt;&lt;/DefinedValues&gt;&lt;Object Database=&quot;[wideworldimportersdw]&quot; Schema=&quot;[Fact]&quot; Table=&quot;[OrderHistoryExtended]&quot; IndexKind=&quot;Heap&quot; Storage=&quot;RowStore&quot;&gt;&lt;/Object&gt;&lt;Predicate&gt;&lt;ScalarOperator ScalarString=&quot;[wideworldimportersdw].[Fact].[OrderHistoryExtended].[Order Date Key]&amp;lt;=&amp;apos;2015-09-01 00:00:00.000&amp;apos;&quot;&gt;&lt;Compare CompareOp=&quot;LE&quot;&gt;&lt;ScalarOperator&gt;&lt;Identifier&gt;&lt;ColumnReference Database=&quot;[wideworldimportersdw]&quot; Schema=&quot;[Fact]&quot; Table=&quot;[OrderHistoryExtended]&quot; Column=&quot;Order Date Key&quot;&gt;&lt;/ColumnReference&gt;&lt;/Identifier&gt;&lt;/ScalarOperator&gt;&lt;ScalarOperator&gt;&lt;Const ConstValue=&quot;&amp;apos;2015-09-01 00:00:00.000&amp;apos;&quot;&gt;&lt;/Const&gt;&lt;/ScalarOperator&gt;&lt;/Compare&gt;&lt;/ScalarOperator&gt;&lt;/Predicate&gt;&lt;/IndexScan&gt;&lt;/RelOp&gt;&lt;/Hash&gt;&lt;/RelOp&gt;&lt;/ComputeScalar&gt;&lt;/RelOp&gt;&lt;/Sort&gt;&lt;/RelOp&gt;&lt;/Parallelism&gt;&lt;/RelOp&gt;&lt;/QueryPlan&gt;&lt;/StmtSimple&gt;&lt;/Statements&gt;&lt;/Batch&gt;&lt;/BatchSequence&gt;&lt;/ShowPlanXML&gt;</td></tr></table>"
                    }
                }
            ],
            "execution_count": 6
        }
    ]
}