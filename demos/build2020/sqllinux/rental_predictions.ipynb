{
    "metadata": {
        "kernelspec": {
            "name": "SQL",
            "display_name": "SQL",
            "language": "sql"
        },
        "language_info": {
            "name": "sql",
            "version": ""
        }
    },
    "nbformat_minor": 2,
    "nbformat": 4,
    "cells": [
        {
            "cell_type": "markdown",
            "source": [
                "# Step 1: Create a view on the data\r\n",
                "\r\n",
                "Analyze the data from the ORACLE table and create a view on top of it. The users don't have to know the data comes from Oracle. It just looks like it comes from SQL Server."
            ],
            "metadata": {
                "azdata_cell_guid": "8461e664-47ea-4734-a571-c227a8a8e504"
            }
        },
        {
            "cell_type": "code",
            "source": [
                "DROP VIEW IF EXISTS rental_data;\r\n",
                "GO\r\n",
                "CREATE VIEW rental_data AS\r\n",
                "SELECT * FROM oracle.rental_data;\r\n",
                "GO"
            ],
            "metadata": {
                "azdata_cell_guid": "32b3ab87-f3ce-49ab-9aec-f82b9de6b88e"
            },
            "outputs": [
                {
                    "output_type": "display_data",
                    "data": {
                        "text/html": "Commands completed successfully."
                    },
                    "metadata": {}
                },
                {
                    "output_type": "display_data",
                    "data": {
                        "text/html": "Commands completed successfully."
                    },
                    "metadata": {}
                },
                {
                    "output_type": "display_data",
                    "data": {
                        "text/html": "Total execution time: 00:00:00.147"
                    },
                    "metadata": {}
                }
            ],
            "execution_count": 6
        },
        {
            "cell_type": "markdown",
            "source": [
                "# Step 2: Train and generate a model\r\n",
                "\r\n",
                "Create a table to store the model, create a procedure to generate the model based on prediction data, and then execute the procedure and store the results of the model (binary) into the table. The source of the data is the view that uses Oracle as a base."
            ],
            "metadata": {
                "azdata_cell_guid": "a53ea1a5-41f3-492c-bdea-c4f6b055982c"
            }
        },
        {
            "cell_type": "code",
            "source": [
                "USE TutorialDB\r\n",
                "GO\r\n",
                "DROP TABLE IF EXISTS rental_py_models;\r\n",
                "GO\r\n",
                "CREATE TABLE rental_py_models (\r\n",
                "\tmodel_name VARCHAR(30) NOT NULL DEFAULT('default model') PRIMARY KEY,\r\n",
                "\tmodel VARBINARY(MAX) NOT NULL\r\n",
                ");\r\n",
                "GO\r\n",
                "-- Stored procedure that trains and generates a Python model using the rental_data and a decision tree algorithm\r\n",
                "DROP PROCEDURE IF EXISTS generate_rental_py_model;\r\n",
                "go\r\n",
                "CREATE PROCEDURE generate_rental_py_model (@trained_model varbinary(max) OUTPUT)\r\n",
                "AS\r\n",
                "BEGIN\r\n",
                "    EXECUTE sp_execute_external_script\r\n",
                "      @language = N'Python'\r\n",
                "    , @script = N'\r\n",
                "from sklearn.linear_model import LinearRegression\r\n",
                "import pickle\r\n",
                "\r\n",
                "df = rental_train_data\r\n",
                "\r\n",
                "# Get all the columns from the dataframe.\r\n",
                "columns = df.columns.tolist()\r\n",
                "\r\n",
                "# Store the variable well be predicting on.\r\n",
                "target = \"RentalCount\"\r\n",
                "\r\n",
                "# Initialize the model class.\r\n",
                "lin_model = LinearRegression()\r\n",
                "\r\n",
                "# Fit the model to the training data.\r\n",
                "lin_model.fit(df[columns], df[target])\r\n",
                "\r\n",
                "#Before saving the model to the DB table, we need to convert it to a binary object\r\n",
                "trained_model = pickle.dumps(lin_model)'\r\n",
                "\r\n",
                ", @input_data_1 = N'select \"RentalCount\", \"Year\", \"Month\", \"Day\", \"WeekDay\", \"Snow\", \"Holiday\" from dbo.rental_data where Year < 2015'\r\n",
                ", @input_data_1_name = N'rental_train_data'\r\n",
                ", @params = N'@trained_model varbinary(max) OUTPUT'\r\n",
                ", @trained_model = @trained_model OUTPUT;\r\n",
                "END;\r\n",
                "GO\r\n",
                "TRUNCATE TABLE rental_py_models;\r\n",
                "GO\r\n",
                "DECLARE @model VARBINARY(MAX);\r\n",
                "EXEC generate_rental_py_model @model OUTPUT;\r\n",
                "INSERT INTO rental_py_models (model_name, model) VALUES('linear_model', @model);\r\n",
                "GO"
            ],
            "metadata": {
                "azdata_cell_guid": "b44ddbb8-0b01-4d14-97c5-98341ec7268e"
            },
            "outputs": [
                {
                    "output_type": "display_data",
                    "data": {
                        "text/html": "Commands completed successfully."
                    },
                    "metadata": {}
                },
                {
                    "output_type": "display_data",
                    "data": {
                        "text/html": "Commands completed successfully."
                    },
                    "metadata": {}
                },
                {
                    "output_type": "display_data",
                    "data": {
                        "text/html": "Commands completed successfully."
                    },
                    "metadata": {}
                },
                {
                    "output_type": "display_data",
                    "data": {
                        "text/html": "Commands completed successfully."
                    },
                    "metadata": {}
                },
                {
                    "output_type": "display_data",
                    "data": {
                        "text/html": "Commands completed successfully."
                    },
                    "metadata": {}
                },
                {
                    "output_type": "display_data",
                    "data": {
                        "text/html": "Commands completed successfully."
                    },
                    "metadata": {}
                },
                {
                    "output_type": "display_data",
                    "data": {
                        "text/html": "(1 row affected)"
                    },
                    "metadata": {}
                },
                {
                    "output_type": "display_data",
                    "data": {
                        "text/html": "Total execution time: 00:00:05.963"
                    },
                    "metadata": {}
                }
            ],
            "execution_count": 7
        },
        {
            "cell_type": "markdown",
            "source": [
                " # Step 3: Create objects to run the prediction model and store the results\r\n",
                "\r\n",
                " Create a procedure and table to store the results of the prediction"
            ],
            "metadata": {
                "azdata_cell_guid": "032f309b-d8a8-4f07-b6a8-9abe99a3169f"
            }
        },
        {
            "cell_type": "code",
            "source": [
                "DROP PROCEDURE IF EXISTS py_predict_rentalcount;\r\n",
                "GO\r\n",
                "CREATE PROCEDURE py_predict_rentalcount (@model varchar(100))\r\n",
                "AS\r\n",
                "BEGIN\r\n",
                "\tDECLARE @py_model varbinary(max) = (select model from rental_py_models where model_name = @model);\r\n",
                "\r\n",
                "\tEXEC sp_execute_external_script\r\n",
                "\t\t\t\t@language = N'Python',\r\n",
                "\t\t\t\t@script = N'\r\n",
                "\r\n",
                "# Import the scikit-learn function to compute error.\r\n",
                "from sklearn.metrics import mean_squared_error\r\n",
                "import pickle\r\n",
                "import pandas as pd\r\n",
                "\r\n",
                "rental_model = pickle.loads(py_model)\r\n",
                "\r\n",
                "df = rental_score_data\r\n",
                "\r\n",
                "# Get all the columns from the dataframe.\r\n",
                "columns = df.columns.tolist()\r\n",
                "\r\n",
                "# variable we will be predicting on.\r\n",
                "target = \"RentalCount\"\r\n",
                "\r\n",
                "# Generate our predictions for the test set.\r\n",
                "lin_predictions = rental_model.predict(df[columns])\r\n",
                "print(lin_predictions)\r\n",
                "\r\n",
                "# Compute error between our test predictions and the actual values.\r\n",
                "lin_mse = mean_squared_error(lin_predictions, df[target])\r\n",
                "#print(lin_mse)\r\n",
                "\r\n",
                "predictions_df = pd.DataFrame(lin_predictions)\r\n",
                "\r\n",
                "OutputDataSet = pd.concat([predictions_df, df[\"RentalCount\"], df[\"Month\"], df[\"Day\"], df[\"WeekDay\"], df[\"Snow\"], df[\"Holiday\"], df[\"Year\"]], axis=1)\r\n",
                "'\r\n",
                ", @input_data_1 = N'Select \"RentalCount\", \"Year\" ,\"Month\", \"Day\", \"WeekDay\", \"Snow\", \"Holiday\"  from rental_data where Year = 2015'\r\n",
                ", @input_data_1_name = N'rental_score_data'\r\n",
                ", @params = N'@py_model varbinary(max)'\r\n",
                ", @py_model = @py_model\r\n",
                "with result sets ((\"RentalCount_Predicted\" float, \"RentalCount\" float, \"Month\" float,\"Day\" float,\"WeekDay\" float,\"Snow\" float,\"Holiday\" float, \"Year\" float));\r\n",
                "\r\n",
                "END;\r\n",
                "GO\r\n",
                "DROP TABLE IF EXISTS [dbo].[py_rental_predictions];\r\n",
                "GO\r\n",
                "--Create a table to store the predictions in\r\n",
                "CREATE TABLE [dbo].[py_rental_predictions](\r\n",
                " [RentalCount_Predicted] [int] NULL,\r\n",
                " [RentalCount_Actual] [int] NULL,\r\n",
                " [Month] [int] NULL,\r\n",
                " [Day] [int] NULL,\r\n",
                " [WeekDay] [int] NULL,\r\n",
                " [Snow] [int] NULL,\r\n",
                " [Holiday] [int] NULL,\r\n",
                " [Year] [int] NULL\r\n",
                ") ON [PRIMARY];\r\n",
                "GO"
            ],
            "metadata": {
                "azdata_cell_guid": "3c84a3e5-ce41-4d25-91ef-9e922691d56b"
            },
            "outputs": [
                {
                    "output_type": "display_data",
                    "data": {
                        "text/html": "Commands completed successfully."
                    },
                    "metadata": {}
                },
                {
                    "output_type": "display_data",
                    "data": {
                        "text/html": "Commands completed successfully."
                    },
                    "metadata": {}
                },
                {
                    "output_type": "display_data",
                    "data": {
                        "text/html": "Commands completed successfully."
                    },
                    "metadata": {}
                },
                {
                    "output_type": "display_data",
                    "data": {
                        "text/html": "Commands completed successfully."
                    },
                    "metadata": {}
                },
                {
                    "output_type": "display_data",
                    "data": {
                        "text/html": "Total execution time: 00:00:00.055"
                    },
                    "metadata": {}
                }
            ],
            "execution_count": 8
        },
        {
            "cell_type": "markdown",
            "source": [
                "# Step 4: Run the prediction model, store and display the results\r\n",
                "\r\n",
                "Run the procedure to run the prediction model and store the results in a table. Query out the results."
            ],
            "metadata": {
                "azdata_cell_guid": "70ab9d0f-aa40-4a2a-a92e-807bedf039fa"
            }
        },
        {
            "cell_type": "code",
            "source": [
                "USE TutorialDB;\r\n",
                "GO\r\n",
                "TRUNCATE TABLE py_rental_predictions;\r\n",
                "--Insert the results of the predictions for test set into a table\r\n",
                "INSERT INTO py_rental_predictions\r\n",
                "EXEC py_predict_rentalcount 'linear_model';\r\n",
                "GO\r\n",
                "-- Select contents of the table\r\n",
                "SELECT * FROM py_rental_predictions;\r\n",
                "GO"
            ],
            "metadata": {
                "azdata_cell_guid": "593d03fa-5a77-4841-9e1e-8f79b54c021b"
            },
            "outputs": [
                {
                    "output_type": "display_data",
                    "data": {
                        "text/html": "Commands completed successfully."
                    },
                    "metadata": {}
                },
                {
                    "output_type": "display_data",
                    "data": {
                        "text/html": "STDOUT message(s) from external script: \n[ 42. 360.  20.  42. 405.  38. 327.  34.  37. 514. 110.  40. 668.  25.\n 360.  38. 600.  22.  38.  26.  38.  46. 750.  38. 200.  33.  40.  30.\n  36.  34.  42.  31. 280. 468.  63.  30.  57. 260.  22. 396.  21. 220.\n  44.  57.  37.  63. 530. 220.  41. 514.  31.  37. 351.  54. 288.  35.\n  38. 125.  46.  55.  36. 405. 421.  26. 370.  29.  39.  31.  45.  33.\n  22.  49.  34. 499.  31.  60.  36.  44.  28. 260.  35.  42.  50. 312.\n  40.  24.  49.  50.  55. 507.  26.  39.  33.  50. 360.  43.  38. 405.\n  31. 105. 358.  31.  36.  37.  33.  63.  44. 452. 577.  32. 327. 327.\n 372.  40. 230.  37.  26.  42. 507. 203.  42. 270.  32.  39.  53.  52.\n  38. 750.  44. 276.  25. 264.  28.  25. 384.  30. 351.  32. 824. 429.\n  31.  40.  35.  49.  49.  40. 312.  50.  26.  29. 377.]"
                    },
                    "metadata": {}
                },
                {
                    "output_type": "display_data",
                    "data": {
                        "text/html": "(151 rows affected)"
                    },
                    "metadata": {}
                },
                {
                    "output_type": "display_data",
                    "data": {
                        "text/html": "(151 rows affected)"
                    },
                    "metadata": {}
                },
                {
                    "output_type": "display_data",
                    "data": {
                        "text/html": "Total execution time: 00:00:05.141"
                    },
                    "metadata": {}
                },
                {
                    "output_type": "execute_result",
                    "metadata": {},
                    "execution_count": 9,
                    "data": {
                        "application/vnd.dataresource+json": {
                            "schema": {
                                "fields": [
                                    {
                                        "name": "RentalCount_Predicted"
                                    },
                                    {
                                        "name": "RentalCount_Actual"
                                    },
                                    {
                                        "name": "Month"
                                    },
                                    {
                                        "name": "Day"
                                    },
                                    {
                                        "name": "WeekDay"
                                    },
                                    {
                                        "name": "Snow"
                                    },
                                    {
                                        "name": "Holiday"
                                    },
                                    {
                                        "name": "Year"
                                    }
                                ]
                            },
                            "data": [
                                {
                                    "0": "42",
                                    "1": "42",
                                    "2": "2",
                                    "3": "11",
                                    "4": "4",
                                    "5": "0",
                                    "6": "0",
                                    "7": "2015"
                                },
                                {
                                    "0": "360",
                                    "1": "360",
                                    "2": "3",
                                    "3": "29",
                                    "4": "1",
                                    "5": "0",
                                    "6": "0",
                                    "7": "2015"
                                },
                                {
                                    "0": "20",
                                    "1": "20",
                                    "2": "4",
                                    "3": "22",
                                    "4": "4",
                                    "5": "0",
                                    "6": "0",
                                    "7": "2015"
                                },
                                {
                                    "0": "42",
                                    "1": "42",
                                    "2": "3",
                                    "3": "6",
                                    "4": "6",
                                    "5": "0",
                                    "6": "0",
                                    "7": "2015"
                                },
                                {
                                    "0": "405",
                                    "1": "405",
                                    "2": "2",
                                    "3": "28",
                                    "4": "7",
                                    "5": "1",
                                    "6": "0",
                                    "7": "2015"
                                },
                                {
                                    "0": "38",
                                    "1": "38",
                                    "2": "1",
                                    "3": "12",
                                    "4": "2",
                                    "5": "1",
                                    "6": "0",
                                    "7": "2015"
                                },
                                {
                                    "0": "327",
                                    "1": "327",
                                    "2": "1",
                                    "3": "24",
                                    "4": "7",
                                    "5": "0",
                                    "6": "0",
                                    "7": "2015"
                                },
                                {
                                    "0": "34",
                                    "1": "34",
                                    "2": "4",
                                    "3": "10",
                                    "4": "6",
                                    "5": "0",
                                    "6": "0",
                                    "7": "2015"
                                },
                                {
                                    "0": "37",
                                    "1": "37",
                                    "2": "4",
                                    "3": "16",
                                    "4": "5",
                                    "5": "1",
                                    "6": "0",
                                    "7": "2015"
                                },
                                {
                                    "0": "514",
                                    "1": "514",
                                    "2": "1",
                                    "3": "18",
                                    "4": "1",
                                    "5": "0",
                                    "6": "0",
                                    "7": "2015"
                                },
                                {
                                    "0": "110",
                                    "1": "110",
                                    "2": "12",
                                    "3": "31",
                                    "4": "5",
                                    "5": "0",
                                    "6": "0",
                                    "7": "2015"
                                },
                                {
                                    "0": "40",
                                    "1": "40",
                                    "2": "4",
                                    "3": "7",
                                    "4": "3",
                                    "5": "1",
                                    "6": "0",
                                    "7": "2015"
                                },
                                {
                                    "0": "668",
                                    "1": "668",
                                    "2": "2",
                                    "3": "22",
                                    "4": "1",
                                    "5": "1",
                                    "6": "0",
                                    "7": "2015"
                                },
                                {
                                    "0": "25",
                                    "1": "25",
                                    "2": "12",
                                    "3": "23",
                                    "4": "4",
                                    "5": "0",
                                    "6": "0",
                                    "7": "2015"
                                },
                                {
                                    "0": "360",
                                    "1": "360",
                                    "2": "3",
                                    "3": "15",
                                    "4": "1",
                                    "5": "0",
                                    "6": "0",
                                    "7": "2015"
                                },
                                {
                                    "0": "38",
                                    "1": "38",
                                    "2": "4",
                                    "3": "30",
                                    "4": "5",
                                    "5": "1",
                                    "6": "0",
                                    "7": "2015"
                                },
                                {
                                    "0": "599",
                                    "1": "600",
                                    "2": "1",
                                    "3": "1",
                                    "4": "5",
                                    "5": "0",
                                    "6": "1",
                                    "7": "2015"
                                },
                                {
                                    "0": "22",
                                    "1": "22",
                                    "2": "12",
                                    "3": "17",
                                    "4": "5",
                                    "5": "0",
                                    "6": "0",
                                    "7": "2015"
                                },
                                {
                                    "0": "38",
                                    "1": "38",
                                    "2": "3",
                                    "3": "9",
                                    "4": "2",
                                    "5": "0",
                                    "6": "0",
                                    "7": "2015"
                                },
                                {
                                    "0": "26",
                                    "1": "26",
                                    "2": "12",
                                    "3": "3",
                                    "4": "5",
                                    "5": "0",
                                    "6": "0",
                                    "7": "2015"
                                },
                                {
                                    "0": "38",
                                    "1": "38",
                                    "2": "2",
                                    "3": "2",
                                    "4": "2",
                                    "5": "1",
                                    "6": "0",
                                    "7": "2015"
                                },
                                {
                                    "0": "46",
                                    "1": "46",
                                    "2": "3",
                                    "3": "23",
                                    "4": "2",
                                    "5": "1",
                                    "6": "0",
                                    "7": "2015"
                                },
                                {
                                    "0": "750",
                                    "1": "750",
                                    "2": "2",
                                    "3": "8",
                                    "4": "1",
                                    "5": "1",
                                    "6": "0",
                                    "7": "2015"
                                },
                                {
                                    "0": "38",
                                    "1": "38",
                                    "2": "3",
                                    "3": "26",
                                    "4": "5",
                                    "5": "0",
                                    "6": "0",
                                    "7": "2015"
                                },
                                {
                                    "0": "200",
                                    "1": "200",
                                    "2": "4",
                                    "3": "19",
                                    "4": "1",
                                    "5": "0",
                                    "6": "0",
                                    "7": "2015"
                                },
                                {
                                    "0": "33",
                                    "1": "33",
                                    "2": "12",
                                    "3": "11",
                                    "4": "6",
                                    "5": "0",
                                    "6": "0",
                                    "7": "2015"
                                },
                                {
                                    "0": "40",
                                    "1": "40",
                                    "2": "3",
                                    "3": "3",
                                    "4": "3",
                                    "5": "1",
                                    "6": "0",
                                    "7": "2015"
                                },
                                {
                                    "0": "30",
                                    "1": "30",
                                    "2": "4",
                                    "3": "13",
                                    "4": "2",
                                    "5": "0",
                                    "6": "0",
                                    "7": "2015"
                                },
                                {
                                    "0": "36",
                                    "1": "36",
                                    "2": "1",
                                    "3": "21",
                                    "4": "4",
                                    "5": "1",
                                    "6": "0",
                                    "7": "2015"
                                },
                                {
                                    "0": "34",
                                    "1": "34",
                                    "2": "2",
                                    "3": "25",
                                    "4": "4",
                                    "5": "1",
                                    "6": "0",
                                    "7": "2015"
                                },
                                {
                                    "0": "42",
                                    "1": "42",
                                    "2": "1",
                                    "3": "15",
                                    "4": "5",
                                    "5": "0",
                                    "6": "0",
                                    "7": "2015"
                                },
                                {
                                    "0": "31",
                                    "1": "31",
                                    "2": "3",
                                    "3": "12",
                                    "4": "5",
                                    "5": "0",
                                    "6": "0",
                                    "7": "2015"
                                },
                                {
                                    "0": "280",
                                    "1": "280",
                                    "2": "12",
                                    "3": "20",
                                    "4": "1",
                                    "5": "0",
                                    "6": "0",
                                    "7": "2015"
                                },
                                {
                                    "0": "468",
                                    "1": "468",
                                    "2": "1",
                                    "3": "4",
                                    "4": "1",
                                    "5": "0",
                                    "6": "0",
                                    "7": "2015"
                                },
                                {
                                    "0": "63",
                                    "1": "63",
                                    "2": "2",
                                    "3": "19",
                                    "4": "5",
                                    "5": "1",
                                    "6": "0",
                                    "7": "2015"
                                },
                                {
                                    "0": "30",
                                    "1": "30",
                                    "2": "12",
                                    "3": "14",
                                    "4": "2",
                                    "5": "0",
                                    "6": "0",
                                    "7": "2015"
                                },
                                {
                                    "0": "57",
                                    "1": "57",
                                    "2": "2",
                                    "3": "5",
                                    "4": "5",
                                    "5": "0",
                                    "6": "0",
                                    "7": "2015"
                                },
                                {
                                    "0": "260",
                                    "1": "260",
                                    "2": "4",
                                    "3": "18",
                                    "4": "7",
                                    "5": "1",
                                    "6": "0",
                                    "7": "2015"
                                },
                                {
                                    "0": "22",
                                    "1": "22",
                                    "2": "4",
                                    "3": "24",
                                    "4": "6",
                                    "5": "0",
                                    "6": "0",
                                    "7": "2015"
                                },
                                {
                                    "0": "396",
                                    "1": "396",
                                    "2": "3",
                                    "3": "8",
                                    "4": "1",
                                    "5": "0",
                                    "6": "0",
                                    "7": "2015"
                                },
                                {
                                    "0": "21",
                                    "1": "21",
                                    "2": "4",
                                    "3": "1",
                                    "4": "4",
                                    "5": "0",
                                    "6": "0",
                                    "7": "2015"
                                },
                                {
                                    "0": "219",
                                    "1": "220",
                                    "2": "12",
                                    "3": "25",
                                    "4": "6",
                                    "5": "0",
                                    "6": "1",
                                    "7": "2015"
                                },
                                {
                                    "0": "44",
                                    "1": "44",
                                    "2": "1",
                                    "3": "20",
                                    "4": "3",
                                    "5": "0",
                                    "6": "0",
                                    "7": "2015"
                                },
                                {
                                    "0": "57",
                                    "1": "57",
                                    "2": "2",
                                    "3": "24",
                                    "4": "3",
                                    "5": "0",
                                    "6": "0",
                                    "7": "2015"
                                },
                                {
                                    "0": "37",
                                    "1": "37",
                                    "2": "3",
                                    "3": "11",
                                    "4": "4",
                                    "5": "0",
                                    "6": "0",
                                    "7": "2015"
                                },
                                {
                                    "0": "63",
                                    "1": "63",
                                    "2": "1",
                                    "3": "26",
                                    "4": "2",
                                    "5": "1",
                                    "6": "0",
                                    "7": "2015"
                                },
                                {
                                    "0": "530",
                                    "1": "530",
                                    "2": "1",
                                    "3": "3",
                                    "4": "7",
                                    "5": "0",
                                    "6": "0",
                                    "7": "2015"
                                },
                                {
                                    "0": "220",
                                    "1": "220",
                                    "2": "12",
                                    "3": "19",
                                    "4": "7",
                                    "5": "0",
                                    "6": "0",
                                    "7": "2015"
                                },
                                {
                                    "0": "41",
                                    "1": "41",
                                    "2": "2",
                                    "3": "4",
                                    "4": "4",
                                    "5": "0",
                                    "6": "0",
                                    "7": "2015"
                                },
                                {
                                    "0": "513",
                                    "1": "514",
                                    "2": "2",
                                    "3": "16",
                                    "4": "2",
                                    "5": "0",
                                    "6": "1",
                                    "7": "2015"
                                },
                                {
                                    "0": "31",
                                    "1": "31",
                                    "2": "3",
                                    "3": "31",
                                    "4": "3",
                                    "5": "0",
                                    "6": "0",
                                    "7": "2015"
                                },
                                {
                                    "0": "37",
                                    "1": "37",
                                    "2": "3",
                                    "3": "17",
                                    "4": "3",
                                    "5": "1",
                                    "6": "0",
                                    "7": "2015"
                                },
                                {
                                    "0": "351",
                                    "1": "351",
                                    "2": "12",
                                    "3": "5",
                                    "4": "7",
                                    "5": "1",
                                    "6": "0",
                                    "7": "2015"
                                },
                                {
                                    "0": "54",
                                    "1": "54",
                                    "2": "2",
                                    "3": "10",
                                    "4": "3",
                                    "5": "0",
                                    "6": "0",
                                    "7": "2015"
                                },
                                {
                                    "0": "288",
                                    "1": "288",
                                    "2": "3",
                                    "3": "28",
                                    "4": "7",
                                    "5": "0",
                                    "6": "0",
                                    "7": "2015"
                                },
                                {
                                    "0": "35",
                                    "1": "35",
                                    "2": "4",
                                    "3": "21",
                                    "4": "3",
                                    "5": "0",
                                    "6": "0",
                                    "7": "2015"
                                },
                                {
                                    "0": "38",
                                    "1": "38",
                                    "2": "2",
                                    "3": "27",
                                    "4": "6",
                                    "5": "1",
                                    "6": "0",
                                    "7": "2015"
                                },
                                {
                                    "0": "125",
                                    "1": "125",
                                    "2": "12",
                                    "3": "28",
                                    "4": "2",
                                    "5": "0",
                                    "6": "0",
                                    "7": "2015"
                                },
                                {
                                    "0": "46",
                                    "1": "46",
                                    "2": "1",
                                    "3": "9",
                                    "4": "6",
                                    "5": "0",
                                    "6": "0",
                                    "7": "2015"
                                },
                                {
                                    "0": "55",
                                    "1": "55",
                                    "2": "1",
                                    "3": "23",
                                    "4": "6",
                                    "5": "0",
                                    "6": "0",
                                    "7": "2015"
                                },
                                {
                                    "0": "36",
                                    "1": "36",
                                    "2": "4",
                                    "3": "15",
                                    "4": "4",
                                    "5": "0",
                                    "6": "0",
                                    "7": "2015"
                                },
                                {
                                    "0": "405",
                                    "1": "405",
                                    "2": "1",
                                    "3": "17",
                                    "4": "7",
                                    "5": "0",
                                    "6": "0",
                                    "7": "2015"
                                },
                                {
                                    "0": "421",
                                    "1": "421",
                                    "2": "3",
                                    "3": "14",
                                    "4": "7",
                                    "5": "1",
                                    "6": "0",
                                    "7": "2015"
                                },
                                {
                                    "0": "26",
                                    "1": "26",
                                    "2": "12",
                                    "3": "22",
                                    "4": "3",
                                    "5": "0",
                                    "6": "0",
                                    "7": "2015"
                                },
                                {
                                    "0": "370",
                                    "1": "370",
                                    "2": "4",
                                    "3": "4",
                                    "4": "7",
                                    "5": "0",
                                    "6": "0",
                                    "7": "2015"
                                },
                                {
                                    "0": "29",
                                    "1": "29",
                                    "2": "4",
                                    "3": "27",
                                    "4": "2",
                                    "5": "1",
                                    "6": "0",
                                    "7": "2015"
                                },
                                {
                                    "0": "39",
                                    "1": "39",
                                    "2": "1",
                                    "3": "6",
                                    "4": "3",
                                    "5": "0",
                                    "6": "0",
                                    "7": "2015"
                                },
                                {
                                    "0": "31",
                                    "1": "31",
                                    "2": "1",
                                    "3": "29",
                                    "4": "5",
                                    "5": "0",
                                    "6": "0",
                                    "7": "2015"
                                },
                                {
                                    "0": "45",
                                    "1": "45",
                                    "2": "3",
                                    "3": "20",
                                    "4": "6",
                                    "5": "0",
                                    "6": "0",
                                    "7": "2015"
                                },
                                {
                                    "0": "33",
                                    "1": "33",
                                    "2": "12",
                                    "3": "16",
                                    "4": "4",
                                    "5": "0",
                                    "6": "0",
                                    "7": "2015"
                                },
                                {
                                    "0": "22",
                                    "1": "22",
                                    "2": "12",
                                    "3": "2",
                                    "4": "4",
                                    "5": "0",
                                    "6": "0",
                                    "7": "2015"
                                },
                                {
                                    "0": "49",
                                    "1": "49",
                                    "2": "2",
                                    "3": "13",
                                    "4": "6",
                                    "5": "0",
                                    "6": "0",
                                    "7": "2015"
                                },
                                {
                                    "0": "34",
                                    "1": "34",
                                    "2": "12",
                                    "3": "8",
                                    "4": "3",
                                    "5": "1",
                                    "6": "0",
                                    "7": "2015"
                                },
                                {
                                    "0": "499",
                                    "1": "499",
                                    "2": "2",
                                    "3": "7",
                                    "4": "7",
                                    "5": "0",
                                    "6": "0",
                                    "7": "2015"
                                },
                                {
                                    "0": "31",
                                    "1": "31",
                                    "2": "12",
                                    "3": "10",
                                    "4": "5",
                                    "5": "0",
                                    "6": "0",
                                    "7": "2015"
                                },
                                {
                                    "0": "60",
                                    "1": "60",
                                    "2": "2",
                                    "3": "9",
                                    "4": "2",
                                    "5": "1",
                                    "6": "0",
                                    "7": "2015"
                                },
                                {
                                    "0": "36",
                                    "1": "36",
                                    "2": "4",
                                    "3": "20",
                                    "4": "2",
                                    "5": "0",
                                    "6": "0",
                                    "7": "2015"
                                },
                                {
                                    "0": "44",
                                    "1": "44",
                                    "2": "3",
                                    "3": "25",
                                    "4": "4",
                                    "5": "0",
                                    "6": "0",
                                    "7": "2015"
                                },
                                {
                                    "0": "28",
                                    "1": "28",
                                    "2": "3",
                                    "3": "2",
                                    "4": "2",
                                    "5": "0",
                                    "6": "0",
                                    "7": "2015"
                                },
                                {
                                    "0": "260",
                                    "1": "260",
                                    "2": "12",
                                    "3": "27",
                                    "4": "1",
                                    "5": "1",
                                    "6": "0",
                                    "7": "2015"
                                },
                                {
                                    "0": "35",
                                    "1": "35",
                                    "2": "4",
                                    "3": "3",
                                    "4": "6",
                                    "5": "0",
                                    "6": "0",
                                    "7": "2015"
                                },
                                {
                                    "0": "42",
                                    "1": "42",
                                    "2": "1",
                                    "3": "22",
                                    "4": "5",
                                    "5": "0",
                                    "6": "0",
                                    "7": "2015"
                                },
                                {
                                    "0": "50",
                                    "1": "50",
                                    "2": "1",
                                    "3": "14",
                                    "4": "4",
                                    "5": "0",
                                    "6": "0",
                                    "7": "2015"
                                },
                                {
                                    "0": "312",
                                    "1": "312",
                                    "2": "4",
                                    "3": "12",
                                    "4": "1",
                                    "5": "1",
                                    "6": "0",
                                    "7": "2015"
                                },
                                {
                                    "0": "40",
                                    "1": "40",
                                    "2": "1",
                                    "3": "5",
                                    "4": "2",
                                    "5": "0",
                                    "6": "0",
                                    "7": "2015"
                                },
                                {
                                    "0": "24",
                                    "1": "24",
                                    "2": "12",
                                    "3": "21",
                                    "4": "2",
                                    "5": "0",
                                    "6": "0",
                                    "7": "2015"
                                },
                                {
                                    "0": "49",
                                    "1": "49",
                                    "2": "3",
                                    "3": "13",
                                    "4": "6",
                                    "5": "1",
                                    "6": "0",
                                    "7": "2015"
                                },
                                {
                                    "0": "50",
                                    "1": "50",
                                    "2": "1",
                                    "3": "28",
                                    "4": "4",
                                    "5": "0",
                                    "6": "0",
                                    "7": "2015"
                                },
                                {
                                    "0": "55",
                                    "1": "55",
                                    "2": "2",
                                    "3": "18",
                                    "4": "4",
                                    "5": "0",
                                    "6": "0",
                                    "7": "2015"
                                },
                                {
                                    "0": "507",
                                    "1": "507",
                                    "2": "4",
                                    "3": "26",
                                    "4": "1",
                                    "5": "1",
                                    "6": "0",
                                    "7": "2015"
                                },
                                {
                                    "0": "26",
                                    "1": "26",
                                    "2": "12",
                                    "3": "1",
                                    "4": "3",
                                    "5": "0",
                                    "6": "0",
                                    "7": "2015"
                                },
                                {
                                    "0": "39",
                                    "1": "39",
                                    "2": "12",
                                    "3": "7",
                                    "4": "2",
                                    "5": "1",
                                    "6": "0",
                                    "7": "2015"
                                },
                                {
                                    "0": "33",
                                    "1": "33",
                                    "2": "3",
                                    "3": "19",
                                    "4": "5",
                                    "5": "1",
                                    "6": "0",
                                    "7": "2015"
                                },
                                {
                                    "0": "50",
                                    "1": "50",
                                    "2": "2",
                                    "3": "12",
                                    "4": "5",
                                    "5": "1",
                                    "6": "0",
                                    "7": "2015"
                                },
                                {
                                    "0": "360",
                                    "1": "360",
                                    "2": "12",
                                    "3": "13",
                                    "4": "1",
                                    "5": "0",
                                    "6": "0",
                                    "7": "2015"
                                },
                                {
                                    "0": "43",
                                    "1": "43",
                                    "2": "3",
                                    "3": "5",
                                    "4": "5",
                                    "5": "0",
                                    "6": "0",
                                    "7": "2015"
                                },
                                {
                                    "0": "38",
                                    "1": "38",
                                    "2": "4",
                                    "3": "23",
                                    "4": "5",
                                    "5": "0",
                                    "6": "0",
                                    "7": "2015"
                                },
                                {
                                    "0": "405",
                                    "1": "405",
                                    "2": "1",
                                    "3": "11",
                                    "4": "1",
                                    "5": "0",
                                    "6": "0",
                                    "7": "2015"
                                },
                                {
                                    "0": "31",
                                    "1": "31",
                                    "2": "4",
                                    "3": "9",
                                    "4": "5",
                                    "5": "0",
                                    "6": "0",
                                    "7": "2015"
                                },
                                {
                                    "0": "105",
                                    "1": "105",
                                    "2": "12",
                                    "3": "30",
                                    "4": "4",
                                    "5": "0",
                                    "6": "0",
                                    "7": "2015"
                                },
                                {
                                    "0": "358",
                                    "1": "358",
                                    "2": "2",
                                    "3": "21",
                                    "4": "7",
                                    "5": "0",
                                    "6": "0",
                                    "7": "2015"
                                },
                                {
                                    "0": "31",
                                    "1": "31",
                                    "2": "3",
                                    "3": "16",
                                    "4": "2",
                                    "5": "0",
                                    "6": "0",
                                    "7": "2015"
                                },
                                {
                                    "0": "36",
                                    "1": "36",
                                    "2": "4",
                                    "3": "6",
                                    "4": "2",
                                    "5": "0",
                                    "6": "0",
                                    "7": "2015"
                                },
                                {
                                    "0": "37",
                                    "1": "37",
                                    "2": "12",
                                    "3": "24",
                                    "4": "5",
                                    "5": "0",
                                    "6": "0",
                                    "7": "2015"
                                },
                                {
                                    "0": "33",
                                    "1": "33",
                                    "2": "4",
                                    "3": "29",
                                    "4": "4",
                                    "5": "1",
                                    "6": "0",
                                    "7": "2015"
                                },
                                {
                                    "0": "63",
                                    "1": "63",
                                    "2": "1",
                                    "3": "2",
                                    "4": "6",
                                    "5": "1",
                                    "6": "0",
                                    "7": "2015"
                                },
                                {
                                    "0": "44",
                                    "1": "44",
                                    "2": "1",
                                    "3": "8",
                                    "4": "5",
                                    "5": "0",
                                    "6": "0",
                                    "7": "2015"
                                },
                                {
                                    "0": "452",
                                    "1": "452",
                                    "2": "1",
                                    "3": "25",
                                    "4": "1",
                                    "5": "0",
                                    "6": "0",
                                    "7": "2015"
                                },
                                {
                                    "0": "577",
                                    "1": "577",
                                    "2": "1",
                                    "3": "31",
                                    "4": "7",
                                    "5": "0",
                                    "6": "0",
                                    "7": "2015"
                                },
                                {
                                    "0": "32",
                                    "1": "32",
                                    "2": "12",
                                    "3": "4",
                                    "4": "6",
                                    "5": "0",
                                    "6": "0",
                                    "7": "2015"
                                },
                                {
                                    "0": "327",
                                    "1": "327",
                                    "2": "2",
                                    "3": "15",
                                    "4": "1",
                                    "5": "0",
                                    "6": "0",
                                    "7": "2015"
                                },
                                {
                                    "0": "327",
                                    "1": "327",
                                    "2": "2",
                                    "3": "1",
                                    "4": "1",
                                    "5": "0",
                                    "6": "0",
                                    "7": "2015"
                                },
                                {
                                    "0": "372",
                                    "1": "372",
                                    "2": "3",
                                    "3": "22",
                                    "4": "1",
                                    "5": "0",
                                    "6": "0",
                                    "7": "2015"
                                },
                                {
                                    "0": "40",
                                    "1": "40",
                                    "2": "3",
                                    "3": "4",
                                    "4": "4",
                                    "5": "0",
                                    "6": "0",
                                    "7": "2015"
                                },
                                {
                                    "0": "230",
                                    "1": "230",
                                    "2": "12",
                                    "3": "12",
                                    "4": "7",
                                    "5": "0",
                                    "6": "0",
                                    "7": "2015"
                                },
                                {
                                    "0": "37",
                                    "1": "37",
                                    "2": "3",
                                    "3": "27",
                                    "4": "6",
                                    "5": "1",
                                    "6": "0",
                                    "7": "2015"
                                },
                                {
                                    "0": "26",
                                    "1": "26",
                                    "2": "4",
                                    "3": "14",
                                    "4": "3",
                                    "5": "0",
                                    "6": "0",
                                    "7": "2015"
                                },
                                {
                                    "0": "42",
                                    "1": "42",
                                    "2": "2",
                                    "3": "26",
                                    "4": "5",
                                    "5": "1",
                                    "6": "0",
                                    "7": "2015"
                                },
                                {
                                    "0": "507",
                                    "1": "507",
                                    "2": "1",
                                    "3": "10",
                                    "4": "7",
                                    "5": "1",
                                    "6": "0",
                                    "7": "2015"
                                },
                                {
                                    "0": "203",
                                    "1": "203",
                                    "2": "12",
                                    "3": "29",
                                    "4": "3",
                                    "5": "1",
                                    "6": "0",
                                    "7": "2015"
                                },
                                {
                                    "0": "42",
                                    "1": "42",
                                    "2": "1",
                                    "3": "16",
                                    "4": "6",
                                    "5": "1",
                                    "6": "0",
                                    "7": "2015"
                                },
                                {
                                    "0": "270",
                                    "1": "270",
                                    "2": "4",
                                    "3": "5",
                                    "4": "1",
                                    "5": "0",
                                    "6": "0",
                                    "7": "2015"
                                },
                                {
                                    "0": "32",
                                    "1": "32",
                                    "2": "4",
                                    "3": "28",
                                    "4": "3",
                                    "5": "0",
                                    "6": "0",
                                    "7": "2015"
                                },
                                {
                                    "0": "39",
                                    "1": "39",
                                    "2": "1",
                                    "3": "7",
                                    "4": "4",
                                    "5": "0",
                                    "6": "0",
                                    "7": "2015"
                                },
                                {
                                    "0": "53",
                                    "1": "53",
                                    "2": "1",
                                    "3": "30",
                                    "4": "6",
                                    "5": "1",
                                    "6": "0",
                                    "7": "2015"
                                },
                                {
                                    "0": "52",
                                    "1": "52",
                                    "2": "2",
                                    "3": "20",
                                    "4": "6",
                                    "5": "0",
                                    "6": "0",
                                    "7": "2015"
                                },
                                {
                                    "0": "38",
                                    "1": "38",
                                    "2": "12",
                                    "3": "15",
                                    "4": "3",
                                    "5": "1",
                                    "6": "0",
                                    "7": "2015"
                                },
                                {
                                    "0": "750",
                                    "1": "750",
                                    "2": "2",
                                    "3": "14",
                                    "4": "7",
                                    "5": "1",
                                    "6": "0",
                                    "7": "2015"
                                },
                                {
                                    "0": "44",
                                    "1": "44",
                                    "2": "2",
                                    "3": "6",
                                    "4": "6",
                                    "5": "0",
                                    "6": "0",
                                    "7": "2015"
                                },
                                {
                                    "0": "276",
                                    "1": "276",
                                    "2": "3",
                                    "3": "21",
                                    "4": "7",
                                    "5": "0",
                                    "6": "0",
                                    "7": "2015"
                                },
                                {
                                    "0": "25",
                                    "1": "25",
                                    "2": "12",
                                    "3": "9",
                                    "4": "4",
                                    "5": "1",
                                    "6": "0",
                                    "7": "2015"
                                },
                                {
                                    "0": "264",
                                    "1": "264",
                                    "2": "3",
                                    "3": "1",
                                    "4": "1",
                                    "5": "0",
                                    "6": "0",
                                    "7": "2015"
                                },
                                {
                                    "0": "28",
                                    "1": "28",
                                    "2": "4",
                                    "3": "17",
                                    "4": "6",
                                    "5": "1",
                                    "6": "0",
                                    "7": "2015"
                                },
                                {
                                    "0": "25",
                                    "1": "25",
                                    "2": "3",
                                    "3": "30",
                                    "4": "2",
                                    "5": "0",
                                    "6": "0",
                                    "7": "2015"
                                },
                                {
                                    "0": "384",
                                    "1": "384",
                                    "2": "3",
                                    "3": "7",
                                    "4": "7",
                                    "5": "0",
                                    "6": "0",
                                    "7": "2015"
                                },
                                {
                                    "0": "30",
                                    "1": "30",
                                    "2": "4",
                                    "3": "2",
                                    "4": "5",
                                    "5": "0",
                                    "6": "0",
                                    "7": "2015"
                                },
                                {
                                    "0": "351",
                                    "1": "351",
                                    "2": "12",
                                    "3": "26",
                                    "4": "7",
                                    "5": "1",
                                    "6": "0",
                                    "7": "2015"
                                },
                                {
                                    "0": "32",
                                    "1": "32",
                                    "2": "1",
                                    "3": "13",
                                    "4": "3",
                                    "5": "0",
                                    "6": "0",
                                    "7": "2015"
                                },
                                {
                                    "0": "823",
                                    "1": "824",
                                    "2": "1",
                                    "3": "19",
                                    "4": "2",
                                    "5": "1",
                                    "6": "1",
                                    "7": "2015"
                                },
                                {
                                    "0": "429",
                                    "1": "429",
                                    "2": "4",
                                    "3": "11",
                                    "4": "7",
                                    "5": "1",
                                    "6": "0",
                                    "7": "2015"
                                },
                                {
                                    "0": "31",
                                    "1": "31",
                                    "2": "4",
                                    "3": "8",
                                    "4": "4",
                                    "5": "1",
                                    "6": "0",
                                    "7": "2015"
                                },
                                {
                                    "0": "40",
                                    "1": "40",
                                    "2": "2",
                                    "3": "23",
                                    "4": "2",
                                    "5": "0",
                                    "6": "0",
                                    "7": "2015"
                                },
                                {
                                    "0": "35",
                                    "1": "35",
                                    "2": "1",
                                    "3": "27",
                                    "4": "3",
                                    "5": "1",
                                    "6": "0",
                                    "7": "2015"
                                },
                                {
                                    "0": "49",
                                    "1": "49",
                                    "2": "2",
                                    "3": "17",
                                    "4": "3",
                                    "5": "0",
                                    "6": "0",
                                    "7": "2015"
                                },
                                {
                                    "0": "49",
                                    "1": "49",
                                    "2": "3",
                                    "3": "10",
                                    "4": "3",
                                    "5": "1",
                                    "6": "0",
                                    "7": "2015"
                                },
                                {
                                    "0": "40",
                                    "1": "40",
                                    "2": "12",
                                    "3": "18",
                                    "4": "6",
                                    "5": "1",
                                    "6": "0",
                                    "7": "2015"
                                },
                                {
                                    "0": "312",
                                    "1": "312",
                                    "2": "4",
                                    "3": "25",
                                    "4": "7",
                                    "5": "1",
                                    "6": "0",
                                    "7": "2015"
                                },
                                {
                                    "0": "50",
                                    "1": "50",
                                    "2": "2",
                                    "3": "3",
                                    "4": "3",
                                    "5": "1",
                                    "6": "0",
                                    "7": "2015"
                                },
                                {
                                    "0": "26",
                                    "1": "26",
                                    "2": "3",
                                    "3": "18",
                                    "4": "4",
                                    "5": "0",
                                    "6": "0",
                                    "7": "2015"
                                },
                                {
                                    "0": "29",
                                    "1": "29",
                                    "2": "3",
                                    "3": "24",
                                    "4": "3",
                                    "5": "1",
                                    "6": "0",
                                    "7": "2015"
                                },
                                {
                                    "0": "377",
                                    "1": "377",
                                    "2": "12",
                                    "3": "6",
                                    "4": "1",
                                    "5": "1",
                                    "6": "0",
                                    "7": "2015"
                                }
                            ]
                        },
                        "text/html": [
                            "<table>",
                            "<tr><th>RentalCount_Predicted</th><th>RentalCount_Actual</th><th>Month</th><th>Day</th><th>WeekDay</th><th>Snow</th><th>Holiday</th><th>Year</th></tr>",
                            "<tr><td>42</td><td>42</td><td>2</td><td>11</td><td>4</td><td>0</td><td>0</td><td>2015</td></tr>",
                            "<tr><td>360</td><td>360</td><td>3</td><td>29</td><td>1</td><td>0</td><td>0</td><td>2015</td></tr>",
                            "<tr><td>20</td><td>20</td><td>4</td><td>22</td><td>4</td><td>0</td><td>0</td><td>2015</td></tr>",
                            "<tr><td>42</td><td>42</td><td>3</td><td>6</td><td>6</td><td>0</td><td>0</td><td>2015</td></tr>",
                            "<tr><td>405</td><td>405</td><td>2</td><td>28</td><td>7</td><td>1</td><td>0</td><td>2015</td></tr>",
                            "<tr><td>38</td><td>38</td><td>1</td><td>12</td><td>2</td><td>1</td><td>0</td><td>2015</td></tr>",
                            "<tr><td>327</td><td>327</td><td>1</td><td>24</td><td>7</td><td>0</td><td>0</td><td>2015</td></tr>",
                            "<tr><td>34</td><td>34</td><td>4</td><td>10</td><td>6</td><td>0</td><td>0</td><td>2015</td></tr>",
                            "<tr><td>37</td><td>37</td><td>4</td><td>16</td><td>5</td><td>1</td><td>0</td><td>2015</td></tr>",
                            "<tr><td>514</td><td>514</td><td>1</td><td>18</td><td>1</td><td>0</td><td>0</td><td>2015</td></tr>",
                            "<tr><td>110</td><td>110</td><td>12</td><td>31</td><td>5</td><td>0</td><td>0</td><td>2015</td></tr>",
                            "<tr><td>40</td><td>40</td><td>4</td><td>7</td><td>3</td><td>1</td><td>0</td><td>2015</td></tr>",
                            "<tr><td>668</td><td>668</td><td>2</td><td>22</td><td>1</td><td>1</td><td>0</td><td>2015</td></tr>",
                            "<tr><td>25</td><td>25</td><td>12</td><td>23</td><td>4</td><td>0</td><td>0</td><td>2015</td></tr>",
                            "<tr><td>360</td><td>360</td><td>3</td><td>15</td><td>1</td><td>0</td><td>0</td><td>2015</td></tr>",
                            "<tr><td>38</td><td>38</td><td>4</td><td>30</td><td>5</td><td>1</td><td>0</td><td>2015</td></tr>",
                            "<tr><td>599</td><td>600</td><td>1</td><td>1</td><td>5</td><td>0</td><td>1</td><td>2015</td></tr>",
                            "<tr><td>22</td><td>22</td><td>12</td><td>17</td><td>5</td><td>0</td><td>0</td><td>2015</td></tr>",
                            "<tr><td>38</td><td>38</td><td>3</td><td>9</td><td>2</td><td>0</td><td>0</td><td>2015</td></tr>",
                            "<tr><td>26</td><td>26</td><td>12</td><td>3</td><td>5</td><td>0</td><td>0</td><td>2015</td></tr>",
                            "<tr><td>38</td><td>38</td><td>2</td><td>2</td><td>2</td><td>1</td><td>0</td><td>2015</td></tr>",
                            "<tr><td>46</td><td>46</td><td>3</td><td>23</td><td>2</td><td>1</td><td>0</td><td>2015</td></tr>",
                            "<tr><td>750</td><td>750</td><td>2</td><td>8</td><td>1</td><td>1</td><td>0</td><td>2015</td></tr>",
                            "<tr><td>38</td><td>38</td><td>3</td><td>26</td><td>5</td><td>0</td><td>0</td><td>2015</td></tr>",
                            "<tr><td>200</td><td>200</td><td>4</td><td>19</td><td>1</td><td>0</td><td>0</td><td>2015</td></tr>",
                            "<tr><td>33</td><td>33</td><td>12</td><td>11</td><td>6</td><td>0</td><td>0</td><td>2015</td></tr>",
                            "<tr><td>40</td><td>40</td><td>3</td><td>3</td><td>3</td><td>1</td><td>0</td><td>2015</td></tr>",
                            "<tr><td>30</td><td>30</td><td>4</td><td>13</td><td>2</td><td>0</td><td>0</td><td>2015</td></tr>",
                            "<tr><td>36</td><td>36</td><td>1</td><td>21</td><td>4</td><td>1</td><td>0</td><td>2015</td></tr>",
                            "<tr><td>34</td><td>34</td><td>2</td><td>25</td><td>4</td><td>1</td><td>0</td><td>2015</td></tr>",
                            "<tr><td>42</td><td>42</td><td>1</td><td>15</td><td>5</td><td>0</td><td>0</td><td>2015</td></tr>",
                            "<tr><td>31</td><td>31</td><td>3</td><td>12</td><td>5</td><td>0</td><td>0</td><td>2015</td></tr>",
                            "<tr><td>280</td><td>280</td><td>12</td><td>20</td><td>1</td><td>0</td><td>0</td><td>2015</td></tr>",
                            "<tr><td>468</td><td>468</td><td>1</td><td>4</td><td>1</td><td>0</td><td>0</td><td>2015</td></tr>",
                            "<tr><td>63</td><td>63</td><td>2</td><td>19</td><td>5</td><td>1</td><td>0</td><td>2015</td></tr>",
                            "<tr><td>30</td><td>30</td><td>12</td><td>14</td><td>2</td><td>0</td><td>0</td><td>2015</td></tr>",
                            "<tr><td>57</td><td>57</td><td>2</td><td>5</td><td>5</td><td>0</td><td>0</td><td>2015</td></tr>",
                            "<tr><td>260</td><td>260</td><td>4</td><td>18</td><td>7</td><td>1</td><td>0</td><td>2015</td></tr>",
                            "<tr><td>22</td><td>22</td><td>4</td><td>24</td><td>6</td><td>0</td><td>0</td><td>2015</td></tr>",
                            "<tr><td>396</td><td>396</td><td>3</td><td>8</td><td>1</td><td>0</td><td>0</td><td>2015</td></tr>",
                            "<tr><td>21</td><td>21</td><td>4</td><td>1</td><td>4</td><td>0</td><td>0</td><td>2015</td></tr>",
                            "<tr><td>219</td><td>220</td><td>12</td><td>25</td><td>6</td><td>0</td><td>1</td><td>2015</td></tr>",
                            "<tr><td>44</td><td>44</td><td>1</td><td>20</td><td>3</td><td>0</td><td>0</td><td>2015</td></tr>",
                            "<tr><td>57</td><td>57</td><td>2</td><td>24</td><td>3</td><td>0</td><td>0</td><td>2015</td></tr>",
                            "<tr><td>37</td><td>37</td><td>3</td><td>11</td><td>4</td><td>0</td><td>0</td><td>2015</td></tr>",
                            "<tr><td>63</td><td>63</td><td>1</td><td>26</td><td>2</td><td>1</td><td>0</td><td>2015</td></tr>",
                            "<tr><td>530</td><td>530</td><td>1</td><td>3</td><td>7</td><td>0</td><td>0</td><td>2015</td></tr>",
                            "<tr><td>220</td><td>220</td><td>12</td><td>19</td><td>7</td><td>0</td><td>0</td><td>2015</td></tr>",
                            "<tr><td>41</td><td>41</td><td>2</td><td>4</td><td>4</td><td>0</td><td>0</td><td>2015</td></tr>",
                            "<tr><td>513</td><td>514</td><td>2</td><td>16</td><td>2</td><td>0</td><td>1</td><td>2015</td></tr>",
                            "<tr><td>31</td><td>31</td><td>3</td><td>31</td><td>3</td><td>0</td><td>0</td><td>2015</td></tr>",
                            "<tr><td>37</td><td>37</td><td>3</td><td>17</td><td>3</td><td>1</td><td>0</td><td>2015</td></tr>",
                            "<tr><td>351</td><td>351</td><td>12</td><td>5</td><td>7</td><td>1</td><td>0</td><td>2015</td></tr>",
                            "<tr><td>54</td><td>54</td><td>2</td><td>10</td><td>3</td><td>0</td><td>0</td><td>2015</td></tr>",
                            "<tr><td>288</td><td>288</td><td>3</td><td>28</td><td>7</td><td>0</td><td>0</td><td>2015</td></tr>",
                            "<tr><td>35</td><td>35</td><td>4</td><td>21</td><td>3</td><td>0</td><td>0</td><td>2015</td></tr>",
                            "<tr><td>38</td><td>38</td><td>2</td><td>27</td><td>6</td><td>1</td><td>0</td><td>2015</td></tr>",
                            "<tr><td>125</td><td>125</td><td>12</td><td>28</td><td>2</td><td>0</td><td>0</td><td>2015</td></tr>",
                            "<tr><td>46</td><td>46</td><td>1</td><td>9</td><td>6</td><td>0</td><td>0</td><td>2015</td></tr>",
                            "<tr><td>55</td><td>55</td><td>1</td><td>23</td><td>6</td><td>0</td><td>0</td><td>2015</td></tr>",
                            "<tr><td>36</td><td>36</td><td>4</td><td>15</td><td>4</td><td>0</td><td>0</td><td>2015</td></tr>",
                            "<tr><td>405</td><td>405</td><td>1</td><td>17</td><td>7</td><td>0</td><td>0</td><td>2015</td></tr>",
                            "<tr><td>421</td><td>421</td><td>3</td><td>14</td><td>7</td><td>1</td><td>0</td><td>2015</td></tr>",
                            "<tr><td>26</td><td>26</td><td>12</td><td>22</td><td>3</td><td>0</td><td>0</td><td>2015</td></tr>",
                            "<tr><td>370</td><td>370</td><td>4</td><td>4</td><td>7</td><td>0</td><td>0</td><td>2015</td></tr>",
                            "<tr><td>29</td><td>29</td><td>4</td><td>27</td><td>2</td><td>1</td><td>0</td><td>2015</td></tr>",
                            "<tr><td>39</td><td>39</td><td>1</td><td>6</td><td>3</td><td>0</td><td>0</td><td>2015</td></tr>",
                            "<tr><td>31</td><td>31</td><td>1</td><td>29</td><td>5</td><td>0</td><td>0</td><td>2015</td></tr>",
                            "<tr><td>45</td><td>45</td><td>3</td><td>20</td><td>6</td><td>0</td><td>0</td><td>2015</td></tr>",
                            "<tr><td>33</td><td>33</td><td>12</td><td>16</td><td>4</td><td>0</td><td>0</td><td>2015</td></tr>",
                            "<tr><td>22</td><td>22</td><td>12</td><td>2</td><td>4</td><td>0</td><td>0</td><td>2015</td></tr>",
                            "<tr><td>49</td><td>49</td><td>2</td><td>13</td><td>6</td><td>0</td><td>0</td><td>2015</td></tr>",
                            "<tr><td>34</td><td>34</td><td>12</td><td>8</td><td>3</td><td>1</td><td>0</td><td>2015</td></tr>",
                            "<tr><td>499</td><td>499</td><td>2</td><td>7</td><td>7</td><td>0</td><td>0</td><td>2015</td></tr>",
                            "<tr><td>31</td><td>31</td><td>12</td><td>10</td><td>5</td><td>0</td><td>0</td><td>2015</td></tr>",
                            "<tr><td>60</td><td>60</td><td>2</td><td>9</td><td>2</td><td>1</td><td>0</td><td>2015</td></tr>",
                            "<tr><td>36</td><td>36</td><td>4</td><td>20</td><td>2</td><td>0</td><td>0</td><td>2015</td></tr>",
                            "<tr><td>44</td><td>44</td><td>3</td><td>25</td><td>4</td><td>0</td><td>0</td><td>2015</td></tr>",
                            "<tr><td>28</td><td>28</td><td>3</td><td>2</td><td>2</td><td>0</td><td>0</td><td>2015</td></tr>",
                            "<tr><td>260</td><td>260</td><td>12</td><td>27</td><td>1</td><td>1</td><td>0</td><td>2015</td></tr>",
                            "<tr><td>35</td><td>35</td><td>4</td><td>3</td><td>6</td><td>0</td><td>0</td><td>2015</td></tr>",
                            "<tr><td>42</td><td>42</td><td>1</td><td>22</td><td>5</td><td>0</td><td>0</td><td>2015</td></tr>",
                            "<tr><td>50</td><td>50</td><td>1</td><td>14</td><td>4</td><td>0</td><td>0</td><td>2015</td></tr>",
                            "<tr><td>312</td><td>312</td><td>4</td><td>12</td><td>1</td><td>1</td><td>0</td><td>2015</td></tr>",
                            "<tr><td>40</td><td>40</td><td>1</td><td>5</td><td>2</td><td>0</td><td>0</td><td>2015</td></tr>",
                            "<tr><td>24</td><td>24</td><td>12</td><td>21</td><td>2</td><td>0</td><td>0</td><td>2015</td></tr>",
                            "<tr><td>49</td><td>49</td><td>3</td><td>13</td><td>6</td><td>1</td><td>0</td><td>2015</td></tr>",
                            "<tr><td>50</td><td>50</td><td>1</td><td>28</td><td>4</td><td>0</td><td>0</td><td>2015</td></tr>",
                            "<tr><td>55</td><td>55</td><td>2</td><td>18</td><td>4</td><td>0</td><td>0</td><td>2015</td></tr>",
                            "<tr><td>507</td><td>507</td><td>4</td><td>26</td><td>1</td><td>1</td><td>0</td><td>2015</td></tr>",
                            "<tr><td>26</td><td>26</td><td>12</td><td>1</td><td>3</td><td>0</td><td>0</td><td>2015</td></tr>",
                            "<tr><td>39</td><td>39</td><td>12</td><td>7</td><td>2</td><td>1</td><td>0</td><td>2015</td></tr>",
                            "<tr><td>33</td><td>33</td><td>3</td><td>19</td><td>5</td><td>1</td><td>0</td><td>2015</td></tr>",
                            "<tr><td>50</td><td>50</td><td>2</td><td>12</td><td>5</td><td>1</td><td>0</td><td>2015</td></tr>",
                            "<tr><td>360</td><td>360</td><td>12</td><td>13</td><td>1</td><td>0</td><td>0</td><td>2015</td></tr>",
                            "<tr><td>43</td><td>43</td><td>3</td><td>5</td><td>5</td><td>0</td><td>0</td><td>2015</td></tr>",
                            "<tr><td>38</td><td>38</td><td>4</td><td>23</td><td>5</td><td>0</td><td>0</td><td>2015</td></tr>",
                            "<tr><td>405</td><td>405</td><td>1</td><td>11</td><td>1</td><td>0</td><td>0</td><td>2015</td></tr>",
                            "<tr><td>31</td><td>31</td><td>4</td><td>9</td><td>5</td><td>0</td><td>0</td><td>2015</td></tr>",
                            "<tr><td>105</td><td>105</td><td>12</td><td>30</td><td>4</td><td>0</td><td>0</td><td>2015</td></tr>",
                            "<tr><td>358</td><td>358</td><td>2</td><td>21</td><td>7</td><td>0</td><td>0</td><td>2015</td></tr>",
                            "<tr><td>31</td><td>31</td><td>3</td><td>16</td><td>2</td><td>0</td><td>0</td><td>2015</td></tr>",
                            "<tr><td>36</td><td>36</td><td>4</td><td>6</td><td>2</td><td>0</td><td>0</td><td>2015</td></tr>",
                            "<tr><td>37</td><td>37</td><td>12</td><td>24</td><td>5</td><td>0</td><td>0</td><td>2015</td></tr>",
                            "<tr><td>33</td><td>33</td><td>4</td><td>29</td><td>4</td><td>1</td><td>0</td><td>2015</td></tr>",
                            "<tr><td>63</td><td>63</td><td>1</td><td>2</td><td>6</td><td>1</td><td>0</td><td>2015</td></tr>",
                            "<tr><td>44</td><td>44</td><td>1</td><td>8</td><td>5</td><td>0</td><td>0</td><td>2015</td></tr>",
                            "<tr><td>452</td><td>452</td><td>1</td><td>25</td><td>1</td><td>0</td><td>0</td><td>2015</td></tr>",
                            "<tr><td>577</td><td>577</td><td>1</td><td>31</td><td>7</td><td>0</td><td>0</td><td>2015</td></tr>",
                            "<tr><td>32</td><td>32</td><td>12</td><td>4</td><td>6</td><td>0</td><td>0</td><td>2015</td></tr>",
                            "<tr><td>327</td><td>327</td><td>2</td><td>15</td><td>1</td><td>0</td><td>0</td><td>2015</td></tr>",
                            "<tr><td>327</td><td>327</td><td>2</td><td>1</td><td>1</td><td>0</td><td>0</td><td>2015</td></tr>",
                            "<tr><td>372</td><td>372</td><td>3</td><td>22</td><td>1</td><td>0</td><td>0</td><td>2015</td></tr>",
                            "<tr><td>40</td><td>40</td><td>3</td><td>4</td><td>4</td><td>0</td><td>0</td><td>2015</td></tr>",
                            "<tr><td>230</td><td>230</td><td>12</td><td>12</td><td>7</td><td>0</td><td>0</td><td>2015</td></tr>",
                            "<tr><td>37</td><td>37</td><td>3</td><td>27</td><td>6</td><td>1</td><td>0</td><td>2015</td></tr>",
                            "<tr><td>26</td><td>26</td><td>4</td><td>14</td><td>3</td><td>0</td><td>0</td><td>2015</td></tr>",
                            "<tr><td>42</td><td>42</td><td>2</td><td>26</td><td>5</td><td>1</td><td>0</td><td>2015</td></tr>",
                            "<tr><td>507</td><td>507</td><td>1</td><td>10</td><td>7</td><td>1</td><td>0</td><td>2015</td></tr>",
                            "<tr><td>203</td><td>203</td><td>12</td><td>29</td><td>3</td><td>1</td><td>0</td><td>2015</td></tr>",
                            "<tr><td>42</td><td>42</td><td>1</td><td>16</td><td>6</td><td>1</td><td>0</td><td>2015</td></tr>",
                            "<tr><td>270</td><td>270</td><td>4</td><td>5</td><td>1</td><td>0</td><td>0</td><td>2015</td></tr>",
                            "<tr><td>32</td><td>32</td><td>4</td><td>28</td><td>3</td><td>0</td><td>0</td><td>2015</td></tr>",
                            "<tr><td>39</td><td>39</td><td>1</td><td>7</td><td>4</td><td>0</td><td>0</td><td>2015</td></tr>",
                            "<tr><td>53</td><td>53</td><td>1</td><td>30</td><td>6</td><td>1</td><td>0</td><td>2015</td></tr>",
                            "<tr><td>52</td><td>52</td><td>2</td><td>20</td><td>6</td><td>0</td><td>0</td><td>2015</td></tr>",
                            "<tr><td>38</td><td>38</td><td>12</td><td>15</td><td>3</td><td>1</td><td>0</td><td>2015</td></tr>",
                            "<tr><td>750</td><td>750</td><td>2</td><td>14</td><td>7</td><td>1</td><td>0</td><td>2015</td></tr>",
                            "<tr><td>44</td><td>44</td><td>2</td><td>6</td><td>6</td><td>0</td><td>0</td><td>2015</td></tr>",
                            "<tr><td>276</td><td>276</td><td>3</td><td>21</td><td>7</td><td>0</td><td>0</td><td>2015</td></tr>",
                            "<tr><td>25</td><td>25</td><td>12</td><td>9</td><td>4</td><td>1</td><td>0</td><td>2015</td></tr>",
                            "<tr><td>264</td><td>264</td><td>3</td><td>1</td><td>1</td><td>0</td><td>0</td><td>2015</td></tr>",
                            "<tr><td>28</td><td>28</td><td>4</td><td>17</td><td>6</td><td>1</td><td>0</td><td>2015</td></tr>",
                            "<tr><td>25</td><td>25</td><td>3</td><td>30</td><td>2</td><td>0</td><td>0</td><td>2015</td></tr>",
                            "<tr><td>384</td><td>384</td><td>3</td><td>7</td><td>7</td><td>0</td><td>0</td><td>2015</td></tr>",
                            "<tr><td>30</td><td>30</td><td>4</td><td>2</td><td>5</td><td>0</td><td>0</td><td>2015</td></tr>",
                            "<tr><td>351</td><td>351</td><td>12</td><td>26</td><td>7</td><td>1</td><td>0</td><td>2015</td></tr>",
                            "<tr><td>32</td><td>32</td><td>1</td><td>13</td><td>3</td><td>0</td><td>0</td><td>2015</td></tr>",
                            "<tr><td>823</td><td>824</td><td>1</td><td>19</td><td>2</td><td>1</td><td>1</td><td>2015</td></tr>",
                            "<tr><td>429</td><td>429</td><td>4</td><td>11</td><td>7</td><td>1</td><td>0</td><td>2015</td></tr>",
                            "<tr><td>31</td><td>31</td><td>4</td><td>8</td><td>4</td><td>1</td><td>0</td><td>2015</td></tr>",
                            "<tr><td>40</td><td>40</td><td>2</td><td>23</td><td>2</td><td>0</td><td>0</td><td>2015</td></tr>",
                            "<tr><td>35</td><td>35</td><td>1</td><td>27</td><td>3</td><td>1</td><td>0</td><td>2015</td></tr>",
                            "<tr><td>49</td><td>49</td><td>2</td><td>17</td><td>3</td><td>0</td><td>0</td><td>2015</td></tr>",
                            "<tr><td>49</td><td>49</td><td>3</td><td>10</td><td>3</td><td>1</td><td>0</td><td>2015</td></tr>",
                            "<tr><td>40</td><td>40</td><td>12</td><td>18</td><td>6</td><td>1</td><td>0</td><td>2015</td></tr>",
                            "<tr><td>312</td><td>312</td><td>4</td><td>25</td><td>7</td><td>1</td><td>0</td><td>2015</td></tr>",
                            "<tr><td>50</td><td>50</td><td>2</td><td>3</td><td>3</td><td>1</td><td>0</td><td>2015</td></tr>",
                            "<tr><td>26</td><td>26</td><td>3</td><td>18</td><td>4</td><td>0</td><td>0</td><td>2015</td></tr>",
                            "<tr><td>29</td><td>29</td><td>3</td><td>24</td><td>3</td><td>1</td><td>0</td><td>2015</td></tr>",
                            "<tr><td>377</td><td>377</td><td>12</td><td>6</td><td>1</td><td>1</td><td>0</td><td>2015</td></tr>",
                            "</table>"
                        ]
                    }
                }
            ],
            "execution_count": 9
        }
    ]
}