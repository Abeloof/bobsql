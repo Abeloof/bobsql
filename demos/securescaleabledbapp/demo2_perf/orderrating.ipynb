{
    "metadata": {
        "kernelspec": {
            "name": "SQL",
            "display_name": "SQL",
            "language": "sql"
        },
        "language_info": {
            "name": "sql",
            "version": ""
        }
    },
    "nbformat_minor": 2,
    "nbformat": 4,
    "cells": [
        {
            "cell_type": "markdown",
            "source": [
                "Create a new table to store order ratings from customers"
            ],
            "metadata": {
                "azdata_cell_guid": "e538b494-1a6b-4e22-ab82-773cf1fa8bef"
            },
            "attachments": {}
        },
        {
            "cell_type": "code",
            "source": [
                "DROP TABLE IF EXISTS SalesLT.OrderRating;\r\n",
                "GO\r\n",
                "CREATE TABLE SalesLT.OrderRating\r\n",
                "(OrderRatingID int identity not null,\r\n",
                "SalesOrderID int not null,\r\n",
                "OrderRatingDT datetime not null,\r\n",
                "OrderRating int not null,\r\n",
                "OrderRatingComments char(5000) not null);\r\n",
                "GO"
            ],
            "metadata": {
                "azdata_cell_guid": "e4e357eb-9288-457a-ab95-3d7a94384b45"
            },
            "outputs": [
                {
                    "output_type": "display_data",
                    "data": {
                        "text/html": "Commands completed successfully."
                    },
                    "metadata": {}
                },
                {
                    "output_type": "display_data",
                    "data": {
                        "text/html": "Commands completed successfully."
                    },
                    "metadata": {}
                },
                {
                    "output_type": "display_data",
                    "data": {
                        "text/html": "Total execution time: 00:00:00.019"
                    },
                    "metadata": {}
                }
            ],
            "execution_count": 7
        },
        {
            "cell_type": "markdown",
            "source": [
                "Populate the table with a bunch of rows"
            ],
            "metadata": {
                "azdata_cell_guid": "ff4b8edc-1618-417b-9edb-e04de1e6ffa2"
            },
            "attachments": {}
        },
        {
            "cell_type": "code",
            "source": [
                "SET NOCOUNT ON;\r\n",
                "GO\r\n",
                "BEGIN TRAN;\r\n",
                "DECLARE @x int;\r\n",
                "SET @x = 0;\r\n",
                "WHILE (@x < 1000000)\r\n",
                "BEGIN\r\n",
                "SET @x = @x + 1;\r\n",
                "INSERT INTO SalesLT.OrderRating\r\n",
                "(SalesOrderID, OrderRatingDT, OrderRating, OrderRatingComments)\r\n",
                "VALUES (@x, getdate(), 5, 'This was a great order');\r\n",
                "END\r\n",
                "COMMIT TRAN;\r\n",
                "GO\r\n",
                "SET NOCOUNT OFF;\r\n",
                "GO"
            ],
            "metadata": {
                "azdata_cell_guid": "f504ffad-2b5c-4934-a3da-439dbd731542"
            },
            "outputs": [
                {
                    "output_type": "display_data",
                    "data": {
                        "text/html": "Commands completed successfully."
                    },
                    "metadata": {}
                },
                {
                    "output_type": "display_data",
                    "data": {
                        "text/html": "Commands completed successfully."
                    },
                    "metadata": {}
                },
                {
                    "output_type": "display_data",
                    "data": {
                        "text/html": "Commands completed successfully."
                    },
                    "metadata": {}
                },
                {
                    "output_type": "display_data",
                    "data": {
                        "text/html": "Total execution time: 00:10:11.303"
                    },
                    "metadata": {}
                }
            ],
            "execution_count": 8
        },
        {
            "cell_type": "markdown",
            "source": [
                "Let's run a typical query to find a row"
            ],
            "metadata": {
                "azdata_cell_guid": "af305df4-05df-42c4-9c45-51c1bbf65f05"
            },
            "attachments": {}
        },
        {
            "cell_type": "code",
            "source": [
                "SELECT * FROM SalesLT.OrderRating\r\n",
                "WHERE OrderRatingID = 1;"
            ],
            "metadata": {
                "azdata_cell_guid": "3c11ea4d-86fb-4e2d-ba4f-fc0cc4a5cc88",
                "tags": []
            },
            "outputs": [
                {
                    "output_type": "display_data",
                    "data": {
                        "text/html": "(1 row affected)"
                    },
                    "metadata": {}
                },
                {
                    "output_type": "display_data",
                    "data": {
                        "text/html": "Total execution time: 00:00:53.993"
                    },
                    "metadata": {}
                },
                {
                    "output_type": "execute_result",
                    "metadata": {},
                    "execution_count": 9,
                    "data": {
                        "application/vnd.dataresource+json": {
                            "schema": {
                                "fields": [
                                    {
                                        "name": "OrderRatingID"
                                    },
                                    {
                                        "name": "SalesOrderID"
                                    },
                                    {
                                        "name": "OrderRatingDT"
                                    },
                                    {
                                        "name": "OrderRating"
                                    },
                                    {
                                        "name": "OrderRatingComments"
                                    }
                                ]
                            },
                            "data": [
                                {
                                    "0": "1",
                                    "1": "1",
                                    "2": "2022-03-02 17:06:39.160",
                                    "3": "5",
                                    "4": "This was a great order                                                                                                                                                                                                                                                                                                                                                                                                                                                                                                                                                                                                                                                                                                                                                                                                                                                                                                                                                                                                                                                                                                                                                                                                                                                                                                                                                                                                                                                                                                                                                                                                                                                                                                                                                                                                                                                                                                                                                                                                                                                                                                                                                                                                                                                                                                                                                                                                                                                                                                                                                                                                                                                                                                                                                                                                                                                                                                                                                                                                                                                                                                                                                                                                                                                                                                                                                                                                                                                                                                                                                                                                                                                                                                                                                                                                                                                                                                                                                                                                                                                                                                                                                                                                                                                                                                                                                                                                                                                                                                                                                                                                                                                                                                                                                                                                                                                                                                                                                                                                                                                                                                                                                                                  "
                                }
                            ]
                        },
                        "text/html": [
                            "<table>",
                            "<tr><th>OrderRatingID</th><th>SalesOrderID</th><th>OrderRatingDT</th><th>OrderRating</th><th>OrderRatingComments</th></tr>",
                            "<tr><td>1</td><td>1</td><td>2022-03-02 17:06:39.160</td><td>5</td><td>This was a great order                                                                                                                                                                                                                                                                                                                                                                                                                                                                                                                                                                                                                                                                                                                                                                                                                                                                                                                                                                                                                                                                                                                                                                                                                                                                                                                                                                                                                                                                                                                                                                                                                                                                                                                                                                                                                                                                                                                                                                                                                                                                                                                                                                                                                                                                                                                                                                                                                                                                                                                                                                                                                                                                                                                                                                                                                                                                                                                                                                                                                                                                                                                                                                                                                                                                                                                                                                                                                                                                                                                                                                                                                                                                                                                                                                                                                                                                                                                                                                                                                                                                                                                                                                                                                                                                                                                                                                                                                                                                                                                                                                                                                                                                                                                                                                                                                                                                                                                                                                                                                                                                                                                                                                                  </td></tr>",
                            "</table>"
                        ]
                    }
                }
            ],
            "execution_count": 9
        },
        {
            "cell_type": "markdown",
            "source": [
                "Assume this query was run frequently by the application  (with different OrderRatingID values) and automatic tuning for indexes was ON. Let's come back later and now see how fast the query runs"
            ],
            "metadata": {
                "azdata_cell_guid": "733bf5f6-ec5e-43b3-8ffb-ab8be1b36686"
            },
            "attachments": {}
        },
        {
            "cell_type": "code",
            "source": [
                "SELECT * FROM SalesLT.OrderRating\r\n",
                "WHERE OrderRatingID = 1;"
            ],
            "metadata": {
                "azdata_cell_guid": "4cf2f72d-4dab-4e19-9427-4dd33681304d"
            },
            "outputs": [],
            "execution_count": null
        }
    ]
}